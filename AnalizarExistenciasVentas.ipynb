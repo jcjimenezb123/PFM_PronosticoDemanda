{
  "nbformat": 4,
  "nbformat_minor": 0,
  "metadata": {
    "kernelspec": {
      "display_name": "Python 3",
      "language": "python",
      "name": "python3"
    },
    "language_info": {
      "codemirror_mode": {
        "name": "ipython",
        "version": 3
      },
      "file_extension": ".py",
      "mimetype": "text/x-python",
      "name": "python",
      "nbconvert_exporter": "python",
      "pygments_lexer": "ipython3",
      "version": "3.7.6"
    },
    "colab": {
      "name": "AnalizarExistenciasVentas.ipynb",
      "provenance": []
    }
  },
  "cells": [
    {
      "cell_type": "markdown",
      "metadata": {
        "id": "Ep5PLp-nhxIy"
      },
      "source": [
        "## Regresion Lineal para la reconstruccion de ventas en periodos negados"
      ]
    },
    {
      "cell_type": "code",
      "metadata": {
        "id": "QM8SbXKKhxIy"
      },
      "source": [
        "import cx_Oracle as oc\n",
        "import pandas as pd\n",
        "import numpy as np"
      ],
      "execution_count": null,
      "outputs": []
    },
    {
      "cell_type": "code",
      "metadata": {
        "id": "n1XneE9yhxI0"
      },
      "source": [
        "con=oc.connect('SYSTEM/admin@localhost')"
      ],
      "execution_count": null,
      "outputs": []
    },
    {
      "cell_type": "markdown",
      "metadata": {
        "id": "yeWkh48MhxI0"
      },
      "source": [
        "Consulta el modelo y talla negada en la tienda"
      ]
    },
    {
      "cell_type": "code",
      "metadata": {
        "id": "ExMIFNi-hxI0"
      },
      "source": [
        "sql=pd.read_sql_query('''\n",
        "select TI_CVE_N,\n",
        "       ULT_SUST_DEF_N,\n",
        "       TALLA_INI_MIN,\n",
        "       TALLA_FIN_MAX,\n",
        "       TA_CVE_N,\n",
        "       FECHA,\n",
        "       EXISTENCIA,\n",
        "       VENTA\n",
        "from ventas\n",
        "where ult_sust_def_n=1560 and \n",
        "ta_cve_n=26\n",
        "''',con)"
      ],
      "execution_count": null,
      "outputs": []
    },
    {
      "cell_type": "code",
      "metadata": {
        "id": "1GlbDepphxI0"
      },
      "source": [
        "df=pd.DataFrame(sql)"
      ],
      "execution_count": null,
      "outputs": []
    },
    {
      "cell_type": "markdown",
      "metadata": {
        "id": "MnesIn38hxI0"
      },
      "source": [
        "Establece la fecha como indice"
      ]
    },
    {
      "cell_type": "code",
      "metadata": {
        "id": "4kCGu1CHhxI0",
        "outputId": "bca2a862-c4ee-40ee-a4ac-98f229c87aa3"
      },
      "source": [
        "df = df.set_index('FECHA')\n",
        "df.head(10)"
      ],
      "execution_count": null,
      "outputs": [
        {
          "output_type": "execute_result",
          "data": {
            "text/html": [
              "<div>\n",
              "<style scoped>\n",
              "    .dataframe tbody tr th:only-of-type {\n",
              "        vertical-align: middle;\n",
              "    }\n",
              "\n",
              "    .dataframe tbody tr th {\n",
              "        vertical-align: top;\n",
              "    }\n",
              "\n",
              "    .dataframe thead th {\n",
              "        text-align: right;\n",
              "    }\n",
              "</style>\n",
              "<table border=\"1\" class=\"dataframe\">\n",
              "  <thead>\n",
              "    <tr style=\"text-align: right;\">\n",
              "      <th></th>\n",
              "      <th>TI_CVE_N</th>\n",
              "      <th>ULT_SUST_DEF_N</th>\n",
              "      <th>TALLA_INI_MIN</th>\n",
              "      <th>TALLA_FIN_MAX</th>\n",
              "      <th>TA_CVE_N</th>\n",
              "      <th>EXISTENCIA</th>\n",
              "      <th>VENTA</th>\n",
              "    </tr>\n",
              "    <tr>\n",
              "      <th>FECHA</th>\n",
              "      <th></th>\n",
              "      <th></th>\n",
              "      <th></th>\n",
              "      <th></th>\n",
              "      <th></th>\n",
              "      <th></th>\n",
              "      <th></th>\n",
              "    </tr>\n",
              "  </thead>\n",
              "  <tbody>\n",
              "    <tr>\n",
              "      <th>2019-03-01</th>\n",
              "      <td>1</td>\n",
              "      <td>1560</td>\n",
              "      <td>25.0</td>\n",
              "      <td>32.0</td>\n",
              "      <td>26.0</td>\n",
              "      <td>19</td>\n",
              "      <td>0</td>\n",
              "    </tr>\n",
              "    <tr>\n",
              "      <th>2019-03-02</th>\n",
              "      <td>1</td>\n",
              "      <td>1560</td>\n",
              "      <td>25.0</td>\n",
              "      <td>32.0</td>\n",
              "      <td>26.0</td>\n",
              "      <td>19</td>\n",
              "      <td>0</td>\n",
              "    </tr>\n",
              "    <tr>\n",
              "      <th>2019-03-03</th>\n",
              "      <td>1</td>\n",
              "      <td>1560</td>\n",
              "      <td>25.0</td>\n",
              "      <td>32.0</td>\n",
              "      <td>26.0</td>\n",
              "      <td>19</td>\n",
              "      <td>1</td>\n",
              "    </tr>\n",
              "    <tr>\n",
              "      <th>2019-03-04</th>\n",
              "      <td>1</td>\n",
              "      <td>1560</td>\n",
              "      <td>25.0</td>\n",
              "      <td>32.0</td>\n",
              "      <td>26.0</td>\n",
              "      <td>18</td>\n",
              "      <td>1</td>\n",
              "    </tr>\n",
              "    <tr>\n",
              "      <th>2019-03-05</th>\n",
              "      <td>1</td>\n",
              "      <td>1560</td>\n",
              "      <td>25.0</td>\n",
              "      <td>32.0</td>\n",
              "      <td>26.0</td>\n",
              "      <td>17</td>\n",
              "      <td>3</td>\n",
              "    </tr>\n",
              "    <tr>\n",
              "      <th>2019-03-06</th>\n",
              "      <td>1</td>\n",
              "      <td>1560</td>\n",
              "      <td>25.0</td>\n",
              "      <td>32.0</td>\n",
              "      <td>26.0</td>\n",
              "      <td>14</td>\n",
              "      <td>2</td>\n",
              "    </tr>\n",
              "    <tr>\n",
              "      <th>2019-03-07</th>\n",
              "      <td>1</td>\n",
              "      <td>1560</td>\n",
              "      <td>25.0</td>\n",
              "      <td>32.0</td>\n",
              "      <td>26.0</td>\n",
              "      <td>12</td>\n",
              "      <td>1</td>\n",
              "    </tr>\n",
              "    <tr>\n",
              "      <th>2019-03-08</th>\n",
              "      <td>1</td>\n",
              "      <td>1560</td>\n",
              "      <td>25.0</td>\n",
              "      <td>32.0</td>\n",
              "      <td>26.0</td>\n",
              "      <td>11</td>\n",
              "      <td>1</td>\n",
              "    </tr>\n",
              "    <tr>\n",
              "      <th>2019-03-09</th>\n",
              "      <td>1</td>\n",
              "      <td>1560</td>\n",
              "      <td>25.0</td>\n",
              "      <td>32.0</td>\n",
              "      <td>26.0</td>\n",
              "      <td>10</td>\n",
              "      <td>1</td>\n",
              "    </tr>\n",
              "    <tr>\n",
              "      <th>2019-03-10</th>\n",
              "      <td>1</td>\n",
              "      <td>1560</td>\n",
              "      <td>25.0</td>\n",
              "      <td>32.0</td>\n",
              "      <td>26.0</td>\n",
              "      <td>9</td>\n",
              "      <td>1</td>\n",
              "    </tr>\n",
              "  </tbody>\n",
              "</table>\n",
              "</div>"
            ],
            "text/plain": [
              "            TI_CVE_N  ULT_SUST_DEF_N  TALLA_INI_MIN  TALLA_FIN_MAX  TA_CVE_N  \\\n",
              "FECHA                                                                          \n",
              "2019-03-01         1            1560           25.0           32.0      26.0   \n",
              "2019-03-02         1            1560           25.0           32.0      26.0   \n",
              "2019-03-03         1            1560           25.0           32.0      26.0   \n",
              "2019-03-04         1            1560           25.0           32.0      26.0   \n",
              "2019-03-05         1            1560           25.0           32.0      26.0   \n",
              "2019-03-06         1            1560           25.0           32.0      26.0   \n",
              "2019-03-07         1            1560           25.0           32.0      26.0   \n",
              "2019-03-08         1            1560           25.0           32.0      26.0   \n",
              "2019-03-09         1            1560           25.0           32.0      26.0   \n",
              "2019-03-10         1            1560           25.0           32.0      26.0   \n",
              "\n",
              "            EXISTENCIA  VENTA  \n",
              "FECHA                          \n",
              "2019-03-01          19      0  \n",
              "2019-03-02          19      0  \n",
              "2019-03-03          19      1  \n",
              "2019-03-04          18      1  \n",
              "2019-03-05          17      3  \n",
              "2019-03-06          14      2  \n",
              "2019-03-07          12      1  \n",
              "2019-03-08          11      1  \n",
              "2019-03-09          10      1  \n",
              "2019-03-10           9      1  "
            ]
          },
          "metadata": {
            "tags": []
          },
          "execution_count": 137
        }
      ]
    },
    {
      "cell_type": "markdown",
      "metadata": {
        "id": "YoUeVkKWhxI4"
      },
      "source": [
        "Se muestra el comportamiento de la venta vs existencia"
      ]
    },
    {
      "cell_type": "code",
      "metadata": {
        "id": "xhhsXlXGhxI4"
      },
      "source": [
        "import seaborn as sns"
      ],
      "execution_count": null,
      "outputs": []
    },
    {
      "cell_type": "code",
      "metadata": {
        "id": "XqiTajgVhxI4",
        "outputId": "d02db5e6-0a5f-45cd-97b4-e9ed0d4279a0"
      },
      "source": [
        "cols_plot = ['EXISTENCIA', 'VENTA']\n",
        "axes = df[cols_plot].plot(marker='.', alpha=0.5, linestyle='None', figsize=(11, 9), subplots=True)\n",
        "for ax in axes:\n",
        "    ax.set_ylabel('Pares/Piezas')"
      ],
      "execution_count": null,
      "outputs": [
        {
          "output_type": "display_data",
          "data": {
            "image/png": "[encoded data removed]",
            "text/plain": [
              "<Figure size 792x648 with 2 Axes>"
            ]
          },
          "metadata": {
            "tags": [],
            "needs_background": "light"
          }
        }
      ]
    },
    {
      "cell_type": "markdown",
      "metadata": {
        "id": "__93qmN2hxI4"
      },
      "source": [
        "Se obtiene el dia de la semana para hacer la regresion lineal con ventas del mismo dia"
      ]
    },
    {
      "cell_type": "code",
      "metadata": {
        "id": "7NSm_Rl0hxI4",
        "outputId": "868d6fd5-c9d8-42ad-d483-34da163e22ee"
      },
      "source": [
        "# Add columns with year, month, and weekday name\n",
        "df['Year'] = df.index.year\n",
        "df['Month'] = df.index.month\n",
        "df['Weekday Name'] = df.index.weekday_name\n",
        "df['Day Number'] = df.index.dayofyear\n",
        "\n",
        "negados=df[df[\"EXISTENCIA\"]==0]\n",
        "negados.head(14)"
      ],
      "execution_count": null,
      "outputs": [
        {
          "output_type": "execute_result",
          "data": {
            "text/html": [
              "<div>\n",
              "<style scoped>\n",
              "    .dataframe tbody tr th:only-of-type {\n",
              "        vertical-align: middle;\n",
              "    }\n",
              "\n",
              "    .dataframe tbody tr th {\n",
              "        vertical-align: top;\n",
              "    }\n",
              "\n",
              "    .dataframe thead th {\n",
              "        text-align: right;\n",
              "    }\n",
              "</style>\n",
              "<table border=\"1\" class=\"dataframe\">\n",
              "  <thead>\n",
              "    <tr style=\"text-align: right;\">\n",
              "      <th></th>\n",
              "      <th>TI_CVE_N</th>\n",
              "      <th>ULT_SUST_DEF_N</th>\n",
              "      <th>TALLA_INI_MIN</th>\n",
              "      <th>TALLA_FIN_MAX</th>\n",
              "      <th>TA_CVE_N</th>\n",
              "      <th>EXISTENCIA</th>\n",
              "      <th>VENTA</th>\n",
              "      <th>Year</th>\n",
              "      <th>Month</th>\n",
              "      <th>Weekday Name</th>\n",
              "      <th>Day Number</th>\n",
              "    </tr>\n",
              "    <tr>\n",
              "      <th>FECHA</th>\n",
              "      <th></th>\n",
              "      <th></th>\n",
              "      <th></th>\n",
              "      <th></th>\n",
              "      <th></th>\n",
              "      <th></th>\n",
              "      <th></th>\n",
              "      <th></th>\n",
              "      <th></th>\n",
              "      <th></th>\n",
              "      <th></th>\n",
              "    </tr>\n",
              "  </thead>\n",
              "  <tbody>\n",
              "    <tr>\n",
              "      <th>2019-03-28</th>\n",
              "      <td>1</td>\n",
              "      <td>1560</td>\n",
              "      <td>25.0</td>\n",
              "      <td>32.0</td>\n",
              "      <td>26.0</td>\n",
              "      <td>0</td>\n",
              "      <td>0</td>\n",
              "      <td>2019</td>\n",
              "      <td>3</td>\n",
              "      <td>Thursday</td>\n",
              "      <td>87</td>\n",
              "    </tr>\n",
              "    <tr>\n",
              "      <th>2019-03-29</th>\n",
              "      <td>1</td>\n",
              "      <td>1560</td>\n",
              "      <td>25.0</td>\n",
              "      <td>32.0</td>\n",
              "      <td>26.0</td>\n",
              "      <td>0</td>\n",
              "      <td>0</td>\n",
              "      <td>2019</td>\n",
              "      <td>3</td>\n",
              "      <td>Friday</td>\n",
              "      <td>88</td>\n",
              "    </tr>\n",
              "    <tr>\n",
              "      <th>2019-03-30</th>\n",
              "      <td>1</td>\n",
              "      <td>1560</td>\n",
              "      <td>25.0</td>\n",
              "      <td>32.0</td>\n",
              "      <td>26.0</td>\n",
              "      <td>0</td>\n",
              "      <td>0</td>\n",
              "      <td>2019</td>\n",
              "      <td>3</td>\n",
              "      <td>Saturday</td>\n",
              "      <td>89</td>\n",
              "    </tr>\n",
              "    <tr>\n",
              "      <th>2019-03-31</th>\n",
              "      <td>1</td>\n",
              "      <td>1560</td>\n",
              "      <td>25.0</td>\n",
              "      <td>32.0</td>\n",
              "      <td>26.0</td>\n",
              "      <td>0</td>\n",
              "      <td>0</td>\n",
              "      <td>2019</td>\n",
              "      <td>3</td>\n",
              "      <td>Sunday</td>\n",
              "      <td>90</td>\n",
              "    </tr>\n",
              "    <tr>\n",
              "      <th>2019-04-01</th>\n",
              "      <td>1</td>\n",
              "      <td>1560</td>\n",
              "      <td>25.0</td>\n",
              "      <td>32.0</td>\n",
              "      <td>26.0</td>\n",
              "      <td>0</td>\n",
              "      <td>0</td>\n",
              "      <td>2019</td>\n",
              "      <td>4</td>\n",
              "      <td>Monday</td>\n",
              "      <td>91</td>\n",
              "    </tr>\n",
              "    <tr>\n",
              "      <th>2019-04-02</th>\n",
              "      <td>1</td>\n",
              "      <td>1560</td>\n",
              "      <td>25.0</td>\n",
              "      <td>32.0</td>\n",
              "      <td>26.0</td>\n",
              "      <td>0</td>\n",
              "      <td>0</td>\n",
              "      <td>2019</td>\n",
              "      <td>4</td>\n",
              "      <td>Tuesday</td>\n",
              "      <td>92</td>\n",
              "    </tr>\n",
              "    <tr>\n",
              "      <th>2019-04-03</th>\n",
              "      <td>1</td>\n",
              "      <td>1560</td>\n",
              "      <td>25.0</td>\n",
              "      <td>32.0</td>\n",
              "      <td>26.0</td>\n",
              "      <td>0</td>\n",
              "      <td>0</td>\n",
              "      <td>2019</td>\n",
              "      <td>4</td>\n",
              "      <td>Wednesday</td>\n",
              "      <td>93</td>\n",
              "    </tr>\n",
              "    <tr>\n",
              "      <th>2019-04-04</th>\n",
              "      <td>1</td>\n",
              "      <td>1560</td>\n",
              "      <td>25.0</td>\n",
              "      <td>32.0</td>\n",
              "      <td>26.0</td>\n",
              "      <td>0</td>\n",
              "      <td>0</td>\n",
              "      <td>2019</td>\n",
              "      <td>4</td>\n",
              "      <td>Thursday</td>\n",
              "      <td>94</td>\n",
              "    </tr>\n",
              "    <tr>\n",
              "      <th>2019-04-05</th>\n",
              "      <td>1</td>\n",
              "      <td>1560</td>\n",
              "      <td>25.0</td>\n",
              "      <td>32.0</td>\n",
              "      <td>26.0</td>\n",
              "      <td>0</td>\n",
              "      <td>0</td>\n",
              "      <td>2019</td>\n",
              "      <td>4</td>\n",
              "      <td>Friday</td>\n",
              "      <td>95</td>\n",
              "    </tr>\n",
              "    <tr>\n",
              "      <th>2019-04-06</th>\n",
              "      <td>1</td>\n",
              "      <td>1560</td>\n",
              "      <td>25.0</td>\n",
              "      <td>32.0</td>\n",
              "      <td>26.0</td>\n",
              "      <td>0</td>\n",
              "      <td>0</td>\n",
              "      <td>2019</td>\n",
              "      <td>4</td>\n",
              "      <td>Saturday</td>\n",
              "      <td>96</td>\n",
              "    </tr>\n",
              "    <tr>\n",
              "      <th>2019-04-07</th>\n",
              "      <td>1</td>\n",
              "      <td>1560</td>\n",
              "      <td>25.0</td>\n",
              "      <td>32.0</td>\n",
              "      <td>26.0</td>\n",
              "      <td>0</td>\n",
              "      <td>0</td>\n",
              "      <td>2019</td>\n",
              "      <td>4</td>\n",
              "      <td>Sunday</td>\n",
              "      <td>97</td>\n",
              "    </tr>\n",
              "    <tr>\n",
              "      <th>2019-04-08</th>\n",
              "      <td>1</td>\n",
              "      <td>1560</td>\n",
              "      <td>25.0</td>\n",
              "      <td>32.0</td>\n",
              "      <td>26.0</td>\n",
              "      <td>0</td>\n",
              "      <td>0</td>\n",
              "      <td>2019</td>\n",
              "      <td>4</td>\n",
              "      <td>Monday</td>\n",
              "      <td>98</td>\n",
              "    </tr>\n",
              "    <tr>\n",
              "      <th>2019-04-09</th>\n",
              "      <td>1</td>\n",
              "      <td>1560</td>\n",
              "      <td>25.0</td>\n",
              "      <td>32.0</td>\n",
              "      <td>26.0</td>\n",
              "      <td>0</td>\n",
              "      <td>0</td>\n",
              "      <td>2019</td>\n",
              "      <td>4</td>\n",
              "      <td>Tuesday</td>\n",
              "      <td>99</td>\n",
              "    </tr>\n",
              "    <tr>\n",
              "      <th>2019-04-10</th>\n",
              "      <td>1</td>\n",
              "      <td>1560</td>\n",
              "      <td>25.0</td>\n",
              "      <td>32.0</td>\n",
              "      <td>26.0</td>\n",
              "      <td>0</td>\n",
              "      <td>0</td>\n",
              "      <td>2019</td>\n",
              "      <td>4</td>\n",
              "      <td>Wednesday</td>\n",
              "      <td>100</td>\n",
              "    </tr>\n",
              "  </tbody>\n",
              "</table>\n",
              "</div>"
            ],
            "text/plain": [
              "            TI_CVE_N  ULT_SUST_DEF_N  TALLA_INI_MIN  TALLA_FIN_MAX  TA_CVE_N  \\\n",
              "FECHA                                                                          \n",
              "2019-03-28         1            1560           25.0           32.0      26.0   \n",
              "2019-03-29         1            1560           25.0           32.0      26.0   \n",
              "2019-03-30         1            1560           25.0           32.0      26.0   \n",
              "2019-03-31         1            1560           25.0           32.0      26.0   \n",
              "2019-04-01         1            1560           25.0           32.0      26.0   \n",
              "2019-04-02         1            1560           25.0           32.0      26.0   \n",
              "2019-04-03         1            1560           25.0           32.0      26.0   \n",
              "2019-04-04         1            1560           25.0           32.0      26.0   \n",
              "2019-04-05         1            1560           25.0           32.0      26.0   \n",
              "2019-04-06         1            1560           25.0           32.0      26.0   \n",
              "2019-04-07         1            1560           25.0           32.0      26.0   \n",
              "2019-04-08         1            1560           25.0           32.0      26.0   \n",
              "2019-04-09         1            1560           25.0           32.0      26.0   \n",
              "2019-04-10         1            1560           25.0           32.0      26.0   \n",
              "\n",
              "            EXISTENCIA  VENTA  Year  Month Weekday Name  Day Number  \n",
              "FECHA                                                                \n",
              "2019-03-28           0      0  2019      3     Thursday          87  \n",
              "2019-03-29           0      0  2019      3       Friday          88  \n",
              "2019-03-30           0      0  2019      3     Saturday          89  \n",
              "2019-03-31           0      0  2019      3       Sunday          90  \n",
              "2019-04-01           0      0  2019      4       Monday          91  \n",
              "2019-04-02           0      0  2019      4      Tuesday          92  \n",
              "2019-04-03           0      0  2019      4    Wednesday          93  \n",
              "2019-04-04           0      0  2019      4     Thursday          94  \n",
              "2019-04-05           0      0  2019      4       Friday          95  \n",
              "2019-04-06           0      0  2019      4     Saturday          96  \n",
              "2019-04-07           0      0  2019      4       Sunday          97  \n",
              "2019-04-08           0      0  2019      4       Monday          98  \n",
              "2019-04-09           0      0  2019      4      Tuesday          99  \n",
              "2019-04-10           0      0  2019      4    Wednesday         100  "
            ]
          },
          "metadata": {
            "tags": []
          },
          "execution_count": 140
        }
      ]
    },
    {
      "cell_type": "markdown",
      "metadata": {
        "id": "egs2yJ3rhxI4"
      },
      "source": [
        "Se localiza el periodo negado"
      ]
    },
    {
      "cell_type": "code",
      "metadata": {
        "id": "rq6Q85lvhxI5"
      },
      "source": [
        "periodo=df.loc['2019-03-01':'2019-04-30']"
      ],
      "execution_count": null,
      "outputs": []
    },
    {
      "cell_type": "code",
      "metadata": {
        "id": "h6cG5FQnhxI5",
        "outputId": "ce94878a-e526-4d52-d375-c15123eb866e"
      },
      "source": [
        "sunday=periodo[periodo['Weekday Name']=='Sunday']\n",
        "\n",
        "axes = sunday[['EXISTENCIA', 'VENTA']].plot(marker='.', alpha=0.5, linestyle='-', figsize=(12, 3), title='Domingos')"
      ],
      "execution_count": null,
      "outputs": [
        {
          "output_type": "display_data",
          "data": {
            "image/png": "[encoded data removed]",
            "text/plain": [
              "<Figure size 864x216 with 1 Axes>"
            ]
          },
          "metadata": {
            "tags": [],
            "needs_background": "light"
          }
        }
      ]
    },
    {
      "cell_type": "markdown",
      "metadata": {
        "id": "jCkOBOZohxI5"
      },
      "source": [
        "Se toman los dias con existencia para hacer la regresion lineal"
      ]
    },
    {
      "cell_type": "code",
      "metadata": {
        "id": "ME3VcdBuhxI5",
        "outputId": "95bd9a33-285e-4a76-dda7-f38aa0dc2e91"
      },
      "source": [
        "domingos=sunday[sunday[\"EXISTENCIA\"]>0]\n",
        "X = domingos[\"Day Number\"].to_numpy().reshape(-1, 1)\n",
        "Y = domingos[\"VENTA\"].to_numpy().reshape(-1, 1)\n",
        "print(X)\n",
        "print(Y)"
      ],
      "execution_count": null,
      "outputs": [
        {
          "output_type": "stream",
          "text": [
            "[[ 62]\n",
            " [ 69]\n",
            " [ 76]\n",
            " [ 83]\n",
            " [104]\n",
            " [111]\n",
            " [118]]\n",
            "[[1]\n",
            " [1]\n",
            " [0]\n",
            " [2]\n",
            " [0]\n",
            " [0]\n",
            " [1]]\n"
          ],
          "name": "stdout"
        }
      ]
    },
    {
      "cell_type": "markdown",
      "metadata": {
        "id": "SqoSIxD_hxI5"
      },
      "source": [
        "Se calcula la Regresion Lineal"
      ]
    },
    {
      "cell_type": "code",
      "metadata": {
        "id": "Bb4n_PRyhxI5",
        "outputId": "b14e815d-15ab-479a-d03a-bc0187bbea73"
      },
      "source": [
        "from sklearn.linear_model import LinearRegression\n",
        "\n",
        "lm = LinearRegression()\n",
        "lm.fit(X, Y)\n",
        "print(lm.intercept_,lm.coef_,lm.score(X, Y))"
      ],
      "execution_count": null,
      "outputs": [
        {
          "output_type": "stream",
          "text": [
            "[1.64008322] [[-0.01040222]] 0.09101941747572817\n"
          ],
          "name": "stdout"
        }
      ]
    },
    {
      "cell_type": "markdown",
      "metadata": {
        "id": "wLO0gLSShxI5"
      },
      "source": [
        "Se estiman las ventas de todos los dias incluidos los dias negados"
      ]
    },
    {
      "cell_type": "code",
      "metadata": {
        "id": "o6VfPFsXhxI5",
        "outputId": "b059846f-b0cf-4d01-cc6c-f732e2b1072b"
      },
      "source": [
        "x = sunday[\"Day Number\"].to_numpy().reshape(-1, 1)\n",
        "y = lm.predict(x)\n",
        "sunday[\"vta_estimada\"]=y"
      ],
      "execution_count": null,
      "outputs": [
        {
          "output_type": "stream",
          "text": [
            "C:\\Users\\jcjim\\Anaconda3\\envs\\IA\\lib\\site-packages\\ipykernel_launcher.py:3: SettingWithCopyWarning: \n",
            "A value is trying to be set on a copy of a slice from a DataFrame.\n",
            "Try using .loc[row_indexer,col_indexer] = value instead\n",
            "\n",
            "See the caveats in the documentation: http://pandas.pydata.org/pandas-docs/stable/user_guide/indexing.html#returning-a-view-versus-a-copy\n",
            "  This is separate from the ipykernel package so we can avoid doing imports until\n"
          ],
          "name": "stderr"
        }
      ]
    },
    {
      "cell_type": "markdown",
      "metadata": {
        "id": "fKE06cHshxI6"
      },
      "source": [
        "Se grafican las ventas estimadas con la regresion lineal"
      ]
    },
    {
      "cell_type": "code",
      "metadata": {
        "id": "vutmAcWbhxI6",
        "outputId": "735ddde5-0005-4144-a334-bc0e47fb96e6"
      },
      "source": [
        "sunday[['EXISTENCIA', 'VENTA','vta_estimada']].plot(marker='.', alpha=0.5, linestyle='-', figsize=(12, 3), title='Regresion Lineal')"
      ],
      "execution_count": null,
      "outputs": [
        {
          "output_type": "execute_result",
          "data": {
            "text/plain": [
              "<matplotlib.axes._subplots.AxesSubplot at 0x26b9005a6c8>"
            ]
          },
          "metadata": {
            "tags": []
          },
          "execution_count": 176
        },
        {
          "output_type": "display_data",
          "data": {
            "image/png": "[encoded data removed]",
            "text/plain": [
              "<Figure size 864x216 with 1 Axes>"
            ]
          },
          "metadata": {
            "tags": [],
            "needs_background": "light"
          }
        }
      ]
    },
    {
      "cell_type": "code",
      "metadata": {
        "id": "hrz1WlnWhxI6",
        "outputId": "c1df518e-6522-4b04-83a6-1bc33e2b1066"
      },
      "source": [
        "sunday[sunday[\"EXISTENCIA\"]==0]"
      ],
      "execution_count": null,
      "outputs": [
        {
          "output_type": "execute_result",
          "data": {
            "text/html": [
              "<div>\n",
              "<style scoped>\n",
              "    .dataframe tbody tr th:only-of-type {\n",
              "        vertical-align: middle;\n",
              "    }\n",
              "\n",
              "    .dataframe tbody tr th {\n",
              "        vertical-align: top;\n",
              "    }\n",
              "\n",
              "    .dataframe thead th {\n",
              "        text-align: right;\n",
              "    }\n",
              "</style>\n",
              "<table border=\"1\" class=\"dataframe\">\n",
              "  <thead>\n",
              "    <tr style=\"text-align: right;\">\n",
              "      <th></th>\n",
              "      <th>TI_CVE_N</th>\n",
              "      <th>ULT_SUST_DEF_N</th>\n",
              "      <th>TALLA_INI_MIN</th>\n",
              "      <th>TALLA_FIN_MAX</th>\n",
              "      <th>TA_CVE_N</th>\n",
              "      <th>EXISTENCIA</th>\n",
              "      <th>VENTA</th>\n",
              "      <th>Year</th>\n",
              "      <th>Month</th>\n",
              "      <th>Weekday Name</th>\n",
              "      <th>Day Number</th>\n",
              "      <th>vta_estimada</th>\n",
              "    </tr>\n",
              "    <tr>\n",
              "      <th>FECHA</th>\n",
              "      <th></th>\n",
              "      <th></th>\n",
              "      <th></th>\n",
              "      <th></th>\n",
              "      <th></th>\n",
              "      <th></th>\n",
              "      <th></th>\n",
              "      <th></th>\n",
              "      <th></th>\n",
              "      <th></th>\n",
              "      <th></th>\n",
              "      <th></th>\n",
              "    </tr>\n",
              "  </thead>\n",
              "  <tbody>\n",
              "    <tr>\n",
              "      <th>2019-03-31</th>\n",
              "      <td>1</td>\n",
              "      <td>1560</td>\n",
              "      <td>25.0</td>\n",
              "      <td>32.0</td>\n",
              "      <td>26.0</td>\n",
              "      <td>0</td>\n",
              "      <td>0</td>\n",
              "      <td>2019</td>\n",
              "      <td>3</td>\n",
              "      <td>Sunday</td>\n",
              "      <td>90</td>\n",
              "      <td>0.703883</td>\n",
              "    </tr>\n",
              "    <tr>\n",
              "      <th>2019-04-07</th>\n",
              "      <td>1</td>\n",
              "      <td>1560</td>\n",
              "      <td>25.0</td>\n",
              "      <td>32.0</td>\n",
              "      <td>26.0</td>\n",
              "      <td>0</td>\n",
              "      <td>0</td>\n",
              "      <td>2019</td>\n",
              "      <td>4</td>\n",
              "      <td>Sunday</td>\n",
              "      <td>97</td>\n",
              "      <td>0.631068</td>\n",
              "    </tr>\n",
              "  </tbody>\n",
              "</table>\n",
              "</div>"
            ],
            "text/plain": [
              "            TI_CVE_N  ULT_SUST_DEF_N  TALLA_INI_MIN  TALLA_FIN_MAX  TA_CVE_N  \\\n",
              "FECHA                                                                          \n",
              "2019-03-31         1            1560           25.0           32.0      26.0   \n",
              "2019-04-07         1            1560           25.0           32.0      26.0   \n",
              "\n",
              "            EXISTENCIA  VENTA  Year  Month Weekday Name  Day Number  \\\n",
              "FECHA                                                                 \n",
              "2019-03-31           0      0  2019      3       Sunday          90   \n",
              "2019-04-07           0      0  2019      4       Sunday          97   \n",
              "\n",
              "            vta_estimada  \n",
              "FECHA                     \n",
              "2019-03-31      0.703883  \n",
              "2019-04-07      0.631068  "
            ]
          },
          "metadata": {
            "tags": []
          },
          "execution_count": 177
        }
      ]
    },
    {
      "cell_type": "markdown",
      "metadata": {
        "id": "hbkrpg0ph07K"
      },
      "source": [
        "#Regresion Lineal Multiple"
      ]
    },
    {
      "cell_type": "markdown",
      "metadata": {
        "id": "7HRuVp2o-ZUO"
      },
      "source": [
        "Para hacer **la reconstrucción del negado** se propone lo siguiente:\n",
        "\n",
        "* Este método aplica a modelos con una venta alta por talla-tienda.\n",
        "* *Tomar en cuenta los mismos días* donde se tuvo existencia en esa talla, es decir, si se quiere reconstruir un día **domingo** se deben tomar los **domingos anteriores y siguientes** de día que se va a reconstruir\n",
        "* *Tomar las tallas cercanas* para considerar la curva de venta, es decir, si se quiere reconstruir la talla 26 se debe tomar la talla 25 y 27 para tomar en cuenta su proporción de venta cuando tuvo existencia.\n",
        "* *Tomar las tiendas que son de la misma región* para **considerar la participación de venta de ese mismo modelo y tallas entre las tiendas de la misma región**."
      ]
    },
    {
      "cell_type": "code",
      "metadata": {
        "id": "P9mCyXuJh4ZA"
      },
      "source": [
        "import pandas as pd\n",
        "import numpy as np\n",
        "from sklearn import linear_model\n",
        "import statsmodels.api as sm"
      ],
      "execution_count": 28,
      "outputs": []
    },
    {
      "cell_type": "code",
      "metadata": {
        "colab": {
          "base_uri": "https://localhost:8080/",
          "height": 204
        },
        "id": "-GLyuEmMibMj",
        "outputId": "fb513092-2a24-4314-b651-e2c61c198d9e"
      },
      "source": [
        "df=pd.read_excel('existenciaventa.xls')\n",
        "df2=df[df['EXISTENCIA']>0]\n",
        "df2.head()"
      ],
      "execution_count": 52,
      "outputs": [
        {
          "output_type": "execute_result",
          "data": {
            "text/html": [
              "<div>\n",
              "<style scoped>\n",
              "    .dataframe tbody tr th:only-of-type {\n",
              "        vertical-align: middle;\n",
              "    }\n",
              "\n",
              "    .dataframe tbody tr th {\n",
              "        vertical-align: top;\n",
              "    }\n",
              "\n",
              "    .dataframe thead th {\n",
              "        text-align: right;\n",
              "    }\n",
              "</style>\n",
              "<table border=\"1\" class=\"dataframe\">\n",
              "  <thead>\n",
              "    <tr style=\"text-align: right;\">\n",
              "      <th></th>\n",
              "      <th>TI_CVE_N</th>\n",
              "      <th>ID_ART</th>\n",
              "      <th>TA_CVE_N</th>\n",
              "      <th>FECHA</th>\n",
              "      <th>DIA_DEL_ANIO</th>\n",
              "      <th>EXISTENCIA</th>\n",
              "      <th>VENTA</th>\n",
              "    </tr>\n",
              "  </thead>\n",
              "  <tbody>\n",
              "    <tr>\n",
              "      <th>0</th>\n",
              "      <td>1</td>\n",
              "      <td>1560</td>\n",
              "      <td>25</td>\n",
              "      <td>2019-03-17</td>\n",
              "      <td>76</td>\n",
              "      <td>7</td>\n",
              "      <td>0</td>\n",
              "    </tr>\n",
              "    <tr>\n",
              "      <th>1</th>\n",
              "      <td>1</td>\n",
              "      <td>1560</td>\n",
              "      <td>25</td>\n",
              "      <td>2019-03-24</td>\n",
              "      <td>83</td>\n",
              "      <td>6</td>\n",
              "      <td>1</td>\n",
              "    </tr>\n",
              "    <tr>\n",
              "      <th>2</th>\n",
              "      <td>1</td>\n",
              "      <td>1560</td>\n",
              "      <td>25</td>\n",
              "      <td>2019-03-31</td>\n",
              "      <td>90</td>\n",
              "      <td>3</td>\n",
              "      <td>0</td>\n",
              "    </tr>\n",
              "    <tr>\n",
              "      <th>3</th>\n",
              "      <td>1</td>\n",
              "      <td>1560</td>\n",
              "      <td>25</td>\n",
              "      <td>2019-04-07</td>\n",
              "      <td>97</td>\n",
              "      <td>3</td>\n",
              "      <td>0</td>\n",
              "    </tr>\n",
              "    <tr>\n",
              "      <th>4</th>\n",
              "      <td>1</td>\n",
              "      <td>1560</td>\n",
              "      <td>25</td>\n",
              "      <td>2019-04-14</td>\n",
              "      <td>104</td>\n",
              "      <td>8</td>\n",
              "      <td>0</td>\n",
              "    </tr>\n",
              "  </tbody>\n",
              "</table>\n",
              "</div>"
            ],
            "text/plain": [
              "   TI_CVE_N  ID_ART  TA_CVE_N      FECHA  DIA_DEL_ANIO  EXISTENCIA  VENTA\n",
              "0         1    1560        25 2019-03-17            76           7      0\n",
              "1         1    1560        25 2019-03-24            83           6      1\n",
              "2         1    1560        25 2019-03-31            90           3      0\n",
              "3         1    1560        25 2019-04-07            97           3      0\n",
              "4         1    1560        25 2019-04-14           104           8      0"
            ]
          },
          "metadata": {
            "tags": []
          },
          "execution_count": 52
        }
      ]
    },
    {
      "cell_type": "code",
      "metadata": {
        "colab": {
          "base_uri": "https://localhost:8080/",
          "height": 235
        },
        "id": "t8WpNz8xnKHh",
        "outputId": "20aa7fa2-3d6f-4cae-c911-a2e3f94cd805"
      },
      "source": [
        "df[df['EXISTENCIA']==0]"
      ],
      "execution_count": 53,
      "outputs": [
        {
          "output_type": "execute_result",
          "data": {
            "text/html": [
              "<div>\n",
              "<style scoped>\n",
              "    .dataframe tbody tr th:only-of-type {\n",
              "        vertical-align: middle;\n",
              "    }\n",
              "\n",
              "    .dataframe tbody tr th {\n",
              "        vertical-align: top;\n",
              "    }\n",
              "\n",
              "    .dataframe thead th {\n",
              "        text-align: right;\n",
              "    }\n",
              "</style>\n",
              "<table border=\"1\" class=\"dataframe\">\n",
              "  <thead>\n",
              "    <tr style=\"text-align: right;\">\n",
              "      <th></th>\n",
              "      <th>TI_CVE_N</th>\n",
              "      <th>ID_ART</th>\n",
              "      <th>TA_CVE_N</th>\n",
              "      <th>FECHA</th>\n",
              "      <th>DIA_DEL_ANIO</th>\n",
              "      <th>EXISTENCIA</th>\n",
              "      <th>VENTA</th>\n",
              "    </tr>\n",
              "  </thead>\n",
              "  <tbody>\n",
              "    <tr>\n",
              "      <th>8</th>\n",
              "      <td>1</td>\n",
              "      <td>1560</td>\n",
              "      <td>26</td>\n",
              "      <td>2019-03-31</td>\n",
              "      <td>90</td>\n",
              "      <td>0</td>\n",
              "      <td>0</td>\n",
              "    </tr>\n",
              "    <tr>\n",
              "      <th>9</th>\n",
              "      <td>1</td>\n",
              "      <td>1560</td>\n",
              "      <td>26</td>\n",
              "      <td>2019-04-07</td>\n",
              "      <td>97</td>\n",
              "      <td>0</td>\n",
              "      <td>0</td>\n",
              "    </tr>\n",
              "    <tr>\n",
              "      <th>14</th>\n",
              "      <td>1</td>\n",
              "      <td>1560</td>\n",
              "      <td>27</td>\n",
              "      <td>2019-03-31</td>\n",
              "      <td>90</td>\n",
              "      <td>0</td>\n",
              "      <td>0</td>\n",
              "    </tr>\n",
              "    <tr>\n",
              "      <th>21</th>\n",
              "      <td>4</td>\n",
              "      <td>1560</td>\n",
              "      <td>25</td>\n",
              "      <td>2019-04-07</td>\n",
              "      <td>97</td>\n",
              "      <td>0</td>\n",
              "      <td>0</td>\n",
              "    </tr>\n",
              "    <tr>\n",
              "      <th>33</th>\n",
              "      <td>4</td>\n",
              "      <td>1560</td>\n",
              "      <td>27</td>\n",
              "      <td>2019-04-07</td>\n",
              "      <td>97</td>\n",
              "      <td>0</td>\n",
              "      <td>0</td>\n",
              "    </tr>\n",
              "    <tr>\n",
              "      <th>51</th>\n",
              "      <td>5</td>\n",
              "      <td>1560</td>\n",
              "      <td>27</td>\n",
              "      <td>2019-04-07</td>\n",
              "      <td>97</td>\n",
              "      <td>0</td>\n",
              "      <td>0</td>\n",
              "    </tr>\n",
              "  </tbody>\n",
              "</table>\n",
              "</div>"
            ],
            "text/plain": [
              "    TI_CVE_N  ID_ART  TA_CVE_N      FECHA  DIA_DEL_ANIO  EXISTENCIA  VENTA\n",
              "8          1    1560        26 2019-03-31            90           0      0\n",
              "9          1    1560        26 2019-04-07            97           0      0\n",
              "14         1    1560        27 2019-03-31            90           0      0\n",
              "21         4    1560        25 2019-04-07            97           0      0\n",
              "33         4    1560        27 2019-04-07            97           0      0\n",
              "51         5    1560        27 2019-04-07            97           0      0"
            ]
          },
          "metadata": {
            "tags": []
          },
          "execution_count": 53
        }
      ]
    },
    {
      "cell_type": "code",
      "metadata": {
        "id": "UrX7j_iziyRZ"
      },
      "source": [
        "X = df2[['DIA_DEL_ANIO','TI_CVE_N','TA_CVE_N']] # here we have 3 variables for multiple regression.\n",
        "y = df2['VENTA']"
      ],
      "execution_count": 54,
      "outputs": []
    },
    {
      "cell_type": "code",
      "metadata": {
        "colab": {
          "base_uri": "https://localhost:8080/"
        },
        "id": "yncrs7WGj5HE",
        "outputId": "97706af0-c7bc-4318-85dd-65f029884cbd"
      },
      "source": [
        "# with sklearn\n",
        "regr = linear_model.LinearRegression()\n",
        "regr.fit(X, y)\n",
        "\n",
        "print('Intercept: \\n', regr.intercept_)\n",
        "print('Coefficients: \\n', regr.coef_)"
      ],
      "execution_count": 55,
      "outputs": [
        {
          "output_type": "stream",
          "text": [
            "Intercept: \n",
            " -4.5547778704132975\n",
            "Coefficients: \n",
            " [-0.00687229  0.01126854  0.21635316]\n"
          ],
          "name": "stdout"
        }
      ]
    },
    {
      "cell_type": "code",
      "metadata": {
        "id": "mPLzKl_JJb69",
        "outputId": "840371a8-ff02-480f-f753-82811f98b11c",
        "colab": {
          "base_uri": "https://localhost:8080/",
          "height": 561
        }
      },
      "source": [
        "def reconstruye(d,tienda,talla):\n",
        "  return np.asscalar(regr.predict([[d,tienda,talla]]))\n",
        "\n",
        "negado = df[df['EXISTENCIA']==0]\n",
        "negado['VENTA']=negado.apply(lambda row: reconstruye(row['DIA_DEL_ANIO'],\n",
        "                                                     row['TI_CVE_N'],\n",
        "                                                     row['TA_CVE_N']),axis=1)\n",
        "negado"
      ],
      "execution_count": 64,
      "outputs": [
        {
          "output_type": "stream",
          "text": [
            "/usr/local/lib/python3.6/dist-packages/ipykernel_launcher.py:2: DeprecationWarning: np.asscalar(a) is deprecated since NumPy v1.16, use a.item() instead\n",
            "  \n",
            "/usr/local/lib/python3.6/dist-packages/ipykernel_launcher.py:2: DeprecationWarning: np.asscalar(a) is deprecated since NumPy v1.16, use a.item() instead\n",
            "  \n",
            "/usr/local/lib/python3.6/dist-packages/ipykernel_launcher.py:2: DeprecationWarning: np.asscalar(a) is deprecated since NumPy v1.16, use a.item() instead\n",
            "  \n",
            "/usr/local/lib/python3.6/dist-packages/ipykernel_launcher.py:2: DeprecationWarning: np.asscalar(a) is deprecated since NumPy v1.16, use a.item() instead\n",
            "  \n",
            "/usr/local/lib/python3.6/dist-packages/ipykernel_launcher.py:2: DeprecationWarning: np.asscalar(a) is deprecated since NumPy v1.16, use a.item() instead\n",
            "  \n",
            "/usr/local/lib/python3.6/dist-packages/ipykernel_launcher.py:2: DeprecationWarning: np.asscalar(a) is deprecated since NumPy v1.16, use a.item() instead\n",
            "  \n",
            "/usr/local/lib/python3.6/dist-packages/ipykernel_launcher.py:7: SettingWithCopyWarning: \n",
            "A value is trying to be set on a copy of a slice from a DataFrame.\n",
            "Try using .loc[row_indexer,col_indexer] = value instead\n",
            "\n",
            "See the caveats in the documentation: https://pandas.pydata.org/pandas-docs/stable/user_guide/indexing.html#returning-a-view-versus-a-copy\n",
            "  import sys\n"
          ],
          "name": "stderr"
        },
        {
          "output_type": "execute_result",
          "data": {
            "text/html": [
              "<div>\n",
              "<style scoped>\n",
              "    .dataframe tbody tr th:only-of-type {\n",
              "        vertical-align: middle;\n",
              "    }\n",
              "\n",
              "    .dataframe tbody tr th {\n",
              "        vertical-align: top;\n",
              "    }\n",
              "\n",
              "    .dataframe thead th {\n",
              "        text-align: right;\n",
              "    }\n",
              "</style>\n",
              "<table border=\"1\" class=\"dataframe\">\n",
              "  <thead>\n",
              "    <tr style=\"text-align: right;\">\n",
              "      <th></th>\n",
              "      <th>TI_CVE_N</th>\n",
              "      <th>ID_ART</th>\n",
              "      <th>TA_CVE_N</th>\n",
              "      <th>FECHA</th>\n",
              "      <th>DIA_DEL_ANIO</th>\n",
              "      <th>EXISTENCIA</th>\n",
              "      <th>VENTA</th>\n",
              "    </tr>\n",
              "  </thead>\n",
              "  <tbody>\n",
              "    <tr>\n",
              "      <th>8</th>\n",
              "      <td>1</td>\n",
              "      <td>1560</td>\n",
              "      <td>26</td>\n",
              "      <td>2019-03-31</td>\n",
              "      <td>90</td>\n",
              "      <td>0</td>\n",
              "      <td>0.463167</td>\n",
              "    </tr>\n",
              "    <tr>\n",
              "      <th>9</th>\n",
              "      <td>1</td>\n",
              "      <td>1560</td>\n",
              "      <td>26</td>\n",
              "      <td>2019-04-07</td>\n",
              "      <td>97</td>\n",
              "      <td>0</td>\n",
              "      <td>0.415061</td>\n",
              "    </tr>\n",
              "    <tr>\n",
              "      <th>14</th>\n",
              "      <td>1</td>\n",
              "      <td>1560</td>\n",
              "      <td>27</td>\n",
              "      <td>2019-03-31</td>\n",
              "      <td>90</td>\n",
              "      <td>0</td>\n",
              "      <td>0.679520</td>\n",
              "    </tr>\n",
              "    <tr>\n",
              "      <th>21</th>\n",
              "      <td>4</td>\n",
              "      <td>1560</td>\n",
              "      <td>25</td>\n",
              "      <td>2019-04-07</td>\n",
              "      <td>97</td>\n",
              "      <td>0</td>\n",
              "      <td>0.232513</td>\n",
              "    </tr>\n",
              "    <tr>\n",
              "      <th>33</th>\n",
              "      <td>4</td>\n",
              "      <td>1560</td>\n",
              "      <td>27</td>\n",
              "      <td>2019-04-07</td>\n",
              "      <td>97</td>\n",
              "      <td>0</td>\n",
              "      <td>0.665219</td>\n",
              "    </tr>\n",
              "    <tr>\n",
              "      <th>51</th>\n",
              "      <td>5</td>\n",
              "      <td>1560</td>\n",
              "      <td>27</td>\n",
              "      <td>2019-04-07</td>\n",
              "      <td>97</td>\n",
              "      <td>0</td>\n",
              "      <td>0.676488</td>\n",
              "    </tr>\n",
              "  </tbody>\n",
              "</table>\n",
              "</div>"
            ],
            "text/plain": [
              "    TI_CVE_N  ID_ART  TA_CVE_N      FECHA  DIA_DEL_ANIO  EXISTENCIA     VENTA\n",
              "8          1    1560        26 2019-03-31            90           0  0.463167\n",
              "9          1    1560        26 2019-04-07            97           0  0.415061\n",
              "14         1    1560        27 2019-03-31            90           0  0.679520\n",
              "21         4    1560        25 2019-04-07            97           0  0.232513\n",
              "33         4    1560        27 2019-04-07            97           0  0.665219\n",
              "51         5    1560        27 2019-04-07            97           0  0.676488"
            ]
          },
          "metadata": {
            "tags": []
          },
          "execution_count": 64
        }
      ]
    },
    {
      "cell_type": "code",
      "metadata": {
        "id": "nl2_ter3Pv0N",
        "outputId": "54773baa-385b-4601-ca6d-7e205dd0ae8a",
        "colab": {
          "base_uri": "https://localhost:8080/",
          "height": 235
        }
      },
      "source": [
        "#df1.loc[df1.index.isin(df2.index), :] = df2.city_in_mail\n",
        "df.loc[df.index.isin(negado.index),'VENTA']=negado.VENTA\n",
        "df[df['EXISTENCIA']==0]"
      ],
      "execution_count": 78,
      "outputs": [
        {
          "output_type": "execute_result",
          "data": {
            "text/html": [
              "<div>\n",
              "<style scoped>\n",
              "    .dataframe tbody tr th:only-of-type {\n",
              "        vertical-align: middle;\n",
              "    }\n",
              "\n",
              "    .dataframe tbody tr th {\n",
              "        vertical-align: top;\n",
              "    }\n",
              "\n",
              "    .dataframe thead th {\n",
              "        text-align: right;\n",
              "    }\n",
              "</style>\n",
              "<table border=\"1\" class=\"dataframe\">\n",
              "  <thead>\n",
              "    <tr style=\"text-align: right;\">\n",
              "      <th></th>\n",
              "      <th>TI_CVE_N</th>\n",
              "      <th>ID_ART</th>\n",
              "      <th>TA_CVE_N</th>\n",
              "      <th>FECHA</th>\n",
              "      <th>DIA_DEL_ANIO</th>\n",
              "      <th>EXISTENCIA</th>\n",
              "      <th>VENTA</th>\n",
              "    </tr>\n",
              "  </thead>\n",
              "  <tbody>\n",
              "    <tr>\n",
              "      <th>8</th>\n",
              "      <td>1</td>\n",
              "      <td>1560</td>\n",
              "      <td>26</td>\n",
              "      <td>2019-03-31</td>\n",
              "      <td>90</td>\n",
              "      <td>0</td>\n",
              "      <td>0.463167</td>\n",
              "    </tr>\n",
              "    <tr>\n",
              "      <th>9</th>\n",
              "      <td>1</td>\n",
              "      <td>1560</td>\n",
              "      <td>26</td>\n",
              "      <td>2019-04-07</td>\n",
              "      <td>97</td>\n",
              "      <td>0</td>\n",
              "      <td>0.415061</td>\n",
              "    </tr>\n",
              "    <tr>\n",
              "      <th>14</th>\n",
              "      <td>1</td>\n",
              "      <td>1560</td>\n",
              "      <td>27</td>\n",
              "      <td>2019-03-31</td>\n",
              "      <td>90</td>\n",
              "      <td>0</td>\n",
              "      <td>0.679520</td>\n",
              "    </tr>\n",
              "    <tr>\n",
              "      <th>21</th>\n",
              "      <td>4</td>\n",
              "      <td>1560</td>\n",
              "      <td>25</td>\n",
              "      <td>2019-04-07</td>\n",
              "      <td>97</td>\n",
              "      <td>0</td>\n",
              "      <td>0.232513</td>\n",
              "    </tr>\n",
              "    <tr>\n",
              "      <th>33</th>\n",
              "      <td>4</td>\n",
              "      <td>1560</td>\n",
              "      <td>27</td>\n",
              "      <td>2019-04-07</td>\n",
              "      <td>97</td>\n",
              "      <td>0</td>\n",
              "      <td>0.665219</td>\n",
              "    </tr>\n",
              "    <tr>\n",
              "      <th>51</th>\n",
              "      <td>5</td>\n",
              "      <td>1560</td>\n",
              "      <td>27</td>\n",
              "      <td>2019-04-07</td>\n",
              "      <td>97</td>\n",
              "      <td>0</td>\n",
              "      <td>0.676488</td>\n",
              "    </tr>\n",
              "  </tbody>\n",
              "</table>\n",
              "</div>"
            ],
            "text/plain": [
              "    TI_CVE_N  ID_ART  TA_CVE_N      FECHA  DIA_DEL_ANIO  EXISTENCIA     VENTA\n",
              "8          1    1560        26 2019-03-31            90           0  0.463167\n",
              "9          1    1560        26 2019-04-07            97           0  0.415061\n",
              "14         1    1560        27 2019-03-31            90           0  0.679520\n",
              "21         4    1560        25 2019-04-07            97           0  0.232513\n",
              "33         4    1560        27 2019-04-07            97           0  0.665219\n",
              "51         5    1560        27 2019-04-07            97           0  0.676488"
            ]
          },
          "metadata": {
            "tags": []
          },
          "execution_count": 78
        }
      ]
    },
    {
      "cell_type": "code",
      "metadata": {
        "id": "NRLlbV2jDsC8",
        "outputId": "38f3110a-aa8c-4e4f-ff39-371d5fd0b4d3",
        "colab": {
          "base_uri": "https://localhost:8080/",
          "height": 297
        }
      },
      "source": [
        "df.query('TI_CVE_N==1 and TA_CVE_N==26').plot(kind='scatter',x='DIA_DEL_ANIO',y='VENTA')"
      ],
      "execution_count": 93,
      "outputs": [
        {
          "output_type": "execute_result",
          "data": {
            "text/plain": [
              "<matplotlib.axes._subplots.AxesSubplot at 0x7f3c0600be48>"
            ]
          },
          "metadata": {
            "tags": []
          },
          "execution_count": 93
        },
        {
          "output_type": "display_data",
          "data": {
            "image/png": "[encoded data removed]",
            "text/plain": [
              "<Figure size 432x288 with 1 Axes>"
            ]
          },
          "metadata": {
            "tags": [],
            "needs_background": "light"
          }
        }
      ]
    },
    {
      "cell_type": "code",
      "metadata": {
        "id": "zyldEJ2Bgm_O",
        "outputId": "2ec73fd3-8aa8-4fd0-b97f-de629363cb52",
        "colab": {
          "base_uri": "https://localhost:8080/",
          "height": 1000
        }
      },
      "source": [
        "df3=df.groupby(['TI_CVE_N','TA_CVE_N'])\n",
        "df3.plot(x='DIA_DEL_ANIO',y='VENTA',subplots=False)"
      ],
      "execution_count": 102,
      "outputs": [
        {
          "output_type": "execute_result",
          "data": {
            "text/plain": [
              "TI_CVE_N  TA_CVE_N\n",
              "1         25          AxesSubplot(0.125,0.125;0.775x0.755)\n",
              "          26          AxesSubplot(0.125,0.125;0.775x0.755)\n",
              "          27          AxesSubplot(0.125,0.125;0.775x0.755)\n",
              "4         25          AxesSubplot(0.125,0.125;0.775x0.755)\n",
              "          26          AxesSubplot(0.125,0.125;0.775x0.755)\n",
              "          27          AxesSubplot(0.125,0.125;0.775x0.755)\n",
              "5         25          AxesSubplot(0.125,0.125;0.775x0.755)\n",
              "          26          AxesSubplot(0.125,0.125;0.775x0.755)\n",
              "          27          AxesSubplot(0.125,0.125;0.775x0.755)\n",
              "dtype: object"
            ]
          },
          "metadata": {
            "tags": []
          },
          "execution_count": 102
        },
        {
          "output_type": "display_data",
          "data": {
            "image/png": "[encoded data removed]",
            "text/plain": [
              "<Figure size 432x288 with 1 Axes>"
            ]
          },
          "metadata": {
            "tags": [],
            "needs_background": "light"
          }
        },
        {
          "output_type": "display_data",
          "data": {
            "image/png": "[encoded data removed]",
            "text/plain": [
              "<Figure size 432x288 with 1 Axes>"
            ]
          },
          "metadata": {
            "tags": [],
            "needs_background": "light"
          }
        },
        {
          "output_type": "display_data",
          "data": {
            "image/png": "[encoded data removed]",
            "text/plain": [
              "<Figure size 432x288 with 1 Axes>"
            ]
          },
          "metadata": {
            "tags": [],
            "needs_background": "light"
          }
        },
        {
          "output_type": "display_data",
          "data": {
            "image/png": "[encoded data removed]",
            "text/plain": [
              "<Figure size 432x288 with 1 Axes>"
            ]
          },
          "metadata": {
            "tags": [],
            "needs_background": "light"
          }
        },
        {
          "output_type": "display_data",
          "data": {
            "image/png": "[encoded data removed]",
            "text/plain": [
              "<Figure size 432x288 with 1 Axes>"
            ]
          },
          "metadata": {
            "tags": [],
            "needs_background": "light"
          }
        },
        {
          "output_type": "display_data",
          "data": {
            "image/png": "[encoded data removed]",
            "text/plain": [
              "<Figure size 432x288 with 1 Axes>"
            ]
          },
          "metadata": {
            "tags": [],
            "needs_background": "light"
          }
        },
        {
          "output_type": "display_data",
          "data": {
            "image/png": "[encoded data removed]",
            "text/plain": [
              "<Figure size 432x288 with 1 Axes>"
            ]
          },
          "metadata": {
            "tags": [],
            "needs_background": "light"
          }
        },
        {
          "output_type": "display_data",
          "data": {
            "image/png": "[encoded data removed]",
            "text/plain": [
              "<Figure size 432x288 with 1 Axes>"
            ]
          },
          "metadata": {
            "tags": [],
            "needs_background": "light"
          }
        },
        {
          "output_type": "display_data",
          "data": {
            "image/png": "[encoded data removed]",
            "text/plain": [
              "<Figure size 432x288 with 1 Axes>"
            ]
          },
          "metadata": {
            "tags": [],
            "needs_background": "light"
          }
        }
      ]
    },
    {
      "cell_type": "code",
      "metadata": {
        "colab": {
          "base_uri": "https://localhost:8080/"
        },
        "id": "9cJpNRyelZEh",
        "outputId": "9f9dc803-e62d-4035-c950-c3fd4381d077"
      },
      "source": [
        "# with statsmodels\n",
        "X = sm.add_constant(X) # adding a constant\n",
        " \n",
        "model = sm.OLS(y, X).fit()\n",
        "predictions = model.predict(X) \n",
        " \n",
        "print_model = model.summary()\n",
        "print(print_model)"
      ],
      "execution_count": 19,
      "outputs": [
        {
          "output_type": "stream",
          "text": [
            "                            OLS Regression Results                            \n",
            "==============================================================================\n",
            "Dep. Variable:                  VENTA   R-squared:                       0.105\n",
            "Model:                            OLS   Adj. R-squared:                  0.044\n",
            "Method:                 Least Squares   F-statistic:                     1.719\n",
            "Date:                Fri, 04 Dec 2020   Prob (F-statistic):              0.177\n",
            "Time:                        16:31:55   Log-Likelihood:                -41.797\n",
            "No. Observations:                  48   AIC:                             91.59\n",
            "Df Residuals:                      44   BIC:                             99.08\n",
            "Df Model:                           3                                         \n",
            "Covariance Type:            nonrobust                                         \n",
            "================================================================================\n",
            "                   coef    std err          t      P>|t|      [0.025      0.975]\n",
            "--------------------------------------------------------------------------------\n",
            "const           -4.5548      2.854     -1.596      0.118     -10.306       1.197\n",
            "DIA_DEL_ANIO    -0.0069      0.007     -0.995      0.325      -0.021       0.007\n",
            "TI_CVE_N         0.0113      0.052      0.217      0.829      -0.093       0.116\n",
            "TA_CVE_N         0.2164      0.107      2.024      0.049       0.001       0.432\n",
            "==============================================================================\n",
            "Omnibus:                        6.230   Durbin-Watson:                   2.283\n",
            "Prob(Omnibus):                  0.044   Jarque-Bera (JB):                5.733\n",
            "Skew:                           0.845   Prob(JB):                       0.0569\n",
            "Kurtosis:                       3.088   Cond. No.                     3.20e+03\n",
            "==============================================================================\n",
            "\n",
            "Warnings:\n",
            "[1] Standard Errors assume that the covariance matrix of the errors is correctly specified.\n",
            "[2] The condition number is large, 3.2e+03. This might indicate that there are\n",
            "strong multicollinearity or other numerical problems.\n"
          ],
          "name": "stdout"
        }
      ]
    }
  ]
}