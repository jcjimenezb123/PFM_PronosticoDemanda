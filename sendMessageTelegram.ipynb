{
  "nbformat": 4,
  "nbformat_minor": 0,
  "metadata": {
    "colab": {
      "name": "sendMessageTelegram.ipynb",
      "provenance": [],
      "authorship_tag": "ABX9TyPovnTIObxgKPkKRuANLH/m",
      "include_colab_link": true
    },
    "kernelspec": {
      "name": "python3",
      "display_name": "Python 3"
    }
  },
  "cells": [
    {
      "cell_type": "markdown",
      "metadata": {
        "id": "view-in-github",
        "colab_type": "text"
      },
      "source": [
        "<a href=\"https://colab.research.google.com/github/jcjimenezb123/PFM_PronosticoDemanda/blob/master/sendMessageTelegram.ipynb\" target=\"_parent\"><img src=\"https://colab.research.google.com/assets/colab-badge.svg\" alt=\"Open In Colab\"/></a>"
      ]
    },
    {
      "cell_type": "code",
      "metadata": {
        "colab": {
          "base_uri": "https://localhost:8080/"
        },
        "id": "yLacbvNaqpvN",
        "outputId": "94c1e713-edfe-4ae6-d610-f204b9363073"
      },
      "source": [
        "import requests\r\n",
        "\r\n",
        "def telegram_bot_sendtext(bot_message):\r\n",
        "\r\n",
        "    bot_token = '1603670932:AAElv74jFK7YP1_xhoqjfmlgDlBGf4XqCpo'\r\n",
        "    bot_chatID = '1270964204'\r\n",
        "    send_text = 'https://api.telegram.org/bot' + bot_token + '/sendMessage?chat_id=' + bot_chatID + '&parse_mode=Markdown&text=' + bot_message\r\n",
        "\r\n",
        "    response = requests.get(send_text)\r\n",
        "\r\n",
        "    return response.json()\r\n",
        "\r\n",
        "test = telegram_bot_sendtext(\"Mensaje enviado a Telegram desde Python\")\r\n",
        "print(test)"
      ],
      "execution_count": 2,
      "outputs": [
        {
          "output_type": "stream",
          "text": [
            "{'ok': True, 'result': {'message_id': 112, 'from': {'id': 1603670932, 'is_bot': True, 'first_name': 'SCI_bot', 'username': 'Sipco_bot'}, 'chat': {'id': 1270964204, 'first_name': 'Juan Carlos', 'last_name': 'Jimenez', 'type': 'private'}, 'date': 1612722831, 'text': 'Mensaje enviado a Telegram desde Python'}}\n"
          ],
          "name": "stdout"
        }
      ]
    }
  ]
}