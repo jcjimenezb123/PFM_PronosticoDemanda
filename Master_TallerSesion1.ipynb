{
  "nbformat": 4,
  "nbformat_minor": 0,
  "metadata": {
    "colab": {
      "provenance": [],
      "collapsed_sections": [
        "XgYohSMIJ8Nh",
        "hwZbdwTZydkS",
        "j8UTMbuKRjVs",
        "VH_NvtME7lUu",
        "nYO_N-yJsSaG",
        "Na9Sa6mpSVoq",
        "1-l6bivNTnu6",
        "JhAa5Ikc8ccd",
        "Ep-9gSOPUAVM",
        "GKMBIsIQ8jzm",
        "M5ObH7siW5QG",
        "j7Cl9DOb8nvN",
        "yeVGshMWKPZO",
        "K7Pwr0VBKR0f",
        "QqyaTk-eP_jZ",
        "I681MK9s9Dc1",
        "UM6XqmhbK7F_",
        "UxN1xR57K6vX",
        "8zE7ZiqsK6va",
        "Y0ATTZIYK6aD"
      ],
      "toc_visible": true,
      "include_colab_link": true
    },
    "kernelspec": {
      "name": "python3",
      "display_name": "Python 3"
    }
  },
  "cells": [
    {
      "cell_type": "markdown",
      "metadata": {
        "id": "view-in-github",
        "colab_type": "text"
      },
      "source": [
        "<a href=\"https://colab.research.google.com/github/jcjimenezb123/PFM_PronosticoDemanda/blob/master/Master_TallerSesion1.ipynb\" target=\"_parent\"><img src=\"https://colab.research.google.com/assets/colab-badge.svg\" alt=\"Open In Colab\"/></a>"
      ]
    },
    {
      "cell_type": "markdown",
      "metadata": {
        "id": "9XbiTSSSZuCN"
      },
      "source": [
        "# Taller Python Sesión 1\n"
      ]
    },
    {
      "cell_type": "markdown",
      "metadata": {
        "id": "51IZVTJVyZYN"
      },
      "source": [
        "#Introducción\n",
        "\n",
        "\n",
        "\n"
      ]
    },
    {
      "cell_type": "markdown",
      "metadata": {
        "id": "XgYohSMIJ8Nh"
      },
      "source": [
        "## Objetivos del Taller"
      ]
    },
    {
      "cell_type": "markdown",
      "metadata": {
        "id": "DSGubOQp_BUd"
      },
      "source": [
        "En este curso intentaremos abordar los conceptos claves de Python para poder afrontar las diferentes prácticas que tendréis que realizar a lo largo del master, os dejo una serie de consejos para abordar este taller:\n",
        "\n",
        "\n",
        "\n",
        "*   No tengas prisa, aunque el curso es corto intenta volver a leerlo a lo largo del master o cuando te surjan dudas.\n",
        "*   Orienta el taller como una guía o manual, aquí encontrarás prácticamente todo lo que necesitas durante el master, pero es difícil abordarlo todo desde el primer momento, intenta acercarte un poco a todo lo que vamos a ver para luego ampliar los conocimientos por tu cuenta.\n",
        "*   Intenta consultar la documentación oficial, aquí dejaré un resumen de la mayoría de los conceptos, pero es importante acudir a las guías oficiales para resolver dudas específicas.\n",
        "*   Escribe código, no te limites a leer lo que aparece, a lo largo del documento encontrarás cuadros en los que escribir tu código y probar todo lo visto.\n",
        "*   Ser realistas con los objetivos, programar es algo complejo, se requiere de tiempo y práctica, si no se tiene experiencia previa es necesario un tiempo amplio para adquirir un mínimo de conocimientos, pero siguiendo este curso podrás adquirir conocimientos básicos para seguir ampliando luego por tu cuenta."
      ]
    },
    {
      "cell_type": "markdown",
      "metadata": {
        "id": "0ntbT5lc8T21"
      },
      "source": [
        "**Es importante volver de vez en cuando a las explicaciones dadas en el taller.**\n",
        "Muchas de las dudas que os surjan serán cuando os enfrentéis a los problemas que se os propongan, así que es importante repasar asiduamente todo lo visto en esta guía para afianzar conocimientos y resolver dudas."
      ]
    },
    {
      "cell_type": "markdown",
      "metadata": {
        "id": "tPqiw16_8rpK"
      },
      "source": [
        "Algunos de los recursos más importantes sobre `Python` son:\n",
        "\n",
        "\n",
        "*   [Documentación Oficial de Python](https://docs.python.org/3/contents.html)\n",
        "*   [Guía de Python](https://www.learnpython.org)\n",
        "*   [Tutorial de Python en Español](https://www.tutorialpython.com)\n",
        "\n",
        "\n"
      ]
    },
    {
      "cell_type": "markdown",
      "metadata": {
        "id": "_WatWV8s9fiw"
      },
      "source": [
        "### Python 3 vs Python 2\n",
        "\n",
        "*Python* tiene un problema de versionado que **ya ha terminado**. A finales de 2019 se acabó el soporte de *Python 2* versión que todavía está presente en muchas Librerías y Frameworks. Esto ha supuesto un problema durante mucho tiempo.\n",
        "\n",
        "*Python 3* nació con el objetivo de mejorar ciertas características de *Python 2*, con el problema de que perdía retrocompatibilidad, así hizo que la comunidad se dividiese entre estos dos lenguajes de programación, con una base en común pero con diferencias importantes.\n",
        "\n",
        "En la actualidad es importante centrarse en *Python 3* ya que su antecesor ya no tiene soporte, pero por desgracia hay todavía mucho código que se mantiene en *Python 2* por lo que es importante tener conocimiento de su existencia y saber algunas de sus diferencias."
      ]
    },
    {
      "cell_type": "markdown",
      "metadata": {
        "id": "hwZbdwTZydkS"
      },
      "source": [
        "##<img alt=\"Colaboratory logo\" height=\"45px\" src=\"https://colab.research.google.com/img/colab_favicon.ico\" align=\"left\" hspace=\"10px\" vspace=\"0px\"> <h1>Colaboratory</h1>\n"
      ]
    },
    {
      "cell_type": "markdown",
      "metadata": {
        "id": "FBm29BED_MEv"
      },
      "source": [
        "Colaboratory es un entorno basado en [Jupyter Notebook](https://jupyter.org/) que permite ejecutar código en Python sin ningún tipo de requerimiento ni instalaciones previas.\n",
        "\n",
        "Con Colaboratory puedes escribir y ejecutar código, guardar y visualizar las analíticas y acceder a recursos computacionales desde el navegador.\n",
        "\n",
        "El documento que estás leyendo es un *Jupyter notebook* alojado en Colaboratory. No es una página estática, es un entorno dinámico que permite escribir y ejectuar código en *Python 3*.\n",
        "\n",
        "Por ejemplo aquí tenemos una **celda de código** con un pequeño script en *Python* que realiza una operación aritmética y guarda el resultado en una variable, imprimiendo el resultado en pantalla, lo único que hay que hacer es pulsar entre los dos paréntesis [     ]"
      ]
    },
    {
      "cell_type": "code",
      "metadata": {
        "id": "0dWmvq4dBJsD",
        "colab": {
          "base_uri": "https://localhost:8080/"
        },
        "outputId": "4b5eb6ac-bffa-406e-d26f-9b6e4b90a9f0"
      },
      "source": [
        "# My first program\n",
        "seconds_in_a_day = 24 * 60 * 60\n",
        "print(seconds_in_a_day)"
      ],
      "execution_count": null,
      "outputs": [
        {
          "output_type": "stream",
          "name": "stdout",
          "text": [
            "86400\n"
          ]
        }
      ]
    },
    {
      "cell_type": "markdown",
      "metadata": {
        "id": "NKxAGG3NBfqB"
      },
      "source": [
        "También encontrarás celdas vacías donde podrás probar tu código para ver los resultados, es importante usarlas ya que la mejor forma de aprender a programar es programando. Aparecerán con un comentario con la palabra reservada `TODO`."
      ]
    },
    {
      "cell_type": "markdown",
      "metadata": {
        "id": "teBbA2TRTWLY"
      },
      "source": [
        "### Ejercicio\n"
      ]
    },
    {
      "cell_type": "markdown",
      "metadata": {
        "id": "gC_q3xS40pGf"
      },
      "source": [
        "Escribe un script que enseñe los minutos que hay en un día"
      ]
    },
    {
      "cell_type": "code",
      "metadata": {
        "id": "Rrqirr3nBuWQ"
      },
      "source": [
        "# TODO Write a program to display minutes in a day\n",
        "minutes = 24 * 60\n",
        "print(minutes)"
      ],
      "execution_count": null,
      "outputs": []
    },
    {
      "cell_type": "markdown",
      "metadata": {
        "id": "j8UTMbuKRjVs"
      },
      "source": [
        "#### Solución\n",
        "\n",
        "Haz click para ver el resultado"
      ]
    },
    {
      "cell_type": "code",
      "metadata": {
        "id": "laCQSC_JRokW"
      },
      "source": [
        "day = 1\n",
        "hours = 24\n",
        "minutes = 60\n",
        "minutes_in_day = day * hours * minutes\n",
        "print(minutes_in_day)\n",
        "\n",
        "#----------------------\n",
        "print(24 * 60 * 1)"
      ],
      "execution_count": null,
      "outputs": []
    },
    {
      "cell_type": "markdown",
      "source": [
        "#<img alt=\"Colaboratory logo\" height=\"45px\" src=\"https://anaconda.org/static/img/anaconda-symbol.svg\" align=\"left\" hspace=\"10px\" vspace=\"0px\"> <h1>Anaconda</h1>"
      ],
      "metadata": {
        "id": "VH_NvtME7lUu"
      }
    },
    {
      "cell_type": "markdown",
      "source": [
        "[Anaconda](https://www.anaconda.com/) es una plataforma enfocada a *Data Science* que permite gestionar **entornos virtuales**, **repositorios de python** y **herramientas de edición y visualización**.\n",
        "\n",
        "La instalación es muy sencilla, solo hay que acceder a la sección de [descargas individuales](https://www.anaconda.com/products/individual), elegir el sistema operativo y posteriormente ejecutar el programa.\n",
        "\n",
        "Para una explicación más detallada de la instalación de Anaconda podéis acudir a la [guía oficial](https://docs.anaconda.com/anaconda/install/)\n",
        "\n"
      ],
      "metadata": {
        "id": "afKNvHwA8lh6"
      }
    },
    {
      "cell_type": "markdown",
      "source": [
        "## Uso\n",
        "\n",
        "El uso principal que vamos a darle es la ejecución de [cuadernos de Jupyter](https://jupyter.org/), para ello, es tan sencillo como pulsar el botón de \"Ejecutar\" dentro del panel inicial.\n",
        "\n",
        "![Anaconda](https://user-images.githubusercontent.com/16117276/149234834-9f906a18-6bff-4fde-b940-dfbea7accd3f.png)"
      ],
      "metadata": {
        "id": "ELjs0rpsrE_k"
      }
    },
    {
      "cell_type": "markdown",
      "source": [
        "## Cuaderno Jupyter\n",
        "\n",
        "Los *Jupyter notebooks* son documentos que combinan código ejecutable con texto en formato *Markdown*, ecuaciones *(LaTeX)*, imágenes, visualizaciones interactivas y otros formatos interactivos.\n",
        "\n",
        "Estos entornos permiten ejecutar código Python en nuestro navegador e intercalar información, muy útil en el mundo del data Science."
      ],
      "metadata": {
        "id": "bVdm5h0lsUc-"
      }
    },
    {
      "cell_type": "markdown",
      "source": [
        "## Puesta en marcha\n",
        "\n",
        "Al descargar Anaconda, vamos a tener un **Entorno** creado por defecto llamado `base (root)`.\n",
        "\n",
        "En este enrorno podremos configurar y manejar las diferentes dependencias que podamos utilizar en nuestras aplicaciones.\n",
        "\n",
        "Para crear un nuevo entorno solo tendremos que pulsar el boton **create** y elegir la versión de Python en la que estará basada."
      ],
      "metadata": {
        "id": "rYX4Xhh2SKr0"
      }
    },
    {
      "cell_type": "markdown",
      "source": [
        "## Cargar un cuaderno\n",
        "\n",
        "Jupyter maneja ficheros con el formato `.ipynb`. Podemos encontrar un ejemplo en la sección del curso: \n",
        "\n",
        "**Recursos obligatorios -> Semana 2 -> Jupyter Notebooks de soporte -> Ejemplo de Regresión Lineal - Jupyter Notebook**\n",
        "\n",
        "Una vez descargado, para cargar el cuaderno:\n",
        "\n",
        "\n",
        "\n",
        "1.   Dentro de Anaconda, lanzamos Jupyter Notebook.\n",
        "2.   Ahora dentro del navegador tendremos una instancia de Jupyter en la que navegar nuestro directorio.\n",
        "3.   Dirígete a la carpeta donde hayas descargado el fichero anterior\n",
        "4.   Haz click el fichero para lanzar una nueva instancia de Jupyter.\n",
        "\n",
        "Ahora, podremos usarlo de manera similar a lo que hemos visto en Google Colab.\n",
        "\n"
      ],
      "metadata": {
        "id": "yqYisK9OS_Ij"
      }
    },
    {
      "cell_type": "markdown",
      "metadata": {
        "id": "nYO_N-yJsSaG"
      },
      "source": [
        "# Máquinas Virtuales"
      ]
    },
    {
      "cell_type": "markdown",
      "metadata": {
        "id": "YgaAsaymztLF"
      },
      "source": [
        "## Instalación"
      ]
    },
    {
      "cell_type": "markdown",
      "metadata": {
        "id": "O8srqaS2k1HU"
      },
      "source": [
        "Ejemplo de Máquina Virtual con Parallels Desktop:\n",
        "\n",
        "![Python Terminal](https://user-images.githubusercontent.com/16117276/149233714-fcb42a3d-a8f2-40d0-86e3-78e49d13b8f0.png)"
      ]
    },
    {
      "cell_type": "markdown",
      "metadata": {
        "id": "cb_qMvSczyGc"
      },
      "source": [
        "**Máquinas Virtuales**\n",
        "\n",
        "Estos son los clientes para máquinas virtuales más famosos, algunos son exclusivos de un sistema operativo determinado, el más elemental y extendido es Virtualbox pero hay otros contenidentes muy interesantes:\n",
        "\n",
        "\n",
        "\n",
        "*   [Virtual Box](https://www.virtualbox.org/) - Más extendido y robusto, pero interfaz muy antigua y poco amigable\n",
        "*   [VMware Workstation](https://www.vmware.com/products/workstation-player/workstation-player-evaluation.html) - Alternativa muy popular a Virtual Box para Linux y Windows\n",
        "*   [VMware Fusion](https://www.vmware.com/products/fusion.html) - Versión de VMware para macOS\n",
        "*   [Parallels Desktop](https://www.parallels.com/eu/products/desktop/) - Solo macOS, muy optimizado\n",
        "*   [QEMU](https://www.qemu.org/) - Proyecto Open Source para virtualizar\n",
        "\n"
      ]
    },
    {
      "cell_type": "markdown",
      "metadata": {
        "id": "CkQOI6lx1jIy"
      },
      "source": [
        "**Contenedores**\n",
        "\n",
        "\n",
        "\n",
        "*   [Docker CE](https://docs.docker.com/install/) - Docker CE es la versión gratuita que cubre todas las necesidades indivuales sobre un contenedor.\n",
        "*   [Docker Compose](https://docs.docker.com/compose/install/) - Docker Compose es una herramienta para definir y orquestar la ejecución de múltiples aplicaciones Docker.\n",
        "*   [Kubernetes](https://kubernetes.io) - Kubernetes es un sistema que permite definir y orquestar la ejecución de múltiples contenedores (similar, pero con diferencias entre Docker Swarm).\n"
      ]
    },
    {
      "cell_type": "markdown",
      "metadata": {
        "id": "EpuckV0GBDDC"
      },
      "source": [
        "# Python dentro del flujo de desarrollo"
      ]
    },
    {
      "cell_type": "markdown",
      "metadata": {
        "id": "XTsELXQOanY4"
      },
      "source": [
        "Hasta ahora hemos estado usando Python en un [Jupyter Notebook](https://jupyter.org/) online que permitía ejecutar una consola de Python, pero en el día a día este no suele ser el flujo normal de trabajo.\n",
        "\n",
        "Aunque Colaboratory se ha convertido en una herramienta muy popular para el aprendizaje en Machine Learning normalmente los modelos que clasifiquemos, entrenemos y modifiquemos hiperparámetros se alojarán en nuestra propia máquina o en un servidor remoto."
      ]
    },
    {
      "cell_type": "markdown",
      "metadata": {
        "id": "MS4v1_pSbW8J"
      },
      "source": [
        "Por ello es importante  conocer como funciona Python, donde se aloja en una máquina y que pasos son necesarios para instalarlo en nuestro ordenador.\n",
        "\n",
        "Veremos la instalación en los 3 sistemas operativos más importantes: Windos, Ubuntu (Linux) y macOS para tener una amplia gama de dispositivos a la que podamos instalar este lenguaje de programación."
      ]
    },
    {
      "cell_type": "markdown",
      "metadata": {
        "id": "7lVKI_J5Lg49"
      },
      "source": [
        "## Instalación de Python"
      ]
    },
    {
      "cell_type": "markdown",
      "metadata": {
        "id": "iSxp2un5d5p-"
      },
      "source": [
        "Lo primero y más importante, hay que comprobar si ya está instalado pyhton y qué versión tiene nuestra máquina, para ello tenemos que abrir una terminal y escribir el siguiente comando:\n",
        "\n",
        "```\n",
        "> python\n",
        "```\n",
        "\n",
        "En una máquina con Python nos aparecerá el siguiente mensaje:\n",
        "\n",
        "![Python 3 Terminal](https://user-images.githubusercontent.com/16117276/149234158-8fc98fc3-6059-437c-a1a7-bce3dcb1f067.png)\n",
        "\n",
        "\n",
        "\n"
      ]
    },
    {
      "cell_type": "markdown",
      "metadata": {
        "id": "2pAQ71TNfqLX"
      },
      "source": [
        "¿Véis algo raro?. Eso es porque en esta máquina está instalado Python 2 y Python 3 conjuntamente. Cuando ocurre esto, la forma de llamar al interprete de Python 3 sería a través del comando:\n",
        "\n",
        "\n",
        "```\n",
        "> python3\n",
        "```\n",
        "\n",
        "Así al introducirlo en nuestra terminal daría el siguiente resultado:\n",
        "\n",
        "![Python 3 Terminal](https://user-images.githubusercontent.com/16117276/149234019-1345dc60-1a64-454b-93f7-1033c576d713.png)\n",
        "\n",
        "\n",
        "\n",
        "Para comprovar la versión de python solo hay que ejecutar:\n",
        "\n",
        "\n",
        "\n",
        "```\n",
        "> python --version\n",
        "\n",
        "> python3 --version\n",
        "```\n",
        "\n",
        "\n",
        "\n"
      ]
    },
    {
      "cell_type": "markdown",
      "metadata": {
        "id": "YU5rcgePuoXS"
      },
      "source": [
        "Mantener Python en una máquina puede ser complejo, es fácil si no se tiene los conocimientos necesarios acabar teniendo múltiples binarios de Python instalados y no saber como gestionarlo como puede mostrar esta imagen.\n",
        "\n",
        "![Python install](https://opensource.com/sites/default/files/uploads/python_environment_xkcd.png)\n",
        "\n",
        "Por lo tanto es esencial tener un conocimiento previo de como funciona la instalación de Python y la localización de los binarios y el interprete.\n",
        "\n",
        "\n"
      ]
    },
    {
      "cell_type": "markdown",
      "metadata": {
        "id": "omi0YJp7BF2H"
      },
      "source": [
        "### macOS"
      ]
    },
    {
      "cell_type": "markdown",
      "metadata": {
        "id": "KWbRG3CTgHVf"
      },
      "source": [
        "Por defecto Python 2 viene instalado en macOS, pero nos interesa tener la versión 3. Para ello vamos a hacer una instalación de esta versión en el sistema.\n",
        "\n",
        "Lo primero será instalar [Homebrew](https://brew.sh/#install) que como indica en su web te deja instalar las cosas que tu ordenador necesita y que Apple no te da. Para ello ejecutamos este comando:\n",
        "\n",
        "\n",
        "```\n",
        "> ruby -e \"$(curl -fsSL https://raw.githubusercontent.com/Homebrew/install/master/install)\"\n",
        "```\n",
        "\n",
        "Aparecerá un menú al que de vez en cuando habrá que pulas la tecla \"Enter\" y en unos minutos tendremos Hombrew instalado.\n",
        "\n",
        "![alt text](https://user-images.githubusercontent.com/16117276/149234248-e8a02c29-c933-4b8c-9f24-78ccc7caae8c.png)\n",
        "\n",
        "Una vez descargado hombrew solo habrá que installa python con el comando:\n",
        "\n",
        "\n",
        "\n",
        "```\n",
        "> brew install python\n",
        "```\n",
        "\n",
        "Y ahora tendremos las dos versiones en el sistema, invocando python tendremos Python 2 mientras que con python3 tendremos Python 3.\n",
        "\n",
        "\n",
        "Si queremos comprobar donde se encuentra instalado python solo tendremos que ejecutar estos comandos:\n",
        "\n",
        "\n",
        "\n",
        "```\n",
        "> cd /usr/local/bin\n",
        "> ls -la | grep python\n",
        "> which python\n",
        "```\n",
        "\n"
      ]
    },
    {
      "cell_type": "markdown",
      "metadata": {
        "id": "WDYgH8nCBH5Z"
      },
      "source": [
        "### Windows"
      ]
    },
    {
      "cell_type": "markdown",
      "metadata": {
        "id": "LX4YCMoJp2TL"
      },
      "source": [
        "Las versiones modernas de Windows tienen instalado al menos Python 2, para comprobar que versión del sistema tienes, ejecuta este código en el command prompt:\n",
        "\n",
        "\n",
        "\n",
        "```\n",
        "> python --version\n",
        "```\n",
        "\n",
        "\n",
        "Si no está instalado Python 3, podemos instalarlo de dos maneras diferentes:\n",
        "\n",
        "#### **Método actual**\n",
        "\n",
        "Actualmente es muy sencillo, vamos a dirigirnos a la **Store de Microsoft**, y desde allí vamos a descargar la última versión de Python.\n",
        "\n",
        "![Microsoft Store](https://user-images.githubusercontent.com/16117276/149308350-3a949446-973f-4874-80e1-f7b3dee9986a.png)\n",
        "\n",
        "Ahora podremos invocar *Python* con el código que aparece en la captura de pantalla de la instalación.\n",
        "\n",
        "```bash\n",
        "> C:\\Users\\youruser>python3.9\n",
        "```\n",
        "\n",
        "Si queremos saber **donde se ha instalado python** podemos ejecutar el siguiente commando:\n",
        "\n",
        "```bash\n",
        "> C:\\Users\\youruser>where python\n",
        "> C:\\Users\\youruser\\AppData\\Local\\Microsoft\\WindowsApps\\python.exe\n",
        "```\n",
        "\n",
        "#### **Método clásico**\n",
        "\n",
        "Procederemos a instalarlo desde el binario descargado en la página [web principal](https://www.python.org/downloads/).\n",
        "\n",
        "De ahí podremos elegir la opción de descargar la versión ejecutable de Windows.\n",
        "\n",
        "Procedemos a su instalación, que dejará el binario en esta ruta:\n",
        "\n",
        "\n",
        "\n",
        "```bash\n",
        "C:\\Users\\{name}\\AppData\\Local\\Programs\\Python\\Python37\n",
        "```\n",
        "\n",
        "\n",
        "Para verificar la instalación, ejecuta el archivo *python* de esa carpeta. Debería arrancarse una consola con el interprete interactivo de Python 3.X \n",
        "\n",
        "Ahora habrá que añadir a la variable PATH las siguientes url si no lo ha hecho el instalador, para ello hay que irse a **Propiedades del Sistema > Avanzado > Variables de Entorno..**\n",
        "\n",
        "\n",
        "\n",
        "```bash\n",
        "> C:\\Users\\{user}\\AppData\\Local\\Programs\\Python\\Python37\\Scripts\\\n",
        "> C:\\Users\\{user}\\AppData\\Local\\Programs\\Python\\Python37\\\n",
        "```\n",
        "\n",
        "Una vez terminado, si ejecutamos lo siguiente tendremos el interprete Python:\n",
        "\n",
        "\n",
        "\n",
        "```bash\n",
        "> py -3\n",
        "```\n",
        "\n",
        "\n",
        "\n"
      ]
    },
    {
      "cell_type": "markdown",
      "metadata": {
        "id": "rn8OXSgTBJyq"
      },
      "source": [
        "### Linux"
      ]
    },
    {
      "cell_type": "markdown",
      "metadata": {
        "id": "96OlatV7n5u6"
      },
      "source": [
        "En las distribuciones más modernas e importantes ya vienen también con python 3.X instalado, así que como en los otros sistemas primero comprueba si ya tienes Python en el sistema con el comando:\n",
        "\n",
        "\n",
        "```\n",
        "> python3 -V\n",
        "```\n",
        "\n",
        "![python ubuntu](https://user-images.githubusercontent.com/16117276/149312174-146c593e-6688-4796-8aeb-5617bd0047c5.png)\n",
        "\n",
        "Si no, instalarlo es tan sencillo (al menos en distribuciones como ubuntu) como ejecutar estos dos comandos en la terminal:\n",
        "\n",
        "\n",
        "\n",
        "```\n",
        "> sudo apt-get update\n",
        "> sudo apt-get install python3.x #change x with the version\n",
        "```\n",
        "\n",
        "Pero, ¿como es posible que al poner python3 ejecute el binario?. Esto es porque en las ultimas versiones de ubuntu el bash apunta a la carpeta bin del usuario (/usr/bin), si ejecutamos los siguientes comandos podemos ver los links a los binarios:\n",
        "\n",
        "\n",
        "\n",
        "```\n",
        "> cd /usr/bin\n",
        "> ls -la | grep python\n",
        "```\n",
        "\n",
        "\n"
      ]
    },
    {
      "cell_type": "markdown",
      "metadata": {
        "id": "TQFtpUFJBL9Y"
      },
      "source": [
        "## Variables de entorno"
      ]
    },
    {
      "cell_type": "markdown",
      "metadata": {
        "id": "11hLh0hHCFqr"
      },
      "source": [
        "Los archivos ejecutables de Python pueden estar en diversor directorios, por lo que los Sistemas Oprativos tienen un método para localizarlos. Mediante **variables de entorno** podemos localizar donde se instalan estos binarios y declarar los alias que querremos para invocarlos.\n",
        "\n",
        "En el caso de Linux y macOS la variable de entorno que recoge estos binarios es **PATH**. En el caso de Windows podremos consultarla dentro del panel *Propiedades del Sistema > Avanzado > Variables de Entorno*, mientras que en linux ejecutando en una terminal el comando *echo $PATH*.\n",
        "\n"
      ]
    },
    {
      "cell_type": "markdown",
      "metadata": {
        "id": "IJPsSd4cLvrB"
      },
      "source": [
        "## Interprete Interactivo Python"
      ]
    },
    {
      "cell_type": "markdown",
      "metadata": {
        "id": "RUt6WuloXTyf"
      },
      "source": [
        "Hay dos formas de invocar al interprete de Python, a través del **interprete interactivo** o ejecutando un script desde la linea de comandos. Estas ejecuciones corresponden con las opciones del interprete:\n",
        "\n",
        "\n",
        "\n",
        "```\n",
        "python [-bBdEhiIOqsSuvVWx?] [-c command | -m module-name | script | - ] [args]\n",
        "```\n",
        "\n",
        "\n",
        "\n",
        "El primero de ellos lo hemos comentado, solo hay que ejecutar el comando *python* en nuestra linea de comandos para abrir un interprete interactivo. Además de esto tenemos una serie de flags que podremos añadir a nuestro interprete.\n",
        "\n",
        "\n",
        "\n",
        "*   **-d** -> Proporciona una salida en modo debug\n",
        "*   **-O** -> Genera bytecode optimizado (resultando en ficheros .pyo)\n",
        "*   **-B** -> Si se pasa este flag Python no escribirá ficheros *.pyc* en los módulos\n",
        "*   **-E** -> Ignora todas las variables de entorno PYTHON*\n",
        "*   **-i** -> Modo interactivo después de la ejecución de un módulo.\n",
        "*   **-q** -> No enseña el copyright y mensajes de versión.\n",
        "*   **-W** -> Control de warnings\n",
        "\n",
        "La segunda forma de ejecutar código sería mediante un script, tan solo habría que escribir un fichero con extensión *.py* y ejecutarlo con la llamada:\n",
        "\n",
        "\n",
        "\n",
        "```\n",
        "> python file.py\n",
        "```\n",
        "\n",
        "\n",
        "\n",
        "\n",
        "\n",
        "\n"
      ]
    },
    {
      "cell_type": "markdown",
      "metadata": {
        "id": "jd-fpptuLysW"
      },
      "source": [
        "## IDEs"
      ]
    },
    {
      "cell_type": "markdown",
      "metadata": {
        "id": "n7siH76Lw2QU"
      },
      "source": [
        "IDE es el acrónimo de *Integrated Development Environment* o Entorno de Desarrollo Integrado. La verdad es que se puede programar Python directamente desde la terminal con editores de texto como *nano* o *vim*. O utilizar editores del sistema como Notepad para windows.\n",
        "\n",
        "La razón principal de usar un IDE es que están orientados específicamente al desarrollo, por lo que puede mejorar la productividad del desarrollador, incorporar plugins y herramientas que mejoren el proceso de trabajo como autocompletados, linter para errores y extensiones para múltiples acciones como dar formato al código o visualizarlo de una forma más sencilla, con ello, voy a poner varios de los IDEs más famosos actualmente:\n",
        "\n",
        "*   [Visual Studio Code](https://code.visualstudio.com/)\n",
        "*   [Atom](https://atom.io/)\n",
        "*   [Pycharm](https://www.jetbrains.com/pycharm/)\n",
        "*   [Jupyter Notebook](https://jupyter.org/)\n",
        "\n"
      ]
    },
    {
      "cell_type": "markdown",
      "metadata": {
        "id": "E0EyqYFI6LUW"
      },
      "source": [
        "#Python\n",
        "\n",
        "\n"
      ]
    },
    {
      "cell_type": "markdown",
      "metadata": {
        "id": "UO9RdcCjChdE"
      },
      "source": [
        "**Python** es un lenguaje de propósito general, interpretado, interactivo, orientado objetos y de alto nivel. Fue creado por Guido van Rossmun entre 1985 y 1990. Está amparado dentro de la GNU General Public License (GPL). Y fue llamado así por los Monty Python (no por la serpiente pitón).\n",
        "\n",
        "\n"
      ]
    },
    {
      "cell_type": "markdown",
      "metadata": {
        "id": "iTIOHa3kCjRF"
      },
      "source": [
        "Es importante explicar que un lenguaje de programación es un lenguaje formal que proporciona una serie de instrucciones que permiten a un progrmador escribir secuencias de órdenes y algoritmos a modo de controlar el comportamiento lógico de una computadora.\n"
      ]
    },
    {
      "cell_type": "markdown",
      "metadata": {
        "id": "TisoXFUIC-Gk"
      },
      "source": [
        "Python se ha hecho muy popular debido a su sintaxis clara, la facilidad como lenguaje para crear *scripts* y la cantidad de librerías populares que permiten solventar casi cualquier problema con el que el programador se enfrente. Por ello es el lenguaje de preferencia para el análisis de datos (pese a que la mayoría de librerías se creen en *C* para estar muy optimizadas y luego se abstraigan con *Python*)"
      ]
    },
    {
      "cell_type": "markdown",
      "metadata": {
        "id": "baEM63WoMdAy"
      },
      "source": [
        "Otra de las ventajas de *Python* es que se encuentra presente en Windows, macOS y la mayoría de distribuciones de Linux. Para poder utilizar este lenguaje es necesario primero hacer una instalación previa, pero como hemos comentado previamente, al utilizar un *Jupiter Notebook* podremos ejecutar aquí código sin necesidad de esa configuración."
      ]
    },
    {
      "cell_type": "markdown",
      "metadata": {
        "id": "LlvZg3mu6Ww3"
      },
      "source": [
        "## Mi primer programa\n",
        "\n"
      ]
    },
    {
      "cell_type": "markdown",
      "metadata": {
        "id": "gkOJENdPzF_X"
      },
      "source": [
        "### Hola Mundo"
      ]
    },
    {
      "cell_type": "markdown",
      "metadata": {
        "id": "DwRgis8eNEmv"
      },
      "source": [
        "Python tiene muchas similaridades a otros lenguajes como Perl, C o Java. Pese a ello hay unas cuentas diferencias esenciales que le hacen únicos.\n",
        "Al ser un lenguaje *Interpretado* no hará falta compilarlo antes de ejecutarlo, así evitamos cualquier declaración previa y podemos crear programas de una sola línea de código."
      ]
    },
    {
      "cell_type": "code",
      "metadata": {
        "id": "Lw9zfB076cUC",
        "colab": {
          "base_uri": "https://localhost:8080/"
        },
        "outputId": "f32aed1f-c2c1-4746-a370-d06428a35169"
      },
      "source": [
        "# First program\n",
        "print(\"Hello World\")"
      ],
      "execution_count": null,
      "outputs": [
        {
          "output_type": "stream",
          "name": "stdout",
          "text": [
            "Hello World\n"
          ]
        }
      ]
    },
    {
      "cell_type": "markdown",
      "metadata": {
        "id": "D2PAKIyG61Qw"
      },
      "source": [
        "Aquí podemos ver nuestro primer programa en Python. Tan sencillo como escribir una línea de código para que se imprima en pantalla el mensaje que queramos. Al ser un lenguaje interpretado, permite realizar la traducción del lenguaje al código de máquina a medida que sea necesario, típicamente instrucción por instrucción, por lo que permite ejecutarse casi inmediatamente.\n",
        "Ahora te toca a ti, modifica el programa para que diga \"Hola, soy [tu nombre]\""
      ]
    },
    {
      "cell_type": "markdown",
      "metadata": {
        "id": "EVFnKy4gTeVb"
      },
      "source": [
        "### Ejercicio"
      ]
    },
    {
      "cell_type": "markdown",
      "metadata": {
        "id": "hR7PiQKR013Q"
      },
      "source": [
        "Escribe un script que asigne a una variable tu nombre para mostrarla en pantalla con una frase"
      ]
    },
    {
      "cell_type": "code",
      "metadata": {
        "id": "HrDXbFTnOKtU"
      },
      "source": [
        "# TODO First program that holds a variable with your name and displays it with a sentence"
      ],
      "execution_count": null,
      "outputs": []
    },
    {
      "cell_type": "markdown",
      "metadata": {
        "id": "Na9Sa6mpSVoq"
      },
      "source": [
        "#### Solución\n",
        "\n",
        "Haz click para ver el resultado"
      ]
    },
    {
      "cell_type": "code",
      "metadata": {
        "id": "uW9-Qbh9SVor"
      },
      "source": [
        "name = \"Lucas Fernandez\"\n",
        "print(\"Hello, my name is \" + name)\n",
        "print(f\"Hello, my name is {name}\")\n",
        "print(\"Hello, my name is {0}\".format(name))"
      ],
      "execution_count": null,
      "outputs": []
    },
    {
      "cell_type": "markdown",
      "metadata": {
        "id": "bk-xodhSKU12"
      },
      "source": [
        "# Análisis léxico"
      ]
    },
    {
      "cell_type": "markdown",
      "metadata": {
        "id": "KA-Nedxqy7KC"
      },
      "source": [
        "## Identificadores\n",
        "\n"
      ]
    },
    {
      "cell_type": "markdown",
      "metadata": {
        "id": "e4tN92RCOV2g"
      },
      "source": [
        "Los identificadores son nombres usados para identificar una variable, función, clase, módulo u otro objeto. Los identificadores pueden empezar con letras (A-Za-z), números (0-9) o una barra baja (_).\n",
        "\n",
        "Python es un lenguaje que distingue entre mayúsculas y minúsculas, por lo que **Variable** y **variable** son dos identificadores diferentes en *Python*.\n",
        "\n",
        "Hay una serie de convenciones para los identificadores en *Python*:\n",
        "\n",
        "\n",
        "*   Nombres de Clases empiezan en mayúsuclas. Los demás identificadores comienzan con minúsuclas\n",
        "*   Python usa snake case name_surname\n",
        "*   Empezar un identificador con una barra baja (_variable) siginifica que el identificador es privado\n",
        "*   Empezar con dos barras bajas (__variable) indica un identificador privado con fuerte referencia\n",
        "*   Si el identificador termina encima con otras dos barras bajas (\\__variable__) significa que es un [magic method](https://rszalski.github.io/magicmethods/)\n",
        "\n",
        "\n",
        "\n"
      ]
    },
    {
      "cell_type": "markdown",
      "source": [
        "**Machine learning**\n",
        "\n",
        "Vamos a ver algunos conceptos de ML como ejemplos de identificadores:\n",
        "\n",
        "* **[Features](https://developers.google.com/machine-learning/glossary/#feature)** -> La entrada o dato que vamos a introducir en nuestro modelo para generar una respuesta.\n",
        "* **[Label](https://developers.google.com/machine-learning/glossary/#label)** -> La predicción del modelo que vamos a entrenar.\n",
        "* **[Example](https://developers.google.com/machine-learning/glossary/#example)** -> El conjuto de feature y label, puede estar etiquetado si tiene label o no."
      ],
      "metadata": {
        "id": "OFMCs3-t9V2v"
      }
    },
    {
      "cell_type": "code",
      "metadata": {
        "id": "hdpGs26rSzz8",
        "colab": {
          "base_uri": "https://localhost:8080/"
        },
        "outputId": "fd461f12-90f7-4e66-8165-5cb337f49e3e"
      },
      "source": [
        "# Identifiers\n",
        "\n",
        "feature_1 = \"San Francisco\"\n",
        "label_1 = 1000000\n",
        "wrongFormedLabel = 10\n",
        "_private_example = [\"San Francisco\", 10000]\n",
        "\n",
        "if __name__ == \"__main__\":\n",
        "  print(\"This is a magic method\")"
      ],
      "execution_count": null,
      "outputs": [
        {
          "output_type": "stream",
          "name": "stdout",
          "text": [
            "This is a magic method\n"
          ]
        }
      ]
    },
    {
      "cell_type": "markdown",
      "metadata": {
        "id": "-1jp6SKqy-iI"
      },
      "source": [
        "## Palabras reservadas\n",
        "\n"
      ]
    },
    {
      "cell_type": "markdown",
      "metadata": {
        "id": "yokx8PsJQBxK"
      },
      "source": [
        "Hay una serie de palabras reservadas por el interprete que no deben ser asignadas como variables ya que crearían conflictos. Todas estas palabras reservadas son en minúsculas y tienen una función específica dentro del lenguaje.\n",
        "\n",
        "\n",
        "![resrved words](https://3.bp.blogspot.com/-Zc1r5281sZ8/Wj3OQD1NDZI/AAAAAAAAV1Q/VlfCsd2En3I6-oGbKSCbVH3Ze0rLZwY0wCLcBGAs/s640/reserve_words.png)"
      ]
    },
    {
      "cell_type": "markdown",
      "metadata": {
        "id": "oKa39rYQy_vd"
      },
      "source": [
        "## Lineas e identación\n"
      ]
    },
    {
      "cell_type": "markdown",
      "metadata": {
        "id": "4RM0zgUFQ6LK"
      },
      "source": [
        "Python no utiliza corchetes ({}) para indicar bloques de código dentro de las clases y funciones o control de flujo. En este lenguaje se utiliza la identación para indicar bloques, y se aplica sin ningún tipo de excepción.\n",
        "\n",
        "El número de  espacios puede variar dependiendo del intérprete (se suele elegir 2 o 4) pero una vez elegido debe respetarse, por ello este ejemplo no produce ningún error:"
      ]
    },
    {
      "cell_type": "code",
      "metadata": {
        "id": "m7jHD_aqSPhI"
      },
      "source": [
        "if True:\n",
        "  print(\"Success\")\n",
        "else:\n",
        "  print(\"Failed\")\n"
      ],
      "execution_count": null,
      "outputs": []
    },
    {
      "cell_type": "markdown",
      "metadata": {
        "id": "DalLo6PYSVjt"
      },
      "source": [
        "Mientras que si se cambian los espacios se producirá un error, como indicará el intérprete en este trozo de código:"
      ]
    },
    {
      "cell_type": "code",
      "metadata": {
        "id": "G0C-3EJ0SdUr"
      },
      "source": [
        "if True:\n",
        "print(\"Sucess\")\n",
        "else:\n",
        "  print(\"Failed\")"
      ],
      "execution_count": null,
      "outputs": []
    },
    {
      "cell_type": "markdown",
      "metadata": {
        "id": "CvvtoTAXSo03"
      },
      "source": [
        "No es necesario que entiendas la lógica del programa en este momento, solo la importancia de la identación y como puede variar. Hay excepciones que se pueden aplicar.\n",
        "\n",
        "Por mejorar la legibilidad del código se permite utilizar el carácter de continuación de linea (\\\\) para encadenar una misma linea: "
      ]
    },
    {
      "cell_type": "code",
      "metadata": {
        "id": "7o8pMygTTFOd"
      },
      "source": [
        "total = 1 + \\\n",
        "  2 + \\\n",
        "  3\n",
        "print(total)"
      ],
      "execution_count": null,
      "outputs": []
    },
    {
      "cell_type": "markdown",
      "metadata": {
        "id": "ux7Fx1y1TO46"
      },
      "source": [
        "Además, hay algunos elementos como listas o diccionarios que pueden partirse sin necesidad de este caracter especial:"
      ]
    },
    {
      "cell_type": "code",
      "metadata": {
        "id": "9LgHkYoWTVzl"
      },
      "source": [
        "days_week = ['Monday', 'Tuesday', \n",
        "             'Wednesday', 'Thursday', 'Friday']"
      ],
      "execution_count": null,
      "outputs": []
    },
    {
      "cell_type": "markdown",
      "metadata": {
        "id": "cLxlHPVtzBD2"
      },
      "source": [
        "## **Comentarios**"
      ]
    },
    {
      "cell_type": "markdown",
      "metadata": {
        "id": "DwxGP42iTfDI"
      },
      "source": [
        "El símbolo de la almohadilla (#) representa un comentario en Python, toda cadena que precede a este símbolo en una misma linea es considerado un comentario en Python y es tratado así por el interprete."
      ]
    },
    {
      "cell_type": "code",
      "metadata": {
        "id": "apNwLm3RUCLv"
      },
      "source": [
        "# This is a comment\n",
        "\n",
        "test = \"string\" # You can place a comment after a line of code\n",
        "\n",
        "# You can also concatenate multiple lines\n",
        "# of comments like this\n",
        "\n"
      ],
      "execution_count": null,
      "outputs": []
    },
    {
      "cell_type": "markdown",
      "metadata": {
        "id": "nJiRq3viUTbt"
      },
      "source": [
        "Además de esto, *Python* tiene reservado las triples comillas (''') para interpretarlo como un comentario de un número indefinido de lineas"
      ]
    },
    {
      "cell_type": "code",
      "metadata": {
        "id": "W5D-3ie6Ucgp"
      },
      "source": [
        "'''\n",
        "This is a multiline comment\n",
        "You can write multiple statements between the quotes\n",
        "\n",
        "\n",
        "And leave spaces and special characters\n",
        "'''\n"
      ],
      "execution_count": null,
      "outputs": []
    },
    {
      "cell_type": "markdown",
      "metadata": {
        "id": "HDHojXQj7Ey1"
      },
      "source": [
        "# Variables y Tipos\n"
      ]
    },
    {
      "cell_type": "markdown",
      "metadata": {
        "id": "SLNLqX7qVHFl"
      },
      "source": [
        "Una variable es un espacio de memoria reservado dentro de una computadora para almacenar valores. Significa que cada vez que creas una variable estás reservando un poco de espacio en una zona específica de la memoria.\n",
        "\n",
        "Dependiendo del tipo de dato, el interprete reserva determinadas zonas de memoria, dependiendo la longitud del tipo que se declara."
      ]
    },
    {
      "cell_type": "markdown",
      "metadata": {
        "id": "h-RPP-XnxH-m"
      },
      "source": [
        "Las variables en *Python* no necesitan ser declaradas para reservar memoria. Esta declaración ocurre automáticamente cuando se asigna un valor a una variable.\n",
        "\n",
        "El simbolo *igual* (=) se utiliza para asignar valores a variables, siendo el item de la izquierda el nombre de la variable y el item de la derecha el valor que se va a asignar.\n"
      ]
    },
    {
      "cell_type": "markdown",
      "source": [
        "**Machine Learning**\n",
        "\n",
        "Podemos indicar la [función de perdida](https://developers.google.com/machine-learning/glossary/#loss) como un string dentro de nuestro modelo, veremos en un futuro como declaralo\n"
      ],
      "metadata": {
        "id": "rT25AJor-_Yf"
      }
    },
    {
      "cell_type": "code",
      "metadata": {
        "id": "xX0keeZb86ox",
        "colab": {
          "base_uri": "https://localhost:8080/"
        },
        "outputId": "05dccff6-f89e-4621-f91c-79adb1874f1d"
      },
      "source": [
        "# Variable asignment\n",
        "l0_weight = 100\n",
        "loss='mean_squared_error'\n",
        "pi_list = [10, 20, 30]\n",
        "\n",
        "# Output variables\n",
        "print(l0_weight)\n",
        "print(loss)\n",
        "print(pi_list)"
      ],
      "execution_count": null,
      "outputs": [
        {
          "output_type": "stream",
          "name": "stdout",
          "text": [
            "100\n",
            "mean_squared_error\n",
            "[10, 20, 30]\n"
          ]
        }
      ]
    },
    {
      "cell_type": "markdown",
      "metadata": {
        "id": "B3cxR0XXTnu4"
      },
      "source": [
        "### Ejercicio\n"
      ]
    },
    {
      "cell_type": "markdown",
      "metadata": {
        "id": "HSGi7r4z16f2"
      },
      "source": [
        "Escribe una variable pública y otra privada según el convenio seguido en Python. Imprime ambos resultados por pantalla."
      ]
    },
    {
      "cell_type": "code",
      "metadata": {
        "id": "MntQKIgbTnu5"
      },
      "source": [
        "# TODO Write one public variable and one private variable and display both"
      ],
      "execution_count": null,
      "outputs": []
    },
    {
      "cell_type": "markdown",
      "metadata": {
        "id": "1-l6bivNTnu6"
      },
      "source": [
        "#### Solución\n",
        "\n",
        "Haz click para ver el resultado"
      ]
    },
    {
      "cell_type": "code",
      "metadata": {
        "id": "DsEFDgisTnu7"
      },
      "source": [
        "public_variable = 40\n",
        "_private_variable = \"secret\"\n",
        "print(public_variable)\n",
        "print(_private_variable)"
      ],
      "execution_count": null,
      "outputs": []
    },
    {
      "cell_type": "markdown",
      "metadata": {
        "id": "JhAa5Ikc8ccd"
      },
      "source": [
        "## Números"
      ]
    },
    {
      "cell_type": "markdown",
      "metadata": {
        "id": "0Ra_zkiRyLtv"
      },
      "source": [
        "El primer tipo de dato en *Python* que vamos a ver son números. Los números son objetos creados cuando asignas un valor numérico a una variable.\n",
        "\n",
        "*Python* soporta tres tipos de números:\n",
        "\n",
        "\n",
        "*   int: Enteros con signo (Python 3 aúna int y long)\n",
        "*   float: Números reales con coma flotante\n",
        "*   complex: Números complejos\n"
      ]
    },
    {
      "cell_type": "code",
      "metadata": {
        "id": "4P8uPS_H8fYA"
      },
      "source": [
        "# Number examples\n",
        "\n",
        "# Integer\n",
        "int_number = 10\n",
        "int_number_2 = -400\n",
        "int_number_3 = 0x69\n",
        "int_number_4 = -0x259\n",
        "\n",
        "# Float\n",
        "float_number = 12.40\n",
        "float_number_2 = -25.3\n",
        "float_number_3 = 45.2e18\n",
        "float_number_4 = 70.2E12\n",
        "\n",
        "# Complex\n",
        "complex_number = 3.14j\n",
        "complex_number_2 = 9.322e-36j\n"
      ],
      "execution_count": null,
      "outputs": []
    },
    {
      "cell_type": "markdown",
      "metadata": {
        "id": "VB1GGlM801iy"
      },
      "source": [
        "Algunas de las operaciones más importantes se pueden ver en su [documentación oficial](https://docs.python.org/3/library/stdtypes.html#numeric-types-int-float-complex)"
      ]
    },
    {
      "cell_type": "markdown",
      "metadata": {
        "id": "78vX2kGcUAVL"
      },
      "source": [
        "### Ejercicio\n"
      ]
    },
    {
      "cell_type": "markdown",
      "metadata": {
        "id": "McI5FY0e2HxS"
      },
      "source": [
        "Escribe algunas variables con enteros, con coma flotante y complejos. Convierte los números con coma flotante y complejos en entero e imprime por pantalla."
      ]
    },
    {
      "cell_type": "code",
      "metadata": {
        "id": "6KrCDEseUAVL"
      },
      "source": [
        "# TODO Write some variables with int, float and complex numbers and cast complex into integer"
      ],
      "execution_count": null,
      "outputs": []
    },
    {
      "cell_type": "markdown",
      "metadata": {
        "id": "Ep-9gSOPUAVM"
      },
      "source": [
        "#### Solución\n",
        "\n",
        "Haz click para ver el resultado"
      ]
    },
    {
      "cell_type": "code",
      "metadata": {
        "id": "9Sh7LqzUUAVN"
      },
      "source": [
        "int_number = 300\n",
        "float_number = 42.30\n",
        "complex_number = 9.322e-36j\n",
        "\n",
        "float_int_number = int(float_number)\n",
        "complex_int_number = int(complex_number.real)\n",
        "print(float_int_number)\n",
        "print(complex_int_number)"
      ],
      "execution_count": null,
      "outputs": []
    },
    {
      "cell_type": "markdown",
      "metadata": {
        "id": "GKMBIsIQ8jzm"
      },
      "source": [
        "## Cadenas\n",
        "\n"
      ]
    },
    {
      "cell_type": "markdown",
      "metadata": {
        "id": "pnlgUDGw0Fxk"
      },
      "source": [
        "Las cadenas en Python se definen como una concatenación de caracteres representados entre comillas. Dentro de *Python* se pueden usar comillas simples ( ' ) o dobles ( \" ) para representar cadenas."
      ]
    },
    {
      "cell_type": "code",
      "metadata": {
        "id": "LyqTQuJQ8l2F"
      },
      "source": [
        "# String examples\n",
        "name_person = 'Hello World'\n",
        "char = \"H\"\n",
        "str_2 = \"Hello World again\"\n",
        "\n",
        "print(char)\n",
        "print(str_2)\n",
        "print(name_person)"
      ],
      "execution_count": null,
      "outputs": []
    },
    {
      "cell_type": "markdown",
      "metadata": {
        "id": "_XAlx7INxYn3"
      },
      "source": [
        "Una diferencia importante con otros lenguajes de programación es que *Python*  es que no existe el tipo de *Caracter*, estos son tratados como *Cadenas* de longitud 1.\n",
        "\n",
        "Otra propiedad importante de las *Cadenas* en *Python* es que tienen una forma sencilla de acceder a cadenas más sencillas o sub-cadenas."
      ]
    },
    {
      "cell_type": "code",
      "metadata": {
        "id": "oGq47DOnyhfW",
        "colab": {
          "base_uri": "https://localhost:8080/"
        },
        "outputId": "a6bc33bc-6ef2-4682-c91b-01af9c5d4cad"
      },
      "source": [
        "# Substrings\n",
        "\n",
        "str1 = 'Hello World'\n",
        "str2 = 'Hello World again'\n",
        "\n",
        "print(str1[1]) # Prints first char\n",
        "print(str2[:6]) # Prints substring from second to sixth character"
      ],
      "execution_count": null,
      "outputs": [
        {
          "output_type": "stream",
          "name": "stdout",
          "text": [
            "e\n",
            "Hello \n"
          ]
        }
      ]
    },
    {
      "cell_type": "markdown",
      "metadata": {
        "id": "fylAKUtKzIAg"
      },
      "source": [
        "Hay una serie  de identificadores reservados que añaden función a las cadenas"
      ]
    },
    {
      "cell_type": "code",
      "metadata": {
        "id": "B7H7ECwEzdlR",
        "colab": {
          "base_uri": "https://localhost:8080/"
        },
        "outputId": "6fd20bd9-8662-498c-9ba1-0c9bfcef8aad"
      },
      "source": [
        "# Concatenation\n",
        "str_concat = \"Hola\" + \", que tal\"\n",
        "print(str_concat)\n",
        "\n",
        "# Repetition\n",
        "str_rep = str_concat * 2\n",
        "print(str_rep)\n",
        "\n",
        "# Slice\n",
        "str_one = str_concat[3]\n",
        "print(str_one)\n",
        "\n",
        "# Range Slice\n",
        "str_slice = str_concat[3:]\n",
        "print(str_slice)\n",
        "\n",
        "# Equality\n",
        "str_equal = \"Hola\" == str_concat\n",
        "print(str_equal)\n",
        "\n",
        "# Membership\n",
        "str_member = \"Hola\" in str_concat # return True or False\n",
        "print(str_member)\n",
        "\n",
        "# Negative Membership\n",
        "str_not_member = \"Hola\" not in str_concat # return True or False\n",
        "print(str_not_member)\n"
      ],
      "execution_count": null,
      "outputs": [
        {
          "output_type": "stream",
          "name": "stdout",
          "text": [
            "Hola, que tal\n",
            "Hola, que talHola, que tal\n",
            "a\n",
            "a, que tal\n",
            "False\n",
            "True\n",
            "False\n"
          ]
        }
      ]
    },
    {
      "cell_type": "markdown",
      "metadata": {
        "id": "_EKod0Ah1EIr"
      },
      "source": [
        "Es posible dar formato al texto de diferentes formas, algunas incorporadas en las últimas versiones de python."
      ]
    },
    {
      "cell_type": "code",
      "metadata": {
        "id": "AlHfOfiq1J8S"
      },
      "source": [
        "# First form interpolation\n",
        "interpolation1 = \"Hello world I'm %s and I'm %d years old\" % (\"Javier\", 32)\n",
        "print(interpolation1)\n",
        "\n",
        "# Second form interpolation\n",
        "interpolation2 = \"Hello world I'm {0} and I'm {1} years old\".format(\"Javier\", 32)\n",
        "print(interpolation2)\n",
        "\n",
        "# Third form interpolation (Python 3.6)\n",
        "name = \"Javier\"\n",
        "age = 32\n",
        "interpolation3 = f\"Hello world I'm {name} and I'm {age} years old\"\n",
        "print(interpolation3)"
      ],
      "execution_count": null,
      "outputs": []
    },
    {
      "cell_type": "markdown",
      "metadata": {
        "id": "FjMVV7rU3p4Q"
      },
      "source": [
        "Artículo sobre los distintos métodos de interpolación: \n",
        "\n",
        "https://realpython.com/python-f-strings/\n"
      ]
    },
    {
      "cell_type": "markdown",
      "metadata": {
        "id": "fqxkWXa46OsI"
      },
      "source": [
        "Dentro de las cadenas hay carácteres especiales para dar formato al texto;\n",
        "\n",
        "*   Caracter de escape:   ```\\```\n",
        "\n",
        "*   Comillas simples y comillas dobles:   ```\\' \\\"```\n",
        "\n",
        "*   Salto de linea:   ```\\n```\n",
        "\n",
        "*   Tabulación:   ```\\t```\n",
        "\n",
        "\n",
        "\n"
      ]
    },
    {
      "cell_type": "markdown",
      "metadata": {
        "id": "h0ly39bHW5P-"
      },
      "source": [
        "### Ejercicio\n"
      ]
    },
    {
      "cell_type": "markdown",
      "metadata": {
        "id": "var4hdJw2hm5"
      },
      "source": [
        "En esta ocasión vamos a hacer varios ejercicios:\n",
        "\n",
        "\n",
        "\n",
        "*   Escribir varias variables que sean cadenas de caracteres\n",
        "*   Concatenar varias de ellas con interpolación de cadenas\n",
        "*   Coger la sub-cadena de una de las cadenas principales\n",
        "*   Ver si la sub-cadena está en la cadena principal\n",
        "*   Comparar si una cadena (inventada, sin relación con la cadena principal) está contenida en la cadena principal\n",
        "\n"
      ]
    },
    {
      "cell_type": "code",
      "metadata": {
        "id": "jCvNwoScW5QE"
      },
      "source": [
        "# TODO Write some variables with string\n",
        "\n",
        "\n",
        "# Concatenate few of them with interpolation\n",
        "\n",
        "\n",
        "# Get a substring from one of the main strings\n",
        "\n",
        "\n",
        "# Check if this stirng is in the main string\n",
        "\n",
        "\n",
        "# Check if other random string is in the main string\n",
        "\n",
        "\n",
        "# Print the followin text with the given result\n",
        "'''\n",
        "Hola mundo, empiezo a escribir.\n",
        "\t\tHe dejado dos espacios tabulados en esta frase.\n",
        "\tMe despido.\n",
        "'''\n",
        "\n",
        "# Slice this String by the given character: \".\"\n",
        "\"Hello I'm a Programmer. I want to slice this text. If only Python could support a function for slicing by a given character.\""
      ],
      "execution_count": null,
      "outputs": []
    },
    {
      "cell_type": "markdown",
      "metadata": {
        "id": "M5ObH7siW5QG"
      },
      "source": [
        "#### Solución\n",
        "\n",
        "Haz click para ver el resultado"
      ]
    },
    {
      "cell_type": "code",
      "metadata": {
        "id": "baW5iQAPW5QG"
      },
      "source": [
        "# TODO Write some variables with string\n",
        "first_string = \"Hello World, I'm Lucas\"\n",
        "second_string = \"Hello again, I'm coding\"\n",
        "\n",
        "# Concatenate few of them with interpolation\n",
        "mix_string = f\"{first_string} || {second_string}\"\n",
        "other_interpolation = \"First string: {}\".format(first_string)\n",
        "print(mix_string)\n",
        "print(other_interpolation)\n",
        "\n",
        "\n",
        "# Get a substring from one of the main strings\n",
        "sub_first_string = first_string[1:5]\n",
        "print(sub_first_string)\n",
        "\n",
        "\n",
        "# Check if this stirng is in the main string\n",
        "check_string = sub_first_string in first_string\n",
        "print(check_string)\n",
        "\n",
        "# Check if other random string is in the main string\n",
        "check_rand_string = \"fasfd asdf\" in first_string\n",
        "print(check_rand_string)\n",
        "\n",
        "# Print the followin text with the given result\n",
        "'''\n",
        "Hola mundo, empiezo a escribir.\n",
        "\t\tHe dejado dos espacios tabulados en esta frase.\n",
        "\tMe despido.\n",
        "'''\n",
        "print(\"Hola mundo, empiezo a escribir.\\n\\t\\tHe dejado dos espacios tabulados en esta frase.\\n\\tMe despido.\")"
      ],
      "execution_count": null,
      "outputs": []
    },
    {
      "cell_type": "markdown",
      "metadata": {
        "id": "j7Cl9DOb8nvN"
      },
      "source": [
        "## Listas\n",
        "\n"
      ]
    },
    {
      "cell_type": "markdown",
      "metadata": {
        "id": "0dFymKqbqgYt"
      },
      "source": [
        "Las listas son colecciones ordenadas de elementos que pueden no ser del mismo tipo. En python las listas se definen con valores separados por comas contenidos entre corchetes."
      ]
    },
    {
      "cell_type": "code",
      "metadata": {
        "id": "4ptZAdURrCiW",
        "colab": {
          "base_uri": "https://localhost:8080/"
        },
        "outputId": "21f94d95-81c9-4545-f286-5708c695573b"
      },
      "source": [
        "list_example_strings = [\"Hello\", \"World\", \"I'm\", \"John\"]\n",
        "print(list_example_strings)\n",
        "list_example_number = [1,2,3,4,5,6]\n",
        "print(list_example_number)\n",
        "list_example_mix = [\"Hello\", [2, 3], \"Number\", 16]\n",
        "print(list_example_mix)\n"
      ],
      "execution_count": null,
      "outputs": [
        {
          "output_type": "stream",
          "name": "stdout",
          "text": [
            "['Hello', 'World', \"I'm\", 'John']\n",
            "[1, 2, 3, 4, 5, 6]\n",
            "['Hello', [2, 3], 'Number', 16]\n"
          ]
        }
      ]
    },
    {
      "cell_type": "markdown",
      "metadata": {
        "id": "IFL95y4UrlMX"
      },
      "source": [
        "**Acceder a valores**\n",
        "\n",
        "Para aceder al valor de una lista, llamamos al nombre de la variable seguido con el índice entre corchetes que queremos obtener."
      ]
    },
    {
      "cell_type": "code",
      "metadata": {
        "id": "z0djxvaAr7DS",
        "colab": {
          "base_uri": "https://localhost:8080/"
        },
        "outputId": "d6e98762-c638-4771-9338-f092ec6fa53f"
      },
      "source": [
        "element1 = list_example_strings[0]\n",
        "print(element1)\n",
        "# You can also acess range of element generating sublist\n",
        "sub_list = list_example_number[0:-2]\n",
        "print(sub_list)\n",
        "sub_list_2 = list_example_number[1:]\n",
        "print(sub_list_2)\n",
        "# You can acccess to the value of sublist\n",
        "sub_list_value = list_example_mix[1][1]\n",
        "print(sub_list_value)\n"
      ],
      "execution_count": null,
      "outputs": [
        {
          "output_type": "stream",
          "name": "stdout",
          "text": [
            "Hello\n",
            "[1, 2, 3, 4]\n",
            "[2, 3, 4, 5, 6]\n",
            "3\n"
          ]
        }
      ]
    },
    {
      "cell_type": "markdown",
      "metadata": {
        "id": "LyhFa6fnsTXe"
      },
      "source": [
        "Si accedes a un índice superior al conjunto de la lista se produce un error."
      ]
    },
    {
      "cell_type": "code",
      "metadata": {
        "id": "_Rn07ZSfsY2_",
        "colab": {
          "base_uri": "https://localhost:8080/",
          "height": 203
        },
        "outputId": "edfabd95-82a6-490e-e584-ad103ea968b9"
      },
      "source": [
        "# Error\n",
        "element_fail = list_example_number[6]\n",
        "print(element_fail)"
      ],
      "execution_count": null,
      "outputs": [
        {
          "output_type": "error",
          "ename": "IndexError",
          "evalue": "ignored",
          "traceback": [
            "\u001b[0;31m---------------------------------------------------------------------------\u001b[0m",
            "\u001b[0;31mIndexError\u001b[0m                                Traceback (most recent call last)",
            "\u001b[0;32m<ipython-input-24-7bdaa7a0b78d>\u001b[0m in \u001b[0;36m<module>\u001b[0;34m\u001b[0m\n\u001b[1;32m      1\u001b[0m \u001b[0;31m# Error\u001b[0m\u001b[0;34m\u001b[0m\u001b[0;34m\u001b[0m\u001b[0;34m\u001b[0m\u001b[0m\n\u001b[0;32m----> 2\u001b[0;31m \u001b[0melement_fail\u001b[0m \u001b[0;34m=\u001b[0m \u001b[0mlist_example_number\u001b[0m\u001b[0;34m[\u001b[0m\u001b[0;36m6\u001b[0m\u001b[0;34m]\u001b[0m\u001b[0;34m\u001b[0m\u001b[0;34m\u001b[0m\u001b[0m\n\u001b[0m\u001b[1;32m      3\u001b[0m \u001b[0mprint\u001b[0m\u001b[0;34m(\u001b[0m\u001b[0melement_fail\u001b[0m\u001b[0;34m)\u001b[0m\u001b[0;34m\u001b[0m\u001b[0;34m\u001b[0m\u001b[0m\n",
            "\u001b[0;31mIndexError\u001b[0m: list index out of range"
          ]
        }
      ]
    },
    {
      "cell_type": "markdown",
      "metadata": {
        "id": "CK--OZb8Nble"
      },
      "source": [
        "**Añadir un elemento**\n",
        "\n",
        "Para añadir un elemento dentro de una lista en Python podremos utilizar varias funciones, dependiendo de si queremos añadirlo al final de la cola, en una posición determinada o si queremos agregar otra lista a la anterior."
      ]
    },
    {
      "cell_type": "code",
      "metadata": {
        "id": "HGekV2OpPeO0",
        "colab": {
          "base_uri": "https://localhost:8080/"
        },
        "outputId": "9246e50a-1121-4ff3-a8d1-f957a33df49a"
      },
      "source": [
        "first_list = [\"Hello\", \"World\"]\n",
        "first_list.append(\"Again\")\n",
        "print(first_list)\n",
        "print(\"=========1===========\")\n",
        "second_list = [\"Hello\", \"Again\"]\n",
        "second_list.insert(-1, \"World\")\n",
        "print(second_list)\n",
        "print(\"=========2===========\")\n",
        "first_list_fail = first_list[:]\n",
        "first_list_fail.append(second_list)\n",
        "print(first_list_fail)\n",
        "print(\"=========3===========\")\n",
        "first_list.extend(second_list)\n",
        "print(first_list)"
      ],
      "execution_count": null,
      "outputs": [
        {
          "output_type": "stream",
          "name": "stdout",
          "text": [
            "['Hello', 'World', 'Again']\n",
            "=========1===========\n",
            "['Hello', 'World', 'Again']\n",
            "=========2===========\n",
            "['Hello', 'World', 'Again', ['Hello', 'World', 'Again']]\n",
            "=========3===========\n",
            "['Hello', 'World', 'Again', 'Hello', 'World', 'Again']\n"
          ]
        }
      ]
    },
    {
      "cell_type": "markdown",
      "metadata": {
        "id": "cxcyN7yMQDTU"
      },
      "source": [
        "**Eliminar un elemento**\n",
        "\n",
        "Para eliminar un elemento, puedes usar la palabra reservada *del* para eliminar por posición o el método *remove()* para eliminar el objeto."
      ]
    },
    {
      "cell_type": "code",
      "metadata": {
        "id": "4miRxmOPSc79",
        "colab": {
          "base_uri": "https://localhost:8080/"
        },
        "outputId": "7c54e72d-1c90-4c49-d503-ede5299aa1e0"
      },
      "source": [
        "first_list_del = [\"Hello\", \n",
        "                  \"World\", \n",
        "                  \"Again\"]\n",
        "first_list_del.remove(\"Hello\")\n",
        "print(first_list_del)\n",
        "second_list_del = [\"Hello\", \"World\", \"Again\"]\n",
        "del second_list_del[2]\n",
        "print(second_list_del)"
      ],
      "execution_count": null,
      "outputs": [
        {
          "output_type": "stream",
          "name": "stdout",
          "text": [
            "['World', 'Again']\n",
            "['Hello', 'World']\n"
          ]
        }
      ]
    },
    {
      "cell_type": "markdown",
      "metadata": {
        "id": "7nGa8V-ZW_3s"
      },
      "source": [
        "**Actualizar un elemento**\n",
        "\n",
        "Accediendo a la posición de una lista podemos actualizar sus elementos"
      ]
    },
    {
      "cell_type": "code",
      "metadata": {
        "id": "MBSHz07HXU_I",
        "colab": {
          "base_uri": "https://localhost:8080/"
        },
        "outputId": "61c0cf5f-060a-477d-f656-bb2e1aefd4f4"
      },
      "source": [
        "# First list\n",
        "updating_list = [\"Hello\", \"World\", 2017]\n",
        "print(updating_list)\n",
        "# Updating list\n",
        "updating_list[2] = 2023\n",
        "print(updating_list)"
      ],
      "execution_count": null,
      "outputs": [
        {
          "output_type": "stream",
          "name": "stdout",
          "text": [
            "['Hello', 'World', 2017]\n",
            "['Hello', 'World', 2023]\n"
          ]
        }
      ]
    },
    {
      "cell_type": "markdown",
      "metadata": {
        "id": "DQMfpPHGX6Hw"
      },
      "source": [
        "**Operadores elementales**\n",
        "\n",
        "Hay ciertos operadores elementales que pueden modificar el comportamiento de las listas en Python"
      ]
    },
    {
      "cell_type": "code",
      "metadata": {
        "id": "orBtiJO9YDt2",
        "colab": {
          "base_uri": "https://localhost:8080/"
        },
        "outputId": "4dc65771-5047-4661-ae80-90699c7785b4"
      },
      "source": [
        "list_string = [\"Hello\", \"World\", \"Again\"]\n",
        "list_numbers = [1, 2, 3]\n",
        "\n",
        "# Get length\n",
        "print(len(list_string))\n",
        "# print(list_string[len(list_string)]) -> Mal\n",
        "#print(list_string[len(list_string) - 1])\n",
        "\n",
        "# Concatenate 2 list\n",
        "print(list_string + list_numbers)\n",
        "\n",
        "# Repetition of list\n",
        "print(list_string * 3)\n",
        "\n",
        "# Check membership\n",
        "print(\"Hello\" in list_string)\n",
        "print(5 in list_numbers)\n",
        "\n",
        "# Iteration\n",
        "for x in list_string:\n",
        "  print(x)"
      ],
      "execution_count": null,
      "outputs": [
        {
          "output_type": "stream",
          "name": "stdout",
          "text": [
            "Again\n",
            "3\n",
            "['Hello', 'World', 'Again', 1, 2, 3]\n",
            "['Hello', 'World', 'Again', 'Hello', 'World', 'Again', 'Hello', 'World', 'Again']\n",
            "True\n",
            "False\n",
            "Hello\n",
            "World\n",
            "Again\n"
          ]
        }
      ]
    },
    {
      "cell_type": "markdown",
      "metadata": {
        "id": "I73_wpiYY_yd"
      },
      "source": [
        "**Slicing, indices y matrices**\n",
        "\n",
        "Las listas son secuencias, al igual que las tuplas y las cadenas de texto, por lo que las operaciones de indexación y *slicing* son las mismas\n"
      ]
    },
    {
      "cell_type": "code",
      "metadata": {
        "id": "TejsntJcGzFG",
        "colab": {
          "base_uri": "https://localhost:8080/"
        },
        "outputId": "2d47fcfb-669b-4c3a-98ed-c9d59b7380a8"
      },
      "source": [
        "list_example = [\"Hello\", \"World\", \"I'm\", \"John\"]\n",
        "\n",
        "# Simple indexing\n",
        "simple_index = list_example[1]\n",
        "print(simple_index)\n",
        "\n",
        "# Negative indexing\n",
        "negative_index = list_example[-1]\n",
        "print(negative_index)\n",
        "\n",
        "# Slicing\n",
        "slicing = list_example[:2]\n",
        "print(slicing)"
      ],
      "execution_count": null,
      "outputs": [
        {
          "output_type": "stream",
          "name": "stdout",
          "text": [
            "World\n",
            "John\n",
            "['Hello', 'World']\n"
          ]
        }
      ]
    },
    {
      "cell_type": "markdown",
      "metadata": {
        "id": "n-9MhT6aKPZK"
      },
      "source": [
        "### Ejercicio\n"
      ]
    },
    {
      "cell_type": "code",
      "metadata": {
        "id": "qP77A73-KPZM"
      },
      "source": [
        "# TODO write some variables holding lists, both empty and populated\n",
        "\n",
        "\n",
        "# Add few elements to the empty list\n",
        "\n",
        "\n",
        "# Check if the empty list is now empty (returning boolean)\n",
        "\n",
        "\n",
        "# Get a sublist of one of the non-empty lists\n",
        "\n",
        "\n",
        "# Concatenate the result with the empty list\n",
        "\n",
        "\n",
        "# Check if one of the followin elements are in the concatenated list: 1, \"hello\", \"world\"\n",
        "\n",
        "\n",
        "# Create a sublist with the concatenated list elements that match these elements: 0, 1, 2, 3, \"hello\", \"world\"\n",
        "\n"
      ],
      "execution_count": null,
      "outputs": []
    },
    {
      "cell_type": "markdown",
      "metadata": {
        "id": "yeVGshMWKPZO"
      },
      "source": [
        "#### Solución\n",
        "\n",
        "Haz click para ver el resultado"
      ]
    },
    {
      "cell_type": "code",
      "metadata": {
        "id": "VyWqb_84KPZO"
      },
      "source": [
        "# TODO write some variables holding lists, both empty and populated\n",
        "empty_list = []\n",
        "car_list = [\"Opel\", \"Renault\", \"Citroen\", \"Ford\"]\n",
        "\n",
        "# Add few elements to the empty list\n",
        "empty_list.append(1)\n",
        "empty_list.append(2)\n",
        "print(empty_list)\n",
        "\n",
        "# Check if the empty list is now empty (returning boolean)\n",
        "check_one = len(empty_list) == 0\n",
        "check_two = not empty_list\n",
        "print(check_one)\n",
        "print(check_two)\n",
        "\n",
        "# Get a sublist of one of the non-empty lists\n",
        "subcar_list = car_list[:2]\n",
        "print(subcar_list)\n",
        "\n",
        "# Concatenate the result with the empty list\n",
        "new_list = subcar_list + empty_list\n",
        "print(new_list)\n",
        "\n",
        "# Check if one of the followin elements are in the concatenated list: 1, \"hello\", \"world\"\n",
        "print(1 in new_list)\n",
        "print(\"hello\" in new_list)\n",
        "print(\"world\" in new_list)\n",
        "\n",
        "# Create a sublist with the concatenated list elements that match these elements: 0, 1, 2, 3, \"hello\", \"world\"\n",
        "check_list = [0, 1, 2, 3, \"hello\", \"world\"]\n",
        "targeted_list = [0, 1, 3, 6, 7, \"hello\", \"patata\"]\n",
        "print(list(set(targeted_list) & set(check_list)))\n",
        "\n",
        "check_list = [0, 1, 2, 3, \"hello\", \"world\"]\n",
        "targeted_list = [0, 1, 3, 6, 7, \"hello\", \"patata\"]\n",
        "new_list = []\n",
        "for element in targeted_list:\n",
        "  if element in check_list:\n",
        "    new_list.append(element)\n",
        "print(new_list)"
      ],
      "execution_count": null,
      "outputs": []
    },
    {
      "cell_type": "markdown",
      "source": [
        "### Machine learning\n",
        "\n",
        "[Numpy](https://numpy.org/doc/stable/index.html) es una librería en Python para crear y manipular **matrices**, la estructura principal dentro de los algorítmos de Machine Learning. Las [Matrices](https://en.wikipedia.org/wiki/Matrix_(mathematics)) son objetos que se usan para almacenar valores en columnas y filas.\n",
        "\n",
        "Como veremos, las Listas son Matrices de un solo nivel, podemos crear multiniveles de forma sencilla. Numpy permite hacer opreaciones con matrices de una forma muy similar a las listas en Python. Vamos a ver algunos ejemplos:\n",
        "\n"
      ],
      "metadata": {
        "id": "VR-yjdsn__xn"
      }
    },
    {
      "cell_type": "code",
      "source": [
        "import numpy as np \n",
        "\n",
        "one_dimensional_array = np.array([1.2, 2.4, 3.5, 4.7, 6.1, 7.2, 8.3, 9.5])\n",
        "print(one_dimensional_array)\n",
        "\n",
        "two_dimensional_array = np.array([[6, 5], [11, 7], [4, 8]])\n",
        "print(two_dimensional_array)\n",
        "\n",
        "random_floats_between_0_and_1 = np.random.random([6])\n",
        "print(random_floats_between_0_and_1) \n",
        "\n",
        "random_floats_between_2_and_3 = random_floats_between_0_and_1 + 2.0\n",
        "print(random_floats_between_2_and_3)\n",
        "\n",
        "# label = (3)(feature) + 4\n",
        "\n",
        "feature = np.arange(6, 21)\n",
        "print(feature)\n",
        "label = (feature * 3) + 4\n",
        "print(label)"
      ],
      "metadata": {
        "id": "yIBXnD7_AwZg",
        "colab": {
          "base_uri": "https://localhost:8080/"
        },
        "outputId": "46f5c3d3-729a-49e5-f282-0d2c8e369cf0"
      },
      "execution_count": null,
      "outputs": [
        {
          "output_type": "stream",
          "name": "stdout",
          "text": [
            "[1.2 2.4 3.5 4.7 6.1 7.2 8.3 9.5]\n",
            "[[ 6  5]\n",
            " [11  7]\n",
            " [ 4  8]]\n",
            "[0.54779414 0.60253654 0.65028472 0.70637537 0.20100366 0.8720931 ]\n",
            "[2.54779414 2.60253654 2.65028472 2.70637537 2.20100366 2.8720931 ]\n",
            "[ 6  7  8  9 10 11 12 13 14 15 16 17 18 19 20]\n",
            "[22 25 28 31 34 37 40 43 46 49 52 55 58 61 64]\n"
          ]
        }
      ]
    },
    {
      "cell_type": "markdown",
      "metadata": {
        "id": "NQFVcRwI8rkp"
      },
      "source": [
        "## Tuplas\n"
      ]
    },
    {
      "cell_type": "markdown",
      "metadata": {
        "id": "s0pmF0vgHof-"
      },
      "source": [
        "Las tuplas son secuencias inmutables de objetos en Python. Son muy parecidas a las listas con la diferencia que las listas es un conjunto de elementos variables mientras que las tuplas son inmutables. Para crear una tupla, se definen unos valores separados por comas contenidos entre paréntesis."
      ]
    },
    {
      "cell_type": "code",
      "metadata": {
        "id": "m4tN1bWyJ61b"
      },
      "source": [
        "# Tuple examples\n",
        "tuple_example_strings = (\"Hello\", \"World\", \n",
        "                         \"I'm\", \"John\")\n",
        "print(tuple_example_strings)\n",
        "tuple_example_number = (1,2,3,4,5,6)\n",
        "print(tuple_example_number)\n",
        "tuple_example_mix = (\"Hello\", 2, \"Number\", 16)\n",
        "print(tuple_example_mix)\n",
        "another_tuple = tuple()\n",
        "print(another_tuple)\n",
        "\n",
        "tuple_not_parentesis = \"hello\", \"world\"\n",
        "print(tuple_not_parentesis)\n",
        "\n",
        "hello, world = \"hello\", \"world\"\n",
        "print(hello)\n",
        "print(world)"
      ],
      "execution_count": null,
      "outputs": []
    },
    {
      "cell_type": "markdown",
      "metadata": {
        "id": "Y53kJ5itJt4L"
      },
      "source": [
        "Las tuplas, al ser inmutables, no pueden **actualizar** ni **eliminar** elementos ya definidos, solo es posible acceder a sus valores."
      ]
    },
    {
      "cell_type": "code",
      "metadata": {
        "id": "sMGdq-yxKn7_"
      },
      "source": [
        "# Index\n",
        "element_1 = tuple_example_strings[0]\n",
        "print(element_1)\n",
        "\n",
        "# Slicing\n",
        "mult_elements = tuple_example_number[:3]\n",
        "print(mult_elements)\n"
      ],
      "execution_count": null,
      "outputs": []
    },
    {
      "cell_type": "markdown",
      "metadata": {
        "id": "X6KTOYYGLSKV"
      },
      "source": [
        "Las tuplas también pueden definirse sin paréntesis, forma muy común de ver en la devolución de una función."
      ]
    },
    {
      "cell_type": "code",
      "metadata": {
        "id": "hamNYxGJLhDp",
        "colab": {
          "base_uri": "https://localhost:8080/"
        },
        "outputId": "15353552-cab9-4a4e-937e-97f5c0a6a471"
      },
      "source": [
        "def get_tuple():\n",
        "  return \"Hello\", \"World\"\n",
        "\n",
        "hello, world = get_tuple()\n",
        "\n",
        "print(f\"{hello}, {world}\")"
      ],
      "execution_count": null,
      "outputs": [
        {
          "output_type": "stream",
          "name": "stdout",
          "text": [
            "Hello, World\n"
          ]
        }
      ]
    },
    {
      "cell_type": "code",
      "metadata": {
        "id": "aCR-UdlWwJm1",
        "colab": {
          "base_uri": "https://localhost:8080/"
        },
        "outputId": "066b6279-4f93-4fb0-83f1-4710a6a6a05d"
      },
      "source": [
        "def get_info():\n",
        "  return [\"Lucas\", 184]\n",
        "\n",
        "info = get_info()\n",
        "print(f\"name: {info[0]}, height: {info[1]}\")"
      ],
      "execution_count": null,
      "outputs": [
        {
          "output_type": "stream",
          "name": "stdout",
          "text": [
            "name: Lucas, height: 184\n"
          ]
        }
      ]
    },
    {
      "cell_type": "code",
      "metadata": {
        "id": "uHkY-xBIvkUM"
      },
      "source": [
        "def sum_numbers(a, b):\n",
        "  return a + b\n",
        "\n",
        "result = sum_numbers(2, 3)\n",
        "print(result)"
      ],
      "execution_count": null,
      "outputs": []
    },
    {
      "cell_type": "markdown",
      "metadata": {
        "id": "j0U8oS0mAY47"
      },
      "source": [
        "Otra propiedad interesante de las tuplas es que al almacenarse en una variable pueden extraerse con una asignación múltiple"
      ]
    },
    {
      "cell_type": "code",
      "metadata": {
        "id": "P4ZlOZbSAgn7",
        "colab": {
          "base_uri": "https://localhost:8080/"
        },
        "outputId": "35b98611-f066-4f3f-c131-ae6475056ebe"
      },
      "source": [
        "new_tuple = (\"Hello\", \"World\", 1, 10)\n",
        "first, second, third, fourth = new_tuple\n",
        "print(f\"first: {first}, second: {second}, third: {third}, fourth: {fourth}\")"
      ],
      "execution_count": null,
      "outputs": [
        {
          "output_type": "stream",
          "name": "stdout",
          "text": [
            "first: Hello, second: World, third: 1, fourth: 10\n"
          ]
        }
      ]
    },
    {
      "cell_type": "markdown",
      "metadata": {
        "id": "iTiWumA44I9F"
      },
      "source": [
        "Listas y Tuplas, artículo de refuerzo: \n",
        "\n",
        "https://realpython.com/python-lists-tuples/\n"
      ]
    },
    {
      "cell_type": "markdown",
      "metadata": {
        "id": "k8s7mQHMKR0d"
      },
      "source": [
        "### Ejercicio\n"
      ]
    },
    {
      "cell_type": "code",
      "metadata": {
        "id": "YAcR-MjMKR0e"
      },
      "source": [
        "# Create an empty tuple with the built-in python declaration\n",
        "\n",
        "# Create a  tuple with different data types (more than one)\n",
        "\n",
        "# Print the second value of the new tuple\n",
        "\n",
        "# Assing those values to multiple variables and print them\n",
        "\n",
        "# Add a value to a tuple"
      ],
      "execution_count": null,
      "outputs": []
    },
    {
      "cell_type": "markdown",
      "metadata": {
        "id": "9W78FQdh_6g3"
      },
      "source": []
    },
    {
      "cell_type": "markdown",
      "metadata": {
        "id": "K7Pwr0VBKR0f"
      },
      "source": [
        "#### Solución\n",
        "\n",
        "Haz click para ver el resultado"
      ]
    },
    {
      "cell_type": "code",
      "metadata": {
        "id": "lfh4O9pNKR0g"
      },
      "source": [
        "# Create an empty tuple with the built-in python declaration\n",
        "new_tuple = tuple()\n",
        "\n",
        "# Create a  tuple with different data types (more than one)\n",
        "multiple_values = (1, 2, \"Hi\")\n",
        "\n",
        "# Print the second value of the new tuple\n",
        "print(multiple_values[1])\n",
        "\n",
        "# Assing those values to multiple variables and print them\n",
        "first, second, thrid = multiple_values\n",
        "print(f\"first: {first}, second: {second}, third: {third}\")\n",
        "\n",
        "# Add a value to the tuple\n",
        "multiple_values = multiple_values + (10,)\n",
        "print(multiple_values)"
      ],
      "execution_count": null,
      "outputs": []
    },
    {
      "cell_type": "markdown",
      "metadata": {
        "id": "iP6R1L7M8vo-"
      },
      "source": [
        "## Diccionario"
      ]
    },
    {
      "cell_type": "markdown",
      "metadata": {
        "id": "jhTVMJ_YL-jd"
      },
      "source": [
        "Los diccionarios son una colección de valores sin orden que pueden intercambiarse y están indexados por una clave. Estas claves deben ser únicas, es decir, no puede haber repetición y mientras que el valor de las claves puede mutar, éstas son inmutables."
      ]
    },
    {
      "cell_type": "markdown",
      "metadata": {
        "id": "FJI-QmACNBpH"
      },
      "source": [
        "Los diccionarios se definen en python con un conjunto de clave/valor separado por dos puntos (:), estos elementos están separados por comas y agrupados por llaves."
      ]
    },
    {
      "cell_type": "code",
      "metadata": {
        "id": "2Peoql1pNPZ_",
        "colab": {
          "base_uri": "https://localhost:8080/"
        },
        "outputId": "a2f68a7c-7559-4ffa-9d63-6c7a26b7ec1e"
      },
      "source": [
        "# Dictionary definition\n",
        "empty_dict = {}\n",
        "print(empty_dict)\n",
        "string_dict = {\"first\": \"Hello\", \n",
        "               \"second\": \"World\"}\n",
        "print(f'{string_dict[\"first\"]} {string_dict[\"second\"]}')\n",
        "mixed_dict = {\"first\": \"values\", \"second\": 34}\n",
        "print(mixed_dict)"
      ],
      "execution_count": null,
      "outputs": [
        {
          "output_type": "stream",
          "name": "stdout",
          "text": [
            "{}\n",
            "Hello World\n",
            "{'first': 'values', 'second': 34}\n"
          ]
        }
      ]
    },
    {
      "cell_type": "markdown",
      "metadata": {
        "id": "nss-Kv2AOW7C"
      },
      "source": [
        "**Acceder a valores**\n",
        "\n",
        "Para acceder a valores en un diccionario usamos una sintaxis similar que en las secuencias, elegimos la clave que queremos extraer entre corchetes, siempre teniendo en cuenta que el acceso de una clave inexistente da como reusltado un *Error de Clave*"
      ]
    },
    {
      "cell_type": "code",
      "metadata": {
        "id": "EmztLlpKOTWa",
        "colab": {
          "base_uri": "https://localhost:8080/",
          "height": 71
        },
        "outputId": "f2b53fe2-0bfe-4f83-c1e9-615f35ee5fe6"
      },
      "source": [
        "# Accesing Values\n",
        "string_dict = {\"first\": \"Hello\", \"second\": \"World\"}\n",
        "ex_str = string_dict[\"first\"]\n",
        "print(ex_str)\n",
        "\n",
        "ex_str_2 = string_dict.get(\"second\", \"failed\")\n",
        "print(ex_str_2)\n",
        "\n",
        "def replicate_get(dictionary, key, default_value):\n",
        "  try:\n",
        "    return dictionary[key]\n",
        "  except:\n",
        "    return default_value\n",
        "\n",
        "replicate_get(string_dict, \"asdfasdf\", \"failed\")"
      ],
      "execution_count": null,
      "outputs": [
        {
          "output_type": "stream",
          "name": "stdout",
          "text": [
            "Hello\n",
            "World\n"
          ]
        },
        {
          "output_type": "execute_result",
          "data": {
            "text/plain": [
              "'failed'"
            ],
            "application/vnd.google.colaboratory.intrinsic+json": {
              "type": "string"
            }
          },
          "metadata": {},
          "execution_count": 47
        }
      ]
    },
    {
      "cell_type": "code",
      "metadata": {
        "id": "dvlb0AIXO4Db",
        "colab": {
          "base_uri": "https://localhost:8080/",
          "height": 221
        },
        "outputId": "f4cfd1b3-ad00-4d87-c173-c95fec36505a"
      },
      "source": [
        "# Error Accesing Values\n",
        "string_dict = {\"first\": \"Hello\", \"second\": \"World\"}\n",
        "print(string_dict)\n",
        "ex_str = string_dict[\"third\"]\n"
      ],
      "execution_count": null,
      "outputs": [
        {
          "output_type": "stream",
          "name": "stdout",
          "text": [
            "{'first': 'Hello', 'second': 'World'}\n"
          ]
        },
        {
          "output_type": "error",
          "ename": "KeyError",
          "evalue": "ignored",
          "traceback": [
            "\u001b[0;31m---------------------------------------------------------------------------\u001b[0m",
            "\u001b[0;31mKeyError\u001b[0m                                  Traceback (most recent call last)",
            "\u001b[0;32m<ipython-input-48-0a7088ca5225>\u001b[0m in \u001b[0;36m<module>\u001b[0;34m\u001b[0m\n\u001b[1;32m      2\u001b[0m \u001b[0mstring_dict\u001b[0m \u001b[0;34m=\u001b[0m \u001b[0;34m{\u001b[0m\u001b[0;34m\"first\"\u001b[0m\u001b[0;34m:\u001b[0m \u001b[0;34m\"Hello\"\u001b[0m\u001b[0;34m,\u001b[0m \u001b[0;34m\"second\"\u001b[0m\u001b[0;34m:\u001b[0m \u001b[0;34m\"World\"\u001b[0m\u001b[0;34m}\u001b[0m\u001b[0;34m\u001b[0m\u001b[0;34m\u001b[0m\u001b[0m\n\u001b[1;32m      3\u001b[0m \u001b[0mprint\u001b[0m\u001b[0;34m(\u001b[0m\u001b[0mstring_dict\u001b[0m\u001b[0;34m)\u001b[0m\u001b[0;34m\u001b[0m\u001b[0;34m\u001b[0m\u001b[0m\n\u001b[0;32m----> 4\u001b[0;31m \u001b[0mex_str\u001b[0m \u001b[0;34m=\u001b[0m \u001b[0mstring_dict\u001b[0m\u001b[0;34m[\u001b[0m\u001b[0;34m\"third\"\u001b[0m\u001b[0;34m]\u001b[0m\u001b[0;34m\u001b[0m\u001b[0;34m\u001b[0m\u001b[0m\n\u001b[0m",
            "\u001b[0;31mKeyError\u001b[0m: 'third'"
          ]
        }
      ]
    },
    {
      "cell_type": "markdown",
      "metadata": {
        "id": "Uq3DIP_7PGPJ"
      },
      "source": [
        "**Añadir un elemento**\n",
        "\n",
        "Para añadir un elemento solo hay que asignar un valor a una nueva clave entre corchetes."
      ]
    },
    {
      "cell_type": "code",
      "metadata": {
        "id": "R_nV-MxXOH80",
        "colab": {
          "base_uri": "https://localhost:8080/"
        },
        "outputId": "8ea7da6e-c1b7-4d00-cf18-020d8a3eb34b"
      },
      "source": [
        "# Adding element\n",
        "\n",
        "dict_test = {\"first\": \"Hello\", \"second\": \"World\"}\n",
        "print(dict_test)\n",
        "\n",
        "dict_test[\"third\"] = \"!\"\n",
        "dict_test[\"fourth\"] = 4\n",
        "print(f\"We have this {dict_test}\")"
      ],
      "execution_count": null,
      "outputs": [
        {
          "output_type": "stream",
          "name": "stdout",
          "text": [
            "{'first': 'Hello', 'second': 'World'}\n",
            "We have this {'first': 'Hello', 'second': 'World', 'third': '!', 'fourth': 4}\n"
          ]
        }
      ]
    },
    {
      "cell_type": "markdown",
      "metadata": {
        "id": "3BhT4wDSPO6C"
      },
      "source": [
        "**Actualizar un elemento**\n",
        "\n",
        "Actualizar elementos funciona de manera similar que añadir, solo hay que elegir una clave ya establecida y asignarle un nuevo valor"
      ]
    },
    {
      "cell_type": "code",
      "metadata": {
        "id": "V57TsyJp8wsY",
        "colab": {
          "base_uri": "https://localhost:8080/"
        },
        "outputId": "2ef25197-34e7-47e2-83fd-2c46ef81d47c"
      },
      "source": [
        "# Updating element\n",
        "\n",
        "dict_test = {\"first\": \"Hi\", \"second\": \"World\"}\n",
        "print(dict_test)\n",
        "\n",
        "dict_test[\"first\"] = \"Hello\"\n",
        "print(f\"We have this {dict_test}\")\n"
      ],
      "execution_count": null,
      "outputs": [
        {
          "output_type": "stream",
          "name": "stdout",
          "text": [
            "{'first': 'Hi', 'second': 'World'}\n",
            "We have this {'first': 'Hello', 'second': 'World'}\n"
          ]
        }
      ]
    },
    {
      "cell_type": "markdown",
      "metadata": {
        "id": "fLFlOEhNPIqb"
      },
      "source": [
        "**Eliminar elementos**\n",
        "\n",
        "Hay tres acciones para eliminar elementos en  los diccionarios:\n",
        "\n",
        "\n",
        "*   Borrar una entrada del diccionario.\n",
        "*   Borrar todas las entradas del diccionario.\n",
        "*   Borrar el diccionario entero.\n",
        "\n"
      ]
    },
    {
      "cell_type": "code",
      "metadata": {
        "id": "EPaux636PQt4"
      },
      "source": [
        "# Deleting elements\n",
        "\n",
        "dict_test = {\"first\": \"Hi\", \"second\": \"World\"}\n",
        "del dict_test[\"second\"] # remove entry with key `second`\n",
        "print(dict_test)\n",
        "dict_test.clear() # remove all the entries in the dictionary\n",
        "print(dict_test)\n",
        "del dict_test # remove the dictionary"
      ],
      "execution_count": null,
      "outputs": []
    },
    {
      "cell_type": "markdown",
      "metadata": {
        "id": "QYOFtsdNPYds"
      },
      "source": [
        "**Funciones y métodos**\n",
        "\n",
        "Hay varios operadores elementales dentro de las funciones y métodos de un diccionario.\n"
      ]
    },
    {
      "cell_type": "code",
      "metadata": {
        "id": "GlRJxR_uPaqi",
        "colab": {
          "base_uri": "https://localhost:8080/"
        },
        "outputId": "ee48f3da-6d76-4ae7-8745-d34f2067b0a9"
      },
      "source": [
        "dict_test = {\"first\": \"Hi\", \"second\": \"World\"}\n",
        "dict_2_test = {\"first\": \"Hi\", \"second\": \"potato\", \"third\": \"tomato\"}\n",
        "\n",
        "# Get lenght\n",
        "print(len(dict_test)) \n",
        "print(len(dict_2_test)) \n",
        "\n",
        "# String representation\n",
        "print(str(dict_test))\n",
        "\n",
        "# Copy a dictionary\n",
        "dict_test_copy = dict_test.copy()\n",
        "dict_test_no_copy = dict_test\n",
        "# dict_test_copy = dict_test\n",
        "print(dict_test_copy)\n",
        "dict_test_copy[\"first\"] = \"Patata\"\n",
        "print(dict_test_copy)\n",
        "print(dict_test)\n",
        "dict_test_no_copy[\"first\"] = \"Patata2\"\n",
        "print(dict_test_no_copy)\n",
        "print(dict_test)\n",
        "\n",
        "# Get an element\n",
        "first_element = dict_test.get(\"first\", \"not found\")\n",
        "fourth_element = dict_test.get(\"fourth\", \"not found\")\n",
        "print(f\"First element: {first_element}\")\n",
        "print(f\"Fourt element: {fourth_element}\")\n",
        "\n",
        "# Return all keys\n",
        "print(dict_2_test.keys())"
      ],
      "execution_count": null,
      "outputs": [
        {
          "output_type": "stream",
          "name": "stdout",
          "text": [
            "2\n",
            "3\n",
            "{'first': 'Hi', 'second': 'World'}\n",
            "{'first': 'Hi', 'second': 'World'}\n",
            "{'first': 'Patata', 'second': 'World'}\n",
            "{'first': 'Hi', 'second': 'World'}\n",
            "{'first': 'Patata2', 'second': 'World'}\n",
            "{'first': 'Patata2', 'second': 'World'}\n",
            "First element: Patata2\n",
            "Fourt element: not found\n",
            "dict_keys(['first', 'second', 'third'])\n"
          ]
        }
      ]
    },
    {
      "cell_type": "code",
      "metadata": {
        "id": "yQI39zP00lrq"
      },
      "source": [
        "dict_test = {\"first\": \"Hi\", \"second\": \"World\"}\n",
        "\n",
        "dict_test_copy = dict_test.copy()\n",
        "#dict_test_copy = dict_test\n",
        "\n",
        "dict_test_copy.clear()\n",
        "print(dict_test_copy)\n",
        "print(dict_test)\n"
      ],
      "execution_count": null,
      "outputs": []
    },
    {
      "cell_type": "markdown",
      "metadata": {
        "id": "ttgU48umKegf"
      },
      "source": [
        "### Ejercicio\n"
      ]
    },
    {
      "cell_type": "code",
      "metadata": {
        "id": "urSyJZFRKegg"
      },
      "source": [
        "# TODO write some variables holding dictionaries, both empty and populated\n",
        "\n",
        "\n",
        "# Add few elements to the empty dictionary\n",
        "\n",
        "\n",
        "# Access one of the elements of the dictionary by its key\n",
        "\n",
        "\n",
        "# Update an element of the list\n",
        "\n",
        "\n",
        "# Remove all the entries of the dictionary\n",
        "\n",
        "\n",
        "# Check if the empty dictionary is in fact empty (by returning a boolean)\n",
        "\n",
        "\n",
        "# Check if this key is in the populated dictionary: \"world\"\n",
        "\n",
        "\n",
        "# Try to get this element of the dictionary, if fails return \"not found\": \"hello\""
      ],
      "execution_count": null,
      "outputs": []
    },
    {
      "cell_type": "markdown",
      "metadata": {
        "id": "mla1P1mGKegh"
      },
      "source": [
        "#### Solución\n",
        "\n",
        "Haz click para ver el resultado"
      ]
    },
    {
      "cell_type": "code",
      "metadata": {
        "id": "i8CKp26zKegi"
      },
      "source": [
        "# TODO write some variables holding dictionaries, both empty and populated\n",
        "new_dictionary = {\"first\": \"Hello\", \"second\": \"World\", \"third\": \"Hurray\"}\n",
        "empty_dictionary = {}\n",
        "\n",
        "# Add few elements to the empty dictionary\n",
        "empty_dictionary[\"user\"] = \"test\"\n",
        "empty_dictionary[\"password\"] = \"test\"\n",
        "print(empty_dictionary)\n",
        "\n",
        "# Access one of the elements of the dictionary by its key\n",
        "username = empty_dictionary[\"user\"]\n",
        "print(username)\n",
        "\n",
        "# Update an element of the list\n",
        "empty_dictionary[\"password\"] = \"!890fas78ds\"\n",
        "\n",
        "# Remove all the entries of the dictionary\n",
        "empty_dictionary.clear()\n",
        "\n",
        "# Check if the empty dictionary is in fact empty (by returning a boolean)\n",
        "print(len(empty_dictionary) == 0)\n",
        "print(not empty_dictionary)\n",
        "\n",
        "# Check if this key is in the populated dictionary: \"world\"\n",
        "print(\"world\" in new_dictionary)\n",
        "\n",
        "# Try to get this element of the populated dictionary, if fails return \"not found\": \"hello\"\n",
        "element = new_dictionary.get(\"hello\", \"not found\")\n",
        "print(element)"
      ],
      "execution_count": null,
      "outputs": []
    },
    {
      "cell_type": "markdown",
      "source": [
        "### Machine learning\n",
        "\n",
        "Ahora vamos a hablar de [**DataFrames**](https://pandas.pydata.org/pandas-docs/stable/reference/api/pandas.DataFrame.html), que son la estructura central de la API de pandas. Vamos a ver cómo Pandas usa sintaxis de clave valor parecidas a los diccionarios para crear sus estructuras.\n",
        "\n",
        "Un DataFrame es similar a un **excel**. Como una hoja de cálculo:\n",
        "\n",
        "   * Un DataFrame almacena valores en celdas\n",
        "   * Un DataFrame tiene columnas y filas numeradas"
      ],
      "metadata": {
        "id": "q78LpFrYBaiz"
      }
    },
    {
      "cell_type": "code",
      "source": [
        "import numpy as np\n",
        "import pandas as pd\n",
        "\n",
        "# Create and populate a 5x2 NumPy array.\n",
        "my_data = np.array([[0, 3], [10, 7], [20, 9], [30, 14], [40, 15]])\n",
        "print(my_data)\n",
        "\n",
        "# Create a Python list that holds the names of the two columns.\n",
        "my_column_names = ['temperature', 'activity']\n",
        "\n",
        "# Create a DataFrame.\n",
        "my_dataframe = pd.DataFrame(data=my_data, columns=my_column_names)\n",
        "\n",
        "# Print the entire DataFrame\n",
        "print(my_dataframe)\n",
        "\n",
        "print(\"==================\")\n",
        "\n",
        "# Create a new column named adjusted.\n",
        "my_dataframe[\"adjusted\"] = my_dataframe[\"activity\"] + 2\n",
        "\n",
        "# Print the entire DataFrame\n",
        "print(my_dataframe)\n",
        "\n",
        "print(\"==================\")\n",
        "\n",
        "print(\"Rows #0, #1, and #2:\")\n",
        "print(my_dataframe.head(3), '\\n')\n",
        "\n",
        "print(\"Row #2:\")\n",
        "print(my_dataframe.iloc[[2]], '\\n')\n",
        "\n",
        "print(\"Rows #1, #2, and #3:\")\n",
        "print(my_dataframe[1:4], '\\n')\n",
        "\n",
        "print(\"Column 'temperature':\")\n",
        "print(my_dataframe['temperature'])"
      ],
      "metadata": {
        "id": "WVHwfTkKCErU",
        "colab": {
          "base_uri": "https://localhost:8080/"
        },
        "outputId": "30bda07b-0965-44ce-e029-fcffee86696b"
      },
      "execution_count": null,
      "outputs": [
        {
          "output_type": "stream",
          "name": "stdout",
          "text": [
            "[[ 0  3]\n",
            " [10  7]\n",
            " [20  9]\n",
            " [30 14]\n",
            " [40 15]]\n",
            "   temperature  activity\n",
            "0            0         3\n",
            "1           10         7\n",
            "2           20         9\n",
            "3           30        14\n",
            "4           40        15\n",
            "==================\n",
            "   temperature  activity  adjusted\n",
            "0            0         3         5\n",
            "1           10         7         9\n",
            "2           20         9        11\n",
            "3           30        14        16\n",
            "4           40        15        17\n",
            "==================\n",
            "Rows #0, #1, and #2:\n",
            "   temperature  activity  adjusted\n",
            "0            0         3         5\n",
            "1           10         7         9\n",
            "2           20         9        11 \n",
            "\n",
            "Row #2:\n",
            "   temperature  activity  adjusted\n",
            "2           20         9        11 \n",
            "\n",
            "Rows #1, #2, and #3:\n",
            "   temperature  activity  adjusted\n",
            "1           10         7         9\n",
            "2           20         9        11\n",
            "3           30        14        16 \n",
            "\n",
            "Column 'temperature':\n",
            "0     0\n",
            "1    10\n",
            "2    20\n",
            "3    30\n",
            "4    40\n",
            "Name: temperature, dtype: int64\n"
          ]
        }
      ]
    },
    {
      "cell_type": "markdown",
      "metadata": {
        "id": "kWLu227B7yte"
      },
      "source": [
        "# Operadores\n",
        "\n"
      ]
    },
    {
      "cell_type": "markdown",
      "metadata": {
        "id": "uGxK6poISI57"
      },
      "source": [
        "Los operadores son construcciones de Python que pueden manipular el valor de los operandos."
      ]
    },
    {
      "cell_type": "markdown",
      "metadata": {
        "id": "UEWONKZc8QlM"
      },
      "source": [
        "## Operadores Aritméticos\n",
        "\n"
      ]
    },
    {
      "cell_type": "markdown",
      "metadata": {
        "id": "uLhYGD1hPy1T"
      },
      "source": [
        "Los operadores aritméticos  modifican el valor de una variable. Existe un orden de precedencia de como se realizan las operaciones.\n",
        "\n",
        "| Operator                                                                                                                                  | Description                                                                                                                                                                                            |\n",
        "| ----------------------------------------------------------------------------------------------------------------------------------------- | ------------------------------------------------------------------------------------------------------------------------------------------------------------------------------------------------------ |\n",
        "| (expressions...),<br>\\[expressions...\\], {key: value...}, {expressions...}                                                                | Binding or parenthesized expression, list display, dictionary display, set display                                                                                                                     |\n",
        "| x\\[index\\], x\\[index:index\\], x(arguments...), x.attribute                                                                                | Subscription, slicing, call, attribute reference                                                                                                                                                       |\n",
        "| [](https://docs.python.org/3/reference/expressions.html#await)[await](https://docs.python.org/3/reference/expressions.html#await) x       | Await expression                                                                                                                                                                                       |\n",
        "| \\*\\*                                                                                                                                      | [Exponentiation](https://docs.python.org/3/reference/expressions.html#id22) [6](https://docs.python.org/3/reference/expressions.html#id22)                                                             |\n",
        "| \\=+x, -x, ~x                                                                                                                              | Positive, negative, bitwise NOT                                                                                                                                                                        |\n",
        "| \\*, @, /, //, %                                                                                                                           | [Multiplication, matrix multiplication, division, floor division, remainder](https://docs.python.org/3/reference/expressions.html#id21) [5](https://docs.python.org/3/reference/expressions.html#id21) |\n",
        "| \\=+, -                                                                                                                                    | Addition and subtraction                                                                                                                                                                               |\n",
        "| <<, >>                                                                                                                                    | Shifts                                                                                                                                                                                                 |\n",
        "| &                                                                                                                                         | Bitwise AND                                                                                                                                                                                            |\n",
        "| ^                                                                                                                                         | Bitwise XOR                                                                                                                                                                                            |\n",
        "| |                                                                                                                                         | Bitwise OR                                                                                                                                                                                             |\n",
        "| in, not in, is, is not, <, <=, >, >=, !=, ==                                                                                              | Comparisons, including membership tests and identity tests                                                                                                                                             |\n",
        "| [](https://docs.python.org/3/reference/expressions.html#not)[not](https://docs.python.org/3/reference/expressions.html#not) x             | Boolean NOT                                                                                                                                                                                            |\n",
        "| [and](https://docs.python.org/3/reference/expressions.html#and)                                                                           | Boolean AND                                                                                                                                                                                            |\n",
        "| [or](https://docs.python.org/3/reference/expressions.html#or)                                                                             | Boolean OR                                                                                                                                                                                             |\n",
        "| [](https://docs.python.org/3/reference/expressions.html#if-expr)[if](https://docs.python.org/3/reference/expressions.html#if-expr) – else | Conditional expression                                                                                                                                                                                 |\n",
        "| [lambda](https://docs.python.org/3/reference/expressions.html#lambda)                                                                     | Lambda expression                                                                                                                                                                                      |\n",
        "| :=                                                                                                                                        | Assignment expression                                                                                                                                                                                  |\n",
        "\n"
      ]
    },
    {
      "cell_type": "code",
      "metadata": {
        "id": "tx_sso228WsF"
      },
      "source": [
        "# Ejemplo de operador aritmético\n",
        "a = 30\n",
        "b = 50\n",
        "\n",
        "# Addition\n",
        "add = a + b\n",
        "print(f\"add: {add}\")\n",
        "\n",
        "# Subtraction\n",
        "sub = a - b\n",
        "print(f\"sub: {sub}\")\n",
        "\n",
        "# Multiplication\n",
        "mul = a * b\n",
        "print(f\"mul: {mul}\")\n",
        "\n",
        "# Division\n",
        "div = a / b\n",
        "print(f\"div: {div}\")\n",
        "\n",
        "# Module\n",
        "modd = b % a\n",
        "print(f\"modd: {modd}\")\n",
        "\n",
        "# Exponent\n",
        "exp = a**b\n",
        "print(f\"exp: {exp}\")"
      ],
      "execution_count": null,
      "outputs": []
    },
    {
      "cell_type": "markdown",
      "metadata": {
        "id": "zd5BSd8OP_jY"
      },
      "source": [
        "### Ejercicio\n"
      ]
    },
    {
      "cell_type": "code",
      "metadata": {
        "id": "KH0kIFE5P_jZ"
      },
      "source": [
        "# TODO write a program that ask for a 24 hour date and conver it into 12 hour date.\n",
        "# Ex. Input -> 17 Output -> 5\n",
        "\n",
        "\n",
        "# Add parenthesis to the expression to match the following output ---> 7: \n",
        "\n",
        "result = 140 + 20 * 30 + 47 / 12 * 20\n",
        "print(f\"Expected result to be 7 is: {result}\")"
      ],
      "execution_count": null,
      "outputs": []
    },
    {
      "cell_type": "markdown",
      "metadata": {
        "id": "QqyaTk-eP_jZ"
      },
      "source": [
        "#### Solución\n",
        "\n",
        "Haz click para ver el resultado"
      ]
    },
    {
      "cell_type": "code",
      "metadata": {
        "id": "l90iymRLP_jZ"
      },
      "source": [
        "# TODO write a program that ask for a 24 hour date and conver it into 12 hour date.\n",
        "# Ex. Input -> 17 Output -> 5\n",
        "hour = input(\"Give me an hour: \")\n",
        "print(f\"Hour ---> {int(hour) % 12}\")\n",
        "\n",
        "\n",
        "# Add parenthesis to the expression to match the following output: \n",
        "\n",
        "result = (140 + 20 * (30 + 47)) / (12 * 20)\n",
        "print(f\"Expected result to be 7 is: {result}\")"
      ],
      "execution_count": null,
      "outputs": []
    },
    {
      "cell_type": "markdown",
      "metadata": {
        "id": "I681MK9s9Dc1"
      },
      "source": [
        "## Operadores de comparación"
      ]
    },
    {
      "cell_type": "markdown",
      "metadata": {
        "id": "Ym0Esv58Qj7m"
      },
      "source": [
        "Comparan los valores de ambos lados de la operación y decide la relación entre ambos."
      ]
    },
    {
      "cell_type": "code",
      "metadata": {
        "id": "glH-hslJ9GGy",
        "colab": {
          "base_uri": "https://localhost:8080/"
        },
        "outputId": "4bb49c44-4973-42a0-f0a1-eb98732383ca"
      },
      "source": [
        "# Ejemplos de operadores de comparación\n",
        "a = 30\n",
        "b = 50\n",
        "\n",
        "# Equality\n",
        "eq = a == b\n",
        "print(f\"eq: {eq}\")\n",
        "\n",
        "# Inequality\n",
        "ieq = a != b\n",
        "print(f\"ieq: {ieq}\")\n",
        "\n",
        "# Greater\n",
        "gt = a > b\n",
        "print(f\"gt: {gt}\")\n",
        "\n",
        "# Less\n",
        "ls = a < b\n",
        "print(f\"ls: {ls}\")\n",
        "\n",
        "# Greater or equal\n",
        "gteq = a >= b\n",
        "print(f\"gteq: {gteq}\")\n",
        "\n",
        "# Less or equal\n",
        "lseq = a <= b\n",
        "print(f\"lseq: {lseq}\")\n",
        "\n",
        "print(30 > 30)\n",
        "print(30 >= 30)\n"
      ],
      "execution_count": null,
      "outputs": [
        {
          "output_type": "stream",
          "name": "stdout",
          "text": [
            "eq: False\n",
            "ieq: True\n",
            "gt: False\n",
            "ls: True\n",
            "gteq: False\n",
            "lseq: True\n",
            "False\n",
            "True\n"
          ]
        }
      ]
    },
    {
      "cell_type": "markdown",
      "metadata": {
        "id": "IQi4sIX29IFC"
      },
      "source": [
        "### Operadores de asignación"
      ]
    },
    {
      "cell_type": "markdown",
      "metadata": {
        "id": "EKSA3-SWOQxS"
      },
      "source": [
        "Hemos visto estos operadores reiteradamente, pero vamos a explicar ahora las propiedades de algunos de ellos."
      ]
    },
    {
      "cell_type": "code",
      "metadata": {
        "id": "tRoElKRT9K4L"
      },
      "source": [
        "# Ejemplos de operadores de asignación\n",
        "a = 30\n",
        "b = 50\n",
        "\n",
        "# Assignment (=)\n",
        "c = a + b\n",
        "print(c)\n",
        "\n",
        "# Addition with assignment\n",
        "c = 60\n",
        "c += a # c = c + a\n",
        "print(c)\n",
        "\n",
        "# Subtraction with assignment\n",
        "c = 60\n",
        "c -= a\n",
        "print(c)\n",
        "\n",
        "# Multiplication with assignment\n",
        "c = 60\n",
        "c *= a\n",
        "print(c)\n",
        "\n",
        "# Division with assignment\n",
        "c = 60\n",
        "c /= a\n",
        "print(c)"
      ],
      "execution_count": null,
      "outputs": []
    },
    {
      "cell_type": "markdown",
      "metadata": {
        "id": "Wvz440HIPDJQ"
      },
      "source": [
        "### Operadores lógicos, de identidad y pertenencia"
      ]
    },
    {
      "cell_type": "markdown",
      "metadata": {
        "id": "XmtRlWwvPL1M"
      },
      "source": [
        "Vamos a agrupar tres tipos de operadores que son utilizados detro de lost controles de flujo que veremos a continuación, todos devuelven  un tipo lógico (true or false) cuando se realiza la operación."
      ]
    },
    {
      "cell_type": "code",
      "metadata": {
        "id": "1KoQYN73PfSg"
      },
      "source": [
        "a = 30\n",
        "b = 50\n",
        "c = [20, 30, 70, 80]\n",
        "at = True\n",
        "bf = False\n",
        "\n",
        "# AND operator\n",
        "print(at and bf)\n",
        "\n",
        "# OR operator\n",
        "print(at or bf)\n",
        "\n",
        "# NOT operator\n",
        "print(not at)\n",
        "\n",
        "print(\"------------\")\n",
        "\n",
        "# Membership\n",
        "print(a in c)\n",
        "\n",
        "# Not Membership\n",
        "print(a not in c)\n",
        "\n",
        "print(\"------------\")\n",
        "\n",
        "# Identity\n",
        "c = a\n",
        "print(a is c)\n",
        "print(a is b)\n",
        "\n",
        "# Not identity\n",
        "print(a is not c)\n",
        "print(a is not b)\n"
      ],
      "execution_count": null,
      "outputs": []
    },
    {
      "cell_type": "markdown",
      "metadata": {
        "id": "BK2Lxa0v9qRD"
      },
      "source": [
        "# Control de flujo\n",
        "\n"
      ]
    },
    {
      "cell_type": "markdown",
      "metadata": {
        "id": "P2E_SbQFm-Lu"
      },
      "source": [
        "En el nivel más elemental, un programa no es más que una ejecución secuencial de instrucciones. Esta ejecución tiene un flujo predefinido que el desarrollador querrá controlar con diversas técnicas.\n",
        "\n",
        "Hay veces que una instrucción se tiene que repetir tantas veces como elementos de una lista, otras instrucciones solo se deben ejecutar dependiendo del resultado de otra...\n",
        "\n",
        "Para todos estos casos Python provee de una sintaxis que permite controlar el flujo de la aplicación."
      ]
    },
    {
      "cell_type": "markdown",
      "metadata": {
        "id": "F497nreo9xE_"
      },
      "source": [
        "## Decisión condicional"
      ]
    },
    {
      "cell_type": "markdown",
      "metadata": {
        "id": "dmOmbKrjL6dO"
      },
      "source": [
        "Una decisión condicional permite ejecutar deliberadamente instrucciones dependiendo de una condición. Esta condición se reduce a un elemento Booleano con dos valores, verdadero o falso.\n",
        "\n",
        "Python provee de tres tipos de sintaxis para la decisión condicional:\n",
        "\n",
        "\n",
        "\n",
        "*   **If:** La declaración más sencilla, consiste en una expresión booleana seguida de una o varias instrucciones\n",
        "*   **if...else:** Consiste en una expresión booleana con una o varias instrucciones seguida de una declaración **else** que se ejecuta cuando la expresión condicional es **False**\n",
        "*   **Expresioes if anidadas:** Los condicionales pueden anidarse para generar otras condiciones en cascada.\n",
        "\n",
        "Hay un par de reglas en Python para ciertos tipos especiales, todos los valores que **no son cero** y no son **conjuntos vacíos (None)** se asumen como valores verdaderos **(true)**. Los valores que son **cero** o **null** son asumidos como falsos **(false)**.\n",
        "\n",
        "![Condicional](https://user-images.githubusercontent.com/16117276/149234378-9a927775-b1fc-420b-9534-00c81b67e9e1.png)\n",
        "\n"
      ]
    },
    {
      "cell_type": "code",
      "metadata": {
        "id": "H8OEWwYe94Wn",
        "colab": {
          "base_uri": "https://localhost:8080/"
        },
        "outputId": "27cd9a57-d319-41ee-90be-626f3cd61527"
      },
      "source": [
        "# If example\n",
        "counter = 3\n",
        "if counter == 5: #conditional test\n",
        "  print(\"We've reached 5\")\n",
        "\n",
        "# If..else example\n",
        "if counter == 6:\n",
        "  print(\"We've reached 6\")\n",
        "  print(\"Hello\")\n",
        "else:\n",
        "  print(\"We've got something else\")\n",
        "\n",
        "counter += 1\n",
        "# Nested if\n",
        "if counter == 1:\n",
        "  print(\"We've reached 1\")\n",
        "elif counter == 2:\n",
        "  print(\"We've reached 2\")\n",
        "elif counter == 3:\n",
        "  print(\"We've reached 3\")  \n",
        "elif counter == 4:\n",
        "  print(\"We've reached 4\")  \n",
        "elif counter == 5:\n",
        "  print(\"We've reached 5\")  \n",
        "else:\n",
        "  print(\"We've got more than that\")  \n"
      ],
      "execution_count": null,
      "outputs": [
        {
          "output_type": "stream",
          "name": "stdout",
          "text": [
            "We've reached 5\n",
            "We've got something else\n",
            "We've got more than that\n"
          ]
        }
      ]
    },
    {
      "cell_type": "markdown",
      "metadata": {
        "id": "Z1R8w-VDK7F7"
      },
      "source": [
        "### Ejercicio\n"
      ]
    },
    {
      "cell_type": "code",
      "metadata": {
        "id": "epTq9VU1K7F8"
      },
      "source": [
        "# Write \"all present\" if all of these words are in a given phrase: Hello, world, story \n",
        "phrase = \"Hello world i'm writting this story\"\n",
        "\n",
        "# Write \"one or more present\" if all of these words are in a given phrase and write \"none present\" if not \"panda\", \"robert\", \"python\""
      ],
      "execution_count": null,
      "outputs": []
    },
    {
      "cell_type": "markdown",
      "metadata": {
        "id": "UM6XqmhbK7F_"
      },
      "source": [
        "#### Solución\n",
        "\n",
        "Haz click para ver el resultado"
      ]
    },
    {
      "cell_type": "code",
      "metadata": {
        "id": "usDbEhqMK7GA"
      },
      "source": [
        "# Write \"all present\" if all of these words are in a given phrase: Hello, world, story \n",
        "phrase = \"Hello world i'm writting this story\"\n",
        "if(\"Hello\" in phrase and \"world\" in phrase and \"story\" in phrase):\n",
        "  print(\"all present\")\n",
        "\n",
        "# Write \"one or more present\" if all of these words are in a given phrase and write \"none present\" if not: \"panda\", \"robert\", \"python\"\n",
        "if(\"panda\" in phrase or \"robert\" in phrase or \"python\" in phrase):\n",
        "  print(\"one or more present\")\n",
        "else:\n",
        "  print(\"none present\")"
      ],
      "execution_count": null,
      "outputs": []
    },
    {
      "cell_type": "markdown",
      "metadata": {
        "id": "enpvkheZ96ge"
      },
      "source": [
        "## Bucle \"for\""
      ]
    },
    {
      "cell_type": "markdown",
      "metadata": {
        "id": "KD6ymhXbRG3J"
      },
      "source": [
        "Hay situaciones en las que es necesario que un bloque de instrucciones se ejecute una cantidad determinada de veces, bien sea para iterar entre múltiples elementos, crear nuevas secuencias...\n",
        "\n",
        "Para eso existen declaraciones de bucles. En el caso del bucle for, se itera una secuencia hasta que no queden más elementos y se ejecuta múltiples veces una instrucción.\n",
        "\n",
        "\n",
        "\n",
        "```\n",
        "for element in sequence:\n",
        "      statement(s)\n",
        "```\n",
        "\n",
        "![Iteration](https://user-images.githubusercontent.com/16117276/149234385-3d239616-c541-4c3d-a201-9533216cb92e.png)\n",
        "\n"
      ]
    },
    {
      "cell_type": "code",
      "metadata": {
        "id": "pgHJVR1X-ARZ",
        "colab": {
          "base_uri": "https://localhost:8080/"
        },
        "outputId": "d83f4499-c7dc-4239-d9e1-30509d89d0f1"
      },
      "source": [
        "# For loop example\n",
        "elements = [1,2,3,4,5,6,7,8]\n",
        "\n",
        "for element in elements:\n",
        "  print(\"Hola\")\n",
        "  \n",
        "for letter in \"Hello World\":\n",
        "  print(letter)\n",
        "  \n",
        "# For loop with range\n",
        "for index, element in enumerate(elements):\n",
        "  print(f\"Element {element} is in index {index}\")\n"
      ],
      "execution_count": null,
      "outputs": [
        {
          "output_type": "stream",
          "name": "stdout",
          "text": [
            "Hola\n",
            "Hola\n",
            "Hola\n",
            "Hola\n",
            "Hola\n",
            "Hola\n",
            "Hola\n",
            "Hola\n",
            "H\n",
            "e\n",
            "l\n",
            "l\n",
            "o\n",
            " \n",
            "W\n",
            "o\n",
            "r\n",
            "l\n",
            "d\n",
            "Element 1 is in index 0\n",
            "Element 2 is in index 1\n",
            "Element 3 is in index 2\n",
            "Element 4 is in index 3\n",
            "Element 5 is in index 4\n",
            "Element 6 is in index 5\n",
            "Element 7 is in index 6\n",
            "Element 8 is in index 7\n"
          ]
        }
      ]
    },
    {
      "cell_type": "code",
      "source": [
        "\n",
        "import numpy as np\n",
        "import pandas as pd\n",
        "\n",
        "# Create and populate a 5x2 NumPy array.\n",
        "my_data = np.array([[0, 3], [10, 7], [20, 9], [30, 14], [40, 15]])\n",
        "\n",
        "# Create a Python list that holds the names of the two columns.\n",
        "my_column_names = ['temperature', 'activity']\n",
        "\n",
        "# Create a DataFrame.\n",
        "my_dataframe = pd.DataFrame(data=my_data, columns=my_column_names)\n",
        "\n",
        "# Print the entire DataFrame\n",
        "print(my_dataframe)\n",
        "\n",
        "for index, row in my_dataframe.iterrows():\n",
        "    print(index, row.activity)"
      ],
      "metadata": {
        "colab": {
          "base_uri": "https://localhost:8080/"
        },
        "id": "b3QgOeOjbq81",
        "outputId": "d9e0ff43-989d-41c1-b4fe-a496b07e934f"
      },
      "execution_count": null,
      "outputs": [
        {
          "output_type": "stream",
          "name": "stdout",
          "text": [
            "   temperature  activity\n",
            "0            0         3\n",
            "1           10         7\n",
            "2           20         9\n",
            "3           30        14\n",
            "4           40        15\n",
            "0 3\n",
            "1 7\n",
            "2 9\n",
            "3 14\n",
            "4 15\n"
          ]
        }
      ]
    },
    {
      "cell_type": "markdown",
      "metadata": {
        "id": "UxN1xR57K6vX"
      },
      "source": [
        "### Ejercicio\n"
      ]
    },
    {
      "cell_type": "code",
      "metadata": {
        "id": "dTQ7arqkK6vY"
      },
      "source": [
        "# Sum all the elements of the given list\n",
        "a = [10,20,30,20,10,50,60,40,80,50,40]\n",
        "\n",
        "# Get the largest number from the list\n",
        "\n",
        "# Get the smallest number from the list\n",
        "\n",
        "# Create a list without the duplicates of the list"
      ],
      "execution_count": null,
      "outputs": []
    },
    {
      "cell_type": "markdown",
      "metadata": {
        "id": "8zE7ZiqsK6va"
      },
      "source": [
        "#### Solución\n",
        "\n",
        "Haz click para ver el resultado"
      ]
    },
    {
      "cell_type": "code",
      "metadata": {
        "id": "WWOEzu1pK6va"
      },
      "source": [
        "# Sum all the elements of the list\n",
        "## first method\n",
        "a = [10,20,30,20,10,50,60,40,80,50,40]\n",
        "sum_list = 0\n",
        "for x in a:\n",
        "  sum_list += x\n",
        "print(sum_list)\n",
        "## second method\n",
        "print(sum(a))\n",
        "\n",
        "# Get the largest number from a list\n",
        "## fist method\n",
        "max_number = 0\n",
        "for x in a:\n",
        "  if(x > max_number):\n",
        "    max_number = x\n",
        "print(max_number)\n",
        "\n",
        "## second method\n",
        "print(max(a))\n",
        "\n",
        "# Get the smallest number from a list\n",
        "## fist method\n",
        "min_number = max(a)\n",
        "for x in a:\n",
        "  if(x < min_number):\n",
        "    min_number = x\n",
        "print(min_number)\n",
        "\n",
        "## second method\n",
        "print(min(a))\n",
        "\n",
        "# Create a list without the duplicates of the given list\n",
        "## first method\n",
        "a = [10,20,30,20,10,50,60,40,80,50,40]\n",
        "\n",
        "uniq_items = []\n",
        "for x in a:\n",
        "    if x not in uniq_items:\n",
        "        uniq_items.append(x)\n",
        "print(uniq_items)\n",
        "\n",
        "## second method\n",
        "uniq_items_comp = list(set(a))\n",
        "print(uniq_items_comp)"
      ],
      "execution_count": null,
      "outputs": []
    },
    {
      "cell_type": "markdown",
      "metadata": {
        "id": "fXElGCPi-B_0"
      },
      "source": [
        "## Bucle \"while\""
      ]
    },
    {
      "cell_type": "markdown",
      "metadata": {
        "id": "wWoeytjIU30T"
      },
      "source": [
        "Mediante el bucle **while** podemos repetir un conjunto de instrucciones mientras se cumpla una condición. La sintaxis es muy sencilla:\n",
        "\n",
        "\n",
        "```\n",
        "while expression:\n",
        "      statement(s)\n",
        "```\n",
        "\n",
        "En el momento en que la condición es falsa el bucle se interrumpe dejando de ejecutar la instrucción.\n",
        "\n",
        "El bucle **while** es más peligroso de usar que otras declaraciones ya que puede llevar a bucles infinitos si no se deja de cumplir una condición.\n"
      ]
    },
    {
      "cell_type": "code",
      "metadata": {
        "id": "1ZIMS2W9-IUX",
        "colab": {
          "base_uri": "https://localhost:8080/"
        },
        "outputId": "6b27f2b6-4843-47d2-f28b-9041efb356bf"
      },
      "source": [
        "# While loop\n",
        "counter = 1\n",
        "\n",
        "while (counter < 9):\n",
        "  print(counter)\n",
        "  counter += 1"
      ],
      "execution_count": null,
      "outputs": [
        {
          "output_type": "stream",
          "name": "stdout",
          "text": [
            "1\n",
            "2\n",
            "3\n",
            "4\n",
            "5\n",
            "6\n",
            "7\n",
            "8\n"
          ]
        }
      ]
    },
    {
      "cell_type": "code",
      "metadata": {
        "id": "3LySF0NiVm-F"
      },
      "source": [
        "# While loop infinite DO NOT EXECUTE\n",
        "\n",
        "counter = 1\n",
        "\n",
        "while (counter != 2):\n",
        "  print(counter)\n",
        "  counter += 2\n",
        "  "
      ],
      "execution_count": null,
      "outputs": []
    },
    {
      "cell_type": "markdown",
      "metadata": {
        "id": "1efPGpGQK6aC"
      },
      "source": [
        "### Ejercicio\n"
      ]
    },
    {
      "cell_type": "code",
      "metadata": {
        "id": "2p4Rnwv7K6aC"
      },
      "source": [
        "# Guess a number between 1 to 9 finish the program (get the input from the user using input())\n",
        "import random\n",
        "target_num, guess_num = (random.randint(1, 10), 0)"
      ],
      "execution_count": null,
      "outputs": []
    },
    {
      "cell_type": "markdown",
      "metadata": {
        "id": "Y0ATTZIYK6aD"
      },
      "source": [
        "#### Solución\n",
        "\n",
        "Haz click para ver el resultado"
      ]
    },
    {
      "cell_type": "code",
      "metadata": {
        "id": "RQ3YdhHWK6aE"
      },
      "source": [
        "# Guess a number between 1 to 9 finish the program\n",
        "import random\n",
        "target_num, guess_num = (random.randint(1, 10), 0)\n",
        "while target_num != guess_num:\n",
        "    guess_num = int(input('Guess a number between 1 and 10 until you get it right : '))\n",
        "print('Well guessed!')"
      ],
      "execution_count": null,
      "outputs": []
    },
    {
      "cell_type": "code",
      "metadata": {
        "id": "UVO0cfDPVSh_"
      },
      "source": [
        "def get_middle_chars(a):\n",
        "  return a[len(a) - int(lena/2)-1 -int(len(a)%2):len(a) - int(len(a)/2)+1]\n",
        "\n",
        "  "
      ],
      "execution_count": null,
      "outputs": []
    }
  ]
}