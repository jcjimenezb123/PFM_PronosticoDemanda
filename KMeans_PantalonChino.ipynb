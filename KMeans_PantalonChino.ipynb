{
  "nbformat": 4,
  "nbformat_minor": 0,
  "metadata": {
    "kernelspec": {
      "display_name": "Python 3",
      "language": "python",
      "name": "python3"
    },
    "language_info": {
      "codemirror_mode": {
        "name": "ipython",
        "version": 3
      },
      "file_extension": ".py",
      "mimetype": "text/x-python",
      "name": "python",
      "nbconvert_exporter": "python",
      "pygments_lexer": "ipython3",
      "version": "3.7.7"
    },
    "colab": {
      "name": "KMeansVentasSegmento.ipynb",
      "provenance": []
    }
  },
  "cells": [
    {
      "cell_type": "markdown",
      "metadata": {
        "id": "ErrSZPj6ivjI"
      },
      "source": [
        "#Metodo de K-Means para clasificar articulos de acuerdo a sus ventas"
      ]
    },
    {
      "cell_type": "markdown",
      "metadata": {
        "id": "9Ci5Wio7TQA3"
      },
      "source": [
        "##Se importan las bibliotecas necesarias"
      ]
    },
    {
      "cell_type": "code",
      "metadata": {
        "id": "6eaaCLNtivjN"
      },
      "source": [
        "import pandas as pd\n",
        "import numpy as np\n",
        "from sklearn.cluster import KMeans\n",
        "from sklearn import preprocessing\n",
        "import matplotlib.pyplot as plt"
      ],
      "execution_count": 1,
      "outputs": []
    },
    {
      "cell_type": "markdown",
      "metadata": {
        "id": "bL3HtRC1RUXa"
      },
      "source": [
        "##Se carga la información por modelo con su venta reconstruida"
      ]
    },
    {
      "cell_type": "code",
      "metadata": {
        "id": "M2UCSQhajMeq",
        "colab": {
          "base_uri": "https://localhost:8080/",
          "height": 297
        },
        "outputId": "1b464de6-285a-4d61-d3c0-15b9b041ed27"
      },
      "source": [
        "ids=[908839,154201,166340,908834,823456,166338,823454,831878]\n",
        "vta=[4359,2769,2547,4736,3489,2207,1551,2461]\n",
        "df = pd.DataFrame(list(zip(ids, vta)),\n",
        "               columns =['ART', 'VTA'])\n",
        "df"
      ],
      "execution_count": null,
      "outputs": [
        {
          "output_type": "execute_result",
          "data": {
            "text/html": [
              "<div>\n",
              "<style scoped>\n",
              "    .dataframe tbody tr th:only-of-type {\n",
              "        vertical-align: middle;\n",
              "    }\n",
              "\n",
              "    .dataframe tbody tr th {\n",
              "        vertical-align: top;\n",
              "    }\n",
              "\n",
              "    .dataframe thead th {\n",
              "        text-align: right;\n",
              "    }\n",
              "</style>\n",
              "<table border=\"1\" class=\"dataframe\">\n",
              "  <thead>\n",
              "    <tr style=\"text-align: right;\">\n",
              "      <th></th>\n",
              "      <th>ART</th>\n",
              "      <th>VTA</th>\n",
              "    </tr>\n",
              "  </thead>\n",
              "  <tbody>\n",
              "    <tr>\n",
              "      <th>0</th>\n",
              "      <td>908839</td>\n",
              "      <td>4359</td>\n",
              "    </tr>\n",
              "    <tr>\n",
              "      <th>1</th>\n",
              "      <td>154201</td>\n",
              "      <td>2769</td>\n",
              "    </tr>\n",
              "    <tr>\n",
              "      <th>2</th>\n",
              "      <td>166340</td>\n",
              "      <td>2547</td>\n",
              "    </tr>\n",
              "    <tr>\n",
              "      <th>3</th>\n",
              "      <td>908834</td>\n",
              "      <td>4736</td>\n",
              "    </tr>\n",
              "    <tr>\n",
              "      <th>4</th>\n",
              "      <td>823456</td>\n",
              "      <td>3489</td>\n",
              "    </tr>\n",
              "    <tr>\n",
              "      <th>5</th>\n",
              "      <td>166338</td>\n",
              "      <td>2207</td>\n",
              "    </tr>\n",
              "    <tr>\n",
              "      <th>6</th>\n",
              "      <td>823454</td>\n",
              "      <td>1551</td>\n",
              "    </tr>\n",
              "    <tr>\n",
              "      <th>7</th>\n",
              "      <td>831878</td>\n",
              "      <td>2461</td>\n",
              "    </tr>\n",
              "  </tbody>\n",
              "</table>\n",
              "</div>"
            ],
            "text/plain": [
              "      ART   VTA\n",
              "0  908839  4359\n",
              "1  154201  2769\n",
              "2  166340  2547\n",
              "3  908834  4736\n",
              "4  823456  3489\n",
              "5  166338  2207\n",
              "6  823454  1551\n",
              "7  831878  2461"
            ]
          },
          "metadata": {},
          "execution_count": 4
        }
      ]
    },
    {
      "cell_type": "code",
      "metadata": {
        "id": "Ju-l2_-DUSr5",
        "outputId": "b31786e5-344f-4f12-846f-3443b2a179b2",
        "colab": {
          "base_uri": "https://localhost:8080/",
          "height": 295
        }
      },
      "source": [
        "df=pd.read_excel('pantalon.xlsx')\n",
        "df"
      ],
      "execution_count": 3,
      "outputs": [
        {
          "output_type": "execute_result",
          "data": {
            "text/html": [
              "<div>\n",
              "<style scoped>\n",
              "    .dataframe tbody tr th:only-of-type {\n",
              "        vertical-align: middle;\n",
              "    }\n",
              "\n",
              "    .dataframe tbody tr th {\n",
              "        vertical-align: top;\n",
              "    }\n",
              "\n",
              "    .dataframe thead th {\n",
              "        text-align: right;\n",
              "    }\n",
              "</style>\n",
              "<table border=\"1\" class=\"dataframe\">\n",
              "  <thead>\n",
              "    <tr style=\"text-align: right;\">\n",
              "      <th></th>\n",
              "      <th>ART</th>\n",
              "      <th>VTA</th>\n",
              "    </tr>\n",
              "  </thead>\n",
              "  <tbody>\n",
              "    <tr>\n",
              "      <th>0</th>\n",
              "      <td>908839</td>\n",
              "      <td>4359</td>\n",
              "    </tr>\n",
              "    <tr>\n",
              "      <th>1</th>\n",
              "      <td>154201</td>\n",
              "      <td>2769</td>\n",
              "    </tr>\n",
              "    <tr>\n",
              "      <th>2</th>\n",
              "      <td>166340</td>\n",
              "      <td>2547</td>\n",
              "    </tr>\n",
              "    <tr>\n",
              "      <th>3</th>\n",
              "      <td>908834</td>\n",
              "      <td>4736</td>\n",
              "    </tr>\n",
              "    <tr>\n",
              "      <th>4</th>\n",
              "      <td>823456</td>\n",
              "      <td>3489</td>\n",
              "    </tr>\n",
              "    <tr>\n",
              "      <th>5</th>\n",
              "      <td>166338</td>\n",
              "      <td>2207</td>\n",
              "    </tr>\n",
              "    <tr>\n",
              "      <th>6</th>\n",
              "      <td>823454</td>\n",
              "      <td>1551</td>\n",
              "    </tr>\n",
              "    <tr>\n",
              "      <th>7</th>\n",
              "      <td>831878</td>\n",
              "      <td>2461</td>\n",
              "    </tr>\n",
              "  </tbody>\n",
              "</table>\n",
              "</div>"
            ],
            "text/plain": [
              "      ART   VTA\n",
              "0  908839  4359\n",
              "1  154201  2769\n",
              "2  166340  2547\n",
              "3  908834  4736\n",
              "4  823456  3489\n",
              "5  166338  2207\n",
              "6  823454  1551\n",
              "7  831878  2461"
            ]
          },
          "metadata": {},
          "execution_count": 3
        }
      ]
    },
    {
      "cell_type": "markdown",
      "metadata": {
        "id": "iCqXJ1LlivjS"
      },
      "source": [
        "Se normaliza la clave del articulo para que no influya en la creacion de los grupos"
      ]
    },
    {
      "cell_type": "code",
      "metadata": {
        "id": "zFrPwV80ivjS",
        "colab": {
          "base_uri": "https://localhost:8080/",
          "height": 295
        },
        "outputId": "ed5c2df9-dcf6-4df5-e395-04ec7ea5cae6"
      },
      "source": [
        "x = df['ART'].values.reshape(-1, 1) #se convierte a vector\n",
        "min_max_scaler = preprocessing.MinMaxScaler() #se escala\n",
        "x_scaled = min_max_scaler.fit_transform(x)\n",
        "df['art_norm'] = pd.DataFrame(x_scaled) #se agrega al dataframe\n",
        "df"
      ],
      "execution_count": 4,
      "outputs": [
        {
          "output_type": "execute_result",
          "data": {
            "text/html": [
              "<div>\n",
              "<style scoped>\n",
              "    .dataframe tbody tr th:only-of-type {\n",
              "        vertical-align: middle;\n",
              "    }\n",
              "\n",
              "    .dataframe tbody tr th {\n",
              "        vertical-align: top;\n",
              "    }\n",
              "\n",
              "    .dataframe thead th {\n",
              "        text-align: right;\n",
              "    }\n",
              "</style>\n",
              "<table border=\"1\" class=\"dataframe\">\n",
              "  <thead>\n",
              "    <tr style=\"text-align: right;\">\n",
              "      <th></th>\n",
              "      <th>ART</th>\n",
              "      <th>VTA</th>\n",
              "      <th>art_norm</th>\n",
              "    </tr>\n",
              "  </thead>\n",
              "  <tbody>\n",
              "    <tr>\n",
              "      <th>0</th>\n",
              "      <td>908839</td>\n",
              "      <td>4359</td>\n",
              "      <td>1.000000</td>\n",
              "    </tr>\n",
              "    <tr>\n",
              "      <th>1</th>\n",
              "      <td>154201</td>\n",
              "      <td>2769</td>\n",
              "      <td>0.000000</td>\n",
              "    </tr>\n",
              "    <tr>\n",
              "      <th>2</th>\n",
              "      <td>166340</td>\n",
              "      <td>2547</td>\n",
              "      <td>0.016086</td>\n",
              "    </tr>\n",
              "    <tr>\n",
              "      <th>3</th>\n",
              "      <td>908834</td>\n",
              "      <td>4736</td>\n",
              "      <td>0.999993</td>\n",
              "    </tr>\n",
              "    <tr>\n",
              "      <th>4</th>\n",
              "      <td>823456</td>\n",
              "      <td>3489</td>\n",
              "      <td>0.886856</td>\n",
              "    </tr>\n",
              "    <tr>\n",
              "      <th>5</th>\n",
              "      <td>166338</td>\n",
              "      <td>2207</td>\n",
              "      <td>0.016083</td>\n",
              "    </tr>\n",
              "    <tr>\n",
              "      <th>6</th>\n",
              "      <td>823454</td>\n",
              "      <td>1551</td>\n",
              "      <td>0.886853</td>\n",
              "    </tr>\n",
              "    <tr>\n",
              "      <th>7</th>\n",
              "      <td>831878</td>\n",
              "      <td>2461</td>\n",
              "      <td>0.898016</td>\n",
              "    </tr>\n",
              "  </tbody>\n",
              "</table>\n",
              "</div>"
            ],
            "text/plain": [
              "      ART   VTA  art_norm\n",
              "0  908839  4359  1.000000\n",
              "1  154201  2769  0.000000\n",
              "2  166340  2547  0.016086\n",
              "3  908834  4736  0.999993\n",
              "4  823456  3489  0.886856\n",
              "5  166338  2207  0.016083\n",
              "6  823454  1551  0.886853\n",
              "7  831878  2461  0.898016"
            ]
          },
          "metadata": {},
          "execution_count": 4
        }
      ]
    },
    {
      "cell_type": "code",
      "metadata": {
        "id": "A0vi0Rz5ivjW"
      },
      "source": [
        "X=df[['art_norm','VTA']].to_numpy()"
      ],
      "execution_count": null,
      "outputs": []
    },
    {
      "cell_type": "markdown",
      "metadata": {
        "id": "xCg60M-7ivjV"
      },
      "source": [
        "##Se grafica la informacion sin agrupar"
      ]
    },
    {
      "cell_type": "code",
      "metadata": {
        "id": "k-cAh6OkivjW",
        "colab": {
          "base_uri": "https://localhost:8080/",
          "height": 441
        },
        "outputId": "eed9b7d5-9e1f-451f-fa21-41e18189e042"
      },
      "source": [
        "plt.figure(figsize=(12,6))\n",
        "plt.scatter(X[:,0],\n",
        "           X[:,1],\n",
        "           c='lightgray',\n",
        "           marker='o',\n",
        "           edgecolor='black',\n",
        "           s=50)\n",
        "plt.xlabel('id normalizado')\n",
        "plt.ylabel('Venta reconstruida')\n",
        "plt.title('Ventas pantalon chino',fontsize=24)\n",
        "plt.grid()\n",
        "plt.tight_layout()"
      ],
      "execution_count": null,
      "outputs": [
        {
          "output_type": "display_data",
          "data": {
            "image/png": "[encoded data removed]",
            "text/plain": [
              "<Figure size 864x432 with 1 Axes>"
            ]
          },
          "metadata": {
            "needs_background": "light"
          }
        }
      ]
    },
    {
      "cell_type": "markdown",
      "metadata": {
        "id": "v0sX8XEhVCWg"
      },
      "source": [
        "##Se aplica el método K-Means con diferentes centroides"
      ]
    },
    {
      "cell_type": "markdown",
      "metadata": {
        "id": "wob1dwN4ivjX"
      },
      "source": [
        "Se aplica el método de k-means desde 1 hasta 8 centroides para verificar su distorción con el método del codo. Esto nos ayuda a identificar el número de grupos que se requieren"
      ]
    },
    {
      "cell_type": "code",
      "metadata": {
        "id": "PdzJDl0hivjX"
      },
      "source": [
        "distorcions=[]\n",
        "for i in range(1,8):\n",
        "    km=KMeans(n_clusters=i,\n",
        "             init='k-means++',\n",
        "             n_init=10,\n",
        "             max_iter=300,\n",
        "             random_state=0)\n",
        "    km.fit(X)\n",
        "    distorcions.append(km.inertia_)"
      ],
      "execution_count": null,
      "outputs": []
    },
    {
      "cell_type": "code",
      "metadata": {
        "id": "2HbzI3UrivjY",
        "colab": {
          "base_uri": "https://localhost:8080/",
          "height": 441
        },
        "outputId": "3bd085c3-2ed7-44d2-aaa8-210f7491ba72"
      },
      "source": [
        "plt.figure(figsize=(12,6))\n",
        "plt.plot(range(1,8),distorcions,marker='o')\n",
        "plt.title('Metodo del codo',fontsize=24)\n",
        "plt.xlabel('Numero de clusters')\n",
        "plt.ylabel('Distociones')\n",
        "plt.tight_layout()\n",
        "plt.grid()\n",
        "plt.show()"
      ],
      "execution_count": null,
      "outputs": [
        {
          "output_type": "display_data",
          "data": {
            "image/png": "[encoded data removed]",
            "text/plain": [
              "<Figure size 864x432 with 1 Axes>"
            ]
          },
          "metadata": {
            "needs_background": "light"
          }
        }
      ]
    },
    {
      "cell_type": "markdown",
      "metadata": {
        "id": "SqTew4obVQzf"
      },
      "source": [
        "##Se usa el número de centroides ideal"
      ]
    },
    {
      "cell_type": "markdown",
      "metadata": {
        "id": "XSshMSBHivjY"
      },
      "source": [
        "Se identifica que el numero de grupos debe ser 3 porque a mayor numero de grupos las distorciones ya no se mejoran. La variable y_km guarda las clasificaciones."
      ]
    },
    {
      "cell_type": "code",
      "metadata": {
        "id": "hAJVgXSQivjZ"
      },
      "source": [
        "km=KMeans(n_clusters=3,\n",
        "         init='k-means++',\n",
        "         n_init=10,\n",
        "         max_iter=300,\n",
        "         tol=1e-4,\n",
        "         random_state=0)\n",
        "y_km=km.fit_predict(X)"
      ],
      "execution_count": null,
      "outputs": []
    },
    {
      "cell_type": "markdown",
      "metadata": {
        "id": "N5zEwPLVivjZ"
      },
      "source": [
        "Se grafican los grupos"
      ]
    },
    {
      "cell_type": "code",
      "metadata": {
        "id": "ZNoMd4C0ivjZ",
        "colab": {
          "base_uri": "https://localhost:8080/",
          "height": 441
        },
        "outputId": "828adf98-9edc-4f2d-f41a-1aeaa86ab8bc"
      },
      "source": [
        "plt.figure(figsize=(12,6))\n",
        "\n",
        "plt.scatter(X[y_km==0,0],\n",
        "           X[y_km==0,1],\n",
        "           s=50,marker='s',\n",
        "           c='lightgreen',edgecolor='black',\n",
        "           label='Grupo 0')\n",
        "\n",
        "plt.scatter(X[y_km==1,0],\n",
        "           X[y_km==1,1],\n",
        "           s=50,marker='o',\n",
        "           c='orange',edgecolor='black',\n",
        "           label='Grupo 1')\n",
        "\n",
        "plt.scatter(X[y_km==2,0],\n",
        "           X[y_km==2,1],\n",
        "           s=50,marker='v',\n",
        "           c='lightblue',edgecolor='black',\n",
        "           label='Grupo 2')\n",
        "\n",
        "plt.scatter(km.cluster_centers_[:,0],\n",
        "           km.cluster_centers_[:,1],\n",
        "           s=150,marker='*',\n",
        "           c='red',edgecolor='black',\n",
        "           label='Centroides')\n",
        "\n",
        "plt.legend(scatterpoints=1)\n",
        "plt.title('Metodo K-Means')\n",
        "plt.grid()\n",
        "plt.tight_layout()\n",
        "plt.show()"
      ],
      "execution_count": null,
      "outputs": [
        {
          "output_type": "display_data",
          "data": {
            "image/png": "[encoded data removed]",
            "text/plain": [
              "<Figure size 864x432 with 1 Axes>"
            ]
          },
          "metadata": {
            "needs_background": "light"
          }
        }
      ]
    },
    {
      "cell_type": "markdown",
      "metadata": {
        "id": "pJJB4adRVZUW"
      },
      "source": [
        "##Se obtiene la regla de compra"
      ]
    },
    {
      "cell_type": "markdown",
      "metadata": {
        "id": "iAssNPIJivja"
      },
      "source": [
        "Clasificación de regla de compra para el pantalón chino tomando los valores de los centroides"
      ]
    },
    {
      "cell_type": "code",
      "metadata": {
        "id": "tsaDpxTJVDkb",
        "colab": {
          "base_uri": "https://localhost:8080/"
        },
        "outputId": "5ca02326-a93b-4bb9-dea5-e07a6cd2cffa"
      },
      "source": [
        "sorted(km.cluster_centers_[:,1])"
      ],
      "execution_count": null,
      "outputs": [
        {
          "output_type": "execute_result",
          "data": {
            "text/plain": [
              "[2307.0, 3489.0, 4547.5]"
            ]
          },
          "metadata": {},
          "execution_count": 31
        }
      ]
    }
  ]
}