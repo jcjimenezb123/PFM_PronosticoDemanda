{
  "nbformat": 4,
  "nbformat_minor": 0,
  "metadata": {
    "colab": {
      "provenance": [],
      "authorship_tag": "ABX9TyMlnMSaxhTWT6jno6pbAEjI",
      "include_colab_link": true
    },
    "kernelspec": {
      "name": "python3",
      "display_name": "Python 3"
    },
    "language_info": {
      "name": "python"
    }
  },
  "cells": [
    {
      "cell_type": "markdown",
      "metadata": {
        "id": "view-in-github",
        "colab_type": "text"
      },
      "source": [
        "<a href=\"https://colab.research.google.com/github/jcjimenezb123/PFM_PronosticoDemanda/blob/master/redesneuronalesIntro1.ipynb\" target=\"_parent\"><img src=\"https://colab.research.google.com/assets/colab-badge.svg\" alt=\"Open In Colab\"/></a>"
      ]
    },
    {
      "cell_type": "code",
      "execution_count": null,
      "metadata": {
        "id": "1PHBaJIcnMUw"
      },
      "outputs": [],
      "source": [
        "import tensorflow as tf\n",
        "import numpy as np"
      ]
    },
    {
      "cell_type": "code",
      "source": [
        "#celsius=np.array([-40.,-10,0,8,15,22,38,10,20,30,40])\n",
        "#fahrenheit=np.array([-40,14,32,46,59,72,100,50,68,86,104])\n",
        "\n",
        "kelvin=np.array([1, 10,90,20,35,81,40,12.5])\n",
        "rankine=np.array([1.8,18,162,36,63,145.8,72,22.5])"
      ],
      "metadata": {
        "id": "GOQLRuPunqu-"
      },
      "execution_count": null,
      "outputs": []
    },
    {
      "cell_type": "code",
      "source": [
        "capa=tf.keras.layers.Dense(units=1,input_shape=[1]) #una entrada con una neurona\n",
        "modelo=tf.keras.Sequential([capa]) #modelo secuencial"
      ],
      "metadata": {
        "id": "NB3bez5moiTM"
      },
      "execution_count": null,
      "outputs": []
    },
    {
      "cell_type": "code",
      "source": [
        "modelo.compile(\n",
        "    optimizer=tf.keras.optimizers.Adam(0.1), #como ajustar los pesos y el sesgo\n",
        "    loss='mean_squared_error' #funcion de perdida\n",
        ")"
      ],
      "metadata": {
        "id": "GXHqFiBhpQIp"
      },
      "execution_count": null,
      "outputs": []
    },
    {
      "cell_type": "code",
      "source": [
        "print(modelo.summary())"
      ],
      "metadata": {
        "colab": {
          "base_uri": "https://localhost:8080/"
        },
        "id": "EeFNiANQzQtx",
        "outputId": "ba038aee-f0e6-43d7-ed74-97db117eea65"
      },
      "execution_count": null,
      "outputs": [
        {
          "output_type": "stream",
          "name": "stdout",
          "text": [
            "Model: \"sequential\"\n",
            "_________________________________________________________________\n",
            " Layer (type)                Output Shape              Param #   \n",
            "=================================================================\n",
            " dense (Dense)               (None, 1)                 2         \n",
            "                                                                 \n",
            "=================================================================\n",
            "Total params: 2\n",
            "Trainable params: 2\n",
            "Non-trainable params: 0\n",
            "_________________________________________________________________\n",
            "None\n"
          ]
        }
      ]
    },
    {
      "cell_type": "code",
      "source": [
        "print('inciando entrenamiento...')\n",
        "#historial=modelo.fit(celsius,fahrenheit,epochs=1000,verbose=False)\n",
        "historial=modelo.fit(kelvin,rankine,epochs=1000,verbose=False)\n",
        "print('entrenamiento finalizado! ')"
      ],
      "metadata": {
        "colab": {
          "base_uri": "https://localhost:8080/"
        },
        "id": "CFOjtk-nqQYe",
        "outputId": "472fcf11-89f7-4478-af04-2663c167b54b"
      },
      "execution_count": null,
      "outputs": [
        {
          "output_type": "stream",
          "name": "stdout",
          "text": [
            "inciando entrenamiento...\n",
            "entrenamiento finalizado! \n"
          ]
        }
      ]
    },
    {
      "cell_type": "code",
      "source": [
        "# Guarde el modelo entrenado como archivo hdf5\n",
        "# Guarde el diagrama del modelo y los pesos al mismo tiempo.\n",
        "modelo.save('modelo_entrenado.h5')  "
      ],
      "metadata": {
        "id": "Dtj32ojFzotP"
      },
      "execution_count": null,
      "outputs": []
    },
    {
      "cell_type": "code",
      "source": [
        "import matplotlib.pyplot as plt\n",
        "\n",
        "plt.plot(historial.history['loss'])\n",
        "plt.xlabel('Epocas')\n",
        "plt.ylabel('Perdida')\n",
        "plt.title('Entrenamiento de la red')\n",
        "plt.show()"
      ],
      "metadata": {
        "colab": {
          "base_uri": "https://localhost:8080/",
          "height": 295
        },
        "id": "dbxT7nUYqp1G",
        "outputId": "17c57eb5-546a-4b75-9318-d93353a2bac2"
      },
      "execution_count": null,
      "outputs": [
        {
          "output_type": "display_data",
          "data": {
            "text/plain": [
              "<Figure size 432x288 with 1 Axes>"
            ],
            "image/png": "[encoded data removed]"
          },
          "metadata": {
            "needs_background": "light"
          }
        }
      ]
    },
    {
      "cell_type": "code",
      "source": [
        "print('Haciendo la prediccion')\n",
        "resultado=modelo.predict([100,200])\n",
        "print(resultado) #valor correcto 212,392 #valor correcto 180,360"
      ],
      "metadata": {
        "colab": {
          "base_uri": "https://localhost:8080/"
        },
        "id": "2z6H22-0rYTS",
        "outputId": "2596a1de-b722-4f36-f6e7-9df5b1e8df8c"
      },
      "execution_count": null,
      "outputs": [
        {
          "output_type": "stream",
          "name": "stdout",
          "text": [
            "Haciendo la prediccion\n",
            "[[179.89865]\n",
            " [359.63232]]\n"
          ]
        }
      ]
    },
    {
      "cell_type": "code",
      "source": [
        "print('variables internas del modelo')\n",
        "print(capa.get_weights()) #muestra los pesos y el sesgo"
      ],
      "metadata": {
        "colab": {
          "base_uri": "https://localhost:8080/"
        },
        "id": "0kEEFs97sKfq",
        "outputId": "cb873896-2678-4a2c-818a-9ff21dd8f58e"
      },
      "execution_count": null,
      "outputs": [
        {
          "output_type": "stream",
          "name": "stdout",
          "text": [
            "variables internas del modelo\n",
            "[array([[1.7973367]], dtype=float32), array([0.16498539], dtype=float32)]\n"
          ]
        }
      ]
    },
    {
      "cell_type": "code",
      "source": [
        "print('Haciendo la prediccion')\n",
        "resultado=modelo.predict([100,200])\n",
        "print(resultado) #valor correcto 212,392"
      ],
      "metadata": {
        "colab": {
          "base_uri": "https://localhost:8080/"
        },
        "id": "wAV89CF90e4r",
        "outputId": "641c217a-8084-4a9f-cb1c-6f88e30f74a4"
      },
      "execution_count": null,
      "outputs": [
        {
          "output_type": "stream",
          "name": "stdout",
          "text": [
            "Haciendo la prediccion\n",
            "[[179.89865]\n",
            " [359.63232]]\n"
          ]
        }
      ]
    },
    {
      "cell_type": "code",
      "source": [
        "from keras.models import load_model\n",
        "  \n",
        "# Recargar el modelo\n",
        "modelo2 = load_model('modelo_entrenado.h5')"
      ],
      "metadata": {
        "id": "5D0qewGA0S8W"
      },
      "execution_count": null,
      "outputs": []
    },
    {
      "cell_type": "code",
      "source": [
        "print('Haciendo la prediccion')\n",
        "resultado=modelo2.predict([100,200])\n",
        "print(resultado) #valor correcto 212,392"
      ],
      "metadata": {
        "colab": {
          "base_uri": "https://localhost:8080/"
        },
        "id": "aPgcUSL7955m",
        "outputId": "2536e782-d7a4-4a50-f045-cc9e37c8ee6f"
      },
      "execution_count": null,
      "outputs": [
        {
          "output_type": "stream",
          "name": "stdout",
          "text": [
            "Haciendo la prediccion\n",
            "[[212.12158]\n",
            " [392.51337]]\n"
          ]
        }
      ]
    },
    {
      "cell_type": "code",
      "source": [
        "oculta1=tf.keras.layers.Dense(units=3,input_shape=[1])\n",
        "oculta2=tf.keras.layers.Dense(units=3)\n",
        "salida=tf.keras.layers.Dense(units=1)\n",
        "modelo=tf.keras.Sequential([oculta1,oculta2,salida])"
      ],
      "metadata": {
        "id": "yBwWqgiksltf"
      },
      "execution_count": null,
      "outputs": []
    },
    {
      "cell_type": "code",
      "source": [
        "print('variables internas del modelo')\n",
        "print(oculta1.get_weights()) #muestra los pesos y el sesgo\n",
        "print(oculta2.get_weights()) #muestra los pesos y el sesgo\n",
        "print(salida.get_weights()) #muestra los pesos y el sesgo"
      ],
      "metadata": {
        "colab": {
          "base_uri": "https://localhost:8080/"
        },
        "id": "xMAxSS93uXw3",
        "outputId": "e125d6e0-7124-4a17-ee85-b2e49fc5ff25"
      },
      "execution_count": null,
      "outputs": [
        {
          "output_type": "stream",
          "name": "stdout",
          "text": [
            "variables internas del modelo\n",
            "[array([[ 0.51472235, -0.62056124,  0.21176958]], dtype=float32), array([ 3.6830595, -3.692125 , -3.6924775], dtype=float32)]\n",
            "[array([[-0.52738583, -0.9705716 ,  0.7376793 ],\n",
            "       [-0.77733517,  0.9197766 , -0.90468776],\n",
            "       [-0.4664541 ,  1.2039813 , -0.22070648]], dtype=float32), array([ 3.2871253, -3.7499506,  3.678018 ], dtype=float32)]\n",
            "[array([[ 0.28206336],\n",
            "       [-1.0549899 ],\n",
            "       [ 1.0143915 ]], dtype=float32), array([3.597682], dtype=float32)]\n"
          ]
        }
      ]
    },
    {
      "cell_type": "code",
      "source": [
        "from keras.models import Sequential\n",
        "from keras.layers import Dense\n",
        "from keras.optimizers import SGD\n",
        "import numpy as np\n",
        "import matplotlib.pyplot as plt\n",
        "\n",
        "\n",
        "#training data\n",
        "trainX=np.array([-40.,-10,0,8,15,22,38,10,20,30,40])\n",
        "trainy=np.array([-40,14,32,46,59,72,100,50,68,86,104])\n",
        "\n",
        "testX=np.array([100,150,180.5])\n",
        "testy=np.array([212,302,356.9])\n",
        "\n",
        "# define model\n",
        "model = Sequential()\n",
        "model.add(Dense(1, input_dim=1, activation='linear'))\n",
        "opt = SGD(learning_rate=0.001, momentum=0.9)\n",
        "model.compile(loss='mean_squared_error', optimizer=opt)\n",
        "# fit model\n",
        "history = model.fit(trainX, trainy, validation_data=(testX, testy), \n",
        "                    epochs=300, verbose=0)\n",
        "# evaluate the model\n",
        "train_mse = model.evaluate(trainX, trainy, verbose=0)\n",
        "test_mse = model.evaluate(testX, testy, verbose=0)\n",
        "\n",
        "print('Model structure\\n')\n",
        "print(model.summary())\n",
        "\n",
        "print('\\nfited parameters')\n",
        "print(model.get_weights()) #weights and bias\n",
        "\n",
        "print('\\nTrain: %.3f, Test: %.3f' % (train_mse, test_mse))\n",
        "\n",
        "pred = model.predict(testX, verbose=0)\n",
        "print('\\nPredicted vs Real values')\n",
        "print(pred,testy)\n",
        "\n",
        "# plot loss during training\n",
        "plt.title('Loss / Mean Squared Error')\n",
        "plt.plot(history.history['loss'], label='train')\n",
        "plt.plot(history.history['val_loss'], label='test')\n",
        "plt.xlabel('Epoch')\n",
        "plt.ylabel('MSE')\n",
        "plt.legend()\n",
        "plt.show()"
      ],
      "metadata": {
        "id": "lE3D2DXvudq5",
        "outputId": "2fcb9746-63be-4fb4-d88b-794552594bc1",
        "colab": {
          "base_uri": "https://localhost:8080/",
          "height": 749
        }
      },
      "execution_count": 7,
      "outputs": [
        {
          "output_type": "stream",
          "name": "stdout",
          "text": [
            "Model structure\n",
            "\n",
            "Model: \"sequential_6\"\n",
            "_________________________________________________________________\n",
            " Layer (type)                Output Shape              Param #   \n",
            "=================================================================\n",
            " dense_6 (Dense)             (None, 1)                 2         \n",
            "                                                                 \n",
            "=================================================================\n",
            "Total params: 2\n",
            "Trainable params: 2\n",
            "Non-trainable params: 0\n",
            "_________________________________________________________________\n"
          ]
        },
        {
          "output_type": "stream",
          "name": "stderr",
          "text": [
            "WARNING:tensorflow:6 out of the last 6 calls to <function Model.make_predict_function.<locals>.predict_function at 0x7fbac5e21a60> triggered tf.function retracing. Tracing is expensive and the excessive number of tracings could be due to (1) creating @tf.function repeatedly in a loop, (2) passing tensors with different shapes, (3) passing Python objects instead of tensors. For (1), please define your @tf.function outside of the loop. For (2), @tf.function has reduce_retracing=True option that can avoid unnecessary retracing. For (3), please refer to https://www.tensorflow.org/guide/function#controlling_retracing and https://www.tensorflow.org/api_docs/python/tf/function for  more details.\n"
          ]
        },
        {
          "output_type": "stream",
          "name": "stdout",
          "text": [
            "None\n",
            "\n",
            "fited parameters\n",
            "[array([[1.801989]], dtype=float32), array([31.824581], dtype=float32)]\n",
            "\n",
            "Train: 0.059, Test: 0.016\n",
            "\n",
            "Predicted vs Real values\n",
            "[[212.02348]\n",
            " [302.12292]\n",
            " [357.0836 ]] [212.  302.  356.9]\n"
          ]
        },
        {
          "output_type": "display_data",
          "data": {
            "text/plain": [
              "<Figure size 432x288 with 1 Axes>"
            ],
            "image/png": "[encoded data removed]"
          },
          "metadata": {
            "needs_background": "light"
          }
        }
      ]
    },
    {
      "cell_type": "code",
      "source": [
        "# mlp for the circles problem with cross entropy loss\n",
        "from sklearn.datasets import make_circles\n",
        "from keras.models import Sequential\n",
        "from keras.layers import Dense\n",
        "from keras.optimizers import SGD\n",
        "from matplotlib import pyplot\n",
        "import pandas as pd\n",
        "# generate 2d classification dataset\n",
        "#X, y = make_circles(n_samples=1000, noise=0.1, random_state=1)\n",
        "df = pd.DataFrame({\n",
        "    \"x0\": [0.3, 0.1, 0.4, 0.5],\n",
        "    \"x1\": [0.7, 0.2, 0.3, 0.8],\n",
        "    \"y\": [1, 0, 0, 1]\n",
        "})\n",
        "\n",
        "y = df.pop(\"y\")\n",
        "X = df\n",
        "\n",
        "# split into train and test\n",
        "n_train = 4\n",
        "trainX, testX = X, X\n",
        "trainy, testy = y,y\n",
        "# define model\n",
        "model = Sequential()\n",
        "model.add(Dense(2, input_dim=2, activation='relu', kernel_initializer='he_uniform'))\n",
        "model.add(Dense(1, activation='sigmoid'))\n",
        "opt = SGD(learning_rate=0.1, momentum=0.9)\n",
        "model.compile(loss='binary_crossentropy', optimizer=opt, metrics=['accuracy'])\n",
        "# fit model\n",
        "history = model.fit(trainX, trainy, \n",
        "                    validation_data=(testX, testy), \n",
        "                    epochs=100, verbose=0)\n",
        "# evaluate the model\n",
        "_, train_acc = model.evaluate(trainX, trainy, verbose=0)\n",
        "_, test_acc = model.evaluate(testX, testy, verbose=0)\n",
        "print('Train: %.3f, Test: %.3f' % (train_acc, test_acc))\n",
        "\n",
        "print('Model structure\\n')\n",
        "print(model.summary())\n",
        "\n",
        "print('\\nfited parameters')\n",
        "#print(model.get_weights()) #weights and bias\n",
        "for lay in model.layers:\n",
        "    print(lay.name)\n",
        "    print(lay.get_weights())\n",
        "\n",
        "pred = model.predict(testX, verbose=0)\n",
        "print('\\nPredicted vs Real values')\n",
        "print(pred,testy)\n",
        "\n",
        "# plot loss during training\n",
        "pyplot.subplot(211)\n",
        "pyplot.title('Loss')\n",
        "pyplot.plot(history.history['loss'], label='train')\n",
        "pyplot.plot(history.history['val_loss'], label='test')\n",
        "pyplot.legend()\n",
        "# plot accuracy during training\n",
        "pyplot.subplot(212)\n",
        "pyplot.title('Accuracy')\n",
        "pyplot.plot(history.history['accuracy'], label='train')\n",
        "pyplot.plot(history.history['val_accuracy'], label='test')\n",
        "pyplot.legend()\n",
        "pyplot.show()"
      ],
      "metadata": {
        "colab": {
          "base_uri": "https://localhost:8080/",
          "height": 888
        },
        "id": "SXad1dyPURbj",
        "outputId": "7127611b-3578-434a-f75a-ab6de17a47e4"
      },
      "execution_count": 24,
      "outputs": [
        {
          "output_type": "stream",
          "name": "stdout",
          "text": [
            "Train: 1.000, Test: 1.000\n",
            "Model structure\n",
            "\n",
            "Model: \"sequential_20\"\n",
            "_________________________________________________________________\n",
            " Layer (type)                Output Shape              Param #   \n",
            "=================================================================\n",
            " dense_33 (Dense)            (None, 2)                 6         \n",
            "                                                                 \n",
            " dense_34 (Dense)            (None, 1)                 3         \n",
            "                                                                 \n",
            "=================================================================\n",
            "Total params: 9\n",
            "Trainable params: 9\n",
            "Non-trainable params: 0\n",
            "_________________________________________________________________\n",
            "None\n",
            "\n",
            "fited parameters\n",
            "dense_33\n",
            "[array([[-1.6577477 , -0.29805866],\n",
            "       [-0.4329697 ,  4.3671527 ]], dtype=float32), array([ 0.      , -1.194127], dtype=float32)]\n",
            "dense_34\n",
            "[array([[-1.0927908],\n",
            "       [ 4.5178294]], dtype=float32), array([-3.5304255], dtype=float32)]\n",
            "\n",
            "Predicted vs Real values\n",
            "[[0.9888132 ]\n",
            " [0.02845882]\n",
            " [0.02845882]\n",
            " [0.9979451 ]] 0    1\n",
            "1    0\n",
            "2    0\n",
            "3    1\n",
            "Name: y, dtype: int64\n"
          ]
        },
        {
          "output_type": "display_data",
          "data": {
            "text/plain": [
              "<Figure size 432x288 with 2 Axes>"
            ],
            "image/png": "[encoded data removed]"
          },
          "metadata": {
            "needs_background": "light"
          }
        }
      ]
    },
    {
      "cell_type": "code",
      "source": [
        "# mlp for the blobs multi-class classification problem with cross-entropy loss\n",
        "from sklearn.datasets import make_blobs\n",
        "from keras.layers import Dense\n",
        "from keras.models import Sequential\n",
        "from keras.optimizers import SGD\n",
        "from keras.utils import to_categorical\n",
        "from matplotlib import pyplot\n",
        "# generate 2d classification dataset\n",
        "X, y = make_blobs(n_samples=1000, centers=3, n_features=2, cluster_std=2, random_state=2)\n",
        "# one hot encode output variable\n",
        "y = to_categorical(y)\n",
        "# split into train and test\n",
        "n_train = 500\n",
        "trainX, testX = X[:n_train, :], X[n_train:, :]\n",
        "trainy, testy = y[:n_train], y[n_train:]\n",
        "# define model\n",
        "model = Sequential()\n",
        "model.add(Dense(50, input_dim=2, activation='relu', kernel_initializer='he_uniform'))\n",
        "model.add(Dense(3, activation='softmax'))\n",
        "# compile model\n",
        "opt = SGD(learning_rate=0.01, momentum=0.9)\n",
        "model.compile(loss='categorical_crossentropy', optimizer=opt, metrics=['accuracy'])\n",
        "# fit model\n",
        "history = model.fit(trainX, trainy, validation_data=(testX, testy), epochs=100, verbose=0)\n",
        "# evaluate the model\n",
        "_, train_acc = model.evaluate(trainX, trainy, verbose=0)\n",
        "_, test_acc = model.evaluate(testX, testy, verbose=0)\n",
        "print('Train: %.3f, Test: %.3f' % (train_acc, test_acc))\n",
        "# plot loss during training\n",
        "pyplot.subplot(211)\n",
        "pyplot.title('Loss')\n",
        "pyplot.plot(history.history['loss'], label='train')\n",
        "pyplot.plot(history.history['val_loss'], label='test')\n",
        "pyplot.legend()\n",
        "# plot accuracy during training\n",
        "pyplot.subplot(212)\n",
        "pyplot.title('Accuracy')\n",
        "pyplot.plot(history.history['accuracy'], label='train')\n",
        "pyplot.plot(history.history['val_accuracy'], label='test')\n",
        "pyplot.legend()\n",
        "pyplot.show()"
      ],
      "metadata": {
        "colab": {
          "base_uri": "https://localhost:8080/",
          "height": 298
        },
        "id": "rxE7fWFTzwam",
        "outputId": "fb88eefe-ec3e-43c4-ac64-a347fe4962fb"
      },
      "execution_count": 26,
      "outputs": [
        {
          "output_type": "stream",
          "name": "stdout",
          "text": [
            "Train: 0.828, Test: 0.824\n"
          ]
        },
        {
          "output_type": "display_data",
          "data": {
            "text/plain": [
              "<Figure size 432x288 with 2 Axes>"
            ],
            "image/png": "[encoded data removed]"
          },
          "metadata": {
            "needs_background": "light"
          }
        }
      ]
    },
    {
      "cell_type": "code",
      "source": [
        "# first neural network with keras make predictions\n",
        "from numpy import loadtxt\n",
        "from keras.models import Sequential\n",
        "from keras.layers import Dense\n",
        "# load the dataset\n",
        "dataset = loadtxt('pima-indians-diabetes.csv', delimiter=',')\n",
        "# split into input (X) and output (y) variables\n",
        "X = dataset[:,0:8]\n",
        "y = dataset[:,8]\n",
        "# define the keras model\n",
        "model = Sequential()\n",
        "model.add(Dense(12, input_shape=(8,), activation='relu'))\n",
        "model.add(Dense(8, activation='relu'))\n",
        "model.add(Dense(1, activation='sigmoid'))\n",
        "print(model.summary())\n",
        "# compile the keras model\n",
        "model.compile(loss='binary_crossentropy', optimizer='adam', metrics=['accuracy'])\n",
        "# fit the keras model on the dataset\n",
        "model.fit(X, y, epochs=150, batch_size=10, verbose=0)\n",
        "# make class predictions with the model\n",
        "predictions = (model.predict(X) > 0.5).astype(int)\n",
        "# summarize the first 5 cases\n",
        "for i in range(5):\n",
        "\tprint('%s => %d (expected %d)' % (X[i].tolist(), predictions[i], y[i]))"
      ],
      "metadata": {
        "colab": {
          "base_uri": "https://localhost:8080/"
        },
        "id": "rqTSVqwaH_5T",
        "outputId": "3f6cf840-79e9-4bd9-f6e3-6d9a016b4bc7"
      },
      "execution_count": 4,
      "outputs": [
        {
          "output_type": "stream",
          "name": "stdout",
          "text": [
            "Model: \"sequential_2\"\n",
            "_________________________________________________________________\n",
            " Layer (type)                Output Shape              Param #   \n",
            "=================================================================\n",
            " dense_6 (Dense)             (None, 12)                108       \n",
            "                                                                 \n",
            " dense_7 (Dense)             (None, 8)                 104       \n",
            "                                                                 \n",
            " dense_8 (Dense)             (None, 1)                 9         \n",
            "                                                                 \n",
            "=================================================================\n",
            "Total params: 221\n",
            "Trainable params: 221\n",
            "Non-trainable params: 0\n",
            "_________________________________________________________________\n",
            "None\n",
            "24/24 [==============================] - 0s 1ms/step\n",
            "[6.0, 148.0, 72.0, 35.0, 0.0, 33.6, 0.627, 50.0] => 1 (expected 1)\n",
            "[1.0, 85.0, 66.0, 29.0, 0.0, 26.6, 0.351, 31.0] => 0 (expected 0)\n",
            "[8.0, 183.0, 64.0, 0.0, 0.0, 23.3, 0.672, 32.0] => 1 (expected 1)\n",
            "[1.0, 89.0, 66.0, 23.0, 94.0, 28.1, 0.167, 21.0] => 0 (expected 0)\n",
            "[0.0, 137.0, 40.0, 35.0, 168.0, 43.1, 2.288, 33.0] => 1 (expected 1)\n"
          ]
        }
      ]
    }
  ]
}