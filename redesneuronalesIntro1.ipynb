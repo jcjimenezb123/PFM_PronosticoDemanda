{
  "nbformat": 4,
  "nbformat_minor": 0,
  "metadata": {
    "colab": {
      "provenance": [],
      "authorship_tag": "ABX9TyN5FtpTONOzQQo7z+biLtK2",
      "include_colab_link": true
    },
    "kernelspec": {
      "name": "python3",
      "display_name": "Python 3"
    },
    "language_info": {
      "name": "python"
    }
  },
  "cells": [
    {
      "cell_type": "markdown",
      "metadata": {
        "id": "view-in-github",
        "colab_type": "text"
      },
      "source": [
        "<a href=\"https://colab.research.google.com/github/jcjimenezb123/PFM_PronosticoDemanda/blob/master/redesneuronalesIntro1.ipynb\" target=\"_parent\"><img src=\"https://colab.research.google.com/assets/colab-badge.svg\" alt=\"Open In Colab\"/></a>"
      ]
    },
    {
      "cell_type": "code",
      "execution_count": null,
      "metadata": {
        "id": "1PHBaJIcnMUw"
      },
      "outputs": [],
      "source": [
        "import tensorflow as tf\n",
        "import numpy as np"
      ]
    },
    {
      "cell_type": "code",
      "source": [
        "#celsius=np.array([-40.,-10,0,8,15,22,38,10,20,30,40])\n",
        "#fahrenheit=np.array([-40,14,32,46,59,72,100,50,68,86,104])\n",
        "\n",
        "kelvin=np.array([1, 10,90,20,35,81,40,12.5])\n",
        "rankine=np.array([1.8,18,162,36,63,145.8,72,22.5])"
      ],
      "metadata": {
        "id": "GOQLRuPunqu-"
      },
      "execution_count": null,
      "outputs": []
    },
    {
      "cell_type": "code",
      "source": [
        "capa=tf.keras.layers.Dense(units=1,input_shape=[1]) #una entrada con una neurona\n",
        "modelo=tf.keras.Sequential([capa]) #modelo secuencial"
      ],
      "metadata": {
        "id": "NB3bez5moiTM"
      },
      "execution_count": null,
      "outputs": []
    },
    {
      "cell_type": "code",
      "source": [
        "modelo.compile(\n",
        "    optimizer=tf.keras.optimizers.Adam(0.1), #como ajustar los pesos y el sesgo\n",
        "    loss='mean_squared_error' #funcion de perdida\n",
        ")"
      ],
      "metadata": {
        "id": "GXHqFiBhpQIp"
      },
      "execution_count": null,
      "outputs": []
    },
    {
      "cell_type": "code",
      "source": [
        "print(modelo.summary())"
      ],
      "metadata": {
        "colab": {
          "base_uri": "https://localhost:8080/"
        },
        "id": "EeFNiANQzQtx",
        "outputId": "ba038aee-f0e6-43d7-ed74-97db117eea65"
      },
      "execution_count": null,
      "outputs": [
        {
          "output_type": "stream",
          "name": "stdout",
          "text": [
            "Model: \"sequential\"\n",
            "_________________________________________________________________\n",
            " Layer (type)                Output Shape              Param #   \n",
            "=================================================================\n",
            " dense (Dense)               (None, 1)                 2         \n",
            "                                                                 \n",
            "=================================================================\n",
            "Total params: 2\n",
            "Trainable params: 2\n",
            "Non-trainable params: 0\n",
            "_________________________________________________________________\n",
            "None\n"
          ]
        }
      ]
    },
    {
      "cell_type": "code",
      "source": [
        "print('inciando entrenamiento...')\n",
        "#historial=modelo.fit(celsius,fahrenheit,epochs=1000,verbose=False)\n",
        "historial=modelo.fit(kelvin,rankine,epochs=1000,verbose=False)\n",
        "print('entrenamiento finalizado! ')"
      ],
      "metadata": {
        "colab": {
          "base_uri": "https://localhost:8080/"
        },
        "id": "CFOjtk-nqQYe",
        "outputId": "472fcf11-89f7-4478-af04-2663c167b54b"
      },
      "execution_count": null,
      "outputs": [
        {
          "output_type": "stream",
          "name": "stdout",
          "text": [
            "inciando entrenamiento...\n",
            "entrenamiento finalizado! \n"
          ]
        }
      ]
    },
    {
      "cell_type": "code",
      "source": [
        "# Guarde el modelo entrenado como archivo hdf5\n",
        "# Guarde el diagrama del modelo y los pesos al mismo tiempo.\n",
        "modelo.save('modelo_entrenado.h5')  "
      ],
      "metadata": {
        "id": "Dtj32ojFzotP"
      },
      "execution_count": null,
      "outputs": []
    },
    {
      "cell_type": "code",
      "source": [
        "import matplotlib.pyplot as plt\n",
        "\n",
        "plt.plot(historial.history['loss'])\n",
        "plt.xlabel('Epocas')\n",
        "plt.ylabel('Perdida')\n",
        "plt.title('Entrenamiento de la red')\n",
        "plt.show()"
      ],
      "metadata": {
        "colab": {
          "base_uri": "https://localhost:8080/",
          "height": 295
        },
        "id": "dbxT7nUYqp1G",
        "outputId": "17c57eb5-546a-4b75-9318-d93353a2bac2"
      },
      "execution_count": null,
      "outputs": [
        {
          "output_type": "display_data",
          "data": {
            "text/plain": [
              "<Figure size 432x288 with 1 Axes>"
            ],
            "image/png": "[encoded data removed]"
          },
          "metadata": {
            "needs_background": "light"
          }
        }
      ]
    },
    {
      "cell_type": "code",
      "source": [
        "print('Haciendo la prediccion')\n",
        "resultado=modelo.predict([100,200])\n",
        "print(resultado) #valor correcto 212,392 #valor correcto 180,360"
      ],
      "metadata": {
        "colab": {
          "base_uri": "https://localhost:8080/"
        },
        "id": "2z6H22-0rYTS",
        "outputId": "2596a1de-b722-4f36-f6e7-9df5b1e8df8c"
      },
      "execution_count": null,
      "outputs": [
        {
          "output_type": "stream",
          "name": "stdout",
          "text": [
            "Haciendo la prediccion\n",
            "[[179.89865]\n",
            " [359.63232]]\n"
          ]
        }
      ]
    },
    {
      "cell_type": "code",
      "source": [
        "print('variables internas del modelo')\n",
        "print(capa.get_weights()) #muestra los pesos y el sesgo"
      ],
      "metadata": {
        "colab": {
          "base_uri": "https://localhost:8080/"
        },
        "id": "0kEEFs97sKfq",
        "outputId": "cb873896-2678-4a2c-818a-9ff21dd8f58e"
      },
      "execution_count": null,
      "outputs": [
        {
          "output_type": "stream",
          "name": "stdout",
          "text": [
            "variables internas del modelo\n",
            "[array([[1.7973367]], dtype=float32), array([0.16498539], dtype=float32)]\n"
          ]
        }
      ]
    },
    {
      "cell_type": "code",
      "source": [
        "print('Haciendo la prediccion')\n",
        "resultado=modelo.predict([100,200])\n",
        "print(resultado) #valor correcto 212,392"
      ],
      "metadata": {
        "colab": {
          "base_uri": "https://localhost:8080/"
        },
        "id": "wAV89CF90e4r",
        "outputId": "641c217a-8084-4a9f-cb1c-6f88e30f74a4"
      },
      "execution_count": null,
      "outputs": [
        {
          "output_type": "stream",
          "name": "stdout",
          "text": [
            "Haciendo la prediccion\n",
            "[[179.89865]\n",
            " [359.63232]]\n"
          ]
        }
      ]
    },
    {
      "cell_type": "code",
      "source": [
        "from keras.models import load_model\n",
        "  \n",
        "# Recargar el modelo\n",
        "modelo2 = load_model('modelo_entrenado.h5')"
      ],
      "metadata": {
        "id": "5D0qewGA0S8W"
      },
      "execution_count": null,
      "outputs": []
    },
    {
      "cell_type": "code",
      "source": [
        "print('Haciendo la prediccion')\n",
        "resultado=modelo2.predict([100,200])\n",
        "print(resultado) #valor correcto 212,392"
      ],
      "metadata": {
        "colab": {
          "base_uri": "https://localhost:8080/"
        },
        "id": "aPgcUSL7955m",
        "outputId": "2536e782-d7a4-4a50-f045-cc9e37c8ee6f"
      },
      "execution_count": null,
      "outputs": [
        {
          "output_type": "stream",
          "name": "stdout",
          "text": [
            "Haciendo la prediccion\n",
            "[[212.12158]\n",
            " [392.51337]]\n"
          ]
        }
      ]
    },
    {
      "cell_type": "code",
      "source": [
        "oculta1=tf.keras.layers.Dense(units=3,input_shape=[1])\n",
        "oculta2=tf.keras.layers.Dense(units=3)\n",
        "salida=tf.keras.layers.Dense(units=1)\n",
        "modelo=tf.keras.Sequential([oculta1,oculta2,salida])"
      ],
      "metadata": {
        "id": "yBwWqgiksltf"
      },
      "execution_count": null,
      "outputs": []
    },
    {
      "cell_type": "code",
      "source": [
        "print('variables internas del modelo')\n",
        "print(oculta1.get_weights()) #muestra los pesos y el sesgo\n",
        "print(oculta2.get_weights()) #muestra los pesos y el sesgo\n",
        "print(salida.get_weights()) #muestra los pesos y el sesgo"
      ],
      "metadata": {
        "colab": {
          "base_uri": "https://localhost:8080/"
        },
        "id": "xMAxSS93uXw3",
        "outputId": "e125d6e0-7124-4a17-ee85-b2e49fc5ff25"
      },
      "execution_count": null,
      "outputs": [
        {
          "output_type": "stream",
          "name": "stdout",
          "text": [
            "variables internas del modelo\n",
            "[array([[ 0.51472235, -0.62056124,  0.21176958]], dtype=float32), array([ 3.6830595, -3.692125 , -3.6924775], dtype=float32)]\n",
            "[array([[-0.52738583, -0.9705716 ,  0.7376793 ],\n",
            "       [-0.77733517,  0.9197766 , -0.90468776],\n",
            "       [-0.4664541 ,  1.2039813 , -0.22070648]], dtype=float32), array([ 3.2871253, -3.7499506,  3.678018 ], dtype=float32)]\n",
            "[array([[ 0.28206336],\n",
            "       [-1.0549899 ],\n",
            "       [ 1.0143915 ]], dtype=float32), array([3.597682], dtype=float32)]\n"
          ]
        }
      ]
    },
    {
      "cell_type": "code",
      "source": [
        "from keras.models import Sequential\n",
        "from keras.layers import Dense\n",
        "from keras.optimizers import SGD\n",
        "import numpy as np\n",
        "import matplotlib.pyplot as plt\n",
        "\n",
        "\n",
        "#training data\n",
        "trainX=np.array([-40.,-10,0,8,15,22,38,10,20,30,40])\n",
        "trainy=np.array([-40,14,32,46,59,72,100,50,68,86,104])\n",
        "#test data\n",
        "testX=np.array([100,150,180.5])\n",
        "testy=np.array([212,302,356.9])\n",
        "\n",
        "# define model\n",
        "model = Sequential()\n",
        "model.add(Dense(1, input_dim=1, activation='linear'))\n",
        "opt = SGD(learning_rate=0.001, momentum=0.9)\n",
        "model.compile(loss='mean_squared_error', optimizer=opt)\n",
        "# fit model\n",
        "history = model.fit(trainX, trainy, validation_data=(testX, testy), \n",
        "                    epochs=300, verbose=0)\n",
        "# evaluate the model\n",
        "train_mse = model.evaluate(trainX, trainy, verbose=0)\n",
        "test_mse = model.evaluate(testX, testy, verbose=0)\n",
        "\n",
        "print('Model structure\\n\\n')\n",
        "print(model.summary())\n",
        "\n",
        "print('\\nfited parameters')\n",
        "print(model.get_weights()) #weights and bias\n",
        "\n",
        "print('\\nTrain: %.3f, Test: %.3f' % (train_mse, test_mse))\n",
        "\n",
        "pred = model.predict(testX, verbose=0)\n",
        "print('\\nPredicted vs Real values')\n",
        "print(pred,testy)\n",
        "\n",
        "# plot loss during training\n",
        "plt.title('Loss / Mean Squared Error')\n",
        "plt.plot(history.history['loss'], label='train')\n",
        "plt.plot(history.history['val_loss'], label='test')\n",
        "plt.xlabel('Epoch')\n",
        "plt.ylabel('MSE')\n",
        "plt.legend()\n",
        "plt.show()"
      ],
      "metadata": {
        "id": "lE3D2DXvudq5",
        "outputId": "2e12c68d-d388-460f-e294-c7b47206258d",
        "colab": {
          "base_uri": "https://localhost:8080/",
          "height": 729
        }
      },
      "execution_count": 4,
      "outputs": [
        {
          "output_type": "stream",
          "name": "stdout",
          "text": [
            "Model structure\n",
            "\n",
            "\n",
            "Model: \"sequential_3\"\n",
            "_________________________________________________________________\n",
            " Layer (type)                Output Shape              Param #   \n",
            "=================================================================\n",
            " dense_3 (Dense)             (None, 1)                 2         \n",
            "                                                                 \n",
            "=================================================================\n",
            "Total params: 2\n",
            "Trainable params: 2\n",
            "Non-trainable params: 0\n",
            "_________________________________________________________________\n",
            "None\n",
            "\n",
            "fited parameters\n",
            "[array([[1.8019918]], dtype=float32), array([31.824429], dtype=float32)]\n",
            "\n",
            "Train: 0.059, Test: 0.017\n",
            "\n",
            "Predicted vs Real values\n",
            "[[212.02362]\n",
            " [302.1232 ]\n",
            " [357.08395]] [212.  302.  356.9]\n"
          ]
        },
        {
          "output_type": "display_data",
          "data": {
            "text/plain": [
              "<Figure size 432x288 with 1 Axes>"
            ],
            "image/png": "[encoded data removed]"
          },
          "metadata": {
            "needs_background": "light"
          }
        }
      ]
    },
    {
      "cell_type": "code",
      "source": [
        "# first neural network with keras make predictions\n",
        "from keras.models import Sequential\n",
        "from keras.layers import Dense\n",
        "import pandas as pd\n",
        "from matplotlib import pyplot\n",
        "\n",
        "df=pd.read_csv('diabetes.csv')\n",
        "print(df.shape)\n",
        "# split into input (X) and output (y) variables\n",
        "X = df.iloc[:,0:8].to_numpy()\n",
        "y = df.iloc[:,8].to_numpy()\n",
        "# split into train and test\n",
        "n_train = 500\n",
        "trainX, testX = X[:n_train, :], X[n_train:, :]\n",
        "trainy, testy = y[:n_train], y[n_train:]\n",
        "\n",
        "# define the keras model\n",
        "model = Sequential()\n",
        "model.add(Dense(12, input_shape=(8,), activation='relu'))\n",
        "model.add(Dense(8, activation='relu'))\n",
        "model.add(Dense(1, activation='sigmoid'))\n",
        "print(model.summary())\n",
        "# compile the keras model\n",
        "model.compile(loss='binary_crossentropy', optimizer='adam', \n",
        "              metrics=['accuracy'])\n",
        "# fit the keras model on the dataset\n",
        "history = model.fit(trainX, trainy, validation_data=(testX, testy), \n",
        "                    epochs=200, batch_size=10, verbose=0)\n",
        "# make class predictions with the model\n",
        "predictions = (model.predict(testX) > 0.5).astype(int)\n",
        "# summarize the first 5 cases\n",
        "for i in range(10):\n",
        "\tprint('%s => %d (expected %d)' % (testX[i].tolist(), \n",
        "                                   predictions[i], testy[i]))\n",
        "\n",
        "# Evaluate the model\n",
        "scores = model.evaluate(trainX, trainy)\n",
        "print(\"\\n%s: %.2f%%\" % (model.metrics_names[1], scores[1]*100))\n",
        "\n",
        "# plot loss during training\n",
        "pyplot.subplot(211)\n",
        "pyplot.title('Loss')\n",
        "pyplot.plot(history.history['loss'], label='train')\n",
        "pyplot.plot(history.history['val_loss'], label='test')\n",
        "pyplot.legend()\n",
        "# plot accuracy during training\n",
        "pyplot.subplot(212)\n",
        "pyplot.title('Accuracy')\n",
        "pyplot.plot(history.history['accuracy'], label='train')\n",
        "pyplot.plot(history.history['val_accuracy'], label='test')\n",
        "pyplot.legend()\n",
        "pyplot.show()"
      ],
      "metadata": {
        "colab": {
          "base_uri": "https://localhost:8080/",
          "height": 819
        },
        "id": "rqTSVqwaH_5T",
        "outputId": "7406cb0e-fc22-4b02-b5ed-35a320c77d21"
      },
      "execution_count": 22,
      "outputs": [
        {
          "output_type": "stream",
          "name": "stdout",
          "text": [
            "(768, 9)\n",
            "Model: \"sequential_16\"\n",
            "_________________________________________________________________\n",
            " Layer (type)                Output Shape              Param #   \n",
            "=================================================================\n",
            " dense_48 (Dense)            (None, 12)                108       \n",
            "                                                                 \n",
            " dense_49 (Dense)            (None, 8)                 104       \n",
            "                                                                 \n",
            " dense_50 (Dense)            (None, 1)                 9         \n",
            "                                                                 \n",
            "=================================================================\n",
            "Total params: 221\n",
            "Trainable params: 221\n",
            "Non-trainable params: 0\n",
            "_________________________________________________________________\n",
            "None\n",
            "9/9 [==============================] - 0s 2ms/step\n",
            "[2.0, 117.0, 90.0, 19.0, 71.0, 25.2, 0.313, 21.0] => 0 (expected 0)\n",
            "[3.0, 84.0, 72.0, 32.0, 0.0, 37.2, 0.267, 28.0] => 0 (expected 0)\n",
            "[6.0, 0.0, 68.0, 41.0, 0.0, 39.0, 0.727, 41.0] => 1 (expected 1)\n",
            "[7.0, 94.0, 64.0, 25.0, 79.0, 33.3, 0.738, 41.0] => 0 (expected 0)\n",
            "[3.0, 96.0, 78.0, 39.0, 0.0, 37.3, 0.238, 40.0] => 0 (expected 0)\n",
            "[10.0, 75.0, 82.0, 0.0, 0.0, 33.3, 0.263, 38.0] => 0 (expected 0)\n",
            "[0.0, 180.0, 90.0, 26.0, 90.0, 36.5, 0.314, 35.0] => 0 (expected 1)\n",
            "[1.0, 130.0, 60.0, 23.0, 170.0, 28.6, 0.692, 21.0] => 0 (expected 0)\n",
            "[2.0, 84.0, 50.0, 23.0, 76.0, 30.4, 0.968, 21.0] => 0 (expected 0)\n",
            "[8.0, 120.0, 78.0, 0.0, 0.0, 25.0, 0.409, 64.0] => 0 (expected 0)\n",
            "16/16 [==============================] - 0s 2ms/step - loss: 0.4941 - accuracy: 0.7480\n",
            "\n",
            "accuracy: 74.80%\n"
          ]
        },
        {
          "output_type": "display_data",
          "data": {
            "text/plain": [
              "<Figure size 432x288 with 2 Axes>"
            ],
            "image/png": "[encoded data removed]"
          },
          "metadata": {
            "needs_background": "light"
          }
        }
      ]
    },
    {
      "cell_type": "code",
      "source": [
        "# mlp for the blobs multi-class classification problem with cross-entropy loss\n",
        "from sklearn.datasets import make_blobs\n",
        "from keras.layers import Dense\n",
        "from keras.models import Sequential\n",
        "from keras.optimizers import SGD\n",
        "from keras.utils import to_categorical\n",
        "from matplotlib import pyplot\n",
        "# generate 2d classification dataset\n",
        "X, y = make_blobs(n_samples=1000, centers=3, \n",
        "                  n_features=2, cluster_std=2, random_state=2)\n",
        "# one hot encode output variable\n",
        "y = to_categorical(y)\n",
        "# split into train and test\n",
        "n_train = 500\n",
        "trainX, testX = X[:n_train, :], X[n_train:, :]\n",
        "trainy, testy = y[:n_train], y[n_train:]\n",
        "# define model\n",
        "model = Sequential()\n",
        "model.add(Dense(50, input_dim=2, activation='relu', \n",
        "                kernel_initializer='he_uniform'))\n",
        "model.add(Dense(3, activation='softmax'))\n",
        "# compile model\n",
        "opt = SGD(learning_rate=0.01, momentum=0.9)\n",
        "model.compile(loss='categorical_crossentropy', optimizer=opt, \n",
        "              metrics=['accuracy'])\n",
        "# fit model\n",
        "history = model.fit(trainX, trainy, validation_data=(testX, testy), \n",
        "                    epochs=100, verbose=0)\n",
        "# evaluate the model\n",
        "_, train_acc = model.evaluate(trainX, trainy, verbose=0)\n",
        "_, test_acc = model.evaluate(testX, testy, verbose=0)\n",
        "print('Train: %.3f, Test: %.3f' % (train_acc, test_acc))\n",
        "# plot loss during training\n",
        "pyplot.subplot(211)\n",
        "pyplot.title('Loss')\n",
        "pyplot.plot(history.history['loss'], label='train')\n",
        "pyplot.plot(history.history['val_loss'], label='test')\n",
        "pyplot.legend()\n",
        "# plot accuracy during training\n",
        "pyplot.subplot(212)\n",
        "pyplot.title('Accuracy')\n",
        "pyplot.plot(history.history['accuracy'], label='train')\n",
        "pyplot.plot(history.history['val_accuracy'], label='test')\n",
        "pyplot.legend()\n",
        "pyplot.show()"
      ],
      "metadata": {
        "colab": {
          "base_uri": "https://localhost:8080/",
          "height": 298
        },
        "id": "rxE7fWFTzwam",
        "outputId": "fb88eefe-ec3e-43c4-ac64-a347fe4962fb"
      },
      "execution_count": 26,
      "outputs": [
        {
          "output_type": "stream",
          "name": "stdout",
          "text": [
            "Train: 0.828, Test: 0.824\n"
          ]
        },
        {
          "output_type": "display_data",
          "data": {
            "text/plain": [
              "<Figure size 432x288 with 2 Axes>"
            ],
            "image/png": "[encoded data removed]"
          },
          "metadata": {
            "needs_background": "light"
          }
        }
      ]
    }
  ]
}