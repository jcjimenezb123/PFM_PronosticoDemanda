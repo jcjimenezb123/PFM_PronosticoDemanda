{
  "nbformat": 4,
  "nbformat_minor": 0,
  "metadata": {
    "colab": {
      "provenance": [],
      "authorship_tag": "ABX9TyPhF3U3eMBhPHfM8lY9DjPg",
      "include_colab_link": true
    },
    "kernelspec": {
      "name": "python3",
      "display_name": "Python 3"
    },
    "language_info": {
      "name": "python"
    }
  },
  "cells": [
    {
      "cell_type": "markdown",
      "metadata": {
        "id": "view-in-github",
        "colab_type": "text"
      },
      "source": [
        "<a href=\"https://colab.research.google.com/github/jcjimenezb123/PFM_PronosticoDemanda/blob/master/redesneuronalesIntro1.ipynb\" target=\"_parent\"><img src=\"https://colab.research.google.com/assets/colab-badge.svg\" alt=\"Open In Colab\"/></a>"
      ]
    },
    {
      "cell_type": "code",
      "execution_count": 1,
      "metadata": {
        "id": "1PHBaJIcnMUw"
      },
      "outputs": [],
      "source": [
        "import tensorflow as tf\n",
        "import numpy as np"
      ]
    },
    {
      "cell_type": "code",
      "source": [
        "celsius=np.array([-40,-10,0,8,15,22,38])\n",
        "fahrenheit=np.array([-40,14,32,46,59,72,100])"
      ],
      "metadata": {
        "id": "GOQLRuPunqu-"
      },
      "execution_count": 2,
      "outputs": []
    },
    {
      "cell_type": "code",
      "source": [
        "capa=tf.keras.layers.Dense(units=1,input_shape=[1]) #una entrada con una neurona\n",
        "modelo=tf.keras.Sequential([capa]) #modelo secuencial"
      ],
      "metadata": {
        "id": "NB3bez5moiTM"
      },
      "execution_count": 6,
      "outputs": []
    },
    {
      "cell_type": "code",
      "source": [
        "modelo.compile(\n",
        "    optimizer=tf.keras.optimizers.Adam(0.1), #como ajustar los pesos y el sesgo\n",
        "    loss='mean_squared_error' #funcion de perdida\n",
        ")"
      ],
      "metadata": {
        "id": "GXHqFiBhpQIp"
      },
      "execution_count": 20,
      "outputs": []
    },
    {
      "cell_type": "code",
      "source": [
        "print('inciando entrenamiento...')\n",
        "historial=modelo.fit(celsius,fahrenheit,epochs=1000,verbose=False)\n",
        "print('entrenamiento finalizado! ')"
      ],
      "metadata": {
        "colab": {
          "base_uri": "https://localhost:8080/"
        },
        "id": "CFOjtk-nqQYe",
        "outputId": "5b0dd45b-44ed-4e68-9b1a-4701e1c53a0c"
      },
      "execution_count": 21,
      "outputs": [
        {
          "output_type": "stream",
          "name": "stdout",
          "text": [
            "inciando entrenamiento...\n",
            "entrenamiento finalizado! \n"
          ]
        }
      ]
    },
    {
      "cell_type": "code",
      "source": [
        "import matplotlib.pyplot as plt\n",
        "\n",
        "plt.plot(historial.history['loss'])\n",
        "plt.xlabel('Epocas')\n",
        "plt.ylabel('Perdida')\n",
        "plt.title('Entrenamiento de la red')\n",
        "plt.show()"
      ],
      "metadata": {
        "colab": {
          "base_uri": "https://localhost:8080/",
          "height": 295
        },
        "id": "dbxT7nUYqp1G",
        "outputId": "9ff84587-94e6-4e33-b9f9-90384f76acf5"
      },
      "execution_count": 22,
      "outputs": [
        {
          "output_type": "display_data",
          "data": {
            "text/plain": [
              "<Figure size 432x288 with 1 Axes>"
            ],
            "image/png": "[encoded data removed]"
          },
          "metadata": {
            "needs_background": "light"
          }
        }
      ]
    },
    {
      "cell_type": "code",
      "source": [
        "print('Haciendo la prediccion')\n",
        "resultado=modelo.predict([100])\n",
        "print(resultado)"
      ],
      "metadata": {
        "colab": {
          "base_uri": "https://localhost:8080/"
        },
        "id": "2z6H22-0rYTS",
        "outputId": "a94170a9-3197-4063-ba0b-3347e6db787a"
      },
      "execution_count": 23,
      "outputs": [
        {
          "output_type": "stream",
          "name": "stdout",
          "text": [
            "Haciendo la prediccion\n",
            "[[211.74745]]\n"
          ]
        }
      ]
    },
    {
      "cell_type": "code",
      "source": [
        "print('variables internas del modelo')\n",
        "print(capa.get_weights()) #muestra los pesos y el sesgo"
      ],
      "metadata": {
        "colab": {
          "base_uri": "https://localhost:8080/"
        },
        "id": "0kEEFs97sKfq",
        "outputId": "a37e2d42-624a-4197-870d-d04bc51b20cf"
      },
      "execution_count": 24,
      "outputs": [
        {
          "output_type": "stream",
          "name": "stdout",
          "text": [
            "variables internas del modelo\n",
            "[array([[1.7979496]], dtype=float32), array([31.952475], dtype=float32)]\n"
          ]
        }
      ]
    },
    {
      "cell_type": "code",
      "source": [
        "oculta1=tf.keras.layers.Dense(units=3,input_shape=[1])\n",
        "oculta2=tf.keras.layers.Dense(units=3)\n",
        "salida=tf.keras.layers.Dense(units=1)\n",
        "modelo=tf.keras.Sequential([oculta1,oculta2,salida])"
      ],
      "metadata": {
        "id": "yBwWqgiksltf"
      },
      "execution_count": 19,
      "outputs": []
    },
    {
      "cell_type": "code",
      "source": [
        "print('variables internas del modelo')\n",
        "print(oculta1.get_weights()) #muestra los pesos y el sesgo\n",
        "print(oculta2.get_weights()) #muestra los pesos y el sesgo\n",
        "print(salida.get_weights()) #muestra los pesos y el sesgo"
      ],
      "metadata": {
        "colab": {
          "base_uri": "https://localhost:8080/"
        },
        "id": "xMAxSS93uXw3",
        "outputId": "596f4f10-1cb5-41c0-c903-93fba4a68ec7"
      },
      "execution_count": 25,
      "outputs": [
        {
          "output_type": "stream",
          "name": "stdout",
          "text": [
            "variables internas del modelo\n",
            "[array([[-0.8039256 , -0.41430235,  0.1525382 ]], dtype=float32), array([-4.1453447,  1.9034257,  3.119192 ], dtype=float32)]\n",
            "[array([[-0.5603343 , -0.30375376,  1.7756759 ],\n",
            "       [ 0.62430614,  0.0685273 , -0.464574  ],\n",
            "       [ 1.3070637 , -0.07161795, -0.39119703]], dtype=float32), array([ 3.6974738,  3.0423033, -3.4764607], dtype=float32)]\n",
            "[array([[ 1.2545818],\n",
            "       [ 0.571471 ],\n",
            "       [-0.9191891]], dtype=float32), array([3.4929156], dtype=float32)]\n"
          ]
        }
      ]
    },
    {
      "cell_type": "code",
      "source": [],
      "metadata": {
        "id": "lE3D2DXvudq5"
      },
      "execution_count": null,
      "outputs": []
    }
  ]
}