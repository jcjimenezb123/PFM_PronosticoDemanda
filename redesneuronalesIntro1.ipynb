{
  "nbformat": 4,
  "nbformat_minor": 0,
  "metadata": {
    "colab": {
      "provenance": [],
      "authorship_tag": "ABX9TyP3ENFEvMZFirgA7pcqRrvx",
      "include_colab_link": true
    },
    "kernelspec": {
      "name": "python3",
      "display_name": "Python 3"
    },
    "language_info": {
      "name": "python"
    }
  },
  "cells": [
    {
      "cell_type": "markdown",
      "metadata": {
        "id": "view-in-github",
        "colab_type": "text"
      },
      "source": [
        "<a href=\"https://colab.research.google.com/github/jcjimenezb123/PFM_PronosticoDemanda/blob/master/redesneuronalesIntro1.ipynb\" target=\"_parent\"><img src=\"https://colab.research.google.com/assets/colab-badge.svg\" alt=\"Open In Colab\"/></a>"
      ]
    },
    {
      "cell_type": "code",
      "execution_count": 1,
      "metadata": {
        "id": "1PHBaJIcnMUw"
      },
      "outputs": [],
      "source": [
        "import tensorflow as tf\n",
        "import numpy as np"
      ]
    },
    {
      "cell_type": "code",
      "source": [
        "celsius=np.array([-40.,-10,0,8,15,22,38,10,20,30,40])\n",
        "fahrenheit=np.array([-40,14,32,46,59,72,100,50,68,86,104])"
      ],
      "metadata": {
        "id": "GOQLRuPunqu-"
      },
      "execution_count": 2,
      "outputs": []
    },
    {
      "cell_type": "code",
      "source": [
        "capa=tf.keras.layers.Dense(units=1,input_shape=[1]) #una entrada con una neurona\n",
        "modelo=tf.keras.Sequential([capa]) #modelo secuencial"
      ],
      "metadata": {
        "id": "NB3bez5moiTM"
      },
      "execution_count": 3,
      "outputs": []
    },
    {
      "cell_type": "code",
      "source": [
        "modelo.compile(\n",
        "    optimizer=tf.keras.optimizers.Adam(0.1), #como ajustar los pesos y el sesgo\n",
        "    loss='mean_squared_error' #funcion de perdida\n",
        ")"
      ],
      "metadata": {
        "id": "GXHqFiBhpQIp"
      },
      "execution_count": 4,
      "outputs": []
    },
    {
      "cell_type": "code",
      "source": [
        "print(modelo.summary())"
      ],
      "metadata": {
        "colab": {
          "base_uri": "https://localhost:8080/"
        },
        "id": "EeFNiANQzQtx",
        "outputId": "2e2c5209-e6a9-4df1-ee58-13c2ffb49193"
      },
      "execution_count": 9,
      "outputs": [
        {
          "output_type": "stream",
          "name": "stdout",
          "text": [
            "Model: \"sequential\"\n",
            "_________________________________________________________________\n",
            " Layer (type)                Output Shape              Param #   \n",
            "=================================================================\n",
            " dense (Dense)               (None, 1)                 2         \n",
            "                                                                 \n",
            "=================================================================\n",
            "Total params: 2\n",
            "Trainable params: 2\n",
            "Non-trainable params: 0\n",
            "_________________________________________________________________\n",
            "None\n"
          ]
        }
      ]
    },
    {
      "cell_type": "code",
      "source": [
        "print('inciando entrenamiento...')\n",
        "historial=modelo.fit(celsius,fahrenheit,epochs=1000,verbose=False)\n",
        "print('entrenamiento finalizado! ')"
      ],
      "metadata": {
        "colab": {
          "base_uri": "https://localhost:8080/"
        },
        "id": "CFOjtk-nqQYe",
        "outputId": "a2a48588-98ee-45d8-a27e-d1ee2ad492c2"
      },
      "execution_count": 5,
      "outputs": [
        {
          "output_type": "stream",
          "name": "stdout",
          "text": [
            "inciando entrenamiento...\n",
            "entrenamiento finalizado! \n"
          ]
        }
      ]
    },
    {
      "cell_type": "code",
      "source": [
        "# Guarde el modelo entrenado como archivo hdf5\n",
        "# Guarde el diagrama del modelo y los pesos al mismo tiempo.\n",
        "modelo.save('modelo_entrenado.h5')  "
      ],
      "metadata": {
        "id": "Dtj32ojFzotP"
      },
      "execution_count": 10,
      "outputs": []
    },
    {
      "cell_type": "code",
      "source": [
        "import matplotlib.pyplot as plt\n",
        "\n",
        "plt.plot(historial.history['loss'])\n",
        "plt.xlabel('Epocas')\n",
        "plt.ylabel('Perdida')\n",
        "plt.title('Entrenamiento de la red')\n",
        "plt.show()"
      ],
      "metadata": {
        "colab": {
          "base_uri": "https://localhost:8080/",
          "height": 295
        },
        "id": "dbxT7nUYqp1G",
        "outputId": "2662bfcf-87db-490a-e103-046e33fb0805"
      },
      "execution_count": 6,
      "outputs": [
        {
          "output_type": "display_data",
          "data": {
            "text/plain": [
              "<Figure size 432x288 with 1 Axes>"
            ],
            "image/png": "[encoded data removed]"
          },
          "metadata": {
            "needs_background": "light"
          }
        }
      ]
    },
    {
      "cell_type": "code",
      "source": [
        "print('Haciendo la prediccion')\n",
        "resultado=modelo.predict([100,200])\n",
        "print(resultado) #valor correcto 212,392"
      ],
      "metadata": {
        "colab": {
          "base_uri": "https://localhost:8080/"
        },
        "id": "2z6H22-0rYTS",
        "outputId": "77829a40-ee65-49b2-fa18-262479d57012"
      },
      "execution_count": 7,
      "outputs": [
        {
          "output_type": "stream",
          "name": "stdout",
          "text": [
            "Haciendo la prediccion\n",
            "[[212.12158]\n",
            " [392.51337]]\n"
          ]
        }
      ]
    },
    {
      "cell_type": "code",
      "source": [
        "print('variables internas del modelo')\n",
        "print(capa.get_weights()) #muestra los pesos y el sesgo"
      ],
      "metadata": {
        "colab": {
          "base_uri": "https://localhost:8080/"
        },
        "id": "0kEEFs97sKfq",
        "outputId": "633edf5a-72f7-47db-e542-624142b53d9a"
      },
      "execution_count": 8,
      "outputs": [
        {
          "output_type": "stream",
          "name": "stdout",
          "text": [
            "variables internas del modelo\n",
            "[array([[1.8039179]], dtype=float32), array([31.729794], dtype=float32)]\n"
          ]
        }
      ]
    },
    {
      "cell_type": "code",
      "source": [
        "print('Haciendo la prediccion')\n",
        "resultado=modelo.predict([100,200])\n",
        "print(resultado) #valor correcto 212,392"
      ],
      "metadata": {
        "colab": {
          "base_uri": "https://localhost:8080/"
        },
        "id": "wAV89CF90e4r",
        "outputId": "af96e33e-5b88-449d-aabf-d460947c0408"
      },
      "execution_count": 13,
      "outputs": [
        {
          "output_type": "stream",
          "name": "stdout",
          "text": [
            "Haciendo la prediccion\n",
            "[[212.12158]\n",
            " [392.51337]]\n"
          ]
        }
      ]
    },
    {
      "cell_type": "code",
      "source": [
        "from keras.models import load_model\n",
        "  \n",
        "# Recargar el modelo\n",
        "modelo2 = load_model('modelo_entrenado.h5')"
      ],
      "metadata": {
        "id": "5D0qewGA0S8W"
      },
      "execution_count": 11,
      "outputs": []
    },
    {
      "cell_type": "code",
      "source": [
        "print('Haciendo la prediccion')\n",
        "resultado=modelo2.predict([100,200])\n",
        "print(resultado) #valor correcto 212,392"
      ],
      "metadata": {
        "colab": {
          "base_uri": "https://localhost:8080/"
        },
        "id": "aPgcUSL7955m",
        "outputId": "2536e782-d7a4-4a50-f045-cc9e37c8ee6f"
      },
      "execution_count": 14,
      "outputs": [
        {
          "output_type": "stream",
          "name": "stdout",
          "text": [
            "Haciendo la prediccion\n",
            "[[212.12158]\n",
            " [392.51337]]\n"
          ]
        }
      ]
    },
    {
      "cell_type": "code",
      "source": [
        "oculta1=tf.keras.layers.Dense(units=3,input_shape=[1])\n",
        "oculta2=tf.keras.layers.Dense(units=3)\n",
        "salida=tf.keras.layers.Dense(units=1)\n",
        "modelo=tf.keras.Sequential([oculta1,oculta2,salida])"
      ],
      "metadata": {
        "id": "yBwWqgiksltf"
      },
      "execution_count": null,
      "outputs": []
    },
    {
      "cell_type": "code",
      "source": [
        "print('variables internas del modelo')\n",
        "print(oculta1.get_weights()) #muestra los pesos y el sesgo\n",
        "print(oculta2.get_weights()) #muestra los pesos y el sesgo\n",
        "print(salida.get_weights()) #muestra los pesos y el sesgo"
      ],
      "metadata": {
        "colab": {
          "base_uri": "https://localhost:8080/"
        },
        "id": "xMAxSS93uXw3",
        "outputId": "e125d6e0-7124-4a17-ee85-b2e49fc5ff25"
      },
      "execution_count": null,
      "outputs": [
        {
          "output_type": "stream",
          "name": "stdout",
          "text": [
            "variables internas del modelo\n",
            "[array([[ 0.51472235, -0.62056124,  0.21176958]], dtype=float32), array([ 3.6830595, -3.692125 , -3.6924775], dtype=float32)]\n",
            "[array([[-0.52738583, -0.9705716 ,  0.7376793 ],\n",
            "       [-0.77733517,  0.9197766 , -0.90468776],\n",
            "       [-0.4664541 ,  1.2039813 , -0.22070648]], dtype=float32), array([ 3.2871253, -3.7499506,  3.678018 ], dtype=float32)]\n",
            "[array([[ 0.28206336],\n",
            "       [-1.0549899 ],\n",
            "       [ 1.0143915 ]], dtype=float32), array([3.597682], dtype=float32)]\n"
          ]
        }
      ]
    },
    {
      "cell_type": "code",
      "source": [],
      "metadata": {
        "id": "lE3D2DXvudq5"
      },
      "execution_count": null,
      "outputs": []
    }
  ]
}