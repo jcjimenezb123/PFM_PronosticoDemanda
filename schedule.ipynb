{
  "nbformat": 4,
  "nbformat_minor": 0,
  "metadata": {
    "colab": {
      "name": "schedule.ipynb",
      "provenance": [],
      "authorship_tag": "ABX9TyPlEAiwa/Z2keYiuyeit8bx",
      "include_colab_link": true
    },
    "kernelspec": {
      "name": "python3",
      "display_name": "Python 3"
    },
    "language_info": {
      "name": "python"
    }
  },
  "cells": [
    {
      "cell_type": "markdown",
      "metadata": {
        "id": "view-in-github",
        "colab_type": "text"
      },
      "source": [
        "<a href=\"https://colab.research.google.com/github/jcjimenezb123/PFM_PronosticoDemanda/blob/master/schedule.ipynb\" target=\"_parent\"><img src=\"https://colab.research.google.com/assets/colab-badge.svg\" alt=\"Open In Colab\"/></a>"
      ]
    },
    {
      "cell_type": "markdown",
      "metadata": {
        "id": "dj6lJEF1LflU"
      },
      "source": [
        "[https://schedule.readthedocs.io/en/stable/]"
      ]
    },
    {
      "cell_type": "code",
      "metadata": {
        "colab": {
          "base_uri": "https://localhost:8080/"
        },
        "id": "tbYUhrbVIuuU",
        "outputId": "2b83ed09-eff4-481e-c15c-17ba85625138"
      },
      "source": [
        "!pip install schedule"
      ],
      "execution_count": 1,
      "outputs": [
        {
          "output_type": "stream",
          "name": "stdout",
          "text": [
            "Requirement already satisfied: schedule in /usr/local/lib/python3.7/dist-packages (1.1.0)\n"
          ]
        }
      ]
    },
    {
      "cell_type": "code",
      "metadata": {
        "colab": {
          "base_uri": "https://localhost:8080/",
          "height": 316
        },
        "id": "Nv0yzvD6IR_j",
        "outputId": "ce8235a6-77cf-4a10-be5d-e0950b023d45"
      },
      "source": [
        "import schedule\n",
        "import time\n",
        "\n",
        "def task():\n",
        "    print(\"Job Executing!\")\n",
        "def task1m():\n",
        "    print(\"Job Executing every minute!\")\n",
        "\n",
        "# for every n minutes\n",
        "schedule.every(1).minutes.do(task1m)\n",
        "\n",
        "# every hour\n",
        "schedule.every().hour.do(task)\n",
        "\n",
        "# every daya at specific time\n",
        "schedule.every().day.at(\"10:30\").do(task)\n",
        "\n",
        "# schedule by name of day\n",
        "schedule.every().monday.do(task)\n",
        "\n",
        "# name of day with time\n",
        "schedule.every().wednesday.at(\"13:15\").do(task)\n",
        "\n",
        "while True:\n",
        "    schedule.run_pending()\n",
        "    time.sleep(1)"
      ],
      "execution_count": 2,
      "outputs": [
        {
          "output_type": "stream",
          "name": "stdout",
          "text": [
            "Job Executing every minute!\n",
            "Job Executing every minute!\n",
            "Job Executing every minute!\n",
            "Job Executing every minute!\n",
            "Job Executing every minute!\n",
            "Job Executing every minute!\n",
            "Job Executing every minute!\n"
          ]
        },
        {
          "output_type": "error",
          "ename": "KeyboardInterrupt",
          "evalue": "ignored",
          "traceback": [
            "\u001b[0;31m---------------------------------------------------------------------------\u001b[0m",
            "\u001b[0;31mKeyboardInterrupt\u001b[0m                         Traceback (most recent call last)",
            "\u001b[0;32m<ipython-input-2-09e51b3d62f6>\u001b[0m in \u001b[0;36m<module>\u001b[0;34m()\u001b[0m\n\u001b[1;32m     24\u001b[0m \u001b[0;32mwhile\u001b[0m \u001b[0;32mTrue\u001b[0m\u001b[0;34m:\u001b[0m\u001b[0;34m\u001b[0m\u001b[0;34m\u001b[0m\u001b[0m\n\u001b[1;32m     25\u001b[0m     \u001b[0mschedule\u001b[0m\u001b[0;34m.\u001b[0m\u001b[0mrun_pending\u001b[0m\u001b[0;34m(\u001b[0m\u001b[0;34m)\u001b[0m\u001b[0;34m\u001b[0m\u001b[0;34m\u001b[0m\u001b[0m\n\u001b[0;32m---> 26\u001b[0;31m     \u001b[0mtime\u001b[0m\u001b[0;34m.\u001b[0m\u001b[0msleep\u001b[0m\u001b[0;34m(\u001b[0m\u001b[0;36m1\u001b[0m\u001b[0;34m)\u001b[0m\u001b[0;34m\u001b[0m\u001b[0;34m\u001b[0m\u001b[0m\n\u001b[0m",
            "\u001b[0;31mKeyboardInterrupt\u001b[0m: "
          ]
        }
      ]
    }
  ]
}