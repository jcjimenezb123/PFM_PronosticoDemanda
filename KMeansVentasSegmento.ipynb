{
  "nbformat": 4,
  "nbformat_minor": 0,
  "metadata": {
    "kernelspec": {
      "display_name": "Python 3",
      "language": "python",
      "name": "python3"
    },
    "language_info": {
      "codemirror_mode": {
        "name": "ipython",
        "version": 3
      },
      "file_extension": ".py",
      "mimetype": "text/x-python",
      "name": "python",
      "nbconvert_exporter": "python",
      "pygments_lexer": "ipython3",
      "version": "3.7.7"
    },
    "colab": {
      "name": "KMeansVentasSegmento.ipynb",
      "provenance": []
    }
  },
  "cells": [
    {
      "cell_type": "markdown",
      "metadata": {
        "id": "ErrSZPj6ivjI"
      },
      "source": [
        "## Metodo de K-Means para clasificar articulos de acuerdo a sus ventas\n",
        "Se importan las bibliotecas necesarias"
      ]
    },
    {
      "cell_type": "code",
      "metadata": {
        "id": "6eaaCLNtivjN"
      },
      "source": [
        "#import cx_Oracle as oc\n",
        "import pandas as pd\n",
        "import numpy as np\n",
        "from sklearn.cluster import KMeans\n",
        "from sklearn import preprocessing\n",
        "import matplotlib.pyplot as plt"
      ],
      "execution_count": 2,
      "outputs": []
    },
    {
      "cell_type": "markdown",
      "metadata": {
        "id": "XGKp5hh8ivjO"
      },
      "source": [
        "Se crea la conexion a la base de datos y se crea el dataset de una familia de articulos con la suma de ventas, ejemplo\n",
        " * DIV_CVE_N =1 -- 1\tCALZADO\n",
        " * SEC_CVE_N=5 -- 5\tDAMA\n",
        " * sbc_cve_n=66 -- 66\tCHOCLO\n",
        " * cat_cve_n=17 -- 17\tCONFORT"
      ]
    },
    {
      "cell_type": "code",
      "metadata": {
        "id": "qwLyPKyPivjP"
      },
      "source": [
        "con=oc.connect('SYSTEM/admin@localhost')\n",
        "\n",
        "sql=pd.read_sql_query('''\n",
        " SELECT\n",
        "    v.ult_sust_def_n art,v.talla_ini_min,v.talla_fin_max,\n",
        "    SUM(venta) vta\n",
        "FROM\n",
        "    ventas   v,\n",
        "    segmentacion   s\n",
        "WHERE\n",
        "    v.ult_sust_def_n = s.ult_sust_def\n",
        "    AND v.talla_ini_min = s.talla_ini_min\n",
        "    AND v.talla_fin_max = s.talla_fin_max\n",
        "    AND s.DIV_CVE_N =1 -- 1\tCALZADO\n",
        "    and s.SEC_CVE_N=5 -- 5\tDAMA\n",
        "    and s.sbc_cve_n=66 -- 66\tCHOCLO\n",
        "    and s.cat_cve_n=17 -- 17\tCONFORT\n",
        "GROUP BY\n",
        "    v.ult_sust_def_n,v.talla_ini_min,v.talla_fin_max   \n",
        "''',con)\n"
      ],
      "execution_count": null,
      "outputs": []
    },
    {
      "cell_type": "code",
      "metadata": {
        "id": "NkZXCI1-ivjQ",
        "outputId": "878ff00e-abd4-415c-c2a7-56b73f6231f6"
      },
      "source": [
        "df=pd.DataFrame(sql)\n",
        "df.head(5)"
      ],
      "execution_count": null,
      "outputs": [
        {
          "data": {
            "text/html": [
              "<div>\n",
              "<style scoped>\n",
              "    .dataframe tbody tr th:only-of-type {\n",
              "        vertical-align: middle;\n",
              "    }\n",
              "\n",
              "    .dataframe tbody tr th {\n",
              "        vertical-align: top;\n",
              "    }\n",
              "\n",
              "    .dataframe thead th {\n",
              "        text-align: right;\n",
              "    }\n",
              "</style>\n",
              "<table border=\"1\" class=\"dataframe\">\n",
              "  <thead>\n",
              "    <tr style=\"text-align: right;\">\n",
              "      <th></th>\n",
              "      <th>ART</th>\n",
              "      <th>TALLA_INI_MIN</th>\n",
              "      <th>TALLA_FIN_MAX</th>\n",
              "      <th>VTA</th>\n",
              "    </tr>\n",
              "  </thead>\n",
              "  <tbody>\n",
              "    <tr>\n",
              "      <th>0</th>\n",
              "      <td>96723</td>\n",
              "      <td>22.0</td>\n",
              "      <td>27.0</td>\n",
              "      <td>886</td>\n",
              "    </tr>\n",
              "    <tr>\n",
              "      <th>1</th>\n",
              "      <td>142678</td>\n",
              "      <td>22.0</td>\n",
              "      <td>27.0</td>\n",
              "      <td>502</td>\n",
              "    </tr>\n",
              "    <tr>\n",
              "      <th>2</th>\n",
              "      <td>142684</td>\n",
              "      <td>22.0</td>\n",
              "      <td>27.0</td>\n",
              "      <td>728</td>\n",
              "    </tr>\n",
              "    <tr>\n",
              "      <th>3</th>\n",
              "      <td>153930</td>\n",
              "      <td>22.0</td>\n",
              "      <td>27.0</td>\n",
              "      <td>880</td>\n",
              "    </tr>\n",
              "    <tr>\n",
              "      <th>4</th>\n",
              "      <td>154187</td>\n",
              "      <td>22.0</td>\n",
              "      <td>27.0</td>\n",
              "      <td>814</td>\n",
              "    </tr>\n",
              "  </tbody>\n",
              "</table>\n",
              "</div>"
            ],
            "text/plain": [
              "      ART  TALLA_INI_MIN  TALLA_FIN_MAX  VTA\n",
              "0   96723           22.0           27.0  886\n",
              "1  142678           22.0           27.0  502\n",
              "2  142684           22.0           27.0  728\n",
              "3  153930           22.0           27.0  880\n",
              "4  154187           22.0           27.0  814"
            ]
          },
          "execution_count": 75,
          "metadata": {},
          "output_type": "execute_result"
        }
      ]
    },
    {
      "cell_type": "code",
      "metadata": {
        "id": "M2UCSQhajMeq"
      },
      "source": [
        "lst1=[908839,154201,166340,908834,823456,166338,823454,831878]\n",
        "lst2=[4359,2769,2547,4736,3489,2207,1551,2461]\n",
        "df = pd.DataFrame(list(zip(lst1, lst2)),\n",
        "               columns =['ART', 'VTA'])"
      ],
      "execution_count": 3,
      "outputs": []
    },
    {
      "cell_type": "markdown",
      "metadata": {
        "id": "iCqXJ1LlivjS"
      },
      "source": [
        "Se normaliza la clave del articulo para que no influya en la creacion de los grupos"
      ]
    },
    {
      "cell_type": "code",
      "metadata": {
        "id": "zFrPwV80ivjS"
      },
      "source": [
        "x = df['ART'].values.reshape(-1, 1) #returns a numpy array\n",
        "min_max_scaler = preprocessing.MinMaxScaler()\n",
        "x_scaled = min_max_scaler.fit_transform(x)\n",
        "df['art_norm'] = pd.DataFrame(x_scaled)"
      ],
      "execution_count": 4,
      "outputs": []
    },
    {
      "cell_type": "code",
      "metadata": {
        "colab": {
          "base_uri": "https://localhost:8080/",
          "height": 297
        },
        "id": "9KDgwNVIivjU",
        "outputId": "327b3bd8-0b1d-4247-9769-5f4ce5670407"
      },
      "source": [
        "df"
      ],
      "execution_count": 5,
      "outputs": [
        {
          "output_type": "execute_result",
          "data": {
            "text/html": [
              "<div>\n",
              "<style scoped>\n",
              "    .dataframe tbody tr th:only-of-type {\n",
              "        vertical-align: middle;\n",
              "    }\n",
              "\n",
              "    .dataframe tbody tr th {\n",
              "        vertical-align: top;\n",
              "    }\n",
              "\n",
              "    .dataframe thead th {\n",
              "        text-align: right;\n",
              "    }\n",
              "</style>\n",
              "<table border=\"1\" class=\"dataframe\">\n",
              "  <thead>\n",
              "    <tr style=\"text-align: right;\">\n",
              "      <th></th>\n",
              "      <th>ART</th>\n",
              "      <th>VTA</th>\n",
              "      <th>art_norm</th>\n",
              "    </tr>\n",
              "  </thead>\n",
              "  <tbody>\n",
              "    <tr>\n",
              "      <th>0</th>\n",
              "      <td>908839</td>\n",
              "      <td>4359</td>\n",
              "      <td>1.000000</td>\n",
              "    </tr>\n",
              "    <tr>\n",
              "      <th>1</th>\n",
              "      <td>154201</td>\n",
              "      <td>2769</td>\n",
              "      <td>0.000000</td>\n",
              "    </tr>\n",
              "    <tr>\n",
              "      <th>2</th>\n",
              "      <td>166340</td>\n",
              "      <td>2547</td>\n",
              "      <td>0.016086</td>\n",
              "    </tr>\n",
              "    <tr>\n",
              "      <th>3</th>\n",
              "      <td>908834</td>\n",
              "      <td>4736</td>\n",
              "      <td>0.999993</td>\n",
              "    </tr>\n",
              "    <tr>\n",
              "      <th>4</th>\n",
              "      <td>823456</td>\n",
              "      <td>3489</td>\n",
              "      <td>0.886856</td>\n",
              "    </tr>\n",
              "    <tr>\n",
              "      <th>5</th>\n",
              "      <td>166338</td>\n",
              "      <td>2207</td>\n",
              "      <td>0.016083</td>\n",
              "    </tr>\n",
              "    <tr>\n",
              "      <th>6</th>\n",
              "      <td>823454</td>\n",
              "      <td>1551</td>\n",
              "      <td>0.886853</td>\n",
              "    </tr>\n",
              "    <tr>\n",
              "      <th>7</th>\n",
              "      <td>831878</td>\n",
              "      <td>2461</td>\n",
              "      <td>0.898016</td>\n",
              "    </tr>\n",
              "  </tbody>\n",
              "</table>\n",
              "</div>"
            ],
            "text/plain": [
              "      ART   VTA  art_norm\n",
              "0  908839  4359  1.000000\n",
              "1  154201  2769  0.000000\n",
              "2  166340  2547  0.016086\n",
              "3  908834  4736  0.999993\n",
              "4  823456  3489  0.886856\n",
              "5  166338  2207  0.016083\n",
              "6  823454  1551  0.886853\n",
              "7  831878  2461  0.898016"
            ]
          },
          "metadata": {},
          "execution_count": 5
        }
      ]
    },
    {
      "cell_type": "markdown",
      "metadata": {
        "id": "xCg60M-7ivjV"
      },
      "source": [
        "Se grafica la informacion sin agrupar"
      ]
    },
    {
      "cell_type": "code",
      "metadata": {
        "id": "A0vi0Rz5ivjW"
      },
      "source": [
        "X=df[['art_norm','VTA']].to_numpy()"
      ],
      "execution_count": 7,
      "outputs": []
    },
    {
      "cell_type": "code",
      "metadata": {
        "colab": {
          "base_uri": "https://localhost:8080/",
          "height": 297
        },
        "id": "k-cAh6OkivjW",
        "outputId": "e6e7994c-3150-4f70-cd0d-0e9d29015430"
      },
      "source": [
        "plt.scatter(X[:,0],\n",
        "           X[:,1],\n",
        "           c='gray',\n",
        "           marker='o',\n",
        "           edgecolor='yellow',\n",
        "           s=250)\n",
        "plt.grid()\n",
        "plt.title('Pantalon chino')\n",
        "plt.xlabel('id normalizado')\n",
        "plt.ylabel('venta reconstruida')\n",
        "plt.tight_layout()"
      ],
      "execution_count": 11,
      "outputs": [
        {
          "output_type": "display_data",
          "data": {
            "image/png": "[encoded data removed]",
            "text/plain": [
              "<Figure size 432x288 with 1 Axes>"
            ]
          },
          "metadata": {
            "needs_background": "light"
          }
        }
      ]
    },
    {
      "cell_type": "markdown",
      "metadata": {
        "id": "wob1dwN4ivjX"
      },
      "source": [
        "Se aplica el metodo del codo para identificar el numero de grupos que se requieren"
      ]
    },
    {
      "cell_type": "code",
      "metadata": {
        "id": "PdzJDl0hivjX"
      },
      "source": [
        "distorcions=[]\n",
        "for i in range(1,6):\n",
        "    km=KMeans(n_clusters=i,\n",
        "             init='k-means++',\n",
        "             n_init=10,\n",
        "             max_iter=300,\n",
        "             random_state=0)\n",
        "    km.fit(X)\n",
        "    distorcions.append(km.inertia_)"
      ],
      "execution_count": 13,
      "outputs": []
    },
    {
      "cell_type": "code",
      "metadata": {
        "colab": {
          "base_uri": "https://localhost:8080/",
          "height": 297
        },
        "id": "2HbzI3UrivjY",
        "outputId": "66b56278-f5b4-4a58-b2fa-6de4e79b755d"
      },
      "source": [
        "plt.plot(range(1,6),distorcions,marker='o')\n",
        "plt.title('Metodo del codo')\n",
        "plt.xlabel('Numero de clusters')\n",
        "plt.ylabel('WCSS')\n",
        "plt.tight_layout()\n",
        "plt.grid()\n",
        "plt.show()"
      ],
      "execution_count": 14,
      "outputs": [
        {
          "output_type": "display_data",
          "data": {
            "image/png": "[encoded data removed]",
            "text/plain": [
              "<Figure size 432x288 with 1 Axes>"
            ]
          },
          "metadata": {
            "needs_background": "light"
          }
        }
      ]
    },
    {
      "cell_type": "markdown",
      "metadata": {
        "id": "XSshMSBHivjY"
      },
      "source": [
        "Se identifica que el numero de grupos debe ser 3 porque a mayor numero de grupos las distorciones ya no se mejoran. La variable y_km guarda las clasificaciones."
      ]
    },
    {
      "cell_type": "code",
      "metadata": {
        "id": "hAJVgXSQivjZ"
      },
      "source": [
        "km=KMeans(n_clusters=3,\n",
        "         init='k-means++',\n",
        "         n_init=10,\n",
        "         max_iter=300,\n",
        "         tol=1e-4,\n",
        "         random_state=0)\n",
        "y_km=km.fit_predict(X)"
      ],
      "execution_count": 32,
      "outputs": []
    },
    {
      "cell_type": "code",
      "metadata": {
        "id": "FrW5WX8923YV",
        "outputId": "7c8fe843-f547-446d-d604-4850bfd23d27",
        "colab": {
          "base_uri": "https://localhost:8080/"
        }
      },
      "source": [
        "print(sorted(km.cluster_centers_[:,1],reverse=True))\n"
      ],
      "execution_count": 34,
      "outputs": [
        {
          "output_type": "stream",
          "text": [
            "[4547.5, 3489.0, 2307.0]\n"
          ],
          "name": "stdout"
        }
      ]
    },
    {
      "cell_type": "markdown",
      "metadata": {
        "id": "N5zEwPLVivjZ"
      },
      "source": [
        "Se grafican los grupos"
      ]
    },
    {
      "cell_type": "code",
      "metadata": {
        "colab": {
          "base_uri": "https://localhost:8080/",
          "height": 297
        },
        "id": "ZNoMd4C0ivjZ",
        "outputId": "4b3aa696-c34c-428c-9f98-ca11fa662121"
      },
      "source": [
        "plt.scatter(X[y_km==0,0],\n",
        "           X[y_km==0,1],\n",
        "           s=200,marker='s',\n",
        "           c='lightgreen',edgecolor='black',\n",
        "           label='Grupo 0')\n",
        "\n",
        "plt.scatter(X[y_km==1,0],\n",
        "           X[y_km==1,1],\n",
        "           s=200,marker='o',\n",
        "           c='orange',edgecolor='black',\n",
        "           label='Grupo 1')\n",
        "\n",
        "plt.scatter(X[y_km==2,0],\n",
        "           X[y_km==2,1],\n",
        "           s=200,marker='v',\n",
        "           c='lightblue',edgecolor='black',\n",
        "           label='Grupo 2')\n",
        "\n",
        "plt.scatter(km.cluster_centers_[:,0],\n",
        "           km.cluster_centers_[:,1],\n",
        "           s=250,marker='*',\n",
        "           c='red',edgecolor='black',\n",
        "           label='Centroides')\n",
        "\n",
        "plt.legend(scatterpoints=1)\n",
        "plt.title('Metodo K-Means con 3 clusters')\n",
        "plt.grid()\n",
        "plt.tight_layout()\n",
        "plt.show()"
      ],
      "execution_count": 35,
      "outputs": [
        {
          "output_type": "display_data",
          "data": {
            "image/png": "[encoded data removed]",
            "text/plain": [
              "<Figure size 432x288 with 1 Axes>"
            ]
          },
          "metadata": {
            "needs_background": "light"
          }
        }
      ]
    },
    {
      "cell_type": "markdown",
      "metadata": {
        "id": "iAssNPIJivja"
      },
      "source": [
        "Actualiza el grupo"
      ]
    },
    {
      "cell_type": "code",
      "metadata": {
        "id": "Fh8j-JlUivja"
      },
      "source": [
        "df['Grupo'] = pd.DataFrame(y_km)"
      ],
      "execution_count": 19,
      "outputs": []
    },
    {
      "cell_type": "code",
      "metadata": {
        "colab": {
          "base_uri": "https://localhost:8080/"
        },
        "id": "cM2IdVETivja",
        "outputId": "e0dd112d-16f4-434e-8782-bfd78c79290e"
      },
      "source": [
        "df['Grupo'].value_counts()"
      ],
      "execution_count": 20,
      "outputs": [
        {
          "output_type": "execute_result",
          "data": {
            "text/plain": [
              "1    5\n",
              "2    2\n",
              "0    1\n",
              "Name: Grupo, dtype: int64"
            ]
          },
          "metadata": {},
          "execution_count": 20
        }
      ]
    },
    {
      "cell_type": "markdown",
      "metadata": {
        "id": "jZFWJDxhivjb"
      },
      "source": [
        "Actualiza el grupo en la base de datos **se debe actualizar la clasificación porque no siempre genera el mismo número de grupo**"
      ]
    },
    {
      "cell_type": "code",
      "metadata": {
        "id": "bISqm7k8ivjb"
      },
      "source": [
        "def getGrupo(i):\n",
        "    switcher={\n",
        "        0:'Riesgo',\n",
        "        2:'Regular',\n",
        "        1:'Bueno'\n",
        "    }\n",
        "    return switcher.get(i,\"??\")"
      ],
      "execution_count": 35,
      "outputs": []
    },
    {
      "cell_type": "code",
      "metadata": {
        "id": "e2Bi8z98ivjc"
      },
      "source": [
        "upd = ''' UPDATE segmentacion\n",
        "             SET CLASIFICACION = :grupo \n",
        "           WHERE ult_sust_def = :id\n",
        "             AND talla_ini_min = :talla_ini\n",
        "             AND talla_fin_max = :talla_fin '''\n",
        "for index,reg in df.iterrows():\n",
        "    g=reg['Grupo']\n",
        "    grupo=getGrupo(g)\n",
        "    id=reg['ART']\n",
        "    talla_ini=reg['TALLA_INI_MIN']\n",
        "    talla_fin=reg['TALLA_FIN_MAX']\n",
        "    cur = con.cursor()\n",
        "    cur.execute(upd,[grupo,id,talla_ini,talla_fin])\n",
        "    con.commit()"
      ],
      "execution_count": null,
      "outputs": []
    },
    {
      "cell_type": "markdown",
      "metadata": {
        "id": "jIluxi2jivjc"
      },
      "source": [
        "cierra el cursor y la conexion"
      ]
    },
    {
      "cell_type": "code",
      "metadata": {
        "id": "SbxHKSTvivjc"
      },
      "source": [
        "cur.close()\n",
        "del cur\n",
        "con.close()"
      ],
      "execution_count": null,
      "outputs": []
    },
    {
      "cell_type": "code",
      "metadata": {
        "id": "3s4eXsmOivjc"
      },
      "source": [
        ""
      ],
      "execution_count": null,
      "outputs": []
    }
  ]
}