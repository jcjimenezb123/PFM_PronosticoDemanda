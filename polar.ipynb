{
  "nbformat": 4,
  "nbformat_minor": 0,
  "metadata": {
    "colab": {
      "provenance": [],
      "authorship_tag": "ABX9TyMNCyuNGV42jtWo+RZOdAUE",
      "include_colab_link": true
    },
    "kernelspec": {
      "name": "python3",
      "display_name": "Python 3"
    },
    "language_info": {
      "name": "python"
    }
  },
  "cells": [
    {
      "cell_type": "markdown",
      "metadata": {
        "id": "view-in-github",
        "colab_type": "text"
      },
      "source": [
        "<a href=\"https://colab.research.google.com/github/jcjimenezb123/PFM_PronosticoDemanda/blob/master/polar.ipynb\" target=\"_parent\"><img src=\"https://colab.research.google.com/assets/colab-badge.svg\" alt=\"Open In Colab\"/></a>"
      ]
    },
    {
      "cell_type": "code",
      "execution_count": 2,
      "metadata": {
        "colab": {
          "base_uri": "https://localhost:8080/"
        },
        "id": "kzL6FIMIVqjQ",
        "outputId": "8e5484f6-390a-49d4-b02d-7ddfb757cf31"
      },
      "outputs": [
        {
          "output_type": "stream",
          "name": "stdout",
          "text": [
            "Looking in indexes: https://pypi.org/simple, https://us-python.pkg.dev/colab-wheels/public/simple/\n",
            "Collecting polars\n",
            "  Downloading polars-0.16.16-cp37-abi3-manylinux_2_17_x86_64.manylinux2014_x86_64.whl (16.6 MB)\n",
            "\u001b[2K     \u001b[90m━━━━━━━━━━━━━━━━━━━━━━━━━━━━━━━━━━━━━━━━\u001b[0m \u001b[32m16.6/16.6 MB\u001b[0m \u001b[31m64.9 MB/s\u001b[0m eta \u001b[36m0:00:00\u001b[0m\n",
            "\u001b[?25hRequirement already satisfied: typing_extensions>=4.0.1 in /usr/local/lib/python3.9/dist-packages (from polars) (4.5.0)\n",
            "Installing collected packages: polars\n",
            "Successfully installed polars-0.16.16\n"
          ]
        }
      ],
      "source": [
        "!pip install polars"
      ]
    },
    {
      "cell_type": "code",
      "source": [
        "import polars as pl\n",
        "df = pl.read_csv(\"Advertising.csv\")\n",
        "df"
      ],
      "metadata": {
        "colab": {
          "base_uri": "https://localhost:8080/",
          "height": 882
        },
        "id": "-ANwW4WhVvHi",
        "outputId": "41eae39e-53c6-4456-d000-016851015a0f"
      },
      "execution_count": 3,
      "outputs": [
        {
          "output_type": "execute_result",
          "data": {
            "text/plain": [
              "shape: (200, 5)\n",
              "┌─────┬───────┬───────┬───────────┬───────┐\n",
              "│     ┆ TV    ┆ Radio ┆ Newspaper ┆ Sales │\n",
              "│ --- ┆ ---   ┆ ---   ┆ ---       ┆ ---   │\n",
              "│ i64 ┆ f64   ┆ f64   ┆ f64       ┆ f64   │\n",
              "╞═════╪═══════╪═══════╪═══════════╪═══════╡\n",
              "│ 1   ┆ 230.1 ┆ 37.8  ┆ 69.2      ┆ 22.1  │\n",
              "│ 2   ┆ 44.5  ┆ 39.3  ┆ 45.1      ┆ 10.4  │\n",
              "│ 3   ┆ 17.2  ┆ 45.9  ┆ 69.3      ┆ 9.3   │\n",
              "│ 4   ┆ 151.5 ┆ 41.3  ┆ 58.5      ┆ 18.5  │\n",
              "│ …   ┆ …     ┆ …     ┆ …         ┆ …     │\n",
              "│ 197 ┆ 94.2  ┆ 4.9   ┆ 8.1       ┆ 9.7   │\n",
              "│ 198 ┆ 177.0 ┆ 9.3   ┆ 6.4       ┆ 12.8  │\n",
              "│ 199 ┆ 283.6 ┆ 42.0  ┆ 66.2      ┆ 25.5  │\n",
              "│ 200 ┆ 232.1 ┆ 8.6   ┆ 8.7       ┆ 13.4  │\n",
              "└─────┴───────┴───────┴───────────┴───────┘"
            ],
            "text/html": [
              "<div><style>\n",
              ".dataframe > thead > tr > th,\n",
              ".dataframe > tbody > tr > td {\n",
              "  text-align: right;\n",
              "}\n",
              "</style>\n",
              "<small>shape: (200, 5)</small><table border=\"1\" class=\"dataframe\"><thead><tr><th></th><th>TV</th><th>Radio</th><th>Newspaper</th><th>Sales</th></tr><tr><td>i64</td><td>f64</td><td>f64</td><td>f64</td><td>f64</td></tr></thead><tbody><tr><td>1</td><td>230.1</td><td>37.8</td><td>69.2</td><td>22.1</td></tr><tr><td>2</td><td>44.5</td><td>39.3</td><td>45.1</td><td>10.4</td></tr><tr><td>3</td><td>17.2</td><td>45.9</td><td>69.3</td><td>9.3</td></tr><tr><td>4</td><td>151.5</td><td>41.3</td><td>58.5</td><td>18.5</td></tr><tr><td>5</td><td>180.8</td><td>10.8</td><td>58.4</td><td>12.9</td></tr><tr><td>6</td><td>8.7</td><td>48.9</td><td>75.0</td><td>7.2</td></tr><tr><td>7</td><td>57.5</td><td>32.8</td><td>23.5</td><td>11.8</td></tr><tr><td>8</td><td>120.2</td><td>19.6</td><td>11.6</td><td>13.2</td></tr><tr><td>9</td><td>8.6</td><td>2.1</td><td>1.0</td><td>4.8</td></tr><tr><td>10</td><td>199.8</td><td>2.6</td><td>21.2</td><td>10.6</td></tr><tr><td>11</td><td>66.1</td><td>5.8</td><td>24.2</td><td>8.6</td></tr><tr><td>12</td><td>214.7</td><td>24.0</td><td>4.0</td><td>17.4</td></tr><tr><td>&hellip;</td><td>&hellip;</td><td>&hellip;</td><td>&hellip;</td><td>&hellip;</td></tr><tr><td>189</td><td>286.0</td><td>13.9</td><td>3.7</td><td>15.9</td></tr><tr><td>190</td><td>18.7</td><td>12.1</td><td>23.4</td><td>6.7</td></tr><tr><td>191</td><td>39.5</td><td>41.1</td><td>5.8</td><td>10.8</td></tr><tr><td>192</td><td>75.5</td><td>10.8</td><td>6.0</td><td>9.9</td></tr><tr><td>193</td><td>17.2</td><td>4.1</td><td>31.6</td><td>5.9</td></tr><tr><td>194</td><td>166.8</td><td>42.0</td><td>3.6</td><td>19.6</td></tr><tr><td>195</td><td>149.7</td><td>35.6</td><td>6.0</td><td>17.3</td></tr><tr><td>196</td><td>38.2</td><td>3.7</td><td>13.8</td><td>7.6</td></tr><tr><td>197</td><td>94.2</td><td>4.9</td><td>8.1</td><td>9.7</td></tr><tr><td>198</td><td>177.0</td><td>9.3</td><td>6.4</td><td>12.8</td></tr><tr><td>199</td><td>283.6</td><td>42.0</td><td>66.2</td><td>25.5</td></tr><tr><td>200</td><td>232.1</td><td>8.6</td><td>8.7</td><td>13.4</td></tr></tbody></table></div>"
            ]
          },
          "metadata": {},
          "execution_count": 3
        }
      ]
    },
    {
      "cell_type": "code",
      "source": [
        "df.columns"
      ],
      "metadata": {
        "colab": {
          "base_uri": "https://localhost:8080/"
        },
        "id": "uPBErglPYEL9",
        "outputId": "72a1cefa-3b90-4f26-847c-82806a3c7280"
      },
      "execution_count": 4,
      "outputs": [
        {
          "output_type": "execute_result",
          "data": {
            "text/plain": [
              "['', 'TV', 'Radio', 'Newspaper', 'Sales']"
            ]
          },
          "metadata": {},
          "execution_count": 4
        }
      ]
    },
    {
      "cell_type": "code",
      "source": [
        "# Select 1 column\n",
        "df.select(pl.col('TV'))"
      ],
      "metadata": {
        "colab": {
          "base_uri": "https://localhost:8080/",
          "height": 882
        },
        "id": "0c1CD-ZTYLaD",
        "outputId": "8eaf2176-3b4d-445a-e485-33e39c573a58"
      },
      "execution_count": 5,
      "outputs": [
        {
          "output_type": "execute_result",
          "data": {
            "text/plain": [
              "shape: (200, 1)\n",
              "┌───────┐\n",
              "│ TV    │\n",
              "│ ---   │\n",
              "│ f64   │\n",
              "╞═══════╡\n",
              "│ 230.1 │\n",
              "│ 44.5  │\n",
              "│ 17.2  │\n",
              "│ 151.5 │\n",
              "│ …     │\n",
              "│ 94.2  │\n",
              "│ 177.0 │\n",
              "│ 283.6 │\n",
              "│ 232.1 │\n",
              "└───────┘"
            ],
            "text/html": [
              "<div><style>\n",
              ".dataframe > thead > tr > th,\n",
              ".dataframe > tbody > tr > td {\n",
              "  text-align: right;\n",
              "}\n",
              "</style>\n",
              "<small>shape: (200, 1)</small><table border=\"1\" class=\"dataframe\"><thead><tr><th>TV</th></tr><tr><td>f64</td></tr></thead><tbody><tr><td>230.1</td></tr><tr><td>44.5</td></tr><tr><td>17.2</td></tr><tr><td>151.5</td></tr><tr><td>180.8</td></tr><tr><td>8.7</td></tr><tr><td>57.5</td></tr><tr><td>120.2</td></tr><tr><td>8.6</td></tr><tr><td>199.8</td></tr><tr><td>66.1</td></tr><tr><td>214.7</td></tr><tr><td>&hellip;</td></tr><tr><td>286.0</td></tr><tr><td>18.7</td></tr><tr><td>39.5</td></tr><tr><td>75.5</td></tr><tr><td>17.2</td></tr><tr><td>166.8</td></tr><tr><td>149.7</td></tr><tr><td>38.2</td></tr><tr><td>94.2</td></tr><tr><td>177.0</td></tr><tr><td>283.6</td></tr><tr><td>232.1</td></tr></tbody></table></div>"
            ]
          },
          "metadata": {},
          "execution_count": 5
        }
      ]
    },
    {
      "cell_type": "code",
      "source": [
        "# Select 2+ columns\n",
        "df.select(pl.col(['TV', 'Radio']))"
      ],
      "metadata": {
        "colab": {
          "base_uri": "https://localhost:8080/",
          "height": 882
        },
        "id": "ByAtxGLtYSAb",
        "outputId": "ced48629-0222-4af9-cf5f-8c8a602ca4d6"
      },
      "execution_count": 6,
      "outputs": [
        {
          "output_type": "execute_result",
          "data": {
            "text/plain": [
              "shape: (200, 2)\n",
              "┌───────┬───────┐\n",
              "│ TV    ┆ Radio │\n",
              "│ ---   ┆ ---   │\n",
              "│ f64   ┆ f64   │\n",
              "╞═══════╪═══════╡\n",
              "│ 230.1 ┆ 37.8  │\n",
              "│ 44.5  ┆ 39.3  │\n",
              "│ 17.2  ┆ 45.9  │\n",
              "│ 151.5 ┆ 41.3  │\n",
              "│ …     ┆ …     │\n",
              "│ 94.2  ┆ 4.9   │\n",
              "│ 177.0 ┆ 9.3   │\n",
              "│ 283.6 ┆ 42.0  │\n",
              "│ 232.1 ┆ 8.6   │\n",
              "└───────┴───────┘"
            ],
            "text/html": [
              "<div><style>\n",
              ".dataframe > thead > tr > th,\n",
              ".dataframe > tbody > tr > td {\n",
              "  text-align: right;\n",
              "}\n",
              "</style>\n",
              "<small>shape: (200, 2)</small><table border=\"1\" class=\"dataframe\"><thead><tr><th>TV</th><th>Radio</th></tr><tr><td>f64</td><td>f64</td></tr></thead><tbody><tr><td>230.1</td><td>37.8</td></tr><tr><td>44.5</td><td>39.3</td></tr><tr><td>17.2</td><td>45.9</td></tr><tr><td>151.5</td><td>41.3</td></tr><tr><td>180.8</td><td>10.8</td></tr><tr><td>8.7</td><td>48.9</td></tr><tr><td>57.5</td><td>32.8</td></tr><tr><td>120.2</td><td>19.6</td></tr><tr><td>8.6</td><td>2.1</td></tr><tr><td>199.8</td><td>2.6</td></tr><tr><td>66.1</td><td>5.8</td></tr><tr><td>214.7</td><td>24.0</td></tr><tr><td>&hellip;</td><td>&hellip;</td></tr><tr><td>286.0</td><td>13.9</td></tr><tr><td>18.7</td><td>12.1</td></tr><tr><td>39.5</td><td>41.1</td></tr><tr><td>75.5</td><td>10.8</td></tr><tr><td>17.2</td><td>4.1</td></tr><tr><td>166.8</td><td>42.0</td></tr><tr><td>149.7</td><td>35.6</td></tr><tr><td>38.2</td><td>3.7</td></tr><tr><td>94.2</td><td>4.9</td></tr><tr><td>177.0</td><td>9.3</td></tr><tr><td>283.6</td><td>42.0</td></tr><tr><td>232.1</td><td>8.6</td></tr></tbody></table></div>"
            ]
          },
          "metadata": {},
          "execution_count": 6
        }
      ]
    },
    {
      "cell_type": "code",
      "source": [
        "# Select all columns\n",
        "df.select(pl.col('*'))"
      ],
      "metadata": {
        "colab": {
          "base_uri": "https://localhost:8080/",
          "height": 882
        },
        "id": "FMyjwvfhYYLS",
        "outputId": "a600f568-b306-4fcb-cfeb-7a6b3d170f0d"
      },
      "execution_count": 7,
      "outputs": [
        {
          "output_type": "execute_result",
          "data": {
            "text/plain": [
              "shape: (200, 5)\n",
              "┌─────┬───────┬───────┬───────────┬───────┐\n",
              "│     ┆ TV    ┆ Radio ┆ Newspaper ┆ Sales │\n",
              "│ --- ┆ ---   ┆ ---   ┆ ---       ┆ ---   │\n",
              "│ i64 ┆ f64   ┆ f64   ┆ f64       ┆ f64   │\n",
              "╞═════╪═══════╪═══════╪═══════════╪═══════╡\n",
              "│ 1   ┆ 230.1 ┆ 37.8  ┆ 69.2      ┆ 22.1  │\n",
              "│ 2   ┆ 44.5  ┆ 39.3  ┆ 45.1      ┆ 10.4  │\n",
              "│ 3   ┆ 17.2  ┆ 45.9  ┆ 69.3      ┆ 9.3   │\n",
              "│ 4   ┆ 151.5 ┆ 41.3  ┆ 58.5      ┆ 18.5  │\n",
              "│ …   ┆ …     ┆ …     ┆ …         ┆ …     │\n",
              "│ 197 ┆ 94.2  ┆ 4.9   ┆ 8.1       ┆ 9.7   │\n",
              "│ 198 ┆ 177.0 ┆ 9.3   ┆ 6.4       ┆ 12.8  │\n",
              "│ 199 ┆ 283.6 ┆ 42.0  ┆ 66.2      ┆ 25.5  │\n",
              "│ 200 ┆ 232.1 ┆ 8.6   ┆ 8.7       ┆ 13.4  │\n",
              "└─────┴───────┴───────┴───────────┴───────┘"
            ],
            "text/html": [
              "<div><style>\n",
              ".dataframe > thead > tr > th,\n",
              ".dataframe > tbody > tr > td {\n",
              "  text-align: right;\n",
              "}\n",
              "</style>\n",
              "<small>shape: (200, 5)</small><table border=\"1\" class=\"dataframe\"><thead><tr><th></th><th>TV</th><th>Radio</th><th>Newspaper</th><th>Sales</th></tr><tr><td>i64</td><td>f64</td><td>f64</td><td>f64</td><td>f64</td></tr></thead><tbody><tr><td>1</td><td>230.1</td><td>37.8</td><td>69.2</td><td>22.1</td></tr><tr><td>2</td><td>44.5</td><td>39.3</td><td>45.1</td><td>10.4</td></tr><tr><td>3</td><td>17.2</td><td>45.9</td><td>69.3</td><td>9.3</td></tr><tr><td>4</td><td>151.5</td><td>41.3</td><td>58.5</td><td>18.5</td></tr><tr><td>5</td><td>180.8</td><td>10.8</td><td>58.4</td><td>12.9</td></tr><tr><td>6</td><td>8.7</td><td>48.9</td><td>75.0</td><td>7.2</td></tr><tr><td>7</td><td>57.5</td><td>32.8</td><td>23.5</td><td>11.8</td></tr><tr><td>8</td><td>120.2</td><td>19.6</td><td>11.6</td><td>13.2</td></tr><tr><td>9</td><td>8.6</td><td>2.1</td><td>1.0</td><td>4.8</td></tr><tr><td>10</td><td>199.8</td><td>2.6</td><td>21.2</td><td>10.6</td></tr><tr><td>11</td><td>66.1</td><td>5.8</td><td>24.2</td><td>8.6</td></tr><tr><td>12</td><td>214.7</td><td>24.0</td><td>4.0</td><td>17.4</td></tr><tr><td>&hellip;</td><td>&hellip;</td><td>&hellip;</td><td>&hellip;</td><td>&hellip;</td></tr><tr><td>189</td><td>286.0</td><td>13.9</td><td>3.7</td><td>15.9</td></tr><tr><td>190</td><td>18.7</td><td>12.1</td><td>23.4</td><td>6.7</td></tr><tr><td>191</td><td>39.5</td><td>41.1</td><td>5.8</td><td>10.8</td></tr><tr><td>192</td><td>75.5</td><td>10.8</td><td>6.0</td><td>9.9</td></tr><tr><td>193</td><td>17.2</td><td>4.1</td><td>31.6</td><td>5.9</td></tr><tr><td>194</td><td>166.8</td><td>42.0</td><td>3.6</td><td>19.6</td></tr><tr><td>195</td><td>149.7</td><td>35.6</td><td>6.0</td><td>17.3</td></tr><tr><td>196</td><td>38.2</td><td>3.7</td><td>13.8</td><td>7.6</td></tr><tr><td>197</td><td>94.2</td><td>4.9</td><td>8.1</td><td>9.7</td></tr><tr><td>198</td><td>177.0</td><td>9.3</td><td>6.4</td><td>12.8</td></tr><tr><td>199</td><td>283.6</td><td>42.0</td><td>66.2</td><td>25.5</td></tr><tr><td>200</td><td>232.1</td><td>8.6</td><td>8.7</td><td>13.4</td></tr></tbody></table></div>"
            ]
          },
          "metadata": {},
          "execution_count": 7
        }
      ]
    },
    {
      "cell_type": "code",
      "source": [
        "# polars: create \"sum\" column\n",
        "df.with_columns(\n",
        "    (pl.col('TV') + pl.col('Radio')).alias(\"sum\")\n",
        ")\n",
        "\n",
        "# pandas: df['sum'] = df['math score'] + df['reading score']"
      ],
      "metadata": {
        "colab": {
          "base_uri": "https://localhost:8080/",
          "height": 882
        },
        "id": "Bvr8OCJxYdpj",
        "outputId": "a6e52890-d8e0-48a9-b26a-8d100cf764cf"
      },
      "execution_count": 9,
      "outputs": [
        {
          "output_type": "execute_result",
          "data": {
            "text/plain": [
              "shape: (200, 6)\n",
              "┌─────┬───────┬───────┬───────────┬───────┬───────┐\n",
              "│     ┆ TV    ┆ Radio ┆ Newspaper ┆ Sales ┆ sum   │\n",
              "│ --- ┆ ---   ┆ ---   ┆ ---       ┆ ---   ┆ ---   │\n",
              "│ i64 ┆ f64   ┆ f64   ┆ f64       ┆ f64   ┆ f64   │\n",
              "╞═════╪═══════╪═══════╪═══════════╪═══════╪═══════╡\n",
              "│ 1   ┆ 230.1 ┆ 37.8  ┆ 69.2      ┆ 22.1  ┆ 267.9 │\n",
              "│ 2   ┆ 44.5  ┆ 39.3  ┆ 45.1      ┆ 10.4  ┆ 83.8  │\n",
              "│ 3   ┆ 17.2  ┆ 45.9  ┆ 69.3      ┆ 9.3   ┆ 63.1  │\n",
              "│ 4   ┆ 151.5 ┆ 41.3  ┆ 58.5      ┆ 18.5  ┆ 192.8 │\n",
              "│ …   ┆ …     ┆ …     ┆ …         ┆ …     ┆ …     │\n",
              "│ 197 ┆ 94.2  ┆ 4.9   ┆ 8.1       ┆ 9.7   ┆ 99.1  │\n",
              "│ 198 ┆ 177.0 ┆ 9.3   ┆ 6.4       ┆ 12.8  ┆ 186.3 │\n",
              "│ 199 ┆ 283.6 ┆ 42.0  ┆ 66.2      ┆ 25.5  ┆ 325.6 │\n",
              "│ 200 ┆ 232.1 ┆ 8.6   ┆ 8.7       ┆ 13.4  ┆ 240.7 │\n",
              "└─────┴───────┴───────┴───────────┴───────┴───────┘"
            ],
            "text/html": [
              "<div><style>\n",
              ".dataframe > thead > tr > th,\n",
              ".dataframe > tbody > tr > td {\n",
              "  text-align: right;\n",
              "}\n",
              "</style>\n",
              "<small>shape: (200, 6)</small><table border=\"1\" class=\"dataframe\"><thead><tr><th></th><th>TV</th><th>Radio</th><th>Newspaper</th><th>Sales</th><th>sum</th></tr><tr><td>i64</td><td>f64</td><td>f64</td><td>f64</td><td>f64</td><td>f64</td></tr></thead><tbody><tr><td>1</td><td>230.1</td><td>37.8</td><td>69.2</td><td>22.1</td><td>267.9</td></tr><tr><td>2</td><td>44.5</td><td>39.3</td><td>45.1</td><td>10.4</td><td>83.8</td></tr><tr><td>3</td><td>17.2</td><td>45.9</td><td>69.3</td><td>9.3</td><td>63.1</td></tr><tr><td>4</td><td>151.5</td><td>41.3</td><td>58.5</td><td>18.5</td><td>192.8</td></tr><tr><td>5</td><td>180.8</td><td>10.8</td><td>58.4</td><td>12.9</td><td>191.6</td></tr><tr><td>6</td><td>8.7</td><td>48.9</td><td>75.0</td><td>7.2</td><td>57.6</td></tr><tr><td>7</td><td>57.5</td><td>32.8</td><td>23.5</td><td>11.8</td><td>90.3</td></tr><tr><td>8</td><td>120.2</td><td>19.6</td><td>11.6</td><td>13.2</td><td>139.8</td></tr><tr><td>9</td><td>8.6</td><td>2.1</td><td>1.0</td><td>4.8</td><td>10.7</td></tr><tr><td>10</td><td>199.8</td><td>2.6</td><td>21.2</td><td>10.6</td><td>202.4</td></tr><tr><td>11</td><td>66.1</td><td>5.8</td><td>24.2</td><td>8.6</td><td>71.9</td></tr><tr><td>12</td><td>214.7</td><td>24.0</td><td>4.0</td><td>17.4</td><td>238.7</td></tr><tr><td>&hellip;</td><td>&hellip;</td><td>&hellip;</td><td>&hellip;</td><td>&hellip;</td><td>&hellip;</td></tr><tr><td>189</td><td>286.0</td><td>13.9</td><td>3.7</td><td>15.9</td><td>299.9</td></tr><tr><td>190</td><td>18.7</td><td>12.1</td><td>23.4</td><td>6.7</td><td>30.8</td></tr><tr><td>191</td><td>39.5</td><td>41.1</td><td>5.8</td><td>10.8</td><td>80.6</td></tr><tr><td>192</td><td>75.5</td><td>10.8</td><td>6.0</td><td>9.9</td><td>86.3</td></tr><tr><td>193</td><td>17.2</td><td>4.1</td><td>31.6</td><td>5.9</td><td>21.3</td></tr><tr><td>194</td><td>166.8</td><td>42.0</td><td>3.6</td><td>19.6</td><td>208.8</td></tr><tr><td>195</td><td>149.7</td><td>35.6</td><td>6.0</td><td>17.3</td><td>185.3</td></tr><tr><td>196</td><td>38.2</td><td>3.7</td><td>13.8</td><td>7.6</td><td>41.9</td></tr><tr><td>197</td><td>94.2</td><td>4.9</td><td>8.1</td><td>9.7</td><td>99.1</td></tr><tr><td>198</td><td>177.0</td><td>9.3</td><td>6.4</td><td>12.8</td><td>186.3</td></tr><tr><td>199</td><td>283.6</td><td>42.0</td><td>66.2</td><td>25.5</td><td>325.6</td></tr><tr><td>200</td><td>232.1</td><td>8.6</td><td>8.7</td><td>13.4</td><td>240.7</td></tr></tbody></table></div>"
            ]
          },
          "metadata": {},
          "execution_count": 9
        }
      ]
    },
    {
      "cell_type": "code",
      "source": [
        "# polars: create \"average\" column\n",
        "df.with_columns(\n",
        "    pl.col(['TV', 'Radio', 'Newspaper']).mean().alias('col1')\n",
        ")\n",
        "\n",
        "# pandas: df['average'] = df[['math score', 'reading score', 'writing score']].mean(axis=1)"
      ],
      "metadata": {
        "colab": {
          "base_uri": "https://localhost:8080/",
          "height": 450
        },
        "id": "fTX9jWoPYwM2",
        "outputId": "a4e360b4-bc97-474c-8a2e-4018a7874855"
      },
      "execution_count": 18,
      "outputs": [
        {
          "output_type": "error",
          "ename": "ComputeError",
          "evalue": "ignored",
          "traceback": [
            "\u001b[0;31m---------------------------------------------------------------------------\u001b[0m",
            "\u001b[0;31mComputeError\u001b[0m                              Traceback (most recent call last)",
            "\u001b[0;32m<ipython-input-18-d0648a2fc9fe>\u001b[0m in \u001b[0;36m<cell line: 2>\u001b[0;34m()\u001b[0m\n\u001b[1;32m      1\u001b[0m \u001b[0;31m# polars: create \"average\" column\u001b[0m\u001b[0;34m\u001b[0m\u001b[0;34m\u001b[0m\u001b[0m\n\u001b[0;32m----> 2\u001b[0;31m df.with_columns(\n\u001b[0m\u001b[1;32m      3\u001b[0m     \u001b[0mpl\u001b[0m\u001b[0;34m.\u001b[0m\u001b[0mcol\u001b[0m\u001b[0;34m(\u001b[0m\u001b[0;34m[\u001b[0m\u001b[0;34m'TV'\u001b[0m\u001b[0;34m,\u001b[0m \u001b[0;34m'Radio'\u001b[0m\u001b[0;34m,\u001b[0m \u001b[0;34m'Newspaper'\u001b[0m\u001b[0;34m]\u001b[0m\u001b[0;34m)\u001b[0m\u001b[0;34m.\u001b[0m\u001b[0mmean\u001b[0m\u001b[0;34m(\u001b[0m\u001b[0;34m)\u001b[0m\u001b[0;34m.\u001b[0m\u001b[0malias\u001b[0m\u001b[0;34m(\u001b[0m\u001b[0;34m'col1'\u001b[0m\u001b[0;34m)\u001b[0m\u001b[0;34m\u001b[0m\u001b[0;34m\u001b[0m\u001b[0m\n\u001b[1;32m      4\u001b[0m )\n\u001b[1;32m      5\u001b[0m \u001b[0;34m\u001b[0m\u001b[0m\n",
            "\u001b[0;32m/usr/local/lib/python3.9/dist-packages/polars/dataframe/frame.py\u001b[0m in \u001b[0;36mwith_columns\u001b[0;34m(self, exprs, *more_exprs, **named_exprs)\u001b[0m\n\u001b[1;32m   6658\u001b[0m         \"\"\"\n\u001b[1;32m   6659\u001b[0m         return self._from_pydf(\n\u001b[0;32m-> 6660\u001b[0;31m             \u001b[0mself\u001b[0m\u001b[0;34m.\u001b[0m\u001b[0mlazy\u001b[0m\u001b[0;34m(\u001b[0m\u001b[0;34m)\u001b[0m\u001b[0;34m\u001b[0m\u001b[0;34m\u001b[0m\u001b[0m\n\u001b[0m\u001b[1;32m   6661\u001b[0m             \u001b[0;34m.\u001b[0m\u001b[0mwith_columns\u001b[0m\u001b[0;34m(\u001b[0m\u001b[0mexprs\u001b[0m\u001b[0;34m,\u001b[0m \u001b[0;34m*\u001b[0m\u001b[0mmore_exprs\u001b[0m\u001b[0;34m,\u001b[0m \u001b[0;34m**\u001b[0m\u001b[0mnamed_exprs\u001b[0m\u001b[0;34m)\u001b[0m\u001b[0;34m\u001b[0m\u001b[0;34m\u001b[0m\u001b[0m\n\u001b[1;32m   6662\u001b[0m             \u001b[0;34m.\u001b[0m\u001b[0mcollect\u001b[0m\u001b[0;34m(\u001b[0m\u001b[0mno_optimization\u001b[0m\u001b[0;34m=\u001b[0m\u001b[0;32mTrue\u001b[0m\u001b[0;34m)\u001b[0m\u001b[0;34m\u001b[0m\u001b[0;34m\u001b[0m\u001b[0m\n",
            "\u001b[0;32m/usr/local/lib/python3.9/dist-packages/polars/lazyframe/frame.py\u001b[0m in \u001b[0;36mcollect\u001b[0;34m(self, type_coercion, predicate_pushdown, projection_pushdown, simplify_expression, no_optimization, slice_pushdown, common_subplan_elimination, streaming)\u001b[0m\n\u001b[1;32m   1473\u001b[0m             \u001b[0mstreaming\u001b[0m\u001b[0;34m,\u001b[0m\u001b[0;34m\u001b[0m\u001b[0;34m\u001b[0m\u001b[0m\n\u001b[1;32m   1474\u001b[0m         )\n\u001b[0;32m-> 1475\u001b[0;31m         \u001b[0;32mreturn\u001b[0m \u001b[0mwrap_df\u001b[0m\u001b[0;34m(\u001b[0m\u001b[0mldf\u001b[0m\u001b[0;34m.\u001b[0m\u001b[0mcollect\u001b[0m\u001b[0;34m(\u001b[0m\u001b[0;34m)\u001b[0m\u001b[0;34m)\u001b[0m\u001b[0;34m\u001b[0m\u001b[0;34m\u001b[0m\u001b[0m\n\u001b[0m\u001b[1;32m   1476\u001b[0m \u001b[0;34m\u001b[0m\u001b[0m\n\u001b[1;32m   1477\u001b[0m     def sink_parquet(\n",
            "\u001b[0;31mComputeError\u001b[0m: The name: 'col1' passed to `LazyFrame.with_columns` is duplicate\n\nError originated just after this operation:\nDF [\"\", \"TV\", \"Radio\", \"Newspaper\"]; PROJECT */5 COLUMNS; SELECTION: \"None\""
          ]
        }
      ]
    },
    {
      "cell_type": "code",
      "source": [
        "# polars: simple filtering\n",
        "df.filter(pl.col('TV')>200)\n",
        "\n",
        "# pandas: df[df['TV'] > 200]"
      ],
      "metadata": {
        "colab": {
          "base_uri": "https://localhost:8080/",
          "height": 882
        },
        "id": "Ie5-Abr4Z7Lw",
        "outputId": "662dab94-b5b3-4fe5-df72-7146034d7832"
      },
      "execution_count": 19,
      "outputs": [
        {
          "output_type": "execute_result",
          "data": {
            "text/plain": [
              "shape: (67, 5)\n",
              "┌─────┬───────┬───────┬───────────┬───────┐\n",
              "│     ┆ TV    ┆ Radio ┆ Newspaper ┆ Sales │\n",
              "│ --- ┆ ---   ┆ ---   ┆ ---       ┆ ---   │\n",
              "│ i64 ┆ f64   ┆ f64   ┆ f64       ┆ f64   │\n",
              "╞═════╪═══════╪═══════╪═══════════╪═══════╡\n",
              "│ 1   ┆ 230.1 ┆ 37.8  ┆ 69.2      ┆ 22.1  │\n",
              "│ 12  ┆ 214.7 ┆ 24.0  ┆ 4.0       ┆ 17.4  │\n",
              "│ 15  ┆ 204.1 ┆ 32.9  ┆ 46.0      ┆ 19.0  │\n",
              "│ 18  ┆ 281.4 ┆ 39.6  ┆ 55.8      ┆ 24.4  │\n",
              "│ …   ┆ …     ┆ …     ┆ …         ┆ …     │\n",
              "│ 186 ┆ 205.0 ┆ 45.1  ┆ 19.6      ┆ 22.6  │\n",
              "│ 189 ┆ 286.0 ┆ 13.9  ┆ 3.7       ┆ 15.9  │\n",
              "│ 199 ┆ 283.6 ┆ 42.0  ┆ 66.2      ┆ 25.5  │\n",
              "│ 200 ┆ 232.1 ┆ 8.6   ┆ 8.7       ┆ 13.4  │\n",
              "└─────┴───────┴───────┴───────────┴───────┘"
            ],
            "text/html": [
              "<div><style>\n",
              ".dataframe > thead > tr > th,\n",
              ".dataframe > tbody > tr > td {\n",
              "  text-align: right;\n",
              "}\n",
              "</style>\n",
              "<small>shape: (67, 5)</small><table border=\"1\" class=\"dataframe\"><thead><tr><th></th><th>TV</th><th>Radio</th><th>Newspaper</th><th>Sales</th></tr><tr><td>i64</td><td>f64</td><td>f64</td><td>f64</td><td>f64</td></tr></thead><tbody><tr><td>1</td><td>230.1</td><td>37.8</td><td>69.2</td><td>22.1</td></tr><tr><td>12</td><td>214.7</td><td>24.0</td><td>4.0</td><td>17.4</td></tr><tr><td>15</td><td>204.1</td><td>32.9</td><td>46.0</td><td>19.0</td></tr><tr><td>18</td><td>281.4</td><td>39.6</td><td>55.8</td><td>24.4</td></tr><tr><td>21</td><td>218.4</td><td>27.7</td><td>53.4</td><td>18.0</td></tr><tr><td>22</td><td>237.4</td><td>5.1</td><td>23.5</td><td>12.5</td></tr><tr><td>24</td><td>228.3</td><td>16.9</td><td>26.2</td><td>15.5</td></tr><tr><td>26</td><td>262.9</td><td>3.5</td><td>19.5</td><td>12.0</td></tr><tr><td>28</td><td>240.1</td><td>16.7</td><td>22.9</td><td>15.9</td></tr><tr><td>29</td><td>248.8</td><td>27.1</td><td>22.9</td><td>18.9</td></tr><tr><td>31</td><td>292.9</td><td>28.3</td><td>43.2</td><td>21.4</td></tr><tr><td>34</td><td>265.6</td><td>20.0</td><td>0.3</td><td>17.4</td></tr><tr><td>&hellip;</td><td>&hellip;</td><td>&hellip;</td><td>&hellip;</td><td>&hellip;</td></tr><tr><td>170</td><td>284.3</td><td>10.6</td><td>6.4</td><td>15.0</td></tr><tr><td>175</td><td>222.4</td><td>3.4</td><td>13.1</td><td>11.5</td></tr><tr><td>176</td><td>276.9</td><td>48.9</td><td>41.8</td><td>27.0</td></tr><tr><td>177</td><td>248.4</td><td>30.2</td><td>20.3</td><td>20.2</td></tr><tr><td>179</td><td>276.7</td><td>2.3</td><td>23.7</td><td>11.8</td></tr><tr><td>182</td><td>218.5</td><td>5.4</td><td>27.4</td><td>12.2</td></tr><tr><td>184</td><td>287.6</td><td>43.0</td><td>71.8</td><td>26.2</td></tr><tr><td>185</td><td>253.8</td><td>21.3</td><td>30.0</td><td>17.6</td></tr><tr><td>186</td><td>205.0</td><td>45.1</td><td>19.6</td><td>22.6</td></tr><tr><td>189</td><td>286.0</td><td>13.9</td><td>3.7</td><td>15.9</td></tr><tr><td>199</td><td>283.6</td><td>42.0</td><td>66.2</td><td>25.5</td></tr><tr><td>200</td><td>232.1</td><td>8.6</td><td>8.7</td><td>13.4</td></tr></tbody></table></div>"
            ]
          },
          "metadata": {},
          "execution_count": 19
        }
      ]
    }
  ]
}