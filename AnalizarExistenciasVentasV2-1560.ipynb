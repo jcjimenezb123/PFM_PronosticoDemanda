{
 "cells": [
  {
   "cell_type": "markdown",
   "metadata": {},
   "source": [
    "## Regresion Lineal para la reconstruccion de ventas en periodos negados"
   ]
  },
  {
   "cell_type": "code",
   "execution_count": 41,
   "metadata": {},
   "outputs": [],
   "source": [
    "import cx_Oracle as oc\n",
    "import pandas as pd\n",
    "import numpy as np"
   ]
  },
  {
   "cell_type": "code",
   "execution_count": 42,
   "metadata": {},
   "outputs": [],
   "source": [
    "con=oc.connect('PFM/PFM2020$@pythonsrv.southcentralus.cloudapp.azure.com')"
   ]
  },
  {
   "cell_type": "markdown",
   "metadata": {},
   "source": [
    "Consulta el modelo y talla negada en la tienda"
   ]
  },
  {
   "cell_type": "code",
   "execution_count": 43,
   "metadata": {},
   "outputs": [],
   "source": [
    "sql=pd.read_sql_query('''\n",
    "select TI_CVE_N,\n",
    "       ULT_SUST_DEF,\n",
    "       TALLA_INI_MIN,\n",
    "       TALLA_FIN_MAX,\n",
    "       TA_CVE_N,\n",
    "       FECHA,\n",
    "       EXISTENCIA,\n",
    "       VENTA\n",
    "from venta\n",
    "where ult_sust_def=1560 \n",
    "    and ta_cve_n=26\n",
    "    and ti_cve_n=1\n",
    "''',con)"
   ]
  },
  {
   "cell_type": "code",
   "execution_count": 44,
   "metadata": {},
   "outputs": [],
   "source": [
    "df=pd.DataFrame(sql)"
   ]
  },
  {
   "cell_type": "markdown",
   "metadata": {},
   "source": [
    "Establece la fecha como indice"
   ]
  },
  {
   "cell_type": "code",
   "execution_count": 45,
   "metadata": {},
   "outputs": [
    {
     "data": {
      "text/html": [
       "<div>\n",
       "<style scoped>\n",
       "    .dataframe tbody tr th:only-of-type {\n",
       "        vertical-align: middle;\n",
       "    }\n",
       "\n",
       "    .dataframe tbody tr th {\n",
       "        vertical-align: top;\n",
       "    }\n",
       "\n",
       "    .dataframe thead th {\n",
       "        text-align: right;\n",
       "    }\n",
       "</style>\n",
       "<table border=\"1\" class=\"dataframe\">\n",
       "  <thead>\n",
       "    <tr style=\"text-align: right;\">\n",
       "      <th></th>\n",
       "      <th>TI_CVE_N</th>\n",
       "      <th>ULT_SUST_DEF</th>\n",
       "      <th>TALLA_INI_MIN</th>\n",
       "      <th>TALLA_FIN_MAX</th>\n",
       "      <th>TA_CVE_N</th>\n",
       "      <th>EXISTENCIA</th>\n",
       "      <th>VENTA</th>\n",
       "    </tr>\n",
       "    <tr>\n",
       "      <th>FECHA</th>\n",
       "      <th></th>\n",
       "      <th></th>\n",
       "      <th></th>\n",
       "      <th></th>\n",
       "      <th></th>\n",
       "      <th></th>\n",
       "      <th></th>\n",
       "    </tr>\n",
       "  </thead>\n",
       "  <tbody>\n",
       "    <tr>\n",
       "      <th>2019-03-01</th>\n",
       "      <td>1</td>\n",
       "      <td>1560</td>\n",
       "      <td>25</td>\n",
       "      <td>32</td>\n",
       "      <td>26</td>\n",
       "      <td>30</td>\n",
       "      <td>0</td>\n",
       "    </tr>\n",
       "    <tr>\n",
       "      <th>2019-03-02</th>\n",
       "      <td>1</td>\n",
       "      <td>1560</td>\n",
       "      <td>25</td>\n",
       "      <td>32</td>\n",
       "      <td>26</td>\n",
       "      <td>30</td>\n",
       "      <td>0</td>\n",
       "    </tr>\n",
       "    <tr>\n",
       "      <th>2019-03-03</th>\n",
       "      <td>1</td>\n",
       "      <td>1560</td>\n",
       "      <td>25</td>\n",
       "      <td>32</td>\n",
       "      <td>26</td>\n",
       "      <td>30</td>\n",
       "      <td>1</td>\n",
       "    </tr>\n",
       "    <tr>\n",
       "      <th>2019-03-04</th>\n",
       "      <td>1</td>\n",
       "      <td>1560</td>\n",
       "      <td>25</td>\n",
       "      <td>32</td>\n",
       "      <td>26</td>\n",
       "      <td>29</td>\n",
       "      <td>1</td>\n",
       "    </tr>\n",
       "    <tr>\n",
       "      <th>2019-03-05</th>\n",
       "      <td>1</td>\n",
       "      <td>1560</td>\n",
       "      <td>25</td>\n",
       "      <td>32</td>\n",
       "      <td>26</td>\n",
       "      <td>28</td>\n",
       "      <td>3</td>\n",
       "    </tr>\n",
       "    <tr>\n",
       "      <th>2019-03-06</th>\n",
       "      <td>1</td>\n",
       "      <td>1560</td>\n",
       "      <td>25</td>\n",
       "      <td>32</td>\n",
       "      <td>26</td>\n",
       "      <td>25</td>\n",
       "      <td>2</td>\n",
       "    </tr>\n",
       "    <tr>\n",
       "      <th>2019-03-07</th>\n",
       "      <td>1</td>\n",
       "      <td>1560</td>\n",
       "      <td>25</td>\n",
       "      <td>32</td>\n",
       "      <td>26</td>\n",
       "      <td>23</td>\n",
       "      <td>1</td>\n",
       "    </tr>\n",
       "    <tr>\n",
       "      <th>2019-03-08</th>\n",
       "      <td>1</td>\n",
       "      <td>1560</td>\n",
       "      <td>25</td>\n",
       "      <td>32</td>\n",
       "      <td>26</td>\n",
       "      <td>22</td>\n",
       "      <td>2</td>\n",
       "    </tr>\n",
       "    <tr>\n",
       "      <th>2019-03-09</th>\n",
       "      <td>1</td>\n",
       "      <td>1560</td>\n",
       "      <td>25</td>\n",
       "      <td>32</td>\n",
       "      <td>26</td>\n",
       "      <td>19</td>\n",
       "      <td>2</td>\n",
       "    </tr>\n",
       "    <tr>\n",
       "      <th>2019-03-10</th>\n",
       "      <td>1</td>\n",
       "      <td>1560</td>\n",
       "      <td>25</td>\n",
       "      <td>32</td>\n",
       "      <td>26</td>\n",
       "      <td>17</td>\n",
       "      <td>1</td>\n",
       "    </tr>\n",
       "  </tbody>\n",
       "</table>\n",
       "</div>"
      ],
      "text/plain": [
       "            TI_CVE_N  ULT_SUST_DEF  TALLA_INI_MIN  TALLA_FIN_MAX  TA_CVE_N  \\\n",
       "FECHA                                                                        \n",
       "2019-03-01         1          1560             25             32        26   \n",
       "2019-03-02         1          1560             25             32        26   \n",
       "2019-03-03         1          1560             25             32        26   \n",
       "2019-03-04         1          1560             25             32        26   \n",
       "2019-03-05         1          1560             25             32        26   \n",
       "2019-03-06         1          1560             25             32        26   \n",
       "2019-03-07         1          1560             25             32        26   \n",
       "2019-03-08         1          1560             25             32        26   \n",
       "2019-03-09         1          1560             25             32        26   \n",
       "2019-03-10         1          1560             25             32        26   \n",
       "\n",
       "            EXISTENCIA  VENTA  \n",
       "FECHA                          \n",
       "2019-03-01          30      0  \n",
       "2019-03-02          30      0  \n",
       "2019-03-03          30      1  \n",
       "2019-03-04          29      1  \n",
       "2019-03-05          28      3  \n",
       "2019-03-06          25      2  \n",
       "2019-03-07          23      1  \n",
       "2019-03-08          22      2  \n",
       "2019-03-09          19      2  \n",
       "2019-03-10          17      1  "
      ]
     },
     "execution_count": 45,
     "metadata": {},
     "output_type": "execute_result"
    }
   ],
   "source": [
    "df = df.set_index('FECHA')\n",
    "df.head(10)"
   ]
  },
  {
   "cell_type": "markdown",
   "metadata": {},
   "source": [
    "Se muestra el comportamiento de la venta vs existencia"
   ]
  },
  {
   "cell_type": "code",
   "execution_count": 46,
   "metadata": {},
   "outputs": [],
   "source": [
    "import seaborn as sns"
   ]
  },
  {
   "cell_type": "code",
   "execution_count": 47,
   "metadata": {},
   "outputs": [
    {
     "data": {
      "image/png": "[encoded data removed]",
      "text/plain": [
       "<Figure size 792x648 with 2 Axes>"
      ]
     },
     "metadata": {
      "needs_background": "light"
     },
     "output_type": "display_data"
    }
   ],
   "source": [
    "cols_plot = ['EXISTENCIA', 'VENTA']\n",
    "axes = df[cols_plot].plot(marker='.', alpha=0.5, linestyle='None', figsize=(11, 9), subplots=True)\n",
    "for ax in axes:\n",
    "    ax.set_ylabel('Pares/Piezas')"
   ]
  },
  {
   "cell_type": "markdown",
   "metadata": {},
   "source": [
    "Se obtiene el dia de la semana para hacer la regresion lineal con ventas del mismo dia"
   ]
  },
  {
   "cell_type": "code",
   "execution_count": 32,
   "metadata": {},
   "outputs": [
    {
     "data": {
      "text/html": [
       "<div>\n",
       "<style scoped>\n",
       "    .dataframe tbody tr th:only-of-type {\n",
       "        vertical-align: middle;\n",
       "    }\n",
       "\n",
       "    .dataframe tbody tr th {\n",
       "        vertical-align: top;\n",
       "    }\n",
       "\n",
       "    .dataframe thead th {\n",
       "        text-align: right;\n",
       "    }\n",
       "</style>\n",
       "<table border=\"1\" class=\"dataframe\">\n",
       "  <thead>\n",
       "    <tr style=\"text-align: right;\">\n",
       "      <th></th>\n",
       "      <th>TI_CVE_N</th>\n",
       "      <th>ULT_SUST_DEF</th>\n",
       "      <th>TALLA_INI_MIN</th>\n",
       "      <th>TALLA_FIN_MAX</th>\n",
       "      <th>TA_CVE_N</th>\n",
       "      <th>EXISTENCIA</th>\n",
       "      <th>VENTA</th>\n",
       "      <th>Year</th>\n",
       "      <th>Month</th>\n",
       "      <th>Weekday Name</th>\n",
       "      <th>Day Number</th>\n",
       "    </tr>\n",
       "    <tr>\n",
       "      <th>FECHA</th>\n",
       "      <th></th>\n",
       "      <th></th>\n",
       "      <th></th>\n",
       "      <th></th>\n",
       "      <th></th>\n",
       "      <th></th>\n",
       "      <th></th>\n",
       "      <th></th>\n",
       "      <th></th>\n",
       "      <th></th>\n",
       "      <th></th>\n",
       "    </tr>\n",
       "  </thead>\n",
       "  <tbody>\n",
       "  </tbody>\n",
       "</table>\n",
       "</div>"
      ],
      "text/plain": [
       "Empty DataFrame\n",
       "Columns: [TI_CVE_N, ULT_SUST_DEF, TALLA_INI_MIN, TALLA_FIN_MAX, TA_CVE_N, EXISTENCIA, VENTA, Year, Month, Weekday Name, Day Number]\n",
       "Index: []"
      ]
     },
     "execution_count": 32,
     "metadata": {},
     "output_type": "execute_result"
    }
   ],
   "source": [
    "# Add columns with year, month, and weekday name\n",
    "df['Year'] = df.index.year\n",
    "df['Month'] = df.index.month\n",
    "df['Weekday Name'] = df.index.day_name()\n",
    "df['Day Number'] = df.index.dayofyear\n",
    "\n",
    "negados=df[df[\"EXISTENCIA\"]==0]\n",
    "negados.head(14)"
   ]
  },
  {
   "cell_type": "markdown",
   "metadata": {},
   "source": [
    "Se localiza el periodo negado"
   ]
  },
  {
   "cell_type": "code",
   "execution_count": 33,
   "metadata": {},
   "outputs": [],
   "source": [
    "periodo=df.loc['2019-03-01':'2019-04-30']"
   ]
  },
  {
   "cell_type": "code",
   "execution_count": 34,
   "metadata": {},
   "outputs": [
    {
     "data": {
      "image/png": "[encoded data removed]",
      "text/plain": [
       "<Figure size 864x216 with 1 Axes>"
      ]
     },
     "metadata": {
      "needs_background": "light"
     },
     "output_type": "display_data"
    }
   ],
   "source": [
    "sunday=periodo[periodo['Weekday Name']=='Sunday']\n",
    "\n",
    "axes = sunday[['EXISTENCIA', 'VENTA']].plot(marker='.', alpha=0.5, linestyle='-', figsize=(12, 3), title='Domingos')"
   ]
  },
  {
   "cell_type": "markdown",
   "metadata": {},
   "source": [
    "Se toman los dias con existencia para hacer la regresion lineal"
   ]
  },
  {
   "cell_type": "code",
   "execution_count": 35,
   "metadata": {},
   "outputs": [
    {
     "name": "stdout",
     "output_type": "stream",
     "text": [
      "[[ 62]\n",
      " [ 69]\n",
      " [ 76]\n",
      " [ 83]\n",
      " [ 90]\n",
      " [ 97]\n",
      " [104]\n",
      " [111]\n",
      " [118]]\n",
      "[[1]\n",
      " [1]\n",
      " [0]\n",
      " [2]\n",
      " [0]\n",
      " [0]\n",
      " [0]\n",
      " [0]\n",
      " [2]]\n"
     ]
    }
   ],
   "source": [
    "domingos=sunday[sunday[\"EXISTENCIA\"]>0]\n",
    "X = domingos[\"Day Number\"].to_numpy().reshape(-1, 1)\n",
    "Y = domingos[\"VENTA\"].to_numpy().reshape(-1, 1)\n",
    "print(X)\n",
    "print(Y)"
   ]
  },
  {
   "cell_type": "markdown",
   "metadata": {},
   "source": [
    "Se calcula la Regresion Lineal"
   ]
  },
  {
   "cell_type": "code",
   "execution_count": 36,
   "metadata": {},
   "outputs": [
    {
     "name": "stdout",
     "output_type": "stream",
     "text": [
      "[0.88095238] [[-0.00238095]] 0.002777777777777768\n"
     ]
    }
   ],
   "source": [
    "from sklearn.linear_model import LinearRegression\n",
    "\n",
    "lm = LinearRegression()\n",
    "lm.fit(X, Y)\n",
    "print(lm.intercept_,lm.coef_,lm.score(X, Y))"
   ]
  },
  {
   "cell_type": "markdown",
   "metadata": {},
   "source": [
    "Se estiman las ventas de todos los dias incluidos los dias negados"
   ]
  },
  {
   "cell_type": "code",
   "execution_count": 37,
   "metadata": {},
   "outputs": [
    {
     "name": "stderr",
     "output_type": "stream",
     "text": [
      "<ipython-input-37-59bd1d02fc5d>:3: SettingWithCopyWarning: \n",
      "A value is trying to be set on a copy of a slice from a DataFrame.\n",
      "Try using .loc[row_indexer,col_indexer] = value instead\n",
      "\n",
      "See the caveats in the documentation: https://pandas.pydata.org/pandas-docs/stable/user_guide/indexing.html#returning-a-view-versus-a-copy\n",
      "  sunday[\"vta_estimada\"]=y\n"
     ]
    }
   ],
   "source": [
    "x = sunday[\"Day Number\"].to_numpy().reshape(-1, 1)\n",
    "y = lm.predict(x)\n",
    "sunday[\"vta_estimada\"]=y"
   ]
  },
  {
   "cell_type": "markdown",
   "metadata": {},
   "source": [
    "Se grafican las ventas estimadas con la regresion lineal"
   ]
  },
  {
   "cell_type": "code",
   "execution_count": 38,
   "metadata": {},
   "outputs": [
    {
     "data": {
      "text/plain": [
       "<matplotlib.axes._subplots.AxesSubplot at 0x13d4cabde50>"
      ]
     },
     "execution_count": 38,
     "metadata": {},
     "output_type": "execute_result"
    },
    {
     "data": {
      "image/png": "[encoded data removed]",
      "text/plain": [
       "<Figure size 864x216 with 1 Axes>"
      ]
     },
     "metadata": {
      "needs_background": "light"
     },
     "output_type": "display_data"
    }
   ],
   "source": [
    "sunday[['EXISTENCIA', 'VENTA','vta_estimada']].plot(marker='.', alpha=0.5, linestyle='-', figsize=(12, 3), title='Regresion Lineal')"
   ]
  },
  {
   "cell_type": "code",
   "execution_count": 39,
   "metadata": {},
   "outputs": [
    {
     "data": {
      "text/html": [
       "<div>\n",
       "<style scoped>\n",
       "    .dataframe tbody tr th:only-of-type {\n",
       "        vertical-align: middle;\n",
       "    }\n",
       "\n",
       "    .dataframe tbody tr th {\n",
       "        vertical-align: top;\n",
       "    }\n",
       "\n",
       "    .dataframe thead th {\n",
       "        text-align: right;\n",
       "    }\n",
       "</style>\n",
       "<table border=\"1\" class=\"dataframe\">\n",
       "  <thead>\n",
       "    <tr style=\"text-align: right;\">\n",
       "      <th></th>\n",
       "      <th>TI_CVE_N</th>\n",
       "      <th>ULT_SUST_DEF</th>\n",
       "      <th>TALLA_INI_MIN</th>\n",
       "      <th>TALLA_FIN_MAX</th>\n",
       "      <th>TA_CVE_N</th>\n",
       "      <th>EXISTENCIA</th>\n",
       "      <th>VENTA</th>\n",
       "      <th>Year</th>\n",
       "      <th>Month</th>\n",
       "      <th>Weekday Name</th>\n",
       "      <th>Day Number</th>\n",
       "      <th>vta_estimada</th>\n",
       "    </tr>\n",
       "    <tr>\n",
       "      <th>FECHA</th>\n",
       "      <th></th>\n",
       "      <th></th>\n",
       "      <th></th>\n",
       "      <th></th>\n",
       "      <th></th>\n",
       "      <th></th>\n",
       "      <th></th>\n",
       "      <th></th>\n",
       "      <th></th>\n",
       "      <th></th>\n",
       "      <th></th>\n",
       "      <th></th>\n",
       "    </tr>\n",
       "  </thead>\n",
       "  <tbody>\n",
       "  </tbody>\n",
       "</table>\n",
       "</div>"
      ],
      "text/plain": [
       "Empty DataFrame\n",
       "Columns: [TI_CVE_N, ULT_SUST_DEF, TALLA_INI_MIN, TALLA_FIN_MAX, TA_CVE_N, EXISTENCIA, VENTA, Year, Month, Weekday Name, Day Number, vta_estimada]\n",
       "Index: []"
      ]
     },
     "execution_count": 39,
     "metadata": {},
     "output_type": "execute_result"
    }
   ],
   "source": [
    "sunday[sunday[\"EXISTENCIA\"]==0]"
   ]
  },
  {
   "cell_type": "code",
   "execution_count": 40,
   "metadata": {},
   "outputs": [
    {
     "data": {
      "text/html": [
       "<div>\n",
       "<style scoped>\n",
       "    .dataframe tbody tr th:only-of-type {\n",
       "        vertical-align: middle;\n",
       "    }\n",
       "\n",
       "    .dataframe tbody tr th {\n",
       "        vertical-align: top;\n",
       "    }\n",
       "\n",
       "    .dataframe thead th {\n",
       "        text-align: right;\n",
       "    }\n",
       "</style>\n",
       "<table border=\"1\" class=\"dataframe\">\n",
       "  <thead>\n",
       "    <tr style=\"text-align: right;\">\n",
       "      <th></th>\n",
       "      <th>TI_CVE_N</th>\n",
       "      <th>ULT_SUST_DEF</th>\n",
       "      <th>TALLA_INI_MIN</th>\n",
       "      <th>TALLA_FIN_MAX</th>\n",
       "      <th>TA_CVE_N</th>\n",
       "      <th>EXISTENCIA</th>\n",
       "      <th>VENTA</th>\n",
       "      <th>Year</th>\n",
       "      <th>Month</th>\n",
       "      <th>Weekday Name</th>\n",
       "      <th>Day Number</th>\n",
       "      <th>vta_estimada</th>\n",
       "    </tr>\n",
       "    <tr>\n",
       "      <th>FECHA</th>\n",
       "      <th></th>\n",
       "      <th></th>\n",
       "      <th></th>\n",
       "      <th></th>\n",
       "      <th></th>\n",
       "      <th></th>\n",
       "      <th></th>\n",
       "      <th></th>\n",
       "      <th></th>\n",
       "      <th></th>\n",
       "      <th></th>\n",
       "      <th></th>\n",
       "    </tr>\n",
       "  </thead>\n",
       "  <tbody>\n",
       "    <tr>\n",
       "      <th>2019-03-03</th>\n",
       "      <td>1</td>\n",
       "      <td>1560</td>\n",
       "      <td>25</td>\n",
       "      <td>32</td>\n",
       "      <td>26</td>\n",
       "      <td>30</td>\n",
       "      <td>1</td>\n",
       "      <td>2019</td>\n",
       "      <td>3</td>\n",
       "      <td>Sunday</td>\n",
       "      <td>62</td>\n",
       "      <td>0.733333</td>\n",
       "    </tr>\n",
       "    <tr>\n",
       "      <th>2019-03-10</th>\n",
       "      <td>1</td>\n",
       "      <td>1560</td>\n",
       "      <td>25</td>\n",
       "      <td>32</td>\n",
       "      <td>26</td>\n",
       "      <td>17</td>\n",
       "      <td>1</td>\n",
       "      <td>2019</td>\n",
       "      <td>3</td>\n",
       "      <td>Sunday</td>\n",
       "      <td>69</td>\n",
       "      <td>0.716667</td>\n",
       "    </tr>\n",
       "    <tr>\n",
       "      <th>2019-03-17</th>\n",
       "      <td>1</td>\n",
       "      <td>1560</td>\n",
       "      <td>25</td>\n",
       "      <td>32</td>\n",
       "      <td>26</td>\n",
       "      <td>17</td>\n",
       "      <td>0</td>\n",
       "      <td>2019</td>\n",
       "      <td>3</td>\n",
       "      <td>Sunday</td>\n",
       "      <td>76</td>\n",
       "      <td>0.700000</td>\n",
       "    </tr>\n",
       "    <tr>\n",
       "      <th>2019-03-24</th>\n",
       "      <td>1</td>\n",
       "      <td>1560</td>\n",
       "      <td>25</td>\n",
       "      <td>32</td>\n",
       "      <td>26</td>\n",
       "      <td>12</td>\n",
       "      <td>2</td>\n",
       "      <td>2019</td>\n",
       "      <td>3</td>\n",
       "      <td>Sunday</td>\n",
       "      <td>83</td>\n",
       "      <td>0.683333</td>\n",
       "    </tr>\n",
       "    <tr>\n",
       "      <th>2019-03-31</th>\n",
       "      <td>1</td>\n",
       "      <td>1560</td>\n",
       "      <td>25</td>\n",
       "      <td>32</td>\n",
       "      <td>26</td>\n",
       "      <td>3</td>\n",
       "      <td>0</td>\n",
       "      <td>2019</td>\n",
       "      <td>3</td>\n",
       "      <td>Sunday</td>\n",
       "      <td>90</td>\n",
       "      <td>0.666667</td>\n",
       "    </tr>\n",
       "    <tr>\n",
       "      <th>2019-04-07</th>\n",
       "      <td>1</td>\n",
       "      <td>1560</td>\n",
       "      <td>25</td>\n",
       "      <td>32</td>\n",
       "      <td>26</td>\n",
       "      <td>3</td>\n",
       "      <td>0</td>\n",
       "      <td>2019</td>\n",
       "      <td>4</td>\n",
       "      <td>Sunday</td>\n",
       "      <td>97</td>\n",
       "      <td>0.650000</td>\n",
       "    </tr>\n",
       "    <tr>\n",
       "      <th>2019-04-14</th>\n",
       "      <td>1</td>\n",
       "      <td>1560</td>\n",
       "      <td>25</td>\n",
       "      <td>32</td>\n",
       "      <td>26</td>\n",
       "      <td>16</td>\n",
       "      <td>0</td>\n",
       "      <td>2019</td>\n",
       "      <td>4</td>\n",
       "      <td>Sunday</td>\n",
       "      <td>104</td>\n",
       "      <td>0.633333</td>\n",
       "    </tr>\n",
       "    <tr>\n",
       "      <th>2019-04-21</th>\n",
       "      <td>1</td>\n",
       "      <td>1560</td>\n",
       "      <td>25</td>\n",
       "      <td>32</td>\n",
       "      <td>26</td>\n",
       "      <td>13</td>\n",
       "      <td>0</td>\n",
       "      <td>2019</td>\n",
       "      <td>4</td>\n",
       "      <td>Sunday</td>\n",
       "      <td>111</td>\n",
       "      <td>0.616667</td>\n",
       "    </tr>\n",
       "    <tr>\n",
       "      <th>2019-04-28</th>\n",
       "      <td>1</td>\n",
       "      <td>1560</td>\n",
       "      <td>25</td>\n",
       "      <td>32</td>\n",
       "      <td>26</td>\n",
       "      <td>12</td>\n",
       "      <td>2</td>\n",
       "      <td>2019</td>\n",
       "      <td>4</td>\n",
       "      <td>Sunday</td>\n",
       "      <td>118</td>\n",
       "      <td>0.600000</td>\n",
       "    </tr>\n",
       "  </tbody>\n",
       "</table>\n",
       "</div>"
      ],
      "text/plain": [
       "            TI_CVE_N  ULT_SUST_DEF  TALLA_INI_MIN  TALLA_FIN_MAX  TA_CVE_N  \\\n",
       "FECHA                                                                        \n",
       "2019-03-03         1          1560             25             32        26   \n",
       "2019-03-10         1          1560             25             32        26   \n",
       "2019-03-17         1          1560             25             32        26   \n",
       "2019-03-24         1          1560             25             32        26   \n",
       "2019-03-31         1          1560             25             32        26   \n",
       "2019-04-07         1          1560             25             32        26   \n",
       "2019-04-14         1          1560             25             32        26   \n",
       "2019-04-21         1          1560             25             32        26   \n",
       "2019-04-28         1          1560             25             32        26   \n",
       "\n",
       "            EXISTENCIA  VENTA  Year  Month Weekday Name  Day Number  \\\n",
       "FECHA                                                                 \n",
       "2019-03-03          30      1  2019      3       Sunday          62   \n",
       "2019-03-10          17      1  2019      3       Sunday          69   \n",
       "2019-03-17          17      0  2019      3       Sunday          76   \n",
       "2019-03-24          12      2  2019      3       Sunday          83   \n",
       "2019-03-31           3      0  2019      3       Sunday          90   \n",
       "2019-04-07           3      0  2019      4       Sunday          97   \n",
       "2019-04-14          16      0  2019      4       Sunday         104   \n",
       "2019-04-21          13      0  2019      4       Sunday         111   \n",
       "2019-04-28          12      2  2019      4       Sunday         118   \n",
       "\n",
       "            vta_estimada  \n",
       "FECHA                     \n",
       "2019-03-03      0.733333  \n",
       "2019-03-10      0.716667  \n",
       "2019-03-17      0.700000  \n",
       "2019-03-24      0.683333  \n",
       "2019-03-31      0.666667  \n",
       "2019-04-07      0.650000  \n",
       "2019-04-14      0.633333  \n",
       "2019-04-21      0.616667  \n",
       "2019-04-28      0.600000  "
      ]
     },
     "execution_count": 40,
     "metadata": {},
     "output_type": "execute_result"
    }
   ],
   "source": [
    "sunday"
   ]
  },
  {
   "cell_type": "code",
   "execution_count": null,
   "metadata": {},
   "outputs": [],
   "source": []
  }
 ],
 "metadata": {
  "kernelspec": {
   "display_name": "Python 3",
   "language": "python",
   "name": "python3"
  },
  "language_info": {
   "codemirror_mode": {
    "name": "ipython",
    "version": 3
   },
   "file_extension": ".py",
   "mimetype": "text/x-python",
   "name": "python",
   "nbconvert_exporter": "python",
   "pygments_lexer": "ipython3",
   "version": "3.8.3"
  }
 },
 "nbformat": 4,
 "nbformat_minor": 4
}
