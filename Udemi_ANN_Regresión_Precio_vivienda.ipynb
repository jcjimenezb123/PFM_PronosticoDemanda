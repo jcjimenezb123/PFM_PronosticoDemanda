{
  "cells": [
    {
      "cell_type": "markdown",
      "metadata": {
        "id": "view-in-github",
        "colab_type": "text"
      },
      "source": [
        "<a href=\"https://colab.research.google.com/github/jcjimenezb123/PFM_PronosticoDemanda/blob/master/Udemi_ANN_Regresi%C3%B3n_Precio_vivienda.ipynb\" target=\"_parent\"><img src=\"https://colab.research.google.com/assets/colab-badge.svg\" alt=\"Open In Colab\"/></a>"
      ]
    },
    {
      "cell_type": "markdown",
      "metadata": {
        "id": "x4HvGNtub3Do"
      },
      "source": [
        "# Keras Regresión"
      ]
    },
    {
      "cell_type": "markdown",
      "metadata": {
        "id": "iZS2xfUvb3Dy"
      },
      "source": [
        "# 1.Importación librerías"
      ]
    },
    {
      "cell_type": "code",
      "execution_count": 1,
      "metadata": {
        "id": "A7vWtaqob3D0"
      },
      "outputs": [],
      "source": [
        "import pandas as pd\n",
        "import numpy as np\n",
        "import matplotlib.pyplot as plt\n",
        "import seaborn as sns"
      ]
    },
    {
      "cell_type": "markdown",
      "metadata": {
        "id": "B7BE1uuob3D2"
      },
      "source": [
        "# 2.Importación fuente de datos"
      ]
    },
    {
      "cell_type": "raw",
      "metadata": {
        "id": "Ye-Xdk1qb3D4"
      },
      "source": [
        "https://www.kaggle.com/mirbektoktogaraev/madrid-real-estate-market\n",
        "    \n",
        "Variable Name\tDescription\n",
        "ID\tIdentifier ID\n",
        "title\tTitle from listing\n",
        "subtitle\tNeighborhood and city\n",
        "sqmtbuilt\tSquare meter built\n",
        "sqmtuseful\tSquare meter useful\n",
        "n_rooms\tNumber of rooms\n",
        "n_bathrooms\tNumber of bathrooms\n",
        "sqmtallotment\tSquare meter allotment\n",
        "latitude, longitude\tLatitude, Longitude (Since portals hide the location mainly NAs)\n",
        "raw_address\tAddress\n",
        "isexactaddress_hidden\tBoolean values\n",
        "buy_price\tTarget Value"
      ]
    },
    {
      "cell_type": "code",
      "execution_count": 2,
      "metadata": {
        "id": "ZNKc2CdAb3D6"
      },
      "outputs": [],
      "source": [
        "#Lectura datos históricos\n",
        "df = pd.read_excel('./viviendas_Madrid.xlsx',sheet_name='Datos_Históricos')"
      ]
    },
    {
      "cell_type": "code",
      "execution_count": 3,
      "metadata": {
        "colab": {
          "base_uri": "https://localhost:8080/"
        },
        "id": "2DsDLj5fb3D8",
        "outputId": "18e173d1-a99c-493d-9ec7-e9db033f1666"
      },
      "outputs": [
        {
          "output_type": "stream",
          "name": "stdout",
          "text": [
            "<class 'pandas.core.frame.DataFrame'>\n",
            "RangeIndex: 21742 entries, 0 to 21741\n",
            "Data columns (total 57 columns):\n",
            " #   Column                        Non-Null Count  Dtype  \n",
            "---  ------                        --------------  -----  \n",
            " 0   id                            21742 non-null  int64  \n",
            " 1   title                         21742 non-null  object \n",
            " 2   subtitle                      21742 non-null  object \n",
            " 3   sq_mt_built                   21616 non-null  float64\n",
            " 4   sq_mt_useful                  8228 non-null   float64\n",
            " 5   n_rooms                       21742 non-null  int64  \n",
            " 6   n_bathrooms                   21726 non-null  float64\n",
            " 7   n_floors                      1437 non-null   float64\n",
            " 8   sq_mt_allotment               1432 non-null   float64\n",
            " 9   latitude                      0 non-null      float64\n",
            " 10  longitude                     0 non-null      float64\n",
            " 11  raw_address                   16277 non-null  object \n",
            " 12  is_exact_address_hidden       21742 non-null  bool   \n",
            " 13  street_name                   15837 non-null  object \n",
            " 14  street_number                 6300 non-null   object \n",
            " 15  portal                        0 non-null      float64\n",
            " 16  floor                         19135 non-null  object \n",
            " 17  is_floor_under                20572 non-null  float64\n",
            " 18  door                          0 non-null      float64\n",
            " 19  neighborhood_id               21742 non-null  object \n",
            " 20  operation                     21742 non-null  object \n",
            " 21  rent_price                    21742 non-null  float64\n",
            " 22  rent_price_by_area            0 non-null      float64\n",
            " 23  is_rent_price_known           21742 non-null  bool   \n",
            " 24  buy_price                     21742 non-null  int64  \n",
            " 25  buy_price_by_area             21742 non-null  int64  \n",
            " 26  is_buy_price_known            21742 non-null  bool   \n",
            " 27  house_type_id                 21351 non-null  object \n",
            " 28  is_renewal_needed             21742 non-null  bool   \n",
            " 29  is_new_development            20750 non-null  float64\n",
            " 30  built_year                    10000 non-null  float64\n",
            " 31  has_central_heating           13608 non-null  float64\n",
            " 32  has_individual_heating        13608 non-null  float64\n",
            " 33  are_pets_allowed              0 non-null      float64\n",
            " 34  has_ac                        11211 non-null  float64\n",
            " 35  has_fitted_wardrobes          13399 non-null  float64\n",
            " 36  has_lift                      19356 non-null  float64\n",
            " 37  is_exterior                   18699 non-null  float64\n",
            " 38  has_garden                    1556 non-null   float64\n",
            " 39  has_pool                      5171 non-null   float64\n",
            " 40  has_terrace                   9548 non-null   float64\n",
            " 41  has_balcony                   3321 non-null   float64\n",
            " 42  has_storage_room              7698 non-null   float64\n",
            " 43  is_furnished                  0 non-null      float64\n",
            " 44  is_kitchen_equipped           0 non-null      float64\n",
            " 45  is_accessible                 4074 non-null   float64\n",
            " 46  has_green_zones               4057 non-null   float64\n",
            " 47  energy_certificate            21742 non-null  object \n",
            " 48  has_parking                   21742 non-null  bool   \n",
            " 49  has_private_parking           0 non-null      float64\n",
            " 50  has_public_parking            0 non-null      float64\n",
            " 51  is_parking_included_in_price  7719 non-null   float64\n",
            " 52  parking_price                 7719 non-null   float64\n",
            " 53  is_orientation_north          11358 non-null  float64\n",
            " 54  is_orientation_west           11358 non-null  float64\n",
            " 55  is_orientation_south          11358 non-null  float64\n",
            " 56  is_orientation_east           11358 non-null  float64\n",
            "dtypes: bool(5), float64(38), int64(4), object(10)\n",
            "memory usage: 8.7+ MB\n"
          ]
        }
      ],
      "source": [
        "df.info()"
      ]
    },
    {
      "cell_type": "code",
      "execution_count": 4,
      "metadata": {
        "colab": {
          "base_uri": "https://localhost:8080/",
          "height": 664
        },
        "id": "lmjEOxLvb3D_",
        "outputId": "d7df23d1-1eea-4d73-9984-c563b3769c16"
      },
      "outputs": [
        {
          "output_type": "execute_result",
          "data": {
            "text/plain": [
              "      id                                              title  \\\n",
              "0  21742              Piso en venta en calle de Godella, 64   \n",
              "1  21741   Piso en venta en calle de la del Manojo de Rosas   \n",
              "2  21740               Piso en venta en calle del Talco, 68   \n",
              "3  21739              Piso en venta en calle Pedro JimÃ©nez   \n",
              "4  21738  Piso en venta en carretera de Villaverde a Val...   \n",
              "\n",
              "                 subtitle  sq_mt_built  sq_mt_useful  n_rooms  n_bathrooms  \\\n",
              "0  San CristÃ³bal, Madrid         64.0          60.0        2          1.0   \n",
              "1    Los Ãngeles, Madrid         70.0           NaN        3          1.0   \n",
              "2     San AndrÃ©s, Madrid         94.0          54.0        2          2.0   \n",
              "3     San AndrÃ©s, Madrid         64.0           NaN        2          1.0   \n",
              "4     Los Rosales, Madrid        108.0          90.0        2          2.0   \n",
              "\n",
              "   n_floors  sq_mt_allotment  latitude  ...  energy_certificate has_parking  \\\n",
              "0       NaN              NaN       NaN  ...                   D       False   \n",
              "1       NaN              NaN       NaN  ...         en trÃ¡mite       False   \n",
              "2       NaN              NaN       NaN  ...         no indicado       False   \n",
              "3       NaN              NaN       NaN  ...         en trÃ¡mite       False   \n",
              "4       NaN              NaN       NaN  ...         en trÃ¡mite        True   \n",
              "\n",
              "   has_private_parking has_public_parking is_parking_included_in_price  \\\n",
              "0                  NaN                NaN                          NaN   \n",
              "1                  NaN                NaN                          NaN   \n",
              "2                  NaN                NaN                          NaN   \n",
              "3                  NaN                NaN                          NaN   \n",
              "4                  NaN                NaN                          1.0   \n",
              "\n",
              "   parking_price is_orientation_north  is_orientation_west  \\\n",
              "0            NaN                  0.0                  1.0   \n",
              "1            NaN                  NaN                  NaN   \n",
              "2            NaN                  NaN                  NaN   \n",
              "3            NaN                  0.0                  0.0   \n",
              "4            0.0                  1.0                  1.0   \n",
              "\n",
              "   is_orientation_south is_orientation_east  \n",
              "0                   0.0                 0.0  \n",
              "1                   NaN                 NaN  \n",
              "2                   NaN                 NaN  \n",
              "3                   1.0                 0.0  \n",
              "4                   1.0                 1.0  \n",
              "\n",
              "[5 rows x 57 columns]"
            ],
            "text/html": [
              "\n",
              "  <div id=\"df-75351be8-36de-4ba2-9ebe-4d1a385375ec\">\n",
              "    <div class=\"colab-df-container\">\n",
              "      <div>\n",
              "<style scoped>\n",
              "    .dataframe tbody tr th:only-of-type {\n",
              "        vertical-align: middle;\n",
              "    }\n",
              "\n",
              "    .dataframe tbody tr th {\n",
              "        vertical-align: top;\n",
              "    }\n",
              "\n",
              "    .dataframe thead th {\n",
              "        text-align: right;\n",
              "    }\n",
              "</style>\n",
              "<table border=\"1\" class=\"dataframe\">\n",
              "  <thead>\n",
              "    <tr style=\"text-align: right;\">\n",
              "      <th></th>\n",
              "      <th>id</th>\n",
              "      <th>title</th>\n",
              "      <th>subtitle</th>\n",
              "      <th>sq_mt_built</th>\n",
              "      <th>sq_mt_useful</th>\n",
              "      <th>n_rooms</th>\n",
              "      <th>n_bathrooms</th>\n",
              "      <th>n_floors</th>\n",
              "      <th>sq_mt_allotment</th>\n",
              "      <th>latitude</th>\n",
              "      <th>...</th>\n",
              "      <th>energy_certificate</th>\n",
              "      <th>has_parking</th>\n",
              "      <th>has_private_parking</th>\n",
              "      <th>has_public_parking</th>\n",
              "      <th>is_parking_included_in_price</th>\n",
              "      <th>parking_price</th>\n",
              "      <th>is_orientation_north</th>\n",
              "      <th>is_orientation_west</th>\n",
              "      <th>is_orientation_south</th>\n",
              "      <th>is_orientation_east</th>\n",
              "    </tr>\n",
              "  </thead>\n",
              "  <tbody>\n",
              "    <tr>\n",
              "      <th>0</th>\n",
              "      <td>21742</td>\n",
              "      <td>Piso en venta en calle de Godella, 64</td>\n",
              "      <td>San CristÃ³bal, Madrid</td>\n",
              "      <td>64.0</td>\n",
              "      <td>60.0</td>\n",
              "      <td>2</td>\n",
              "      <td>1.0</td>\n",
              "      <td>NaN</td>\n",
              "      <td>NaN</td>\n",
              "      <td>NaN</td>\n",
              "      <td>...</td>\n",
              "      <td>D</td>\n",
              "      <td>False</td>\n",
              "      <td>NaN</td>\n",
              "      <td>NaN</td>\n",
              "      <td>NaN</td>\n",
              "      <td>NaN</td>\n",
              "      <td>0.0</td>\n",
              "      <td>1.0</td>\n",
              "      <td>0.0</td>\n",
              "      <td>0.0</td>\n",
              "    </tr>\n",
              "    <tr>\n",
              "      <th>1</th>\n",
              "      <td>21741</td>\n",
              "      <td>Piso en venta en calle de la del Manojo de Rosas</td>\n",
              "      <td>Los Ãngeles, Madrid</td>\n",
              "      <td>70.0</td>\n",
              "      <td>NaN</td>\n",
              "      <td>3</td>\n",
              "      <td>1.0</td>\n",
              "      <td>NaN</td>\n",
              "      <td>NaN</td>\n",
              "      <td>NaN</td>\n",
              "      <td>...</td>\n",
              "      <td>en trÃ¡mite</td>\n",
              "      <td>False</td>\n",
              "      <td>NaN</td>\n",
              "      <td>NaN</td>\n",
              "      <td>NaN</td>\n",
              "      <td>NaN</td>\n",
              "      <td>NaN</td>\n",
              "      <td>NaN</td>\n",
              "      <td>NaN</td>\n",
              "      <td>NaN</td>\n",
              "    </tr>\n",
              "    <tr>\n",
              "      <th>2</th>\n",
              "      <td>21740</td>\n",
              "      <td>Piso en venta en calle del Talco, 68</td>\n",
              "      <td>San AndrÃ©s, Madrid</td>\n",
              "      <td>94.0</td>\n",
              "      <td>54.0</td>\n",
              "      <td>2</td>\n",
              "      <td>2.0</td>\n",
              "      <td>NaN</td>\n",
              "      <td>NaN</td>\n",
              "      <td>NaN</td>\n",
              "      <td>...</td>\n",
              "      <td>no indicado</td>\n",
              "      <td>False</td>\n",
              "      <td>NaN</td>\n",
              "      <td>NaN</td>\n",
              "      <td>NaN</td>\n",
              "      <td>NaN</td>\n",
              "      <td>NaN</td>\n",
              "      <td>NaN</td>\n",
              "      <td>NaN</td>\n",
              "      <td>NaN</td>\n",
              "    </tr>\n",
              "    <tr>\n",
              "      <th>3</th>\n",
              "      <td>21739</td>\n",
              "      <td>Piso en venta en calle Pedro JimÃ©nez</td>\n",
              "      <td>San AndrÃ©s, Madrid</td>\n",
              "      <td>64.0</td>\n",
              "      <td>NaN</td>\n",
              "      <td>2</td>\n",
              "      <td>1.0</td>\n",
              "      <td>NaN</td>\n",
              "      <td>NaN</td>\n",
              "      <td>NaN</td>\n",
              "      <td>...</td>\n",
              "      <td>en trÃ¡mite</td>\n",
              "      <td>False</td>\n",
              "      <td>NaN</td>\n",
              "      <td>NaN</td>\n",
              "      <td>NaN</td>\n",
              "      <td>NaN</td>\n",
              "      <td>0.0</td>\n",
              "      <td>0.0</td>\n",
              "      <td>1.0</td>\n",
              "      <td>0.0</td>\n",
              "    </tr>\n",
              "    <tr>\n",
              "      <th>4</th>\n",
              "      <td>21738</td>\n",
              "      <td>Piso en venta en carretera de Villaverde a Val...</td>\n",
              "      <td>Los Rosales, Madrid</td>\n",
              "      <td>108.0</td>\n",
              "      <td>90.0</td>\n",
              "      <td>2</td>\n",
              "      <td>2.0</td>\n",
              "      <td>NaN</td>\n",
              "      <td>NaN</td>\n",
              "      <td>NaN</td>\n",
              "      <td>...</td>\n",
              "      <td>en trÃ¡mite</td>\n",
              "      <td>True</td>\n",
              "      <td>NaN</td>\n",
              "      <td>NaN</td>\n",
              "      <td>1.0</td>\n",
              "      <td>0.0</td>\n",
              "      <td>1.0</td>\n",
              "      <td>1.0</td>\n",
              "      <td>1.0</td>\n",
              "      <td>1.0</td>\n",
              "    </tr>\n",
              "  </tbody>\n",
              "</table>\n",
              "<p>5 rows × 57 columns</p>\n",
              "</div>\n",
              "      <button class=\"colab-df-convert\" onclick=\"convertToInteractive('df-75351be8-36de-4ba2-9ebe-4d1a385375ec')\"\n",
              "              title=\"Convert this dataframe to an interactive table.\"\n",
              "              style=\"display:none;\">\n",
              "        \n",
              "  <svg xmlns=\"http://www.w3.org/2000/svg\" height=\"24px\"viewBox=\"0 0 24 24\"\n",
              "       width=\"24px\">\n",
              "    <path d=\"M0 0h24v24H0V0z\" fill=\"none\"/>\n",
              "    <path d=\"M18.56 5.44l.94 2.06.94-2.06 2.06-.94-2.06-.94-.94-2.06-.94 2.06-2.06.94zm-11 1L8.5 8.5l.94-2.06 2.06-.94-2.06-.94L8.5 2.5l-.94 2.06-2.06.94zm10 10l.94 2.06.94-2.06 2.06-.94-2.06-.94-.94-2.06-.94 2.06-2.06.94z\"/><path d=\"M17.41 7.96l-1.37-1.37c-.4-.4-.92-.59-1.43-.59-.52 0-1.04.2-1.43.59L10.3 9.45l-7.72 7.72c-.78.78-.78 2.05 0 2.83L4 21.41c.39.39.9.59 1.41.59.51 0 1.02-.2 1.41-.59l7.78-7.78 2.81-2.81c.8-.78.8-2.07 0-2.86zM5.41 20L4 18.59l7.72-7.72 1.47 1.35L5.41 20z\"/>\n",
              "  </svg>\n",
              "      </button>\n",
              "      \n",
              "  <style>\n",
              "    .colab-df-container {\n",
              "      display:flex;\n",
              "      flex-wrap:wrap;\n",
              "      gap: 12px;\n",
              "    }\n",
              "\n",
              "    .colab-df-convert {\n",
              "      background-color: #E8F0FE;\n",
              "      border: none;\n",
              "      border-radius: 50%;\n",
              "      cursor: pointer;\n",
              "      display: none;\n",
              "      fill: #1967D2;\n",
              "      height: 32px;\n",
              "      padding: 0 0 0 0;\n",
              "      width: 32px;\n",
              "    }\n",
              "\n",
              "    .colab-df-convert:hover {\n",
              "      background-color: #E2EBFA;\n",
              "      box-shadow: 0px 1px 2px rgba(60, 64, 67, 0.3), 0px 1px 3px 1px rgba(60, 64, 67, 0.15);\n",
              "      fill: #174EA6;\n",
              "    }\n",
              "\n",
              "    [theme=dark] .colab-df-convert {\n",
              "      background-color: #3B4455;\n",
              "      fill: #D2E3FC;\n",
              "    }\n",
              "\n",
              "    [theme=dark] .colab-df-convert:hover {\n",
              "      background-color: #434B5C;\n",
              "      box-shadow: 0px 1px 3px 1px rgba(0, 0, 0, 0.15);\n",
              "      filter: drop-shadow(0px 1px 2px rgba(0, 0, 0, 0.3));\n",
              "      fill: #FFFFFF;\n",
              "    }\n",
              "  </style>\n",
              "\n",
              "      <script>\n",
              "        const buttonEl =\n",
              "          document.querySelector('#df-75351be8-36de-4ba2-9ebe-4d1a385375ec button.colab-df-convert');\n",
              "        buttonEl.style.display =\n",
              "          google.colab.kernel.accessAllowed ? 'block' : 'none';\n",
              "\n",
              "        async function convertToInteractive(key) {\n",
              "          const element = document.querySelector('#df-75351be8-36de-4ba2-9ebe-4d1a385375ec');\n",
              "          const dataTable =\n",
              "            await google.colab.kernel.invokeFunction('convertToInteractive',\n",
              "                                                     [key], {});\n",
              "          if (!dataTable) return;\n",
              "\n",
              "          const docLinkHtml = 'Like what you see? Visit the ' +\n",
              "            '<a target=\"_blank\" href=https://colab.research.google.com/notebooks/data_table.ipynb>data table notebook</a>'\n",
              "            + ' to learn more about interactive tables.';\n",
              "          element.innerHTML = '';\n",
              "          dataTable['output_type'] = 'display_data';\n",
              "          await google.colab.output.renderOutput(dataTable, element);\n",
              "          const docLink = document.createElement('div');\n",
              "          docLink.innerHTML = docLinkHtml;\n",
              "          element.appendChild(docLink);\n",
              "        }\n",
              "      </script>\n",
              "    </div>\n",
              "  </div>\n",
              "  "
            ]
          },
          "metadata": {},
          "execution_count": 4
        }
      ],
      "source": [
        "df.head(5)"
      ]
    },
    {
      "cell_type": "markdown",
      "metadata": {
        "id": "ux4gLM4gb3EB"
      },
      "source": [
        "# 3.Análisis de Datos (EDA) + Preprocesado"
      ]
    },
    {
      "cell_type": "code",
      "execution_count": 5,
      "metadata": {
        "colab": {
          "base_uri": "https://localhost:8080/"
        },
        "id": "8_wCJ-ETb3ED",
        "outputId": "e01a3b24-a33b-41bd-ffeb-1b6ded91c9bb"
      },
      "outputs": [
        {
          "output_type": "stream",
          "name": "stdout",
          "text": [
            "<class 'pandas.core.frame.DataFrame'>\n",
            "RangeIndex: 21742 entries, 0 to 21741\n",
            "Data columns (total 57 columns):\n",
            " #   Column                        Non-Null Count  Dtype  \n",
            "---  ------                        --------------  -----  \n",
            " 0   id                            21742 non-null  int64  \n",
            " 1   title                         21742 non-null  object \n",
            " 2   subtitle                      21742 non-null  object \n",
            " 3   sq_mt_built                   21616 non-null  float64\n",
            " 4   sq_mt_useful                  8228 non-null   float64\n",
            " 5   n_rooms                       21742 non-null  int64  \n",
            " 6   n_bathrooms                   21726 non-null  float64\n",
            " 7   n_floors                      1437 non-null   float64\n",
            " 8   sq_mt_allotment               1432 non-null   float64\n",
            " 9   latitude                      0 non-null      float64\n",
            " 10  longitude                     0 non-null      float64\n",
            " 11  raw_address                   16277 non-null  object \n",
            " 12  is_exact_address_hidden       21742 non-null  bool   \n",
            " 13  street_name                   15837 non-null  object \n",
            " 14  street_number                 6300 non-null   object \n",
            " 15  portal                        0 non-null      float64\n",
            " 16  floor                         19135 non-null  object \n",
            " 17  is_floor_under                20572 non-null  float64\n",
            " 18  door                          0 non-null      float64\n",
            " 19  neighborhood_id               21742 non-null  object \n",
            " 20  operation                     21742 non-null  object \n",
            " 21  rent_price                    21742 non-null  float64\n",
            " 22  rent_price_by_area            0 non-null      float64\n",
            " 23  is_rent_price_known           21742 non-null  bool   \n",
            " 24  buy_price                     21742 non-null  int64  \n",
            " 25  buy_price_by_area             21742 non-null  int64  \n",
            " 26  is_buy_price_known            21742 non-null  bool   \n",
            " 27  house_type_id                 21351 non-null  object \n",
            " 28  is_renewal_needed             21742 non-null  bool   \n",
            " 29  is_new_development            20750 non-null  float64\n",
            " 30  built_year                    10000 non-null  float64\n",
            " 31  has_central_heating           13608 non-null  float64\n",
            " 32  has_individual_heating        13608 non-null  float64\n",
            " 33  are_pets_allowed              0 non-null      float64\n",
            " 34  has_ac                        11211 non-null  float64\n",
            " 35  has_fitted_wardrobes          13399 non-null  float64\n",
            " 36  has_lift                      19356 non-null  float64\n",
            " 37  is_exterior                   18699 non-null  float64\n",
            " 38  has_garden                    1556 non-null   float64\n",
            " 39  has_pool                      5171 non-null   float64\n",
            " 40  has_terrace                   9548 non-null   float64\n",
            " 41  has_balcony                   3321 non-null   float64\n",
            " 42  has_storage_room              7698 non-null   float64\n",
            " 43  is_furnished                  0 non-null      float64\n",
            " 44  is_kitchen_equipped           0 non-null      float64\n",
            " 45  is_accessible                 4074 non-null   float64\n",
            " 46  has_green_zones               4057 non-null   float64\n",
            " 47  energy_certificate            21742 non-null  object \n",
            " 48  has_parking                   21742 non-null  bool   \n",
            " 49  has_private_parking           0 non-null      float64\n",
            " 50  has_public_parking            0 non-null      float64\n",
            " 51  is_parking_included_in_price  7719 non-null   float64\n",
            " 52  parking_price                 7719 non-null   float64\n",
            " 53  is_orientation_north          11358 non-null  float64\n",
            " 54  is_orientation_west           11358 non-null  float64\n",
            " 55  is_orientation_south          11358 non-null  float64\n",
            " 56  is_orientation_east           11358 non-null  float64\n",
            "dtypes: bool(5), float64(38), int64(4), object(10)\n",
            "memory usage: 8.7+ MB\n"
          ]
        }
      ],
      "source": [
        "df.info()"
      ]
    },
    {
      "cell_type": "code",
      "execution_count": 6,
      "metadata": {
        "scrolled": true,
        "colab": {
          "base_uri": "https://localhost:8080/",
          "height": 664
        },
        "id": "OPKlbIusb3EE",
        "outputId": "684ad09c-eea0-467d-8740-460389563f69"
      },
      "outputs": [
        {
          "output_type": "execute_result",
          "data": {
            "text/plain": [
              "      id                                              title  \\\n",
              "0  21742              Piso en venta en calle de Godella, 64   \n",
              "1  21741   Piso en venta en calle de la del Manojo de Rosas   \n",
              "2  21740               Piso en venta en calle del Talco, 68   \n",
              "3  21739              Piso en venta en calle Pedro JimÃ©nez   \n",
              "4  21738  Piso en venta en carretera de Villaverde a Val...   \n",
              "\n",
              "                 subtitle  sq_mt_built  sq_mt_useful  n_rooms  n_bathrooms  \\\n",
              "0  San CristÃ³bal, Madrid         64.0          60.0        2          1.0   \n",
              "1    Los Ãngeles, Madrid         70.0           NaN        3          1.0   \n",
              "2     San AndrÃ©s, Madrid         94.0          54.0        2          2.0   \n",
              "3     San AndrÃ©s, Madrid         64.0           NaN        2          1.0   \n",
              "4     Los Rosales, Madrid        108.0          90.0        2          2.0   \n",
              "\n",
              "   n_floors  sq_mt_allotment  latitude  ...  energy_certificate has_parking  \\\n",
              "0       NaN              NaN       NaN  ...                   D       False   \n",
              "1       NaN              NaN       NaN  ...         en trÃ¡mite       False   \n",
              "2       NaN              NaN       NaN  ...         no indicado       False   \n",
              "3       NaN              NaN       NaN  ...         en trÃ¡mite       False   \n",
              "4       NaN              NaN       NaN  ...         en trÃ¡mite        True   \n",
              "\n",
              "   has_private_parking has_public_parking is_parking_included_in_price  \\\n",
              "0                  NaN                NaN                          NaN   \n",
              "1                  NaN                NaN                          NaN   \n",
              "2                  NaN                NaN                          NaN   \n",
              "3                  NaN                NaN                          NaN   \n",
              "4                  NaN                NaN                          1.0   \n",
              "\n",
              "   parking_price is_orientation_north  is_orientation_west  \\\n",
              "0            NaN                  0.0                  1.0   \n",
              "1            NaN                  NaN                  NaN   \n",
              "2            NaN                  NaN                  NaN   \n",
              "3            NaN                  0.0                  0.0   \n",
              "4            0.0                  1.0                  1.0   \n",
              "\n",
              "   is_orientation_south is_orientation_east  \n",
              "0                   0.0                 0.0  \n",
              "1                   NaN                 NaN  \n",
              "2                   NaN                 NaN  \n",
              "3                   1.0                 0.0  \n",
              "4                   1.0                 1.0  \n",
              "\n",
              "[5 rows x 57 columns]"
            ],
            "text/html": [
              "\n",
              "  <div id=\"df-1d0370a2-1f0d-455e-86d5-2de9fc788458\">\n",
              "    <div class=\"colab-df-container\">\n",
              "      <div>\n",
              "<style scoped>\n",
              "    .dataframe tbody tr th:only-of-type {\n",
              "        vertical-align: middle;\n",
              "    }\n",
              "\n",
              "    .dataframe tbody tr th {\n",
              "        vertical-align: top;\n",
              "    }\n",
              "\n",
              "    .dataframe thead th {\n",
              "        text-align: right;\n",
              "    }\n",
              "</style>\n",
              "<table border=\"1\" class=\"dataframe\">\n",
              "  <thead>\n",
              "    <tr style=\"text-align: right;\">\n",
              "      <th></th>\n",
              "      <th>id</th>\n",
              "      <th>title</th>\n",
              "      <th>subtitle</th>\n",
              "      <th>sq_mt_built</th>\n",
              "      <th>sq_mt_useful</th>\n",
              "      <th>n_rooms</th>\n",
              "      <th>n_bathrooms</th>\n",
              "      <th>n_floors</th>\n",
              "      <th>sq_mt_allotment</th>\n",
              "      <th>latitude</th>\n",
              "      <th>...</th>\n",
              "      <th>energy_certificate</th>\n",
              "      <th>has_parking</th>\n",
              "      <th>has_private_parking</th>\n",
              "      <th>has_public_parking</th>\n",
              "      <th>is_parking_included_in_price</th>\n",
              "      <th>parking_price</th>\n",
              "      <th>is_orientation_north</th>\n",
              "      <th>is_orientation_west</th>\n",
              "      <th>is_orientation_south</th>\n",
              "      <th>is_orientation_east</th>\n",
              "    </tr>\n",
              "  </thead>\n",
              "  <tbody>\n",
              "    <tr>\n",
              "      <th>0</th>\n",
              "      <td>21742</td>\n",
              "      <td>Piso en venta en calle de Godella, 64</td>\n",
              "      <td>San CristÃ³bal, Madrid</td>\n",
              "      <td>64.0</td>\n",
              "      <td>60.0</td>\n",
              "      <td>2</td>\n",
              "      <td>1.0</td>\n",
              "      <td>NaN</td>\n",
              "      <td>NaN</td>\n",
              "      <td>NaN</td>\n",
              "      <td>...</td>\n",
              "      <td>D</td>\n",
              "      <td>False</td>\n",
              "      <td>NaN</td>\n",
              "      <td>NaN</td>\n",
              "      <td>NaN</td>\n",
              "      <td>NaN</td>\n",
              "      <td>0.0</td>\n",
              "      <td>1.0</td>\n",
              "      <td>0.0</td>\n",
              "      <td>0.0</td>\n",
              "    </tr>\n",
              "    <tr>\n",
              "      <th>1</th>\n",
              "      <td>21741</td>\n",
              "      <td>Piso en venta en calle de la del Manojo de Rosas</td>\n",
              "      <td>Los Ãngeles, Madrid</td>\n",
              "      <td>70.0</td>\n",
              "      <td>NaN</td>\n",
              "      <td>3</td>\n",
              "      <td>1.0</td>\n",
              "      <td>NaN</td>\n",
              "      <td>NaN</td>\n",
              "      <td>NaN</td>\n",
              "      <td>...</td>\n",
              "      <td>en trÃ¡mite</td>\n",
              "      <td>False</td>\n",
              "      <td>NaN</td>\n",
              "      <td>NaN</td>\n",
              "      <td>NaN</td>\n",
              "      <td>NaN</td>\n",
              "      <td>NaN</td>\n",
              "      <td>NaN</td>\n",
              "      <td>NaN</td>\n",
              "      <td>NaN</td>\n",
              "    </tr>\n",
              "    <tr>\n",
              "      <th>2</th>\n",
              "      <td>21740</td>\n",
              "      <td>Piso en venta en calle del Talco, 68</td>\n",
              "      <td>San AndrÃ©s, Madrid</td>\n",
              "      <td>94.0</td>\n",
              "      <td>54.0</td>\n",
              "      <td>2</td>\n",
              "      <td>2.0</td>\n",
              "      <td>NaN</td>\n",
              "      <td>NaN</td>\n",
              "      <td>NaN</td>\n",
              "      <td>...</td>\n",
              "      <td>no indicado</td>\n",
              "      <td>False</td>\n",
              "      <td>NaN</td>\n",
              "      <td>NaN</td>\n",
              "      <td>NaN</td>\n",
              "      <td>NaN</td>\n",
              "      <td>NaN</td>\n",
              "      <td>NaN</td>\n",
              "      <td>NaN</td>\n",
              "      <td>NaN</td>\n",
              "    </tr>\n",
              "    <tr>\n",
              "      <th>3</th>\n",
              "      <td>21739</td>\n",
              "      <td>Piso en venta en calle Pedro JimÃ©nez</td>\n",
              "      <td>San AndrÃ©s, Madrid</td>\n",
              "      <td>64.0</td>\n",
              "      <td>NaN</td>\n",
              "      <td>2</td>\n",
              "      <td>1.0</td>\n",
              "      <td>NaN</td>\n",
              "      <td>NaN</td>\n",
              "      <td>NaN</td>\n",
              "      <td>...</td>\n",
              "      <td>en trÃ¡mite</td>\n",
              "      <td>False</td>\n",
              "      <td>NaN</td>\n",
              "      <td>NaN</td>\n",
              "      <td>NaN</td>\n",
              "      <td>NaN</td>\n",
              "      <td>0.0</td>\n",
              "      <td>0.0</td>\n",
              "      <td>1.0</td>\n",
              "      <td>0.0</td>\n",
              "    </tr>\n",
              "    <tr>\n",
              "      <th>4</th>\n",
              "      <td>21738</td>\n",
              "      <td>Piso en venta en carretera de Villaverde a Val...</td>\n",
              "      <td>Los Rosales, Madrid</td>\n",
              "      <td>108.0</td>\n",
              "      <td>90.0</td>\n",
              "      <td>2</td>\n",
              "      <td>2.0</td>\n",
              "      <td>NaN</td>\n",
              "      <td>NaN</td>\n",
              "      <td>NaN</td>\n",
              "      <td>...</td>\n",
              "      <td>en trÃ¡mite</td>\n",
              "      <td>True</td>\n",
              "      <td>NaN</td>\n",
              "      <td>NaN</td>\n",
              "      <td>1.0</td>\n",
              "      <td>0.0</td>\n",
              "      <td>1.0</td>\n",
              "      <td>1.0</td>\n",
              "      <td>1.0</td>\n",
              "      <td>1.0</td>\n",
              "    </tr>\n",
              "  </tbody>\n",
              "</table>\n",
              "<p>5 rows × 57 columns</p>\n",
              "</div>\n",
              "      <button class=\"colab-df-convert\" onclick=\"convertToInteractive('df-1d0370a2-1f0d-455e-86d5-2de9fc788458')\"\n",
              "              title=\"Convert this dataframe to an interactive table.\"\n",
              "              style=\"display:none;\">\n",
              "        \n",
              "  <svg xmlns=\"http://www.w3.org/2000/svg\" height=\"24px\"viewBox=\"0 0 24 24\"\n",
              "       width=\"24px\">\n",
              "    <path d=\"M0 0h24v24H0V0z\" fill=\"none\"/>\n",
              "    <path d=\"M18.56 5.44l.94 2.06.94-2.06 2.06-.94-2.06-.94-.94-2.06-.94 2.06-2.06.94zm-11 1L8.5 8.5l.94-2.06 2.06-.94-2.06-.94L8.5 2.5l-.94 2.06-2.06.94zm10 10l.94 2.06.94-2.06 2.06-.94-2.06-.94-.94-2.06-.94 2.06-2.06.94z\"/><path d=\"M17.41 7.96l-1.37-1.37c-.4-.4-.92-.59-1.43-.59-.52 0-1.04.2-1.43.59L10.3 9.45l-7.72 7.72c-.78.78-.78 2.05 0 2.83L4 21.41c.39.39.9.59 1.41.59.51 0 1.02-.2 1.41-.59l7.78-7.78 2.81-2.81c.8-.78.8-2.07 0-2.86zM5.41 20L4 18.59l7.72-7.72 1.47 1.35L5.41 20z\"/>\n",
              "  </svg>\n",
              "      </button>\n",
              "      \n",
              "  <style>\n",
              "    .colab-df-container {\n",
              "      display:flex;\n",
              "      flex-wrap:wrap;\n",
              "      gap: 12px;\n",
              "    }\n",
              "\n",
              "    .colab-df-convert {\n",
              "      background-color: #E8F0FE;\n",
              "      border: none;\n",
              "      border-radius: 50%;\n",
              "      cursor: pointer;\n",
              "      display: none;\n",
              "      fill: #1967D2;\n",
              "      height: 32px;\n",
              "      padding: 0 0 0 0;\n",
              "      width: 32px;\n",
              "    }\n",
              "\n",
              "    .colab-df-convert:hover {\n",
              "      background-color: #E2EBFA;\n",
              "      box-shadow: 0px 1px 2px rgba(60, 64, 67, 0.3), 0px 1px 3px 1px rgba(60, 64, 67, 0.15);\n",
              "      fill: #174EA6;\n",
              "    }\n",
              "\n",
              "    [theme=dark] .colab-df-convert {\n",
              "      background-color: #3B4455;\n",
              "      fill: #D2E3FC;\n",
              "    }\n",
              "\n",
              "    [theme=dark] .colab-df-convert:hover {\n",
              "      background-color: #434B5C;\n",
              "      box-shadow: 0px 1px 3px 1px rgba(0, 0, 0, 0.15);\n",
              "      filter: drop-shadow(0px 1px 2px rgba(0, 0, 0, 0.3));\n",
              "      fill: #FFFFFF;\n",
              "    }\n",
              "  </style>\n",
              "\n",
              "      <script>\n",
              "        const buttonEl =\n",
              "          document.querySelector('#df-1d0370a2-1f0d-455e-86d5-2de9fc788458 button.colab-df-convert');\n",
              "        buttonEl.style.display =\n",
              "          google.colab.kernel.accessAllowed ? 'block' : 'none';\n",
              "\n",
              "        async function convertToInteractive(key) {\n",
              "          const element = document.querySelector('#df-1d0370a2-1f0d-455e-86d5-2de9fc788458');\n",
              "          const dataTable =\n",
              "            await google.colab.kernel.invokeFunction('convertToInteractive',\n",
              "                                                     [key], {});\n",
              "          if (!dataTable) return;\n",
              "\n",
              "          const docLinkHtml = 'Like what you see? Visit the ' +\n",
              "            '<a target=\"_blank\" href=https://colab.research.google.com/notebooks/data_table.ipynb>data table notebook</a>'\n",
              "            + ' to learn more about interactive tables.';\n",
              "          element.innerHTML = '';\n",
              "          dataTable['output_type'] = 'display_data';\n",
              "          await google.colab.output.renderOutput(dataTable, element);\n",
              "          const docLink = document.createElement('div');\n",
              "          docLink.innerHTML = docLinkHtml;\n",
              "          element.appendChild(docLink);\n",
              "        }\n",
              "      </script>\n",
              "    </div>\n",
              "  </div>\n",
              "  "
            ]
          },
          "metadata": {},
          "execution_count": 6
        }
      ],
      "source": [
        "df.head(5)"
      ]
    },
    {
      "cell_type": "markdown",
      "metadata": {
        "id": "ZhPJCvQ3b3EG"
      },
      "source": [
        "## 3.1 Limpieza inicial"
      ]
    },
    {
      "cell_type": "code",
      "execution_count": 7,
      "metadata": {
        "colab": {
          "base_uri": "https://localhost:8080/"
        },
        "id": "db0sFJb1b3EH",
        "outputId": "5bfa67f5-486f-436e-cf8d-c5dbe242cb39"
      },
      "outputs": [
        {
          "output_type": "execute_result",
          "data": {
            "text/plain": [
              "id                                  0\n",
              "title                               0\n",
              "subtitle                            0\n",
              "sq_mt_built                       126\n",
              "sq_mt_useful                    13514\n",
              "n_rooms                             0\n",
              "n_bathrooms                        16\n",
              "n_floors                        20305\n",
              "sq_mt_allotment                 20310\n",
              "latitude                        21742\n",
              "longitude                       21742\n",
              "raw_address                      5465\n",
              "is_exact_address_hidden             0\n",
              "street_name                      5905\n",
              "street_number                   15442\n",
              "portal                          21742\n",
              "floor                            2607\n",
              "is_floor_under                   1170\n",
              "door                            21742\n",
              "neighborhood_id                     0\n",
              "operation                           0\n",
              "rent_price                          0\n",
              "rent_price_by_area              21742\n",
              "is_rent_price_known                 0\n",
              "buy_price                           0\n",
              "buy_price_by_area                   0\n",
              "is_buy_price_known                  0\n",
              "house_type_id                     391\n",
              "is_renewal_needed                   0\n",
              "is_new_development                992\n",
              "built_year                      11742\n",
              "has_central_heating              8134\n",
              "has_individual_heating           8134\n",
              "are_pets_allowed                21742\n",
              "has_ac                          10531\n",
              "has_fitted_wardrobes             8343\n",
              "has_lift                         2386\n",
              "is_exterior                      3043\n",
              "has_garden                      20186\n",
              "has_pool                        16571\n",
              "has_terrace                     12194\n",
              "has_balcony                     18421\n",
              "has_storage_room                14044\n",
              "is_furnished                    21742\n",
              "is_kitchen_equipped             21742\n",
              "is_accessible                   17668\n",
              "has_green_zones                 17685\n",
              "energy_certificate                  0\n",
              "has_parking                         0\n",
              "has_private_parking             21742\n",
              "has_public_parking              21742\n",
              "is_parking_included_in_price    14023\n",
              "parking_price                   14023\n",
              "is_orientation_north            10384\n",
              "is_orientation_west             10384\n",
              "is_orientation_south            10384\n",
              "is_orientation_east             10384\n",
              "dtype: int64"
            ]
          },
          "metadata": {},
          "execution_count": 7
        }
      ],
      "source": [
        "df.isnull().sum() #Verificamos si hay valores nulos en alguna columna del dataframe"
      ]
    },
    {
      "cell_type": "code",
      "execution_count": 8,
      "metadata": {
        "colab": {
          "base_uri": "https://localhost:8080/",
          "height": 634
        },
        "id": "L6RVzXkpb3EI",
        "outputId": "ff012ccc-2cba-48a6-cad6-646ac7b06915"
      },
      "outputs": [
        {
          "output_type": "execute_result",
          "data": {
            "text/plain": [
              "      id                                              title  \\\n",
              "0  21742              Piso en venta en calle de Godella, 64   \n",
              "1  21741   Piso en venta en calle de la del Manojo de Rosas   \n",
              "2  21740               Piso en venta en calle del Talco, 68   \n",
              "3  21739              Piso en venta en calle Pedro JimÃ©nez   \n",
              "4  21738  Piso en venta en carretera de Villaverde a Val...   \n",
              "\n",
              "                 subtitle  sq_mt_built  n_rooms  n_bathrooms  \\\n",
              "0  San CristÃ³bal, Madrid         64.0        2          1.0   \n",
              "1    Los Ãngeles, Madrid         70.0        3          1.0   \n",
              "2     San AndrÃ©s, Madrid         94.0        2          2.0   \n",
              "3     San AndrÃ©s, Madrid         64.0        2          1.0   \n",
              "4     Los Rosales, Madrid        108.0        2          2.0   \n",
              "\n",
              "   is_exact_address_hidden  is_floor_under  \\\n",
              "0                    False             0.0   \n",
              "1                     True             0.0   \n",
              "2                    False             0.0   \n",
              "3                     True             1.0   \n",
              "4                     True             0.0   \n",
              "\n",
              "                                     neighborhood_id operation  rent_price  \\\n",
              "0  Neighborhood 135: San CristÃ³bal (1308.89 â‚¬/...      sale       471.0   \n",
              "1  Neighborhood 132: Los Ãngeles (1796.68 â‚¬/m2...      sale       666.0   \n",
              "2  Neighborhood 134: San AndrÃ©s (1617.18 â‚¬/m2)...      sale       722.0   \n",
              "3  Neighborhood 134: San AndrÃ©s (1617.18 â‚¬/m2)...      sale       583.0   \n",
              "4  Neighborhood 133: Los Rosales (1827.79 â‚¬/m2)...      sale      1094.0   \n",
              "\n",
              "   is_rent_price_known  buy_price  buy_price_by_area  is_buy_price_known  \\\n",
              "0                False      85000               1328                True   \n",
              "1                False     129900               1856                True   \n",
              "2                False     144247               1535                True   \n",
              "3                False     109900               1717                True   \n",
              "4                False     260000               2407                True   \n",
              "\n",
              "        house_type_id  is_renewal_needed  is_new_development  \\\n",
              "0  HouseType 1: Pisos              False                 0.0   \n",
              "1  HouseType 1: Pisos               True                 0.0   \n",
              "2  HouseType 1: Pisos              False                 0.0   \n",
              "3  HouseType 1: Pisos              False                 0.0   \n",
              "4  HouseType 1: Pisos              False                 0.0   \n",
              "\n",
              "  energy_certificate  has_parking  \n",
              "0                  D        False  \n",
              "1        en trÃ¡mite        False  \n",
              "2        no indicado        False  \n",
              "3        en trÃ¡mite        False  \n",
              "4        en trÃ¡mite         True  "
            ],
            "text/html": [
              "\n",
              "  <div id=\"df-d6f2e3d3-5bd0-449b-b489-8d1e1db8b6bc\">\n",
              "    <div class=\"colab-df-container\">\n",
              "      <div>\n",
              "<style scoped>\n",
              "    .dataframe tbody tr th:only-of-type {\n",
              "        vertical-align: middle;\n",
              "    }\n",
              "\n",
              "    .dataframe tbody tr th {\n",
              "        vertical-align: top;\n",
              "    }\n",
              "\n",
              "    .dataframe thead th {\n",
              "        text-align: right;\n",
              "    }\n",
              "</style>\n",
              "<table border=\"1\" class=\"dataframe\">\n",
              "  <thead>\n",
              "    <tr style=\"text-align: right;\">\n",
              "      <th></th>\n",
              "      <th>id</th>\n",
              "      <th>title</th>\n",
              "      <th>subtitle</th>\n",
              "      <th>sq_mt_built</th>\n",
              "      <th>n_rooms</th>\n",
              "      <th>n_bathrooms</th>\n",
              "      <th>is_exact_address_hidden</th>\n",
              "      <th>is_floor_under</th>\n",
              "      <th>neighborhood_id</th>\n",
              "      <th>operation</th>\n",
              "      <th>rent_price</th>\n",
              "      <th>is_rent_price_known</th>\n",
              "      <th>buy_price</th>\n",
              "      <th>buy_price_by_area</th>\n",
              "      <th>is_buy_price_known</th>\n",
              "      <th>house_type_id</th>\n",
              "      <th>is_renewal_needed</th>\n",
              "      <th>is_new_development</th>\n",
              "      <th>energy_certificate</th>\n",
              "      <th>has_parking</th>\n",
              "    </tr>\n",
              "  </thead>\n",
              "  <tbody>\n",
              "    <tr>\n",
              "      <th>0</th>\n",
              "      <td>21742</td>\n",
              "      <td>Piso en venta en calle de Godella, 64</td>\n",
              "      <td>San CristÃ³bal, Madrid</td>\n",
              "      <td>64.0</td>\n",
              "      <td>2</td>\n",
              "      <td>1.0</td>\n",
              "      <td>False</td>\n",
              "      <td>0.0</td>\n",
              "      <td>Neighborhood 135: San CristÃ³bal (1308.89 â‚¬/...</td>\n",
              "      <td>sale</td>\n",
              "      <td>471.0</td>\n",
              "      <td>False</td>\n",
              "      <td>85000</td>\n",
              "      <td>1328</td>\n",
              "      <td>True</td>\n",
              "      <td>HouseType 1: Pisos</td>\n",
              "      <td>False</td>\n",
              "      <td>0.0</td>\n",
              "      <td>D</td>\n",
              "      <td>False</td>\n",
              "    </tr>\n",
              "    <tr>\n",
              "      <th>1</th>\n",
              "      <td>21741</td>\n",
              "      <td>Piso en venta en calle de la del Manojo de Rosas</td>\n",
              "      <td>Los Ãngeles, Madrid</td>\n",
              "      <td>70.0</td>\n",
              "      <td>3</td>\n",
              "      <td>1.0</td>\n",
              "      <td>True</td>\n",
              "      <td>0.0</td>\n",
              "      <td>Neighborhood 132: Los Ãngeles (1796.68 â‚¬/m2...</td>\n",
              "      <td>sale</td>\n",
              "      <td>666.0</td>\n",
              "      <td>False</td>\n",
              "      <td>129900</td>\n",
              "      <td>1856</td>\n",
              "      <td>True</td>\n",
              "      <td>HouseType 1: Pisos</td>\n",
              "      <td>True</td>\n",
              "      <td>0.0</td>\n",
              "      <td>en trÃ¡mite</td>\n",
              "      <td>False</td>\n",
              "    </tr>\n",
              "    <tr>\n",
              "      <th>2</th>\n",
              "      <td>21740</td>\n",
              "      <td>Piso en venta en calle del Talco, 68</td>\n",
              "      <td>San AndrÃ©s, Madrid</td>\n",
              "      <td>94.0</td>\n",
              "      <td>2</td>\n",
              "      <td>2.0</td>\n",
              "      <td>False</td>\n",
              "      <td>0.0</td>\n",
              "      <td>Neighborhood 134: San AndrÃ©s (1617.18 â‚¬/m2)...</td>\n",
              "      <td>sale</td>\n",
              "      <td>722.0</td>\n",
              "      <td>False</td>\n",
              "      <td>144247</td>\n",
              "      <td>1535</td>\n",
              "      <td>True</td>\n",
              "      <td>HouseType 1: Pisos</td>\n",
              "      <td>False</td>\n",
              "      <td>0.0</td>\n",
              "      <td>no indicado</td>\n",
              "      <td>False</td>\n",
              "    </tr>\n",
              "    <tr>\n",
              "      <th>3</th>\n",
              "      <td>21739</td>\n",
              "      <td>Piso en venta en calle Pedro JimÃ©nez</td>\n",
              "      <td>San AndrÃ©s, Madrid</td>\n",
              "      <td>64.0</td>\n",
              "      <td>2</td>\n",
              "      <td>1.0</td>\n",
              "      <td>True</td>\n",
              "      <td>1.0</td>\n",
              "      <td>Neighborhood 134: San AndrÃ©s (1617.18 â‚¬/m2)...</td>\n",
              "      <td>sale</td>\n",
              "      <td>583.0</td>\n",
              "      <td>False</td>\n",
              "      <td>109900</td>\n",
              "      <td>1717</td>\n",
              "      <td>True</td>\n",
              "      <td>HouseType 1: Pisos</td>\n",
              "      <td>False</td>\n",
              "      <td>0.0</td>\n",
              "      <td>en trÃ¡mite</td>\n",
              "      <td>False</td>\n",
              "    </tr>\n",
              "    <tr>\n",
              "      <th>4</th>\n",
              "      <td>21738</td>\n",
              "      <td>Piso en venta en carretera de Villaverde a Val...</td>\n",
              "      <td>Los Rosales, Madrid</td>\n",
              "      <td>108.0</td>\n",
              "      <td>2</td>\n",
              "      <td>2.0</td>\n",
              "      <td>True</td>\n",
              "      <td>0.0</td>\n",
              "      <td>Neighborhood 133: Los Rosales (1827.79 â‚¬/m2)...</td>\n",
              "      <td>sale</td>\n",
              "      <td>1094.0</td>\n",
              "      <td>False</td>\n",
              "      <td>260000</td>\n",
              "      <td>2407</td>\n",
              "      <td>True</td>\n",
              "      <td>HouseType 1: Pisos</td>\n",
              "      <td>False</td>\n",
              "      <td>0.0</td>\n",
              "      <td>en trÃ¡mite</td>\n",
              "      <td>True</td>\n",
              "    </tr>\n",
              "  </tbody>\n",
              "</table>\n",
              "</div>\n",
              "      <button class=\"colab-df-convert\" onclick=\"convertToInteractive('df-d6f2e3d3-5bd0-449b-b489-8d1e1db8b6bc')\"\n",
              "              title=\"Convert this dataframe to an interactive table.\"\n",
              "              style=\"display:none;\">\n",
              "        \n",
              "  <svg xmlns=\"http://www.w3.org/2000/svg\" height=\"24px\"viewBox=\"0 0 24 24\"\n",
              "       width=\"24px\">\n",
              "    <path d=\"M0 0h24v24H0V0z\" fill=\"none\"/>\n",
              "    <path d=\"M18.56 5.44l.94 2.06.94-2.06 2.06-.94-2.06-.94-.94-2.06-.94 2.06-2.06.94zm-11 1L8.5 8.5l.94-2.06 2.06-.94-2.06-.94L8.5 2.5l-.94 2.06-2.06.94zm10 10l.94 2.06.94-2.06 2.06-.94-2.06-.94-.94-2.06-.94 2.06-2.06.94z\"/><path d=\"M17.41 7.96l-1.37-1.37c-.4-.4-.92-.59-1.43-.59-.52 0-1.04.2-1.43.59L10.3 9.45l-7.72 7.72c-.78.78-.78 2.05 0 2.83L4 21.41c.39.39.9.59 1.41.59.51 0 1.02-.2 1.41-.59l7.78-7.78 2.81-2.81c.8-.78.8-2.07 0-2.86zM5.41 20L4 18.59l7.72-7.72 1.47 1.35L5.41 20z\"/>\n",
              "  </svg>\n",
              "      </button>\n",
              "      \n",
              "  <style>\n",
              "    .colab-df-container {\n",
              "      display:flex;\n",
              "      flex-wrap:wrap;\n",
              "      gap: 12px;\n",
              "    }\n",
              "\n",
              "    .colab-df-convert {\n",
              "      background-color: #E8F0FE;\n",
              "      border: none;\n",
              "      border-radius: 50%;\n",
              "      cursor: pointer;\n",
              "      display: none;\n",
              "      fill: #1967D2;\n",
              "      height: 32px;\n",
              "      padding: 0 0 0 0;\n",
              "      width: 32px;\n",
              "    }\n",
              "\n",
              "    .colab-df-convert:hover {\n",
              "      background-color: #E2EBFA;\n",
              "      box-shadow: 0px 1px 2px rgba(60, 64, 67, 0.3), 0px 1px 3px 1px rgba(60, 64, 67, 0.15);\n",
              "      fill: #174EA6;\n",
              "    }\n",
              "\n",
              "    [theme=dark] .colab-df-convert {\n",
              "      background-color: #3B4455;\n",
              "      fill: #D2E3FC;\n",
              "    }\n",
              "\n",
              "    [theme=dark] .colab-df-convert:hover {\n",
              "      background-color: #434B5C;\n",
              "      box-shadow: 0px 1px 3px 1px rgba(0, 0, 0, 0.15);\n",
              "      filter: drop-shadow(0px 1px 2px rgba(0, 0, 0, 0.3));\n",
              "      fill: #FFFFFF;\n",
              "    }\n",
              "  </style>\n",
              "\n",
              "      <script>\n",
              "        const buttonEl =\n",
              "          document.querySelector('#df-d6f2e3d3-5bd0-449b-b489-8d1e1db8b6bc button.colab-df-convert');\n",
              "        buttonEl.style.display =\n",
              "          google.colab.kernel.accessAllowed ? 'block' : 'none';\n",
              "\n",
              "        async function convertToInteractive(key) {\n",
              "          const element = document.querySelector('#df-d6f2e3d3-5bd0-449b-b489-8d1e1db8b6bc');\n",
              "          const dataTable =\n",
              "            await google.colab.kernel.invokeFunction('convertToInteractive',\n",
              "                                                     [key], {});\n",
              "          if (!dataTable) return;\n",
              "\n",
              "          const docLinkHtml = 'Like what you see? Visit the ' +\n",
              "            '<a target=\"_blank\" href=https://colab.research.google.com/notebooks/data_table.ipynb>data table notebook</a>'\n",
              "            + ' to learn more about interactive tables.';\n",
              "          element.innerHTML = '';\n",
              "          dataTable['output_type'] = 'display_data';\n",
              "          await google.colab.output.renderOutput(dataTable, element);\n",
              "          const docLink = document.createElement('div');\n",
              "          docLink.innerHTML = docLinkHtml;\n",
              "          element.appendChild(docLink);\n",
              "        }\n",
              "      </script>\n",
              "    </div>\n",
              "  </div>\n",
              "  "
            ]
          },
          "metadata": {},
          "execution_count": 8
        }
      ],
      "source": [
        "#Eliminar variables que tienen un alto porcentaje de registros con el valor nulo\n",
        "df_var = df.isnull().sum() #Creamos una serie de pandas con el número de valores nulos de cada variable\n",
        "porcentaje_eliminacion = 0.1 #10%\n",
        "df_var = df_var[df_var<porcentaje_eliminacion*len(df)] #Nos quedamos con las variables que tienen menos de un porcentaje de registros nulos\n",
        "lista_variables_OK = df_var.index #Nos quedamos con el índice de la serie (los nombres de las variables de interés)\n",
        "df = df[lista_variables_OK] #Filtramos el dataframe original y nos quedamos solo con las columnas de interés\n",
        "df.head(5)"
      ]
    },
    {
      "cell_type": "code",
      "execution_count": null,
      "metadata": {
        "id": "p6FNCGfCb3EI"
      },
      "outputs": [],
      "source": [
        "#Eliminamos registros que tienen algún valor erróneo (se podría interpolar)"
      ]
    },
    {
      "cell_type": "code",
      "execution_count": 9,
      "metadata": {
        "id": "pmQQhlCeb3EJ"
      },
      "outputs": [],
      "source": [
        "df.dropna(inplace=True)"
      ]
    },
    {
      "cell_type": "code",
      "execution_count": 10,
      "metadata": {
        "colab": {
          "base_uri": "https://localhost:8080/"
        },
        "id": "n9AxcEjsb3EK",
        "outputId": "510ee45f-4dad-4eee-9926-0f6aad2a2316"
      },
      "outputs": [
        {
          "output_type": "execute_result",
          "data": {
            "text/plain": [
              "id                         0\n",
              "title                      0\n",
              "subtitle                   0\n",
              "sq_mt_built                0\n",
              "n_rooms                    0\n",
              "n_bathrooms                0\n",
              "is_exact_address_hidden    0\n",
              "is_floor_under             0\n",
              "neighborhood_id            0\n",
              "operation                  0\n",
              "rent_price                 0\n",
              "is_rent_price_known        0\n",
              "buy_price                  0\n",
              "buy_price_by_area          0\n",
              "is_buy_price_known         0\n",
              "house_type_id              0\n",
              "is_renewal_needed          0\n",
              "is_new_development         0\n",
              "energy_certificate         0\n",
              "has_parking                0\n",
              "dtype: int64"
            ]
          },
          "metadata": {},
          "execution_count": 10
        }
      ],
      "source": [
        "df.isnull().sum() #Verificamos si hay valores nulos en alguna columna del dataframe"
      ]
    },
    {
      "cell_type": "code",
      "execution_count": 11,
      "metadata": {
        "colab": {
          "base_uri": "https://localhost:8080/",
          "height": 332
        },
        "id": "4zklwnaOb3EK",
        "outputId": "d21f0608-e732-4728-9a59-7ec9ad413972"
      },
      "outputs": [
        {
          "output_type": "execute_result",
          "data": {
            "text/plain": [
              "                      count           mean            std      min        25%  \\\n",
              "id                  19310.0   10751.771621    6272.883675      2.0    5347.25   \n",
              "sq_mt_built         19310.0     144.126359     125.418617     16.0      71.00   \n",
              "n_rooms             19310.0       3.013361       1.388427      0.0       2.00   \n",
              "n_bathrooms         19310.0       2.039617       1.271573      1.0       1.00   \n",
              "is_floor_under      19310.0       0.118747       0.323499      0.0       0.00   \n",
              "rent_price          19310.0    1573.749995     931.244378     18.0     913.00   \n",
              "buy_price           19310.0  632592.345106  720196.584637  36000.0  200000.00   \n",
              "buy_price_by_area   19310.0    4061.935008    1917.230783    447.0    2586.00   \n",
              "is_new_development  19310.0       0.060124       0.237723      0.0       0.00   \n",
              "\n",
              "                         50%        75%        max  \n",
              "id                   10575.5   16243.75    21742.0  \n",
              "sq_mt_built            101.0     161.00      999.0  \n",
              "n_rooms                  3.0       4.00       24.0  \n",
              "n_bathrooms              2.0       2.00       14.0  \n",
              "is_floor_under           0.0       0.00        1.0  \n",
              "rent_price            1368.0    2073.50    12584.0  \n",
              "buy_price           380000.0  750000.00  8800000.0  \n",
              "buy_price_by_area     3783.5    5047.00    18889.0  \n",
              "is_new_development       0.0       0.00        1.0  "
            ],
            "text/html": [
              "\n",
              "  <div id=\"df-a99e0fc9-7702-4d7a-94d4-0e64bf849ee2\">\n",
              "    <div class=\"colab-df-container\">\n",
              "      <div>\n",
              "<style scoped>\n",
              "    .dataframe tbody tr th:only-of-type {\n",
              "        vertical-align: middle;\n",
              "    }\n",
              "\n",
              "    .dataframe tbody tr th {\n",
              "        vertical-align: top;\n",
              "    }\n",
              "\n",
              "    .dataframe thead th {\n",
              "        text-align: right;\n",
              "    }\n",
              "</style>\n",
              "<table border=\"1\" class=\"dataframe\">\n",
              "  <thead>\n",
              "    <tr style=\"text-align: right;\">\n",
              "      <th></th>\n",
              "      <th>count</th>\n",
              "      <th>mean</th>\n",
              "      <th>std</th>\n",
              "      <th>min</th>\n",
              "      <th>25%</th>\n",
              "      <th>50%</th>\n",
              "      <th>75%</th>\n",
              "      <th>max</th>\n",
              "    </tr>\n",
              "  </thead>\n",
              "  <tbody>\n",
              "    <tr>\n",
              "      <th>id</th>\n",
              "      <td>19310.0</td>\n",
              "      <td>10751.771621</td>\n",
              "      <td>6272.883675</td>\n",
              "      <td>2.0</td>\n",
              "      <td>5347.25</td>\n",
              "      <td>10575.5</td>\n",
              "      <td>16243.75</td>\n",
              "      <td>21742.0</td>\n",
              "    </tr>\n",
              "    <tr>\n",
              "      <th>sq_mt_built</th>\n",
              "      <td>19310.0</td>\n",
              "      <td>144.126359</td>\n",
              "      <td>125.418617</td>\n",
              "      <td>16.0</td>\n",
              "      <td>71.00</td>\n",
              "      <td>101.0</td>\n",
              "      <td>161.00</td>\n",
              "      <td>999.0</td>\n",
              "    </tr>\n",
              "    <tr>\n",
              "      <th>n_rooms</th>\n",
              "      <td>19310.0</td>\n",
              "      <td>3.013361</td>\n",
              "      <td>1.388427</td>\n",
              "      <td>0.0</td>\n",
              "      <td>2.00</td>\n",
              "      <td>3.0</td>\n",
              "      <td>4.00</td>\n",
              "      <td>24.0</td>\n",
              "    </tr>\n",
              "    <tr>\n",
              "      <th>n_bathrooms</th>\n",
              "      <td>19310.0</td>\n",
              "      <td>2.039617</td>\n",
              "      <td>1.271573</td>\n",
              "      <td>1.0</td>\n",
              "      <td>1.00</td>\n",
              "      <td>2.0</td>\n",
              "      <td>2.00</td>\n",
              "      <td>14.0</td>\n",
              "    </tr>\n",
              "    <tr>\n",
              "      <th>is_floor_under</th>\n",
              "      <td>19310.0</td>\n",
              "      <td>0.118747</td>\n",
              "      <td>0.323499</td>\n",
              "      <td>0.0</td>\n",
              "      <td>0.00</td>\n",
              "      <td>0.0</td>\n",
              "      <td>0.00</td>\n",
              "      <td>1.0</td>\n",
              "    </tr>\n",
              "    <tr>\n",
              "      <th>rent_price</th>\n",
              "      <td>19310.0</td>\n",
              "      <td>1573.749995</td>\n",
              "      <td>931.244378</td>\n",
              "      <td>18.0</td>\n",
              "      <td>913.00</td>\n",
              "      <td>1368.0</td>\n",
              "      <td>2073.50</td>\n",
              "      <td>12584.0</td>\n",
              "    </tr>\n",
              "    <tr>\n",
              "      <th>buy_price</th>\n",
              "      <td>19310.0</td>\n",
              "      <td>632592.345106</td>\n",
              "      <td>720196.584637</td>\n",
              "      <td>36000.0</td>\n",
              "      <td>200000.00</td>\n",
              "      <td>380000.0</td>\n",
              "      <td>750000.00</td>\n",
              "      <td>8800000.0</td>\n",
              "    </tr>\n",
              "    <tr>\n",
              "      <th>buy_price_by_area</th>\n",
              "      <td>19310.0</td>\n",
              "      <td>4061.935008</td>\n",
              "      <td>1917.230783</td>\n",
              "      <td>447.0</td>\n",
              "      <td>2586.00</td>\n",
              "      <td>3783.5</td>\n",
              "      <td>5047.00</td>\n",
              "      <td>18889.0</td>\n",
              "    </tr>\n",
              "    <tr>\n",
              "      <th>is_new_development</th>\n",
              "      <td>19310.0</td>\n",
              "      <td>0.060124</td>\n",
              "      <td>0.237723</td>\n",
              "      <td>0.0</td>\n",
              "      <td>0.00</td>\n",
              "      <td>0.0</td>\n",
              "      <td>0.00</td>\n",
              "      <td>1.0</td>\n",
              "    </tr>\n",
              "  </tbody>\n",
              "</table>\n",
              "</div>\n",
              "      <button class=\"colab-df-convert\" onclick=\"convertToInteractive('df-a99e0fc9-7702-4d7a-94d4-0e64bf849ee2')\"\n",
              "              title=\"Convert this dataframe to an interactive table.\"\n",
              "              style=\"display:none;\">\n",
              "        \n",
              "  <svg xmlns=\"http://www.w3.org/2000/svg\" height=\"24px\"viewBox=\"0 0 24 24\"\n",
              "       width=\"24px\">\n",
              "    <path d=\"M0 0h24v24H0V0z\" fill=\"none\"/>\n",
              "    <path d=\"M18.56 5.44l.94 2.06.94-2.06 2.06-.94-2.06-.94-.94-2.06-.94 2.06-2.06.94zm-11 1L8.5 8.5l.94-2.06 2.06-.94-2.06-.94L8.5 2.5l-.94 2.06-2.06.94zm10 10l.94 2.06.94-2.06 2.06-.94-2.06-.94-.94-2.06-.94 2.06-2.06.94z\"/><path d=\"M17.41 7.96l-1.37-1.37c-.4-.4-.92-.59-1.43-.59-.52 0-1.04.2-1.43.59L10.3 9.45l-7.72 7.72c-.78.78-.78 2.05 0 2.83L4 21.41c.39.39.9.59 1.41.59.51 0 1.02-.2 1.41-.59l7.78-7.78 2.81-2.81c.8-.78.8-2.07 0-2.86zM5.41 20L4 18.59l7.72-7.72 1.47 1.35L5.41 20z\"/>\n",
              "  </svg>\n",
              "      </button>\n",
              "      \n",
              "  <style>\n",
              "    .colab-df-container {\n",
              "      display:flex;\n",
              "      flex-wrap:wrap;\n",
              "      gap: 12px;\n",
              "    }\n",
              "\n",
              "    .colab-df-convert {\n",
              "      background-color: #E8F0FE;\n",
              "      border: none;\n",
              "      border-radius: 50%;\n",
              "      cursor: pointer;\n",
              "      display: none;\n",
              "      fill: #1967D2;\n",
              "      height: 32px;\n",
              "      padding: 0 0 0 0;\n",
              "      width: 32px;\n",
              "    }\n",
              "\n",
              "    .colab-df-convert:hover {\n",
              "      background-color: #E2EBFA;\n",
              "      box-shadow: 0px 1px 2px rgba(60, 64, 67, 0.3), 0px 1px 3px 1px rgba(60, 64, 67, 0.15);\n",
              "      fill: #174EA6;\n",
              "    }\n",
              "\n",
              "    [theme=dark] .colab-df-convert {\n",
              "      background-color: #3B4455;\n",
              "      fill: #D2E3FC;\n",
              "    }\n",
              "\n",
              "    [theme=dark] .colab-df-convert:hover {\n",
              "      background-color: #434B5C;\n",
              "      box-shadow: 0px 1px 3px 1px rgba(0, 0, 0, 0.15);\n",
              "      filter: drop-shadow(0px 1px 2px rgba(0, 0, 0, 0.3));\n",
              "      fill: #FFFFFF;\n",
              "    }\n",
              "  </style>\n",
              "\n",
              "      <script>\n",
              "        const buttonEl =\n",
              "          document.querySelector('#df-a99e0fc9-7702-4d7a-94d4-0e64bf849ee2 button.colab-df-convert');\n",
              "        buttonEl.style.display =\n",
              "          google.colab.kernel.accessAllowed ? 'block' : 'none';\n",
              "\n",
              "        async function convertToInteractive(key) {\n",
              "          const element = document.querySelector('#df-a99e0fc9-7702-4d7a-94d4-0e64bf849ee2');\n",
              "          const dataTable =\n",
              "            await google.colab.kernel.invokeFunction('convertToInteractive',\n",
              "                                                     [key], {});\n",
              "          if (!dataTable) return;\n",
              "\n",
              "          const docLinkHtml = 'Like what you see? Visit the ' +\n",
              "            '<a target=\"_blank\" href=https://colab.research.google.com/notebooks/data_table.ipynb>data table notebook</a>'\n",
              "            + ' to learn more about interactive tables.';\n",
              "          element.innerHTML = '';\n",
              "          dataTable['output_type'] = 'display_data';\n",
              "          await google.colab.output.renderOutput(dataTable, element);\n",
              "          const docLink = document.createElement('div');\n",
              "          docLink.innerHTML = docLinkHtml;\n",
              "          element.appendChild(docLink);\n",
              "        }\n",
              "      </script>\n",
              "    </div>\n",
              "  </div>\n",
              "  "
            ]
          },
          "metadata": {},
          "execution_count": 11
        }
      ],
      "source": [
        "df.describe().transpose() #Principales datos estadísticos del dataframe"
      ]
    },
    {
      "cell_type": "markdown",
      "metadata": {
        "id": "iacVNFxTb3EL"
      },
      "source": [
        "## 3.2 Visualización"
      ]
    },
    {
      "cell_type": "markdown",
      "metadata": {
        "id": "XKU16fBOb3EL"
      },
      "source": [
        "### 3.2.1 Plots básicos"
      ]
    },
    {
      "cell_type": "code",
      "execution_count": 12,
      "metadata": {
        "colab": {
          "base_uri": "https://localhost:8080/",
          "height": 581
        },
        "id": "4WQOD_jPb3EM",
        "outputId": "698b6475-be76-46a0-d88b-f90b3f3b5a04"
      },
      "outputs": [
        {
          "output_type": "stream",
          "name": "stderr",
          "text": [
            "/usr/local/lib/python3.7/dist-packages/seaborn/distributions.py:2619: FutureWarning: `distplot` is a deprecated function and will be removed in a future version. Please adapt your code to use either `displot` (a figure-level function with similar flexibility) or `histplot` (an axes-level function for histograms).\n",
            "  warnings.warn(msg, FutureWarning)\n"
          ]
        },
        {
          "output_type": "execute_result",
          "data": {
            "text/plain": [
              "<matplotlib.axes._subplots.AxesSubplot at 0x7fd77760e5d0>"
            ]
          },
          "metadata": {},
          "execution_count": 12
        },
        {
          "output_type": "display_data",
          "data": {
            "text/plain": [
              "<Figure size 864x576 with 1 Axes>"
            ],
            "image/png": "[encoded data removed]"
          },
          "metadata": {
            "needs_background": "light"
          }
        }
      ],
      "source": [
        "plt.figure(figsize=(12,8))\n",
        "sns.distplot(df['buy_price']) #Plantearse descartar outliers para facilitar el entrenamiento de la red neuronal si suponen alta carga computacional o elevado error del modelo"
      ]
    },
    {
      "cell_type": "code",
      "execution_count": 13,
      "metadata": {
        "colab": {
          "base_uri": "https://localhost:8080/",
          "height": 351
        },
        "id": "ElEfQNsvb3EN",
        "outputId": "082c8b33-71bd-4866-c032-bd33142f01ee"
      },
      "outputs": [
        {
          "output_type": "stream",
          "name": "stderr",
          "text": [
            "/usr/local/lib/python3.7/dist-packages/seaborn/_decorators.py:43: FutureWarning: Pass the following variable as a keyword arg: x. From version 0.12, the only valid positional argument will be `data`, and passing other arguments without an explicit keyword will result in an error or misinterpretation.\n",
            "  FutureWarning\n"
          ]
        },
        {
          "output_type": "execute_result",
          "data": {
            "text/plain": [
              "<matplotlib.axes._subplots.AxesSubplot at 0x7fd7767ca550>"
            ]
          },
          "metadata": {},
          "execution_count": 13
        },
        {
          "output_type": "display_data",
          "data": {
            "text/plain": [
              "<Figure size 432x288 with 1 Axes>"
            ],
            "image/png": "[encoded data removed]"
          },
          "metadata": {
            "needs_background": "light"
          }
        }
      ],
      "source": [
        "sns.countplot(df['n_rooms'])"
      ]
    },
    {
      "cell_type": "code",
      "execution_count": null,
      "metadata": {
        "scrolled": true,
        "id": "kF4cz6cdb3EN",
        "outputId": "fa210757-f003-4934-9b64-226865f9509d"
      },
      "outputs": [
        {
          "data": {
            "text/plain": [
              "id                        -0.195828\n",
              "is_floor_under            -0.149768\n",
              "is_new_development        -0.013903\n",
              "is_renewal_needed          0.052132\n",
              "is_exact_address_hidden    0.167964\n",
              "has_parking                0.315350\n",
              "n_rooms                    0.578291\n",
              "buy_price_by_area          0.581698\n",
              "n_bathrooms                0.753692\n",
              "sq_mt_built                0.831700\n",
              "rent_price                 0.920350\n",
              "buy_price                  1.000000\n",
              "is_rent_price_known             NaN\n",
              "is_buy_price_known              NaN\n",
              "Name: buy_price, dtype: float64"
            ]
          },
          "execution_count": 15,
          "metadata": {},
          "output_type": "execute_result"
        }
      ],
      "source": [
        "df.corr()['buy_price'].sort_values() #Verificar qué variables tienen mayor correlación con la salida"
      ]
    },
    {
      "cell_type": "code",
      "execution_count": null,
      "metadata": {
        "id": "EucbTQ17b3EO"
      },
      "outputs": [],
      "source": [
        "#Visualizar variables altamente correladas con la salida"
      ]
    },
    {
      "cell_type": "code",
      "execution_count": 14,
      "metadata": {
        "colab": {
          "base_uri": "https://localhost:8080/",
          "height": 515
        },
        "id": "u2KTZOe7b3EP",
        "outputId": "459841d4-56a5-4b50-8111-5905cedbaa10"
      },
      "outputs": [
        {
          "output_type": "execute_result",
          "data": {
            "text/plain": [
              "<matplotlib.axes._subplots.AxesSubplot at 0x7fd777483850>"
            ]
          },
          "metadata": {},
          "execution_count": 14
        },
        {
          "output_type": "display_data",
          "data": {
            "text/plain": [
              "<Figure size 864x576 with 1 Axes>"
            ],
            "image/png": "[encoded data removed]"
          },
          "metadata": {
            "needs_background": "light"
          }
        }
      ],
      "source": [
        "plt.figure(figsize=(12,8))\n",
        "sns.scatterplot(x='buy_price',y='sq_mt_built',data=df)"
      ]
    },
    {
      "cell_type": "code",
      "execution_count": 15,
      "metadata": {
        "colab": {
          "base_uri": "https://localhost:8080/",
          "height": 308
        },
        "id": "qVRl5J23b3EP",
        "outputId": "354ff70f-f3a1-420d-bcd9-ab9aa2041ab9"
      },
      "outputs": [
        {
          "output_type": "execute_result",
          "data": {
            "text/plain": [
              "<matplotlib.axes._subplots.AxesSubplot at 0x7fd776d05c10>"
            ]
          },
          "metadata": {},
          "execution_count": 15
        },
        {
          "output_type": "display_data",
          "data": {
            "text/plain": [
              "<Figure size 432x288 with 1 Axes>"
            ],
            "image/png": "[encoded data removed]"
          },
          "metadata": {
            "needs_background": "light"
          }
        }
      ],
      "source": [
        "sns.boxplot(x='n_bathrooms',y='buy_price',data=df)"
      ]
    },
    {
      "cell_type": "markdown",
      "metadata": {
        "id": "g4D7LzK8b3EQ"
      },
      "source": [
        "### 3.2.2 Plot geográficos"
      ]
    },
    {
      "cell_type": "code",
      "execution_count": null,
      "metadata": {
        "id": "R34gyCL9b3EQ"
      },
      "outputs": [],
      "source": [
        "# Visualizar la información geográfica si estuviera completa, el ejemplo que hay a continuación proviende de una \n",
        "# fuente de datos alternativa: https://www.kaggle.com/harlfoxem/housesalesprediction"
      ]
    },
    {
      "cell_type": "code",
      "execution_count": null,
      "metadata": {
        "id": "BH-tli6kb3EQ"
      },
      "outputs": [],
      "source": [
        "#plt.figure(figsize=(12,8))\n",
        "#sns.scatterplot(x='price',y='long',data=df)"
      ]
    },
    {
      "cell_type": "code",
      "execution_count": null,
      "metadata": {
        "id": "o9M661YPb3ER"
      },
      "outputs": [],
      "source": [
        "#plt.figure(figsize=(12,8))\n",
        "#sns.scatterplot(x='price',y='lat',data=df)"
      ]
    },
    {
      "cell_type": "code",
      "execution_count": null,
      "metadata": {
        "id": "30i-LBYKb3ER"
      },
      "outputs": [],
      "source": [
        "#plt.figure(figsize=(12,8))\n",
        "#sns.scatterplot(x='long',y='lat',data=df,hue='price') #Representación con poco rango dinámico de colores debido a los outliers"
      ]
    },
    {
      "cell_type": "code",
      "execution_count": null,
      "metadata": {
        "id": "v0NT8My0b3ER"
      },
      "outputs": [],
      "source": [
        "#len(df)*(0.01) #número de muestras que sería el 1% de nuestros datos"
      ]
    },
    {
      "cell_type": "code",
      "execution_count": null,
      "metadata": {
        "id": "0uyK2UWpb3ES"
      },
      "outputs": [],
      "source": [
        "#non_top_1_perc = df.sort_values('price',ascending=False).iloc[216:] #estaríamos quitando el 1% de valores outliers"
      ]
    },
    {
      "cell_type": "code",
      "execution_count": null,
      "metadata": {
        "id": "p2qBNBqkb3ES"
      },
      "outputs": [],
      "source": [
        "#plt.figure(figsize=(12,8))\n",
        "#sns.scatterplot(x='long',y='lat',\n",
        "#                data=non_top_1_perc,hue='price',\n",
        "#                palette='RdYlGn',edgecolor=None,alpha=0.2) "
      ]
    },
    {
      "cell_type": "markdown",
      "metadata": {
        "id": "HsLmbhpwb3ET"
      },
      "source": [
        "### 3.2.3 Otras variables"
      ]
    },
    {
      "cell_type": "code",
      "execution_count": 16,
      "metadata": {
        "colab": {
          "base_uri": "https://localhost:8080/",
          "height": 308
        },
        "id": "n4rK4nWjb3ET",
        "outputId": "9534750a-9864-4695-8c54-81538d045ced"
      },
      "outputs": [
        {
          "output_type": "execute_result",
          "data": {
            "text/plain": [
              "<matplotlib.axes._subplots.AxesSubplot at 0x7fd776d171d0>"
            ]
          },
          "metadata": {},
          "execution_count": 16
        },
        {
          "output_type": "display_data",
          "data": {
            "text/plain": [
              "<Figure size 432x288 with 1 Axes>"
            ],
            "image/png": "[encoded data removed]"
          },
          "metadata": {
            "needs_background": "light"
          }
        }
      ],
      "source": [
        "sns.boxplot(x='has_parking',y='buy_price',data=df)"
      ]
    },
    {
      "cell_type": "markdown",
      "metadata": {
        "id": "xhEYU5cGb3EU"
      },
      "source": [
        "## 3.3 Limpieza final"
      ]
    },
    {
      "cell_type": "markdown",
      "metadata": {
        "id": "DG1UDYy4b3EU"
      },
      "source": [
        "### 3.3.1 Eliminar columnas no correladas"
      ]
    },
    {
      "cell_type": "code",
      "execution_count": null,
      "metadata": {
        "id": "6-dlX3LZb3EU"
      },
      "outputs": [],
      "source": [
        "# Objetivo: Eliminar variables que no tienen ninguna relación con la variable objetivo (precio) \n",
        "# o bien su información ya está incluida en otras variables - Aprovechar conocimiento del campo que estamos tratando"
      ]
    },
    {
      "cell_type": "code",
      "execution_count": 17,
      "metadata": {
        "colab": {
          "base_uri": "https://localhost:8080/",
          "height": 634
        },
        "id": "yXwm0CDXb3EU",
        "outputId": "3288601b-a85a-4193-d5fd-30a8bfce1bc9"
      },
      "outputs": [
        {
          "output_type": "execute_result",
          "data": {
            "text/plain": [
              "      id                                              title  \\\n",
              "0  21742              Piso en venta en calle de Godella, 64   \n",
              "1  21741   Piso en venta en calle de la del Manojo de Rosas   \n",
              "2  21740               Piso en venta en calle del Talco, 68   \n",
              "3  21739              Piso en venta en calle Pedro JimÃ©nez   \n",
              "4  21738  Piso en venta en carretera de Villaverde a Val...   \n",
              "\n",
              "                 subtitle  sq_mt_built  n_rooms  n_bathrooms  \\\n",
              "0  San CristÃ³bal, Madrid         64.0        2          1.0   \n",
              "1    Los Ãngeles, Madrid         70.0        3          1.0   \n",
              "2     San AndrÃ©s, Madrid         94.0        2          2.0   \n",
              "3     San AndrÃ©s, Madrid         64.0        2          1.0   \n",
              "4     Los Rosales, Madrid        108.0        2          2.0   \n",
              "\n",
              "   is_exact_address_hidden  is_floor_under  \\\n",
              "0                    False             0.0   \n",
              "1                     True             0.0   \n",
              "2                    False             0.0   \n",
              "3                     True             1.0   \n",
              "4                     True             0.0   \n",
              "\n",
              "                                     neighborhood_id operation  rent_price  \\\n",
              "0  Neighborhood 135: San CristÃ³bal (1308.89 â‚¬/...      sale       471.0   \n",
              "1  Neighborhood 132: Los Ãngeles (1796.68 â‚¬/m2...      sale       666.0   \n",
              "2  Neighborhood 134: San AndrÃ©s (1617.18 â‚¬/m2)...      sale       722.0   \n",
              "3  Neighborhood 134: San AndrÃ©s (1617.18 â‚¬/m2)...      sale       583.0   \n",
              "4  Neighborhood 133: Los Rosales (1827.79 â‚¬/m2)...      sale      1094.0   \n",
              "\n",
              "   is_rent_price_known  buy_price  buy_price_by_area  is_buy_price_known  \\\n",
              "0                False      85000               1328                True   \n",
              "1                False     129900               1856                True   \n",
              "2                False     144247               1535                True   \n",
              "3                False     109900               1717                True   \n",
              "4                False     260000               2407                True   \n",
              "\n",
              "        house_type_id  is_renewal_needed  is_new_development  \\\n",
              "0  HouseType 1: Pisos              False                 0.0   \n",
              "1  HouseType 1: Pisos               True                 0.0   \n",
              "2  HouseType 1: Pisos              False                 0.0   \n",
              "3  HouseType 1: Pisos              False                 0.0   \n",
              "4  HouseType 1: Pisos              False                 0.0   \n",
              "\n",
              "  energy_certificate  has_parking  \n",
              "0                  D        False  \n",
              "1        en trÃ¡mite        False  \n",
              "2        no indicado        False  \n",
              "3        en trÃ¡mite        False  \n",
              "4        en trÃ¡mite         True  "
            ],
            "text/html": [
              "\n",
              "  <div id=\"df-1033770f-c807-4a5a-8c38-bd03af9a3aee\">\n",
              "    <div class=\"colab-df-container\">\n",
              "      <div>\n",
              "<style scoped>\n",
              "    .dataframe tbody tr th:only-of-type {\n",
              "        vertical-align: middle;\n",
              "    }\n",
              "\n",
              "    .dataframe tbody tr th {\n",
              "        vertical-align: top;\n",
              "    }\n",
              "\n",
              "    .dataframe thead th {\n",
              "        text-align: right;\n",
              "    }\n",
              "</style>\n",
              "<table border=\"1\" class=\"dataframe\">\n",
              "  <thead>\n",
              "    <tr style=\"text-align: right;\">\n",
              "      <th></th>\n",
              "      <th>id</th>\n",
              "      <th>title</th>\n",
              "      <th>subtitle</th>\n",
              "      <th>sq_mt_built</th>\n",
              "      <th>n_rooms</th>\n",
              "      <th>n_bathrooms</th>\n",
              "      <th>is_exact_address_hidden</th>\n",
              "      <th>is_floor_under</th>\n",
              "      <th>neighborhood_id</th>\n",
              "      <th>operation</th>\n",
              "      <th>rent_price</th>\n",
              "      <th>is_rent_price_known</th>\n",
              "      <th>buy_price</th>\n",
              "      <th>buy_price_by_area</th>\n",
              "      <th>is_buy_price_known</th>\n",
              "      <th>house_type_id</th>\n",
              "      <th>is_renewal_needed</th>\n",
              "      <th>is_new_development</th>\n",
              "      <th>energy_certificate</th>\n",
              "      <th>has_parking</th>\n",
              "    </tr>\n",
              "  </thead>\n",
              "  <tbody>\n",
              "    <tr>\n",
              "      <th>0</th>\n",
              "      <td>21742</td>\n",
              "      <td>Piso en venta en calle de Godella, 64</td>\n",
              "      <td>San CristÃ³bal, Madrid</td>\n",
              "      <td>64.0</td>\n",
              "      <td>2</td>\n",
              "      <td>1.0</td>\n",
              "      <td>False</td>\n",
              "      <td>0.0</td>\n",
              "      <td>Neighborhood 135: San CristÃ³bal (1308.89 â‚¬/...</td>\n",
              "      <td>sale</td>\n",
              "      <td>471.0</td>\n",
              "      <td>False</td>\n",
              "      <td>85000</td>\n",
              "      <td>1328</td>\n",
              "      <td>True</td>\n",
              "      <td>HouseType 1: Pisos</td>\n",
              "      <td>False</td>\n",
              "      <td>0.0</td>\n",
              "      <td>D</td>\n",
              "      <td>False</td>\n",
              "    </tr>\n",
              "    <tr>\n",
              "      <th>1</th>\n",
              "      <td>21741</td>\n",
              "      <td>Piso en venta en calle de la del Manojo de Rosas</td>\n",
              "      <td>Los Ãngeles, Madrid</td>\n",
              "      <td>70.0</td>\n",
              "      <td>3</td>\n",
              "      <td>1.0</td>\n",
              "      <td>True</td>\n",
              "      <td>0.0</td>\n",
              "      <td>Neighborhood 132: Los Ãngeles (1796.68 â‚¬/m2...</td>\n",
              "      <td>sale</td>\n",
              "      <td>666.0</td>\n",
              "      <td>False</td>\n",
              "      <td>129900</td>\n",
              "      <td>1856</td>\n",
              "      <td>True</td>\n",
              "      <td>HouseType 1: Pisos</td>\n",
              "      <td>True</td>\n",
              "      <td>0.0</td>\n",
              "      <td>en trÃ¡mite</td>\n",
              "      <td>False</td>\n",
              "    </tr>\n",
              "    <tr>\n",
              "      <th>2</th>\n",
              "      <td>21740</td>\n",
              "      <td>Piso en venta en calle del Talco, 68</td>\n",
              "      <td>San AndrÃ©s, Madrid</td>\n",
              "      <td>94.0</td>\n",
              "      <td>2</td>\n",
              "      <td>2.0</td>\n",
              "      <td>False</td>\n",
              "      <td>0.0</td>\n",
              "      <td>Neighborhood 134: San AndrÃ©s (1617.18 â‚¬/m2)...</td>\n",
              "      <td>sale</td>\n",
              "      <td>722.0</td>\n",
              "      <td>False</td>\n",
              "      <td>144247</td>\n",
              "      <td>1535</td>\n",
              "      <td>True</td>\n",
              "      <td>HouseType 1: Pisos</td>\n",
              "      <td>False</td>\n",
              "      <td>0.0</td>\n",
              "      <td>no indicado</td>\n",
              "      <td>False</td>\n",
              "    </tr>\n",
              "    <tr>\n",
              "      <th>3</th>\n",
              "      <td>21739</td>\n",
              "      <td>Piso en venta en calle Pedro JimÃ©nez</td>\n",
              "      <td>San AndrÃ©s, Madrid</td>\n",
              "      <td>64.0</td>\n",
              "      <td>2</td>\n",
              "      <td>1.0</td>\n",
              "      <td>True</td>\n",
              "      <td>1.0</td>\n",
              "      <td>Neighborhood 134: San AndrÃ©s (1617.18 â‚¬/m2)...</td>\n",
              "      <td>sale</td>\n",
              "      <td>583.0</td>\n",
              "      <td>False</td>\n",
              "      <td>109900</td>\n",
              "      <td>1717</td>\n",
              "      <td>True</td>\n",
              "      <td>HouseType 1: Pisos</td>\n",
              "      <td>False</td>\n",
              "      <td>0.0</td>\n",
              "      <td>en trÃ¡mite</td>\n",
              "      <td>False</td>\n",
              "    </tr>\n",
              "    <tr>\n",
              "      <th>4</th>\n",
              "      <td>21738</td>\n",
              "      <td>Piso en venta en carretera de Villaverde a Val...</td>\n",
              "      <td>Los Rosales, Madrid</td>\n",
              "      <td>108.0</td>\n",
              "      <td>2</td>\n",
              "      <td>2.0</td>\n",
              "      <td>True</td>\n",
              "      <td>0.0</td>\n",
              "      <td>Neighborhood 133: Los Rosales (1827.79 â‚¬/m2)...</td>\n",
              "      <td>sale</td>\n",
              "      <td>1094.0</td>\n",
              "      <td>False</td>\n",
              "      <td>260000</td>\n",
              "      <td>2407</td>\n",
              "      <td>True</td>\n",
              "      <td>HouseType 1: Pisos</td>\n",
              "      <td>False</td>\n",
              "      <td>0.0</td>\n",
              "      <td>en trÃ¡mite</td>\n",
              "      <td>True</td>\n",
              "    </tr>\n",
              "  </tbody>\n",
              "</table>\n",
              "</div>\n",
              "      <button class=\"colab-df-convert\" onclick=\"convertToInteractive('df-1033770f-c807-4a5a-8c38-bd03af9a3aee')\"\n",
              "              title=\"Convert this dataframe to an interactive table.\"\n",
              "              style=\"display:none;\">\n",
              "        \n",
              "  <svg xmlns=\"http://www.w3.org/2000/svg\" height=\"24px\"viewBox=\"0 0 24 24\"\n",
              "       width=\"24px\">\n",
              "    <path d=\"M0 0h24v24H0V0z\" fill=\"none\"/>\n",
              "    <path d=\"M18.56 5.44l.94 2.06.94-2.06 2.06-.94-2.06-.94-.94-2.06-.94 2.06-2.06.94zm-11 1L8.5 8.5l.94-2.06 2.06-.94-2.06-.94L8.5 2.5l-.94 2.06-2.06.94zm10 10l.94 2.06.94-2.06 2.06-.94-2.06-.94-.94-2.06-.94 2.06-2.06.94z\"/><path d=\"M17.41 7.96l-1.37-1.37c-.4-.4-.92-.59-1.43-.59-.52 0-1.04.2-1.43.59L10.3 9.45l-7.72 7.72c-.78.78-.78 2.05 0 2.83L4 21.41c.39.39.9.59 1.41.59.51 0 1.02-.2 1.41-.59l7.78-7.78 2.81-2.81c.8-.78.8-2.07 0-2.86zM5.41 20L4 18.59l7.72-7.72 1.47 1.35L5.41 20z\"/>\n",
              "  </svg>\n",
              "      </button>\n",
              "      \n",
              "  <style>\n",
              "    .colab-df-container {\n",
              "      display:flex;\n",
              "      flex-wrap:wrap;\n",
              "      gap: 12px;\n",
              "    }\n",
              "\n",
              "    .colab-df-convert {\n",
              "      background-color: #E8F0FE;\n",
              "      border: none;\n",
              "      border-radius: 50%;\n",
              "      cursor: pointer;\n",
              "      display: none;\n",
              "      fill: #1967D2;\n",
              "      height: 32px;\n",
              "      padding: 0 0 0 0;\n",
              "      width: 32px;\n",
              "    }\n",
              "\n",
              "    .colab-df-convert:hover {\n",
              "      background-color: #E2EBFA;\n",
              "      box-shadow: 0px 1px 2px rgba(60, 64, 67, 0.3), 0px 1px 3px 1px rgba(60, 64, 67, 0.15);\n",
              "      fill: #174EA6;\n",
              "    }\n",
              "\n",
              "    [theme=dark] .colab-df-convert {\n",
              "      background-color: #3B4455;\n",
              "      fill: #D2E3FC;\n",
              "    }\n",
              "\n",
              "    [theme=dark] .colab-df-convert:hover {\n",
              "      background-color: #434B5C;\n",
              "      box-shadow: 0px 1px 3px 1px rgba(0, 0, 0, 0.15);\n",
              "      filter: drop-shadow(0px 1px 2px rgba(0, 0, 0, 0.3));\n",
              "      fill: #FFFFFF;\n",
              "    }\n",
              "  </style>\n",
              "\n",
              "      <script>\n",
              "        const buttonEl =\n",
              "          document.querySelector('#df-1033770f-c807-4a5a-8c38-bd03af9a3aee button.colab-df-convert');\n",
              "        buttonEl.style.display =\n",
              "          google.colab.kernel.accessAllowed ? 'block' : 'none';\n",
              "\n",
              "        async function convertToInteractive(key) {\n",
              "          const element = document.querySelector('#df-1033770f-c807-4a5a-8c38-bd03af9a3aee');\n",
              "          const dataTable =\n",
              "            await google.colab.kernel.invokeFunction('convertToInteractive',\n",
              "                                                     [key], {});\n",
              "          if (!dataTable) return;\n",
              "\n",
              "          const docLinkHtml = 'Like what you see? Visit the ' +\n",
              "            '<a target=\"_blank\" href=https://colab.research.google.com/notebooks/data_table.ipynb>data table notebook</a>'\n",
              "            + ' to learn more about interactive tables.';\n",
              "          element.innerHTML = '';\n",
              "          dataTable['output_type'] = 'display_data';\n",
              "          await google.colab.output.renderOutput(dataTable, element);\n",
              "          const docLink = document.createElement('div');\n",
              "          docLink.innerHTML = docLinkHtml;\n",
              "          element.appendChild(docLink);\n",
              "        }\n",
              "      </script>\n",
              "    </div>\n",
              "  </div>\n",
              "  "
            ]
          },
          "metadata": {},
          "execution_count": 17
        }
      ],
      "source": [
        "df.head()"
      ]
    },
    {
      "cell_type": "code",
      "execution_count": 18,
      "metadata": {
        "colab": {
          "base_uri": "https://localhost:8080/"
        },
        "id": "PX7re_6fb3EV",
        "outputId": "bd385d82-1669-4801-cb03-9106d0b0f5a9"
      },
      "outputs": [
        {
          "output_type": "stream",
          "name": "stdout",
          "text": [
            "<class 'pandas.core.frame.DataFrame'>\n",
            "Int64Index: 19310 entries, 0 to 21740\n",
            "Data columns (total 20 columns):\n",
            " #   Column                   Non-Null Count  Dtype  \n",
            "---  ------                   --------------  -----  \n",
            " 0   id                       19310 non-null  int64  \n",
            " 1   title                    19310 non-null  object \n",
            " 2   subtitle                 19310 non-null  object \n",
            " 3   sq_mt_built              19310 non-null  float64\n",
            " 4   n_rooms                  19310 non-null  int64  \n",
            " 5   n_bathrooms              19310 non-null  float64\n",
            " 6   is_exact_address_hidden  19310 non-null  bool   \n",
            " 7   is_floor_under           19310 non-null  float64\n",
            " 8   neighborhood_id          19310 non-null  object \n",
            " 9   operation                19310 non-null  object \n",
            " 10  rent_price               19310 non-null  float64\n",
            " 11  is_rent_price_known      19310 non-null  bool   \n",
            " 12  buy_price                19310 non-null  int64  \n",
            " 13  buy_price_by_area        19310 non-null  int64  \n",
            " 14  is_buy_price_known       19310 non-null  bool   \n",
            " 15  house_type_id            19310 non-null  object \n",
            " 16  is_renewal_needed        19310 non-null  bool   \n",
            " 17  is_new_development       19310 non-null  float64\n",
            " 18  energy_certificate       19310 non-null  object \n",
            " 19  has_parking              19310 non-null  bool   \n",
            "dtypes: bool(5), float64(5), int64(4), object(6)\n",
            "memory usage: 3.0+ MB\n"
          ]
        }
      ],
      "source": [
        "df.info()"
      ]
    },
    {
      "cell_type": "code",
      "execution_count": 19,
      "metadata": {
        "id": "F2poVjLgb3EV"
      },
      "outputs": [],
      "source": [
        "df = df.drop(['id','title','subtitle','is_exact_address_hidden','is_renewal_needed','neighborhood_id','operation','is_rent_price_known','is_buy_price_known','buy_price_by_area','is_buy_price_known','house_type_id','energy_certificate'],axis=1)"
      ]
    },
    {
      "cell_type": "code",
      "execution_count": 20,
      "metadata": {
        "colab": {
          "base_uri": "https://localhost:8080/",
          "height": 206
        },
        "id": "KxSokfD1b3EV",
        "outputId": "6b7d8f35-704d-477b-85a0-735508bec955"
      },
      "outputs": [
        {
          "output_type": "execute_result",
          "data": {
            "text/plain": [
              "   sq_mt_built  n_rooms  n_bathrooms  is_floor_under  rent_price  buy_price  \\\n",
              "0         64.0        2          1.0             0.0       471.0      85000   \n",
              "1         70.0        3          1.0             0.0       666.0     129900   \n",
              "2         94.0        2          2.0             0.0       722.0     144247   \n",
              "3         64.0        2          1.0             1.0       583.0     109900   \n",
              "4        108.0        2          2.0             0.0      1094.0     260000   \n",
              "\n",
              "   is_new_development  has_parking  \n",
              "0                 0.0        False  \n",
              "1                 0.0        False  \n",
              "2                 0.0        False  \n",
              "3                 0.0        False  \n",
              "4                 0.0         True  "
            ],
            "text/html": [
              "\n",
              "  <div id=\"df-843d96f3-10cb-4be3-b00d-102faa5e1142\">\n",
              "    <div class=\"colab-df-container\">\n",
              "      <div>\n",
              "<style scoped>\n",
              "    .dataframe tbody tr th:only-of-type {\n",
              "        vertical-align: middle;\n",
              "    }\n",
              "\n",
              "    .dataframe tbody tr th {\n",
              "        vertical-align: top;\n",
              "    }\n",
              "\n",
              "    .dataframe thead th {\n",
              "        text-align: right;\n",
              "    }\n",
              "</style>\n",
              "<table border=\"1\" class=\"dataframe\">\n",
              "  <thead>\n",
              "    <tr style=\"text-align: right;\">\n",
              "      <th></th>\n",
              "      <th>sq_mt_built</th>\n",
              "      <th>n_rooms</th>\n",
              "      <th>n_bathrooms</th>\n",
              "      <th>is_floor_under</th>\n",
              "      <th>rent_price</th>\n",
              "      <th>buy_price</th>\n",
              "      <th>is_new_development</th>\n",
              "      <th>has_parking</th>\n",
              "    </tr>\n",
              "  </thead>\n",
              "  <tbody>\n",
              "    <tr>\n",
              "      <th>0</th>\n",
              "      <td>64.0</td>\n",
              "      <td>2</td>\n",
              "      <td>1.0</td>\n",
              "      <td>0.0</td>\n",
              "      <td>471.0</td>\n",
              "      <td>85000</td>\n",
              "      <td>0.0</td>\n",
              "      <td>False</td>\n",
              "    </tr>\n",
              "    <tr>\n",
              "      <th>1</th>\n",
              "      <td>70.0</td>\n",
              "      <td>3</td>\n",
              "      <td>1.0</td>\n",
              "      <td>0.0</td>\n",
              "      <td>666.0</td>\n",
              "      <td>129900</td>\n",
              "      <td>0.0</td>\n",
              "      <td>False</td>\n",
              "    </tr>\n",
              "    <tr>\n",
              "      <th>2</th>\n",
              "      <td>94.0</td>\n",
              "      <td>2</td>\n",
              "      <td>2.0</td>\n",
              "      <td>0.0</td>\n",
              "      <td>722.0</td>\n",
              "      <td>144247</td>\n",
              "      <td>0.0</td>\n",
              "      <td>False</td>\n",
              "    </tr>\n",
              "    <tr>\n",
              "      <th>3</th>\n",
              "      <td>64.0</td>\n",
              "      <td>2</td>\n",
              "      <td>1.0</td>\n",
              "      <td>1.0</td>\n",
              "      <td>583.0</td>\n",
              "      <td>109900</td>\n",
              "      <td>0.0</td>\n",
              "      <td>False</td>\n",
              "    </tr>\n",
              "    <tr>\n",
              "      <th>4</th>\n",
              "      <td>108.0</td>\n",
              "      <td>2</td>\n",
              "      <td>2.0</td>\n",
              "      <td>0.0</td>\n",
              "      <td>1094.0</td>\n",
              "      <td>260000</td>\n",
              "      <td>0.0</td>\n",
              "      <td>True</td>\n",
              "    </tr>\n",
              "  </tbody>\n",
              "</table>\n",
              "</div>\n",
              "      <button class=\"colab-df-convert\" onclick=\"convertToInteractive('df-843d96f3-10cb-4be3-b00d-102faa5e1142')\"\n",
              "              title=\"Convert this dataframe to an interactive table.\"\n",
              "              style=\"display:none;\">\n",
              "        \n",
              "  <svg xmlns=\"http://www.w3.org/2000/svg\" height=\"24px\"viewBox=\"0 0 24 24\"\n",
              "       width=\"24px\">\n",
              "    <path d=\"M0 0h24v24H0V0z\" fill=\"none\"/>\n",
              "    <path d=\"M18.56 5.44l.94 2.06.94-2.06 2.06-.94-2.06-.94-.94-2.06-.94 2.06-2.06.94zm-11 1L8.5 8.5l.94-2.06 2.06-.94-2.06-.94L8.5 2.5l-.94 2.06-2.06.94zm10 10l.94 2.06.94-2.06 2.06-.94-2.06-.94-.94-2.06-.94 2.06-2.06.94z\"/><path d=\"M17.41 7.96l-1.37-1.37c-.4-.4-.92-.59-1.43-.59-.52 0-1.04.2-1.43.59L10.3 9.45l-7.72 7.72c-.78.78-.78 2.05 0 2.83L4 21.41c.39.39.9.59 1.41.59.51 0 1.02-.2 1.41-.59l7.78-7.78 2.81-2.81c.8-.78.8-2.07 0-2.86zM5.41 20L4 18.59l7.72-7.72 1.47 1.35L5.41 20z\"/>\n",
              "  </svg>\n",
              "      </button>\n",
              "      \n",
              "  <style>\n",
              "    .colab-df-container {\n",
              "      display:flex;\n",
              "      flex-wrap:wrap;\n",
              "      gap: 12px;\n",
              "    }\n",
              "\n",
              "    .colab-df-convert {\n",
              "      background-color: #E8F0FE;\n",
              "      border: none;\n",
              "      border-radius: 50%;\n",
              "      cursor: pointer;\n",
              "      display: none;\n",
              "      fill: #1967D2;\n",
              "      height: 32px;\n",
              "      padding: 0 0 0 0;\n",
              "      width: 32px;\n",
              "    }\n",
              "\n",
              "    .colab-df-convert:hover {\n",
              "      background-color: #E2EBFA;\n",
              "      box-shadow: 0px 1px 2px rgba(60, 64, 67, 0.3), 0px 1px 3px 1px rgba(60, 64, 67, 0.15);\n",
              "      fill: #174EA6;\n",
              "    }\n",
              "\n",
              "    [theme=dark] .colab-df-convert {\n",
              "      background-color: #3B4455;\n",
              "      fill: #D2E3FC;\n",
              "    }\n",
              "\n",
              "    [theme=dark] .colab-df-convert:hover {\n",
              "      background-color: #434B5C;\n",
              "      box-shadow: 0px 1px 3px 1px rgba(0, 0, 0, 0.15);\n",
              "      filter: drop-shadow(0px 1px 2px rgba(0, 0, 0, 0.3));\n",
              "      fill: #FFFFFF;\n",
              "    }\n",
              "  </style>\n",
              "\n",
              "      <script>\n",
              "        const buttonEl =\n",
              "          document.querySelector('#df-843d96f3-10cb-4be3-b00d-102faa5e1142 button.colab-df-convert');\n",
              "        buttonEl.style.display =\n",
              "          google.colab.kernel.accessAllowed ? 'block' : 'none';\n",
              "\n",
              "        async function convertToInteractive(key) {\n",
              "          const element = document.querySelector('#df-843d96f3-10cb-4be3-b00d-102faa5e1142');\n",
              "          const dataTable =\n",
              "            await google.colab.kernel.invokeFunction('convertToInteractive',\n",
              "                                                     [key], {});\n",
              "          if (!dataTable) return;\n",
              "\n",
              "          const docLinkHtml = 'Like what you see? Visit the ' +\n",
              "            '<a target=\"_blank\" href=https://colab.research.google.com/notebooks/data_table.ipynb>data table notebook</a>'\n",
              "            + ' to learn more about interactive tables.';\n",
              "          element.innerHTML = '';\n",
              "          dataTable['output_type'] = 'display_data';\n",
              "          await google.colab.output.renderOutput(dataTable, element);\n",
              "          const docLink = document.createElement('div');\n",
              "          docLink.innerHTML = docLinkHtml;\n",
              "          element.appendChild(docLink);\n",
              "        }\n",
              "      </script>\n",
              "    </div>\n",
              "  </div>\n",
              "  "
            ]
          },
          "metadata": {},
          "execution_count": 20
        }
      ],
      "source": [
        "df.head()"
      ]
    },
    {
      "cell_type": "markdown",
      "metadata": {
        "id": "YWRRif1Db3EW"
      },
      "source": [
        "### 3.3.2 Limpieza temporal"
      ]
    },
    {
      "cell_type": "code",
      "execution_count": null,
      "metadata": {
        "id": "u2gKMGEwb3EW"
      },
      "outputs": [],
      "source": [
        "#Importante visualizar la evolución temporal (si ha habido un importante cambio, quedarse con \n",
        "#la porción de datos que corresponde a la situación actual para mejorar la futura predicción)\n",
        "#El ejemplo que hay a continuación proviende de una fuente de datos alternativa: https://www.kaggle.com/harlfoxem/housesalesprediction"
      ]
    },
    {
      "cell_type": "code",
      "execution_count": null,
      "metadata": {
        "id": "vb1BRzP8b3EX"
      },
      "outputs": [],
      "source": [
        "#df['date'] = pd.to_datetime(df['date'])"
      ]
    },
    {
      "cell_type": "code",
      "execution_count": null,
      "metadata": {
        "id": "P1a24kYWb3EX"
      },
      "outputs": [],
      "source": [
        "#df['month'] = df['date'].apply(lambda date:date.month)"
      ]
    },
    {
      "cell_type": "code",
      "execution_count": null,
      "metadata": {
        "id": "aCKTruplb3EX"
      },
      "outputs": [],
      "source": [
        "#df['year'] = df['date'].apply(lambda date:date.year)"
      ]
    },
    {
      "cell_type": "code",
      "execution_count": null,
      "metadata": {
        "id": "m9LIDrUkb3EX"
      },
      "outputs": [],
      "source": [
        "#sns.boxplot(x='year',y='price',data=df)"
      ]
    },
    {
      "cell_type": "code",
      "execution_count": null,
      "metadata": {
        "id": "aJxxblvYb3EY"
      },
      "outputs": [],
      "source": [
        "#sns.boxplot(x='month',y='price',data=df)"
      ]
    },
    {
      "cell_type": "code",
      "execution_count": null,
      "metadata": {
        "id": "qPOQslQab3EY"
      },
      "outputs": [],
      "source": [
        "#df.groupby('month').mean()['price'].plot()"
      ]
    },
    {
      "cell_type": "code",
      "execution_count": null,
      "metadata": {
        "id": "PEXjnXhub3EY"
      },
      "outputs": [],
      "source": [
        "#df.groupby('year').mean()['price'].plot()"
      ]
    },
    {
      "cell_type": "code",
      "execution_count": null,
      "metadata": {
        "id": "zs1sRM0Mb3EZ"
      },
      "outputs": [],
      "source": [
        "#df = df.drop('date',axis=1) #La fecha no será una variable útil para el modelo"
      ]
    },
    {
      "cell_type": "code",
      "execution_count": null,
      "metadata": {
        "id": "0LlFF7Qib3EZ"
      },
      "outputs": [],
      "source": [
        "#df['sqft_basement'].value_counts()"
      ]
    },
    {
      "cell_type": "markdown",
      "metadata": {
        "id": "wGMGu5umb3EZ"
      },
      "source": [
        "### 3.3.3 Transformación variables categóricas"
      ]
    },
    {
      "cell_type": "code",
      "execution_count": 21,
      "metadata": {
        "colab": {
          "base_uri": "https://localhost:8080/",
          "height": 206
        },
        "id": "Rnqz0odpb3EZ",
        "outputId": "49893b2d-53f1-4c6e-d0a0-1106cae65aff"
      },
      "outputs": [
        {
          "output_type": "execute_result",
          "data": {
            "text/plain": [
              "   sq_mt_built  n_rooms  n_bathrooms  is_floor_under  rent_price  buy_price  \\\n",
              "0         64.0        2          1.0             0.0       471.0      85000   \n",
              "1         70.0        3          1.0             0.0       666.0     129900   \n",
              "2         94.0        2          2.0             0.0       722.0     144247   \n",
              "3         64.0        2          1.0             1.0       583.0     109900   \n",
              "4        108.0        2          2.0             0.0      1094.0     260000   \n",
              "\n",
              "   is_new_development  has_parking  \n",
              "0                 0.0        False  \n",
              "1                 0.0        False  \n",
              "2                 0.0        False  \n",
              "3                 0.0        False  \n",
              "4                 0.0         True  "
            ],
            "text/html": [
              "\n",
              "  <div id=\"df-216f4fdd-d212-4674-a6a3-81384342bc8e\">\n",
              "    <div class=\"colab-df-container\">\n",
              "      <div>\n",
              "<style scoped>\n",
              "    .dataframe tbody tr th:only-of-type {\n",
              "        vertical-align: middle;\n",
              "    }\n",
              "\n",
              "    .dataframe tbody tr th {\n",
              "        vertical-align: top;\n",
              "    }\n",
              "\n",
              "    .dataframe thead th {\n",
              "        text-align: right;\n",
              "    }\n",
              "</style>\n",
              "<table border=\"1\" class=\"dataframe\">\n",
              "  <thead>\n",
              "    <tr style=\"text-align: right;\">\n",
              "      <th></th>\n",
              "      <th>sq_mt_built</th>\n",
              "      <th>n_rooms</th>\n",
              "      <th>n_bathrooms</th>\n",
              "      <th>is_floor_under</th>\n",
              "      <th>rent_price</th>\n",
              "      <th>buy_price</th>\n",
              "      <th>is_new_development</th>\n",
              "      <th>has_parking</th>\n",
              "    </tr>\n",
              "  </thead>\n",
              "  <tbody>\n",
              "    <tr>\n",
              "      <th>0</th>\n",
              "      <td>64.0</td>\n",
              "      <td>2</td>\n",
              "      <td>1.0</td>\n",
              "      <td>0.0</td>\n",
              "      <td>471.0</td>\n",
              "      <td>85000</td>\n",
              "      <td>0.0</td>\n",
              "      <td>False</td>\n",
              "    </tr>\n",
              "    <tr>\n",
              "      <th>1</th>\n",
              "      <td>70.0</td>\n",
              "      <td>3</td>\n",
              "      <td>1.0</td>\n",
              "      <td>0.0</td>\n",
              "      <td>666.0</td>\n",
              "      <td>129900</td>\n",
              "      <td>0.0</td>\n",
              "      <td>False</td>\n",
              "    </tr>\n",
              "    <tr>\n",
              "      <th>2</th>\n",
              "      <td>94.0</td>\n",
              "      <td>2</td>\n",
              "      <td>2.0</td>\n",
              "      <td>0.0</td>\n",
              "      <td>722.0</td>\n",
              "      <td>144247</td>\n",
              "      <td>0.0</td>\n",
              "      <td>False</td>\n",
              "    </tr>\n",
              "    <tr>\n",
              "      <th>3</th>\n",
              "      <td>64.0</td>\n",
              "      <td>2</td>\n",
              "      <td>1.0</td>\n",
              "      <td>1.0</td>\n",
              "      <td>583.0</td>\n",
              "      <td>109900</td>\n",
              "      <td>0.0</td>\n",
              "      <td>False</td>\n",
              "    </tr>\n",
              "    <tr>\n",
              "      <th>4</th>\n",
              "      <td>108.0</td>\n",
              "      <td>2</td>\n",
              "      <td>2.0</td>\n",
              "      <td>0.0</td>\n",
              "      <td>1094.0</td>\n",
              "      <td>260000</td>\n",
              "      <td>0.0</td>\n",
              "      <td>True</td>\n",
              "    </tr>\n",
              "  </tbody>\n",
              "</table>\n",
              "</div>\n",
              "      <button class=\"colab-df-convert\" onclick=\"convertToInteractive('df-216f4fdd-d212-4674-a6a3-81384342bc8e')\"\n",
              "              title=\"Convert this dataframe to an interactive table.\"\n",
              "              style=\"display:none;\">\n",
              "        \n",
              "  <svg xmlns=\"http://www.w3.org/2000/svg\" height=\"24px\"viewBox=\"0 0 24 24\"\n",
              "       width=\"24px\">\n",
              "    <path d=\"M0 0h24v24H0V0z\" fill=\"none\"/>\n",
              "    <path d=\"M18.56 5.44l.94 2.06.94-2.06 2.06-.94-2.06-.94-.94-2.06-.94 2.06-2.06.94zm-11 1L8.5 8.5l.94-2.06 2.06-.94-2.06-.94L8.5 2.5l-.94 2.06-2.06.94zm10 10l.94 2.06.94-2.06 2.06-.94-2.06-.94-.94-2.06-.94 2.06-2.06.94z\"/><path d=\"M17.41 7.96l-1.37-1.37c-.4-.4-.92-.59-1.43-.59-.52 0-1.04.2-1.43.59L10.3 9.45l-7.72 7.72c-.78.78-.78 2.05 0 2.83L4 21.41c.39.39.9.59 1.41.59.51 0 1.02-.2 1.41-.59l7.78-7.78 2.81-2.81c.8-.78.8-2.07 0-2.86zM5.41 20L4 18.59l7.72-7.72 1.47 1.35L5.41 20z\"/>\n",
              "  </svg>\n",
              "      </button>\n",
              "      \n",
              "  <style>\n",
              "    .colab-df-container {\n",
              "      display:flex;\n",
              "      flex-wrap:wrap;\n",
              "      gap: 12px;\n",
              "    }\n",
              "\n",
              "    .colab-df-convert {\n",
              "      background-color: #E8F0FE;\n",
              "      border: none;\n",
              "      border-radius: 50%;\n",
              "      cursor: pointer;\n",
              "      display: none;\n",
              "      fill: #1967D2;\n",
              "      height: 32px;\n",
              "      padding: 0 0 0 0;\n",
              "      width: 32px;\n",
              "    }\n",
              "\n",
              "    .colab-df-convert:hover {\n",
              "      background-color: #E2EBFA;\n",
              "      box-shadow: 0px 1px 2px rgba(60, 64, 67, 0.3), 0px 1px 3px 1px rgba(60, 64, 67, 0.15);\n",
              "      fill: #174EA6;\n",
              "    }\n",
              "\n",
              "    [theme=dark] .colab-df-convert {\n",
              "      background-color: #3B4455;\n",
              "      fill: #D2E3FC;\n",
              "    }\n",
              "\n",
              "    [theme=dark] .colab-df-convert:hover {\n",
              "      background-color: #434B5C;\n",
              "      box-shadow: 0px 1px 3px 1px rgba(0, 0, 0, 0.15);\n",
              "      filter: drop-shadow(0px 1px 2px rgba(0, 0, 0, 0.3));\n",
              "      fill: #FFFFFF;\n",
              "    }\n",
              "  </style>\n",
              "\n",
              "      <script>\n",
              "        const buttonEl =\n",
              "          document.querySelector('#df-216f4fdd-d212-4674-a6a3-81384342bc8e button.colab-df-convert');\n",
              "        buttonEl.style.display =\n",
              "          google.colab.kernel.accessAllowed ? 'block' : 'none';\n",
              "\n",
              "        async function convertToInteractive(key) {\n",
              "          const element = document.querySelector('#df-216f4fdd-d212-4674-a6a3-81384342bc8e');\n",
              "          const dataTable =\n",
              "            await google.colab.kernel.invokeFunction('convertToInteractive',\n",
              "                                                     [key], {});\n",
              "          if (!dataTable) return;\n",
              "\n",
              "          const docLinkHtml = 'Like what you see? Visit the ' +\n",
              "            '<a target=\"_blank\" href=https://colab.research.google.com/notebooks/data_table.ipynb>data table notebook</a>'\n",
              "            + ' to learn more about interactive tables.';\n",
              "          element.innerHTML = '';\n",
              "          dataTable['output_type'] = 'display_data';\n",
              "          await google.colab.output.renderOutput(dataTable, element);\n",
              "          const docLink = document.createElement('div');\n",
              "          docLink.innerHTML = docLinkHtml;\n",
              "          element.appendChild(docLink);\n",
              "        }\n",
              "      </script>\n",
              "    </div>\n",
              "  </div>\n",
              "  "
            ]
          },
          "metadata": {},
          "execution_count": 21
        }
      ],
      "source": [
        "df.head()"
      ]
    },
    {
      "cell_type": "code",
      "execution_count": null,
      "metadata": {
        "id": "eCnqm_rcb3Ea"
      },
      "outputs": [],
      "source": [
        "#Utilizar OneHotEncoder si variables categóricas (se obtiene una columna por cada categoría asignando 0 o 1) / Las variables booleanas no es necesario convertirlas True = 1 / False = 0\n",
        "#from sklearn.preprocessing import OneHotEncoder\n",
        "#oe_style = OneHotEncoder()\n",
        "#oe_results = oe_style.fit_transform(df[[\"body_style\"]]) #body_style sería la variable categórica\n",
        "#pd.DataFrame(oe_results.toarray(), columns=oe_style.categories_).head()\n",
        "#df = df.join(pd.DataFrame(oe_results.toarray(), columns=oe_style.categories_))"
      ]
    },
    {
      "cell_type": "markdown",
      "metadata": {
        "id": "pWcrMEAEb3Ea"
      },
      "source": [
        "# 4.Train Test Split"
      ]
    },
    {
      "cell_type": "code",
      "execution_count": 22,
      "metadata": {
        "id": "FEHHaUKdb3Ea"
      },
      "outputs": [],
      "source": [
        "X = df.drop('buy_price',axis=1)\n",
        "y = df['buy_price']"
      ]
    },
    {
      "cell_type": "code",
      "execution_count": 23,
      "metadata": {
        "id": "oxE-E0sab3Eb"
      },
      "outputs": [],
      "source": [
        "from sklearn.model_selection import train_test_split"
      ]
    },
    {
      "cell_type": "code",
      "execution_count": 24,
      "metadata": {
        "id": "q6PAdRKub3Eb"
      },
      "outputs": [],
      "source": [
        "X_train, X_test, y_train, y_test = train_test_split(X,y,test_size=0.2,random_state=101)"
      ]
    },
    {
      "cell_type": "code",
      "execution_count": 25,
      "metadata": {
        "colab": {
          "base_uri": "https://localhost:8080/"
        },
        "id": "DtLCrTnib3Eb",
        "outputId": "6ffb752d-7fc5-4fac-e05b-d15a039a2eb9"
      },
      "outputs": [
        {
          "output_type": "execute_result",
          "data": {
            "text/plain": [
              "(15448, 7)"
            ]
          },
          "metadata": {},
          "execution_count": 25
        }
      ],
      "source": [
        "X_train.shape"
      ]
    },
    {
      "cell_type": "code",
      "execution_count": 26,
      "metadata": {
        "colab": {
          "base_uri": "https://localhost:8080/"
        },
        "id": "Una0P4f5b3Ec",
        "outputId": "73183eef-4a65-4936-c6a8-aad7035ec15d"
      },
      "outputs": [
        {
          "output_type": "execute_result",
          "data": {
            "text/plain": [
              "(3862, 7)"
            ]
          },
          "metadata": {},
          "execution_count": 26
        }
      ],
      "source": [
        "X_test.shape"
      ]
    },
    {
      "cell_type": "markdown",
      "metadata": {
        "id": "QIoZoUR-b3Ec"
      },
      "source": [
        "# 5.Escalado"
      ]
    },
    {
      "cell_type": "code",
      "execution_count": 27,
      "metadata": {
        "id": "c_9h_8IVb3Ec"
      },
      "outputs": [],
      "source": [
        "from sklearn.preprocessing import MinMaxScaler"
      ]
    },
    {
      "cell_type": "code",
      "execution_count": 28,
      "metadata": {
        "id": "N5u9wRXxb3Ec"
      },
      "outputs": [],
      "source": [
        "scaler = MinMaxScaler()"
      ]
    },
    {
      "cell_type": "code",
      "execution_count": 29,
      "metadata": {
        "colab": {
          "base_uri": "https://localhost:8080/",
          "height": 424
        },
        "id": "HwEO1i4Ib3Ed",
        "outputId": "4def92aa-6c26-4eea-fb94-fb2522d122de"
      },
      "outputs": [
        {
          "output_type": "execute_result",
          "data": {
            "text/plain": [
              "       sq_mt_built  n_rooms  n_bathrooms  is_floor_under  rent_price  \\\n",
              "2160          87.0        2          1.0             0.0       913.0   \n",
              "13201        150.0        2          2.0             1.0      1839.0   \n",
              "14224        682.0       24          4.0             0.0      6864.0   \n",
              "17339        154.0        5          5.0             0.0      2510.0   \n",
              "5298          70.0        3          1.0             0.0       621.0   \n",
              "...            ...      ...          ...             ...         ...   \n",
              "6473          67.0        2          1.0             0.0       762.0   \n",
              "9240         146.0        3          2.0             0.0      2070.0   \n",
              "19993        104.0        2          1.0             0.0      1890.0   \n",
              "20197         85.0        2          2.0             0.0      1197.0   \n",
              "14945        116.0        2          2.0             0.0      2285.0   \n",
              "\n",
              "       is_new_development  has_parking  \n",
              "2160                  0.0        False  \n",
              "13201                 0.0         True  \n",
              "14224                 0.0        False  \n",
              "17339                 0.0        False  \n",
              "5298                  0.0        False  \n",
              "...                   ...          ...  \n",
              "6473                  0.0        False  \n",
              "9240                  1.0         True  \n",
              "19993                 0.0        False  \n",
              "20197                 0.0        False  \n",
              "14945                 0.0        False  \n",
              "\n",
              "[15448 rows x 7 columns]"
            ],
            "text/html": [
              "\n",
              "  <div id=\"df-712fd0f8-cb17-43a9-bc53-1b2be3c72006\">\n",
              "    <div class=\"colab-df-container\">\n",
              "      <div>\n",
              "<style scoped>\n",
              "    .dataframe tbody tr th:only-of-type {\n",
              "        vertical-align: middle;\n",
              "    }\n",
              "\n",
              "    .dataframe tbody tr th {\n",
              "        vertical-align: top;\n",
              "    }\n",
              "\n",
              "    .dataframe thead th {\n",
              "        text-align: right;\n",
              "    }\n",
              "</style>\n",
              "<table border=\"1\" class=\"dataframe\">\n",
              "  <thead>\n",
              "    <tr style=\"text-align: right;\">\n",
              "      <th></th>\n",
              "      <th>sq_mt_built</th>\n",
              "      <th>n_rooms</th>\n",
              "      <th>n_bathrooms</th>\n",
              "      <th>is_floor_under</th>\n",
              "      <th>rent_price</th>\n",
              "      <th>is_new_development</th>\n",
              "      <th>has_parking</th>\n",
              "    </tr>\n",
              "  </thead>\n",
              "  <tbody>\n",
              "    <tr>\n",
              "      <th>2160</th>\n",
              "      <td>87.0</td>\n",
              "      <td>2</td>\n",
              "      <td>1.0</td>\n",
              "      <td>0.0</td>\n",
              "      <td>913.0</td>\n",
              "      <td>0.0</td>\n",
              "      <td>False</td>\n",
              "    </tr>\n",
              "    <tr>\n",
              "      <th>13201</th>\n",
              "      <td>150.0</td>\n",
              "      <td>2</td>\n",
              "      <td>2.0</td>\n",
              "      <td>1.0</td>\n",
              "      <td>1839.0</td>\n",
              "      <td>0.0</td>\n",
              "      <td>True</td>\n",
              "    </tr>\n",
              "    <tr>\n",
              "      <th>14224</th>\n",
              "      <td>682.0</td>\n",
              "      <td>24</td>\n",
              "      <td>4.0</td>\n",
              "      <td>0.0</td>\n",
              "      <td>6864.0</td>\n",
              "      <td>0.0</td>\n",
              "      <td>False</td>\n",
              "    </tr>\n",
              "    <tr>\n",
              "      <th>17339</th>\n",
              "      <td>154.0</td>\n",
              "      <td>5</td>\n",
              "      <td>5.0</td>\n",
              "      <td>0.0</td>\n",
              "      <td>2510.0</td>\n",
              "      <td>0.0</td>\n",
              "      <td>False</td>\n",
              "    </tr>\n",
              "    <tr>\n",
              "      <th>5298</th>\n",
              "      <td>70.0</td>\n",
              "      <td>3</td>\n",
              "      <td>1.0</td>\n",
              "      <td>0.0</td>\n",
              "      <td>621.0</td>\n",
              "      <td>0.0</td>\n",
              "      <td>False</td>\n",
              "    </tr>\n",
              "    <tr>\n",
              "      <th>...</th>\n",
              "      <td>...</td>\n",
              "      <td>...</td>\n",
              "      <td>...</td>\n",
              "      <td>...</td>\n",
              "      <td>...</td>\n",
              "      <td>...</td>\n",
              "      <td>...</td>\n",
              "    </tr>\n",
              "    <tr>\n",
              "      <th>6473</th>\n",
              "      <td>67.0</td>\n",
              "      <td>2</td>\n",
              "      <td>1.0</td>\n",
              "      <td>0.0</td>\n",
              "      <td>762.0</td>\n",
              "      <td>0.0</td>\n",
              "      <td>False</td>\n",
              "    </tr>\n",
              "    <tr>\n",
              "      <th>9240</th>\n",
              "      <td>146.0</td>\n",
              "      <td>3</td>\n",
              "      <td>2.0</td>\n",
              "      <td>0.0</td>\n",
              "      <td>2070.0</td>\n",
              "      <td>1.0</td>\n",
              "      <td>True</td>\n",
              "    </tr>\n",
              "    <tr>\n",
              "      <th>19993</th>\n",
              "      <td>104.0</td>\n",
              "      <td>2</td>\n",
              "      <td>1.0</td>\n",
              "      <td>0.0</td>\n",
              "      <td>1890.0</td>\n",
              "      <td>0.0</td>\n",
              "      <td>False</td>\n",
              "    </tr>\n",
              "    <tr>\n",
              "      <th>20197</th>\n",
              "      <td>85.0</td>\n",
              "      <td>2</td>\n",
              "      <td>2.0</td>\n",
              "      <td>0.0</td>\n",
              "      <td>1197.0</td>\n",
              "      <td>0.0</td>\n",
              "      <td>False</td>\n",
              "    </tr>\n",
              "    <tr>\n",
              "      <th>14945</th>\n",
              "      <td>116.0</td>\n",
              "      <td>2</td>\n",
              "      <td>2.0</td>\n",
              "      <td>0.0</td>\n",
              "      <td>2285.0</td>\n",
              "      <td>0.0</td>\n",
              "      <td>False</td>\n",
              "    </tr>\n",
              "  </tbody>\n",
              "</table>\n",
              "<p>15448 rows × 7 columns</p>\n",
              "</div>\n",
              "      <button class=\"colab-df-convert\" onclick=\"convertToInteractive('df-712fd0f8-cb17-43a9-bc53-1b2be3c72006')\"\n",
              "              title=\"Convert this dataframe to an interactive table.\"\n",
              "              style=\"display:none;\">\n",
              "        \n",
              "  <svg xmlns=\"http://www.w3.org/2000/svg\" height=\"24px\"viewBox=\"0 0 24 24\"\n",
              "       width=\"24px\">\n",
              "    <path d=\"M0 0h24v24H0V0z\" fill=\"none\"/>\n",
              "    <path d=\"M18.56 5.44l.94 2.06.94-2.06 2.06-.94-2.06-.94-.94-2.06-.94 2.06-2.06.94zm-11 1L8.5 8.5l.94-2.06 2.06-.94-2.06-.94L8.5 2.5l-.94 2.06-2.06.94zm10 10l.94 2.06.94-2.06 2.06-.94-2.06-.94-.94-2.06-.94 2.06-2.06.94z\"/><path d=\"M17.41 7.96l-1.37-1.37c-.4-.4-.92-.59-1.43-.59-.52 0-1.04.2-1.43.59L10.3 9.45l-7.72 7.72c-.78.78-.78 2.05 0 2.83L4 21.41c.39.39.9.59 1.41.59.51 0 1.02-.2 1.41-.59l7.78-7.78 2.81-2.81c.8-.78.8-2.07 0-2.86zM5.41 20L4 18.59l7.72-7.72 1.47 1.35L5.41 20z\"/>\n",
              "  </svg>\n",
              "      </button>\n",
              "      \n",
              "  <style>\n",
              "    .colab-df-container {\n",
              "      display:flex;\n",
              "      flex-wrap:wrap;\n",
              "      gap: 12px;\n",
              "    }\n",
              "\n",
              "    .colab-df-convert {\n",
              "      background-color: #E8F0FE;\n",
              "      border: none;\n",
              "      border-radius: 50%;\n",
              "      cursor: pointer;\n",
              "      display: none;\n",
              "      fill: #1967D2;\n",
              "      height: 32px;\n",
              "      padding: 0 0 0 0;\n",
              "      width: 32px;\n",
              "    }\n",
              "\n",
              "    .colab-df-convert:hover {\n",
              "      background-color: #E2EBFA;\n",
              "      box-shadow: 0px 1px 2px rgba(60, 64, 67, 0.3), 0px 1px 3px 1px rgba(60, 64, 67, 0.15);\n",
              "      fill: #174EA6;\n",
              "    }\n",
              "\n",
              "    [theme=dark] .colab-df-convert {\n",
              "      background-color: #3B4455;\n",
              "      fill: #D2E3FC;\n",
              "    }\n",
              "\n",
              "    [theme=dark] .colab-df-convert:hover {\n",
              "      background-color: #434B5C;\n",
              "      box-shadow: 0px 1px 3px 1px rgba(0, 0, 0, 0.15);\n",
              "      filter: drop-shadow(0px 1px 2px rgba(0, 0, 0, 0.3));\n",
              "      fill: #FFFFFF;\n",
              "    }\n",
              "  </style>\n",
              "\n",
              "      <script>\n",
              "        const buttonEl =\n",
              "          document.querySelector('#df-712fd0f8-cb17-43a9-bc53-1b2be3c72006 button.colab-df-convert');\n",
              "        buttonEl.style.display =\n",
              "          google.colab.kernel.accessAllowed ? 'block' : 'none';\n",
              "\n",
              "        async function convertToInteractive(key) {\n",
              "          const element = document.querySelector('#df-712fd0f8-cb17-43a9-bc53-1b2be3c72006');\n",
              "          const dataTable =\n",
              "            await google.colab.kernel.invokeFunction('convertToInteractive',\n",
              "                                                     [key], {});\n",
              "          if (!dataTable) return;\n",
              "\n",
              "          const docLinkHtml = 'Like what you see? Visit the ' +\n",
              "            '<a target=\"_blank\" href=https://colab.research.google.com/notebooks/data_table.ipynb>data table notebook</a>'\n",
              "            + ' to learn more about interactive tables.';\n",
              "          element.innerHTML = '';\n",
              "          dataTable['output_type'] = 'display_data';\n",
              "          await google.colab.output.renderOutput(dataTable, element);\n",
              "          const docLink = document.createElement('div');\n",
              "          docLink.innerHTML = docLinkHtml;\n",
              "          element.appendChild(docLink);\n",
              "        }\n",
              "      </script>\n",
              "    </div>\n",
              "  </div>\n",
              "  "
            ]
          },
          "metadata": {},
          "execution_count": 29
        }
      ],
      "source": [
        "X_train"
      ]
    },
    {
      "cell_type": "code",
      "execution_count": 30,
      "metadata": {
        "id": "91U6a8I_b3Ed"
      },
      "outputs": [],
      "source": [
        "X_train= scaler.fit_transform(X_train)"
      ]
    },
    {
      "cell_type": "code",
      "execution_count": 31,
      "metadata": {
        "colab": {
          "base_uri": "https://localhost:8080/"
        },
        "id": "veIJx2Srb3Ed",
        "outputId": "2580d2a3-2428-4d70-9a4f-69bdd38e2051"
      },
      "outputs": [
        {
          "output_type": "execute_result",
          "data": {
            "text/plain": [
              "array([[0.07230143, 0.08333333, 0.        , ..., 0.07122394, 0.        ,\n",
              "        0.        ],\n",
              "       [0.13645621, 0.08333333, 0.07692308, ..., 0.14491485, 0.        ,\n",
              "        1.        ],\n",
              "       [0.67820774, 1.        , 0.23076923, ..., 0.54480344, 0.        ,\n",
              "        0.        ],\n",
              "       ...,\n",
              "       [0.08961303, 0.08333333, 0.        , ..., 0.14897342, 0.        ,\n",
              "        0.        ],\n",
              "       [0.07026477, 0.08333333, 0.07692308, ..., 0.09382461, 0.        ,\n",
              "        0.        ],\n",
              "       [0.10183299, 0.08333333, 0.07692308, ..., 0.18040745, 0.        ,\n",
              "        0.        ]])"
            ]
          },
          "metadata": {},
          "execution_count": 31
        }
      ],
      "source": [
        "X_train"
      ]
    },
    {
      "cell_type": "code",
      "execution_count": 32,
      "metadata": {
        "id": "VyXxAI7qb3Ed"
      },
      "outputs": [],
      "source": [
        "X_test = scaler.transform(X_test)"
      ]
    },
    {
      "cell_type": "code",
      "execution_count": 33,
      "metadata": {
        "colab": {
          "base_uri": "https://localhost:8080/"
        },
        "id": "O82YE8jYb3Ee",
        "outputId": "281e9bd6-996d-480b-e7d9-f61b6315caf2"
      },
      "outputs": [
        {
          "output_type": "execute_result",
          "data": {
            "text/plain": [
              "(15448, 7)"
            ]
          },
          "metadata": {},
          "execution_count": 33
        }
      ],
      "source": [
        "X_train.shape"
      ]
    },
    {
      "cell_type": "code",
      "execution_count": 34,
      "metadata": {
        "colab": {
          "base_uri": "https://localhost:8080/"
        },
        "id": "8QEDjqxTb3Ee",
        "outputId": "7ea69348-f655-4e5c-c346-be9b0728b85c"
      },
      "outputs": [
        {
          "output_type": "execute_result",
          "data": {
            "text/plain": [
              "(3862, 7)"
            ]
          },
          "metadata": {},
          "execution_count": 34
        }
      ],
      "source": [
        "X_test.shape"
      ]
    },
    {
      "cell_type": "markdown",
      "metadata": {
        "id": "q6udpnJFb3Ee"
      },
      "source": [
        "# 6.Creación del modelo"
      ]
    },
    {
      "cell_type": "code",
      "execution_count": 35,
      "metadata": {
        "id": "gYeeMUxQb3Ee"
      },
      "outputs": [],
      "source": [
        "from tensorflow.keras.models import Sequential\n",
        "from tensorflow.keras.layers import Dense, Activation\n",
        "from tensorflow.keras.optimizers import Adam"
      ]
    },
    {
      "cell_type": "code",
      "execution_count": 36,
      "metadata": {
        "id": "w8ECrVsHb3Ef"
      },
      "outputs": [],
      "source": [
        "model = Sequential()\n",
        "#Añadir un número de neuronas similar al número de features en X_train - 7 en el ejemplo\n",
        "num_neuronas = X_train.shape[1]\n",
        "model.add(Dense(num_neuronas,activation='relu'))\n",
        "model.add(Dense(num_neuronas,activation='relu'))\n",
        "model.add(Dense(num_neuronas,activation='relu'))\n",
        "model.add(Dense(num_neuronas,activation='relu'))\n",
        "model.add(Dense(1)) # Indicar tantas neuronas de salida como variables a predecir, en este caso solo 1 variable \"buy_price\"\n",
        "\n",
        "model.compile(optimizer='adam',loss='mse')"
      ]
    },
    {
      "cell_type": "markdown",
      "metadata": {
        "id": "9XQuj_1jb3Ef"
      },
      "source": [
        "# 7. Entrenamiento del modelo"
      ]
    },
    {
      "cell_type": "code",
      "execution_count": null,
      "metadata": {
        "id": "LIxDkr2ib3Ef"
      },
      "outputs": [],
      "source": [
        "model.fit(x=X_train,y=y_train.values,\n",
        "          validation_data=(X_test,y_test.values), #si indicamos validation_data en cada epoch calcula sobre el conjunto de test el resultado de pérdidas\n",
        "          batch_size=128,epochs=200) #batch_size es el tamaño de datos que toma en cada cálculo (indicar potencia de 2) / epochs es el número de iteraciones sobre la red neuronal para ajustar los pesos (w) y bias (b)"
      ]
    },
    {
      "cell_type": "code",
      "execution_count": 38,
      "metadata": {
        "id": "ZuOjoLEPb3Eg"
      },
      "outputs": [],
      "source": [
        "losses = pd.DataFrame(model.history.history)"
      ]
    },
    {
      "cell_type": "code",
      "execution_count": 39,
      "metadata": {
        "colab": {
          "base_uri": "https://localhost:8080/",
          "height": 424
        },
        "id": "NhwyMAbpb3Eg",
        "outputId": "1b37fdd1-fc95-4e4b-b86e-7db66c638856"
      },
      "outputs": [
        {
          "output_type": "execute_result",
          "data": {
            "text/plain": [
              "             loss      val_loss\n",
              "0    9.358482e+11  8.507493e+11\n",
              "1    9.358310e+11  8.507016e+11\n",
              "2    9.356578e+11  8.503282e+11\n",
              "3    9.347429e+11  8.487098e+11\n",
              "4    9.316583e+11  8.440062e+11\n",
              "..            ...           ...\n",
              "195  4.210665e+10  3.706567e+10\n",
              "196  4.203797e+10  3.697865e+10\n",
              "197  4.194465e+10  3.699289e+10\n",
              "198  4.186820e+10  3.684721e+10\n",
              "199  4.177655e+10  3.679091e+10\n",
              "\n",
              "[200 rows x 2 columns]"
            ],
            "text/html": [
              "\n",
              "  <div id=\"df-a64fb04e-c780-44c8-a83d-4745e69a580a\">\n",
              "    <div class=\"colab-df-container\">\n",
              "      <div>\n",
              "<style scoped>\n",
              "    .dataframe tbody tr th:only-of-type {\n",
              "        vertical-align: middle;\n",
              "    }\n",
              "\n",
              "    .dataframe tbody tr th {\n",
              "        vertical-align: top;\n",
              "    }\n",
              "\n",
              "    .dataframe thead th {\n",
              "        text-align: right;\n",
              "    }\n",
              "</style>\n",
              "<table border=\"1\" class=\"dataframe\">\n",
              "  <thead>\n",
              "    <tr style=\"text-align: right;\">\n",
              "      <th></th>\n",
              "      <th>loss</th>\n",
              "      <th>val_loss</th>\n",
              "    </tr>\n",
              "  </thead>\n",
              "  <tbody>\n",
              "    <tr>\n",
              "      <th>0</th>\n",
              "      <td>9.358482e+11</td>\n",
              "      <td>8.507493e+11</td>\n",
              "    </tr>\n",
              "    <tr>\n",
              "      <th>1</th>\n",
              "      <td>9.358310e+11</td>\n",
              "      <td>8.507016e+11</td>\n",
              "    </tr>\n",
              "    <tr>\n",
              "      <th>2</th>\n",
              "      <td>9.356578e+11</td>\n",
              "      <td>8.503282e+11</td>\n",
              "    </tr>\n",
              "    <tr>\n",
              "      <th>3</th>\n",
              "      <td>9.347429e+11</td>\n",
              "      <td>8.487098e+11</td>\n",
              "    </tr>\n",
              "    <tr>\n",
              "      <th>4</th>\n",
              "      <td>9.316583e+11</td>\n",
              "      <td>8.440062e+11</td>\n",
              "    </tr>\n",
              "    <tr>\n",
              "      <th>...</th>\n",
              "      <td>...</td>\n",
              "      <td>...</td>\n",
              "    </tr>\n",
              "    <tr>\n",
              "      <th>195</th>\n",
              "      <td>4.210665e+10</td>\n",
              "      <td>3.706567e+10</td>\n",
              "    </tr>\n",
              "    <tr>\n",
              "      <th>196</th>\n",
              "      <td>4.203797e+10</td>\n",
              "      <td>3.697865e+10</td>\n",
              "    </tr>\n",
              "    <tr>\n",
              "      <th>197</th>\n",
              "      <td>4.194465e+10</td>\n",
              "      <td>3.699289e+10</td>\n",
              "    </tr>\n",
              "    <tr>\n",
              "      <th>198</th>\n",
              "      <td>4.186820e+10</td>\n",
              "      <td>3.684721e+10</td>\n",
              "    </tr>\n",
              "    <tr>\n",
              "      <th>199</th>\n",
              "      <td>4.177655e+10</td>\n",
              "      <td>3.679091e+10</td>\n",
              "    </tr>\n",
              "  </tbody>\n",
              "</table>\n",
              "<p>200 rows × 2 columns</p>\n",
              "</div>\n",
              "      <button class=\"colab-df-convert\" onclick=\"convertToInteractive('df-a64fb04e-c780-44c8-a83d-4745e69a580a')\"\n",
              "              title=\"Convert this dataframe to an interactive table.\"\n",
              "              style=\"display:none;\">\n",
              "        \n",
              "  <svg xmlns=\"http://www.w3.org/2000/svg\" height=\"24px\"viewBox=\"0 0 24 24\"\n",
              "       width=\"24px\">\n",
              "    <path d=\"M0 0h24v24H0V0z\" fill=\"none\"/>\n",
              "    <path d=\"M18.56 5.44l.94 2.06.94-2.06 2.06-.94-2.06-.94-.94-2.06-.94 2.06-2.06.94zm-11 1L8.5 8.5l.94-2.06 2.06-.94-2.06-.94L8.5 2.5l-.94 2.06-2.06.94zm10 10l.94 2.06.94-2.06 2.06-.94-2.06-.94-.94-2.06-.94 2.06-2.06.94z\"/><path d=\"M17.41 7.96l-1.37-1.37c-.4-.4-.92-.59-1.43-.59-.52 0-1.04.2-1.43.59L10.3 9.45l-7.72 7.72c-.78.78-.78 2.05 0 2.83L4 21.41c.39.39.9.59 1.41.59.51 0 1.02-.2 1.41-.59l7.78-7.78 2.81-2.81c.8-.78.8-2.07 0-2.86zM5.41 20L4 18.59l7.72-7.72 1.47 1.35L5.41 20z\"/>\n",
              "  </svg>\n",
              "      </button>\n",
              "      \n",
              "  <style>\n",
              "    .colab-df-container {\n",
              "      display:flex;\n",
              "      flex-wrap:wrap;\n",
              "      gap: 12px;\n",
              "    }\n",
              "\n",
              "    .colab-df-convert {\n",
              "      background-color: #E8F0FE;\n",
              "      border: none;\n",
              "      border-radius: 50%;\n",
              "      cursor: pointer;\n",
              "      display: none;\n",
              "      fill: #1967D2;\n",
              "      height: 32px;\n",
              "      padding: 0 0 0 0;\n",
              "      width: 32px;\n",
              "    }\n",
              "\n",
              "    .colab-df-convert:hover {\n",
              "      background-color: #E2EBFA;\n",
              "      box-shadow: 0px 1px 2px rgba(60, 64, 67, 0.3), 0px 1px 3px 1px rgba(60, 64, 67, 0.15);\n",
              "      fill: #174EA6;\n",
              "    }\n",
              "\n",
              "    [theme=dark] .colab-df-convert {\n",
              "      background-color: #3B4455;\n",
              "      fill: #D2E3FC;\n",
              "    }\n",
              "\n",
              "    [theme=dark] .colab-df-convert:hover {\n",
              "      background-color: #434B5C;\n",
              "      box-shadow: 0px 1px 3px 1px rgba(0, 0, 0, 0.15);\n",
              "      filter: drop-shadow(0px 1px 2px rgba(0, 0, 0, 0.3));\n",
              "      fill: #FFFFFF;\n",
              "    }\n",
              "  </style>\n",
              "\n",
              "      <script>\n",
              "        const buttonEl =\n",
              "          document.querySelector('#df-a64fb04e-c780-44c8-a83d-4745e69a580a button.colab-df-convert');\n",
              "        buttonEl.style.display =\n",
              "          google.colab.kernel.accessAllowed ? 'block' : 'none';\n",
              "\n",
              "        async function convertToInteractive(key) {\n",
              "          const element = document.querySelector('#df-a64fb04e-c780-44c8-a83d-4745e69a580a');\n",
              "          const dataTable =\n",
              "            await google.colab.kernel.invokeFunction('convertToInteractive',\n",
              "                                                     [key], {});\n",
              "          if (!dataTable) return;\n",
              "\n",
              "          const docLinkHtml = 'Like what you see? Visit the ' +\n",
              "            '<a target=\"_blank\" href=https://colab.research.google.com/notebooks/data_table.ipynb>data table notebook</a>'\n",
              "            + ' to learn more about interactive tables.';\n",
              "          element.innerHTML = '';\n",
              "          dataTable['output_type'] = 'display_data';\n",
              "          await google.colab.output.renderOutput(dataTable, element);\n",
              "          const docLink = document.createElement('div');\n",
              "          docLink.innerHTML = docLinkHtml;\n",
              "          element.appendChild(docLink);\n",
              "        }\n",
              "      </script>\n",
              "    </div>\n",
              "  </div>\n",
              "  "
            ]
          },
          "metadata": {},
          "execution_count": 39
        }
      ],
      "source": [
        "losses"
      ]
    },
    {
      "cell_type": "code",
      "execution_count": 40,
      "metadata": {
        "scrolled": true,
        "colab": {
          "base_uri": "https://localhost:8080/",
          "height": 293
        },
        "id": "qUR9-4_Ob3Eg",
        "outputId": "a645d157-52ff-4344-df2d-728cd7ae2376"
      },
      "outputs": [
        {
          "output_type": "execute_result",
          "data": {
            "text/plain": [
              "<matplotlib.axes._subplots.AxesSubplot at 0x7fd70d3e7a10>"
            ]
          },
          "metadata": {},
          "execution_count": 40
        },
        {
          "output_type": "display_data",
          "data": {
            "text/plain": [
              "<Figure size 432x288 with 1 Axes>"
            ],
            "image/png": "[encoded data removed]"
          },
          "metadata": {
            "needs_background": "light"
          }
        }
      ],
      "source": [
        "losses.plot()"
      ]
    },
    {
      "cell_type": "markdown",
      "metadata": {
        "id": "A7MOfsnlb3Eh"
      },
      "source": [
        "# 8. Evaluación del modelo\n",
        "\n",
        "https://scikit-learn.org/stable/modules/model_evaluation.html#regression-metrics"
      ]
    },
    {
      "cell_type": "code",
      "execution_count": 41,
      "metadata": {
        "id": "abNkcRWpb3Eh"
      },
      "outputs": [],
      "source": [
        "from sklearn.metrics import mean_squared_error,mean_absolute_error,explained_variance_score"
      ]
    },
    {
      "cell_type": "markdown",
      "metadata": {
        "id": "wGouReqDb3Eh"
      },
      "source": [
        "## 8.1 Predicción sobre el conjunto de Test"
      ]
    },
    {
      "cell_type": "code",
      "execution_count": null,
      "metadata": {
        "id": "TxlTThrxb3Eh"
      },
      "outputs": [],
      "source": [
        "X_test"
      ]
    },
    {
      "cell_type": "code",
      "execution_count": 43,
      "metadata": {
        "id": "e6mBlFUPb3Ei"
      },
      "outputs": [],
      "source": [
        "predictions = model.predict(X_test)"
      ]
    },
    {
      "cell_type": "code",
      "execution_count": 44,
      "metadata": {
        "colab": {
          "base_uri": "https://localhost:8080/"
        },
        "id": "30GUDEgCb3Ei",
        "outputId": "f71cd8da-c21a-4d71-e8ab-918680da2f21"
      },
      "outputs": [
        {
          "output_type": "execute_result",
          "data": {
            "text/plain": [
              "108137.44675736746"
            ]
          },
          "metadata": {},
          "execution_count": 44
        }
      ],
      "source": [
        "mean_absolute_error(y_test,predictions)"
      ]
    },
    {
      "cell_type": "code",
      "execution_count": 45,
      "metadata": {
        "colab": {
          "base_uri": "https://localhost:8080/"
        },
        "id": "VOd3QT40b3Ei",
        "outputId": "5826c837-5921-4570-af02-5df9d452d845"
      },
      "outputs": [
        {
          "output_type": "execute_result",
          "data": {
            "text/plain": [
              "191809.54137136505"
            ]
          },
          "metadata": {},
          "execution_count": 45
        }
      ],
      "source": [
        "np.sqrt(mean_squared_error(y_test,predictions))"
      ]
    },
    {
      "cell_type": "code",
      "execution_count": 46,
      "metadata": {
        "colab": {
          "base_uri": "https://localhost:8080/"
        },
        "id": "hzdVeDtbb3Ei",
        "outputId": "eb80bf74-7076-435e-e33c-a2f0ead2c62e"
      },
      "outputs": [
        {
          "output_type": "execute_result",
          "data": {
            "text/plain": [
              "0.9211968282034851"
            ]
          },
          "metadata": {},
          "execution_count": 46
        }
      ],
      "source": [
        "explained_variance_score(y_test,predictions) #Calcula la covarianza en y_test (real) y la predicción, cuanto más cercano a 1 mejor (significa que conforme más aumenta o disminuye el valor real, más aumenta o disminuye el valor predecido)"
      ]
    },
    {
      "cell_type": "code",
      "execution_count": 47,
      "metadata": {
        "colab": {
          "base_uri": "https://localhost:8080/"
        },
        "id": "IY0Jnn7jb3Ej",
        "outputId": "86063536-4330-413c-fc55-36d037c59d2a"
      },
      "outputs": [
        {
          "output_type": "execute_result",
          "data": {
            "text/plain": [
              "0.17094333751259616"
            ]
          },
          "metadata": {},
          "execution_count": 47
        }
      ],
      "source": [
        "mean_absolute_error(y_test,predictions)/df['buy_price'].mean() #¿En qué porcentaje nos estamos equivaocando respecto al valor medio?"
      ]
    },
    {
      "cell_type": "code",
      "execution_count": 48,
      "metadata": {
        "colab": {
          "base_uri": "https://localhost:8080/"
        },
        "id": "V6XUyZkub3Ej",
        "outputId": "6354e601-fabf-4cdb-db8a-65cdf9645d84"
      },
      "outputs": [
        {
          "output_type": "execute_result",
          "data": {
            "text/plain": [
              "0.28457222830886175"
            ]
          },
          "metadata": {},
          "execution_count": 48
        }
      ],
      "source": [
        "mean_absolute_error(y_test,predictions)/df['buy_price'].median() #¿En qué porcentaje nos estamos equivaocando respecto al valor mediana?"
      ]
    },
    {
      "cell_type": "code",
      "execution_count": 49,
      "metadata": {
        "colab": {
          "base_uri": "https://localhost:8080/",
          "height": 307
        },
        "id": "Lm_DDPAhb3Ej",
        "outputId": "6a418c35-0659-4eb9-e162-97e95aa2bdd2"
      },
      "outputs": [
        {
          "output_type": "execute_result",
          "data": {
            "text/plain": [
              "[<matplotlib.lines.Line2D at 0x7fd70eb00d50>]"
            ]
          },
          "metadata": {},
          "execution_count": 49
        },
        {
          "output_type": "display_data",
          "data": {
            "text/plain": [
              "<Figure size 432x288 with 1 Axes>"
            ],
            "image/png": "[encoded data removed]"
          },
          "metadata": {
            "needs_background": "light"
          }
        }
      ],
      "source": [
        "# Visualizar nuestra predicción\n",
        "plt.scatter(y_test,predictions)\n",
        "plt.xlabel(\"Valor Real\")\n",
        "plt.ylabel(\"Predicción\")\n",
        "\n",
        "# Predicción perfecta\n",
        "plt.plot(y_test,y_test,'r')"
      ]
    },
    {
      "cell_type": "code",
      "execution_count": 50,
      "metadata": {
        "id": "hxWMfd5Fb3Ek"
      },
      "outputs": [],
      "source": [
        "errors = y_test.values.reshape(y_test.shape[0], 1) - predictions #rotar y_test para poder comparar con predictions"
      ]
    },
    {
      "cell_type": "code",
      "execution_count": 51,
      "metadata": {
        "colab": {
          "base_uri": "https://localhost:8080/",
          "height": 361
        },
        "id": "8E1IeCMpb3Ek",
        "outputId": "01070e5f-f45f-447c-e6d0-f48d2b0e9e44"
      },
      "outputs": [
        {
          "output_type": "stream",
          "name": "stderr",
          "text": [
            "/usr/local/lib/python3.7/dist-packages/seaborn/distributions.py:2619: FutureWarning: `distplot` is a deprecated function and will be removed in a future version. Please adapt your code to use either `displot` (a figure-level function with similar flexibility) or `histplot` (an axes-level function for histograms).\n",
            "  warnings.warn(msg, FutureWarning)\n"
          ]
        },
        {
          "output_type": "execute_result",
          "data": {
            "text/plain": [
              "<matplotlib.axes._subplots.AxesSubplot at 0x7fd70b543890>"
            ]
          },
          "metadata": {},
          "execution_count": 51
        },
        {
          "output_type": "display_data",
          "data": {
            "text/plain": [
              "<Figure size 432x288 with 1 Axes>"
            ],
            "image/png": "[encoded data removed]"
          },
          "metadata": {
            "needs_background": "light"
          }
        }
      ],
      "source": [
        "sns.distplot(errors) #Idealmente debe estar concentrado el error en 0"
      ]
    },
    {
      "cell_type": "markdown",
      "metadata": {
        "id": "ii_rB512b3El"
      },
      "source": [
        "## 8.2 Predicción sobre nuevos datos"
      ]
    },
    {
      "cell_type": "code",
      "execution_count": null,
      "metadata": {
        "id": "gaB7fEUeb3El"
      },
      "outputs": [],
      "source": [
        "#Lectura datos a predecir\n",
        "df_pred = pd.read_excel('./viviendas_Madrid.xlsx',sheet_name='Datos_Predecir')"
      ]
    },
    {
      "cell_type": "code",
      "execution_count": null,
      "metadata": {
        "id": "pYwG9U3Cb3Em",
        "outputId": "b0bffffd-14ea-411a-a2e5-557cf0692adf"
      },
      "outputs": [
        {
          "data": {
            "text/html": [
              "<div>\n",
              "<style scoped>\n",
              "    .dataframe tbody tr th:only-of-type {\n",
              "        vertical-align: middle;\n",
              "    }\n",
              "\n",
              "    .dataframe tbody tr th {\n",
              "        vertical-align: top;\n",
              "    }\n",
              "\n",
              "    .dataframe thead th {\n",
              "        text-align: right;\n",
              "    }\n",
              "</style>\n",
              "<table border=\"1\" class=\"dataframe\">\n",
              "  <thead>\n",
              "    <tr style=\"text-align: right;\">\n",
              "      <th></th>\n",
              "      <th>sq_mt_built</th>\n",
              "      <th>n_rooms</th>\n",
              "      <th>n_bathrooms</th>\n",
              "      <th>is_floor_under</th>\n",
              "      <th>rent_price</th>\n",
              "      <th>buy_price</th>\n",
              "      <th>is_new_development</th>\n",
              "      <th>has_parking</th>\n",
              "    </tr>\n",
              "  </thead>\n",
              "  <tbody>\n",
              "    <tr>\n",
              "      <th>0</th>\n",
              "      <td>65</td>\n",
              "      <td>2</td>\n",
              "      <td>1.0</td>\n",
              "      <td>False</td>\n",
              "      <td>420</td>\n",
              "      <td>NaN</td>\n",
              "      <td>False</td>\n",
              "      <td>False</td>\n",
              "    </tr>\n",
              "    <tr>\n",
              "      <th>1</th>\n",
              "      <td>72</td>\n",
              "      <td>3</td>\n",
              "      <td>1.0</td>\n",
              "      <td>False</td>\n",
              "      <td>650</td>\n",
              "      <td>NaN</td>\n",
              "      <td>False</td>\n",
              "      <td>False</td>\n",
              "    </tr>\n",
              "    <tr>\n",
              "      <th>2</th>\n",
              "      <td>97</td>\n",
              "      <td>2</td>\n",
              "      <td>2.0</td>\n",
              "      <td>False</td>\n",
              "      <td>730</td>\n",
              "      <td>NaN</td>\n",
              "      <td>False</td>\n",
              "      <td>False</td>\n",
              "    </tr>\n",
              "    <tr>\n",
              "      <th>3</th>\n",
              "      <td>63</td>\n",
              "      <td>2</td>\n",
              "      <td>1.0</td>\n",
              "      <td>True</td>\n",
              "      <td>590</td>\n",
              "      <td>NaN</td>\n",
              "      <td>False</td>\n",
              "      <td>False</td>\n",
              "    </tr>\n",
              "    <tr>\n",
              "      <th>4</th>\n",
              "      <td>107</td>\n",
              "      <td>2</td>\n",
              "      <td>2.0</td>\n",
              "      <td>False</td>\n",
              "      <td>1000</td>\n",
              "      <td>NaN</td>\n",
              "      <td>False</td>\n",
              "      <td>True</td>\n",
              "    </tr>\n",
              "    <tr>\n",
              "      <th>5</th>\n",
              "      <td>125</td>\n",
              "      <td>4</td>\n",
              "      <td>2.0</td>\n",
              "      <td>False</td>\n",
              "      <td>890</td>\n",
              "      <td>NaN</td>\n",
              "      <td>False</td>\n",
              "      <td>True</td>\n",
              "    </tr>\n",
              "    <tr>\n",
              "      <th>6</th>\n",
              "      <td>130</td>\n",
              "      <td>5</td>\n",
              "      <td>2.0</td>\n",
              "      <td>False</td>\n",
              "      <td>885</td>\n",
              "      <td>NaN</td>\n",
              "      <td>False</td>\n",
              "      <td>True</td>\n",
              "    </tr>\n",
              "    <tr>\n",
              "      <th>7</th>\n",
              "      <td>135</td>\n",
              "      <td>3</td>\n",
              "      <td>2.0</td>\n",
              "      <td>False</td>\n",
              "      <td>912</td>\n",
              "      <td>NaN</td>\n",
              "      <td>False</td>\n",
              "      <td>False</td>\n",
              "    </tr>\n",
              "    <tr>\n",
              "      <th>8</th>\n",
              "      <td>76</td>\n",
              "      <td>3</td>\n",
              "      <td>2.0</td>\n",
              "      <td>False</td>\n",
              "      <td>970</td>\n",
              "      <td>NaN</td>\n",
              "      <td>False</td>\n",
              "      <td>True</td>\n",
              "    </tr>\n",
              "    <tr>\n",
              "      <th>9</th>\n",
              "      <td>87</td>\n",
              "      <td>2</td>\n",
              "      <td>1.0</td>\n",
              "      <td>False</td>\n",
              "      <td>701</td>\n",
              "      <td>NaN</td>\n",
              "      <td>False</td>\n",
              "      <td>False</td>\n",
              "    </tr>\n",
              "  </tbody>\n",
              "</table>\n",
              "</div>"
            ],
            "text/plain": [
              "   sq_mt_built  n_rooms  n_bathrooms  is_floor_under  rent_price  buy_price  \\\n",
              "0           65        2          1.0           False         420        NaN   \n",
              "1           72        3          1.0           False         650        NaN   \n",
              "2           97        2          2.0           False         730        NaN   \n",
              "3           63        2          1.0            True         590        NaN   \n",
              "4          107        2          2.0           False        1000        NaN   \n",
              "5          125        4          2.0           False         890        NaN   \n",
              "6          130        5          2.0           False         885        NaN   \n",
              "7          135        3          2.0           False         912        NaN   \n",
              "8           76        3          2.0           False         970        NaN   \n",
              "9           87        2          1.0           False         701        NaN   \n",
              "\n",
              "   is_new_development  has_parking  \n",
              "0               False        False  \n",
              "1               False        False  \n",
              "2               False        False  \n",
              "3               False        False  \n",
              "4               False         True  \n",
              "5               False         True  \n",
              "6               False         True  \n",
              "7               False        False  \n",
              "8               False         True  \n",
              "9               False        False  "
            ]
          },
          "execution_count": 192,
          "metadata": {},
          "output_type": "execute_result"
        }
      ],
      "source": [
        "df_pred = df_pred[df.columns] #Filtramos el dataframe predicción para quedarnos con las mismas columnas de interés que el df histórico\n",
        "df_pred"
      ]
    },
    {
      "cell_type": "code",
      "execution_count": null,
      "metadata": {
        "id": "jpU4wWwRb3Em",
        "outputId": "8a5072f9-5912-49ca-bc2b-3bb46e70aec1"
      },
      "outputs": [
        {
          "data": {
            "text/html": [
              "<div>\n",
              "<style scoped>\n",
              "    .dataframe tbody tr th:only-of-type {\n",
              "        vertical-align: middle;\n",
              "    }\n",
              "\n",
              "    .dataframe tbody tr th {\n",
              "        vertical-align: top;\n",
              "    }\n",
              "\n",
              "    .dataframe thead th {\n",
              "        text-align: right;\n",
              "    }\n",
              "</style>\n",
              "<table border=\"1\" class=\"dataframe\">\n",
              "  <thead>\n",
              "    <tr style=\"text-align: right;\">\n",
              "      <th></th>\n",
              "      <th>sq_mt_built</th>\n",
              "      <th>n_rooms</th>\n",
              "      <th>n_bathrooms</th>\n",
              "      <th>is_floor_under</th>\n",
              "      <th>rent_price</th>\n",
              "      <th>is_new_development</th>\n",
              "      <th>has_parking</th>\n",
              "    </tr>\n",
              "  </thead>\n",
              "  <tbody>\n",
              "    <tr>\n",
              "      <th>0</th>\n",
              "      <td>65</td>\n",
              "      <td>2</td>\n",
              "      <td>1.0</td>\n",
              "      <td>False</td>\n",
              "      <td>420</td>\n",
              "      <td>False</td>\n",
              "      <td>False</td>\n",
              "    </tr>\n",
              "    <tr>\n",
              "      <th>1</th>\n",
              "      <td>72</td>\n",
              "      <td>3</td>\n",
              "      <td>1.0</td>\n",
              "      <td>False</td>\n",
              "      <td>650</td>\n",
              "      <td>False</td>\n",
              "      <td>False</td>\n",
              "    </tr>\n",
              "    <tr>\n",
              "      <th>2</th>\n",
              "      <td>97</td>\n",
              "      <td>2</td>\n",
              "      <td>2.0</td>\n",
              "      <td>False</td>\n",
              "      <td>730</td>\n",
              "      <td>False</td>\n",
              "      <td>False</td>\n",
              "    </tr>\n",
              "    <tr>\n",
              "      <th>3</th>\n",
              "      <td>63</td>\n",
              "      <td>2</td>\n",
              "      <td>1.0</td>\n",
              "      <td>True</td>\n",
              "      <td>590</td>\n",
              "      <td>False</td>\n",
              "      <td>False</td>\n",
              "    </tr>\n",
              "    <tr>\n",
              "      <th>4</th>\n",
              "      <td>107</td>\n",
              "      <td>2</td>\n",
              "      <td>2.0</td>\n",
              "      <td>False</td>\n",
              "      <td>1000</td>\n",
              "      <td>False</td>\n",
              "      <td>True</td>\n",
              "    </tr>\n",
              "    <tr>\n",
              "      <th>5</th>\n",
              "      <td>125</td>\n",
              "      <td>4</td>\n",
              "      <td>2.0</td>\n",
              "      <td>False</td>\n",
              "      <td>890</td>\n",
              "      <td>False</td>\n",
              "      <td>True</td>\n",
              "    </tr>\n",
              "    <tr>\n",
              "      <th>6</th>\n",
              "      <td>130</td>\n",
              "      <td>5</td>\n",
              "      <td>2.0</td>\n",
              "      <td>False</td>\n",
              "      <td>885</td>\n",
              "      <td>False</td>\n",
              "      <td>True</td>\n",
              "    </tr>\n",
              "    <tr>\n",
              "      <th>7</th>\n",
              "      <td>135</td>\n",
              "      <td>3</td>\n",
              "      <td>2.0</td>\n",
              "      <td>False</td>\n",
              "      <td>912</td>\n",
              "      <td>False</td>\n",
              "      <td>False</td>\n",
              "    </tr>\n",
              "    <tr>\n",
              "      <th>8</th>\n",
              "      <td>76</td>\n",
              "      <td>3</td>\n",
              "      <td>2.0</td>\n",
              "      <td>False</td>\n",
              "      <td>970</td>\n",
              "      <td>False</td>\n",
              "      <td>True</td>\n",
              "    </tr>\n",
              "    <tr>\n",
              "      <th>9</th>\n",
              "      <td>87</td>\n",
              "      <td>2</td>\n",
              "      <td>1.0</td>\n",
              "      <td>False</td>\n",
              "      <td>701</td>\n",
              "      <td>False</td>\n",
              "      <td>False</td>\n",
              "    </tr>\n",
              "  </tbody>\n",
              "</table>\n",
              "</div>"
            ],
            "text/plain": [
              "   sq_mt_built  n_rooms  n_bathrooms  is_floor_under  rent_price  \\\n",
              "0           65        2          1.0           False         420   \n",
              "1           72        3          1.0           False         650   \n",
              "2           97        2          2.0           False         730   \n",
              "3           63        2          1.0            True         590   \n",
              "4          107        2          2.0           False        1000   \n",
              "5          125        4          2.0           False         890   \n",
              "6          130        5          2.0           False         885   \n",
              "7          135        3          2.0           False         912   \n",
              "8           76        3          2.0           False         970   \n",
              "9           87        2          1.0           False         701   \n",
              "\n",
              "   is_new_development  has_parking  \n",
              "0               False        False  \n",
              "1               False        False  \n",
              "2               False        False  \n",
              "3               False        False  \n",
              "4               False         True  \n",
              "5               False         True  \n",
              "6               False         True  \n",
              "7               False        False  \n",
              "8               False         True  \n",
              "9               False        False  "
            ]
          },
          "execution_count": 193,
          "metadata": {},
          "output_type": "execute_result"
        }
      ],
      "source": [
        "X_pred = df_pred.drop('buy_price',axis=1) #Eliminamos la columna objetivo (vacía) si la hubiera en nuestro df con los datos a predecir\n",
        "X_pred"
      ]
    },
    {
      "cell_type": "code",
      "execution_count": null,
      "metadata": {
        "id": "bKQSEFL1b3En",
        "outputId": "b62226dd-7d52-424e-8ec8-ed62d6b44ea7"
      },
      "outputs": [
        {
          "data": {
            "text/plain": [
              "array([[0.04989817, 0.08333333, 0.        , 0.        , 0.03199109,\n",
              "        0.        , 0.        ],\n",
              "       [0.05702648, 0.125     , 0.        , 0.        , 0.05029445,\n",
              "        0.        , 0.        ],\n",
              "       [0.08248473, 0.08333333, 0.07692308, 0.        , 0.05666083,\n",
              "        0.        , 0.        ],\n",
              "       [0.04786151, 0.08333333, 0.        , 1.        , 0.04551966,\n",
              "        0.        , 0.        ],\n",
              "       [0.09266802, 0.08333333, 0.07692308, 0.        , 0.07814738,\n",
              "        0.        , 1.        ],\n",
              "       [0.11099796, 0.16666667, 0.07692308, 0.        , 0.0693936 ,\n",
              "        0.        , 1.        ],\n",
              "       [0.11608961, 0.20833333, 0.07692308, 0.        , 0.0689957 ,\n",
              "        0.        , 1.        ],\n",
              "       [0.12118126, 0.125     , 0.07692308, 0.        , 0.07114436,\n",
              "        0.        , 0.        ],\n",
              "       [0.0610998 , 0.125     , 0.07692308, 0.        , 0.07575999,\n",
              "        0.        , 1.        ],\n",
              "       [0.07230143, 0.08333333, 0.        , 0.        , 0.05435302,\n",
              "        0.        , 0.        ]])"
            ]
          },
          "execution_count": 194,
          "metadata": {},
          "output_type": "execute_result"
        }
      ],
      "source": [
        "X_pred = scaler.transform(X_pred)\n",
        "X_pred"
      ]
    },
    {
      "cell_type": "code",
      "execution_count": null,
      "metadata": {
        "id": "2z_OKgXRb3En",
        "outputId": "8e994b66-1614-472a-b345-34dbfc8f5598"
      },
      "outputs": [
        {
          "data": {
            "text/plain": [
              "array([[ 31713.75],\n",
              "       [102454.17],\n",
              "       [223453.39],\n",
              "       [115247.46],\n",
              "       [327030.9 ],\n",
              "       [278722.7 ],\n",
              "       [267162.56],\n",
              "       [312277.56],\n",
              "       [266956.78],\n",
              "       [151908.66]], dtype=float32)"
            ]
          },
          "execution_count": 195,
          "metadata": {},
          "output_type": "execute_result"
        }
      ],
      "source": [
        "#Realizamos predicción\n",
        "resultado = model.predict(X_pred)\n",
        "resultado"
      ]
    },
    {
      "cell_type": "code",
      "execution_count": null,
      "metadata": {
        "scrolled": true,
        "id": "k6L7QMERb3Eo",
        "outputId": "62bda7ff-8bb7-4fcd-e009-52bbe87e5fef"
      },
      "outputs": [
        {
          "data": {
            "text/html": [
              "<div>\n",
              "<style scoped>\n",
              "    .dataframe tbody tr th:only-of-type {\n",
              "        vertical-align: middle;\n",
              "    }\n",
              "\n",
              "    .dataframe tbody tr th {\n",
              "        vertical-align: top;\n",
              "    }\n",
              "\n",
              "    .dataframe thead th {\n",
              "        text-align: right;\n",
              "    }\n",
              "</style>\n",
              "<table border=\"1\" class=\"dataframe\">\n",
              "  <thead>\n",
              "    <tr style=\"text-align: right;\">\n",
              "      <th></th>\n",
              "      <th>sq_mt_built</th>\n",
              "      <th>n_rooms</th>\n",
              "      <th>n_bathrooms</th>\n",
              "      <th>is_floor_under</th>\n",
              "      <th>rent_price</th>\n",
              "      <th>buy_price</th>\n",
              "      <th>is_new_development</th>\n",
              "      <th>has_parking</th>\n",
              "      <th>PREDICCIÓN</th>\n",
              "    </tr>\n",
              "  </thead>\n",
              "  <tbody>\n",
              "    <tr>\n",
              "      <th>0</th>\n",
              "      <td>65</td>\n",
              "      <td>2</td>\n",
              "      <td>1.0</td>\n",
              "      <td>False</td>\n",
              "      <td>420</td>\n",
              "      <td>NaN</td>\n",
              "      <td>False</td>\n",
              "      <td>False</td>\n",
              "      <td>31713.750000</td>\n",
              "    </tr>\n",
              "    <tr>\n",
              "      <th>1</th>\n",
              "      <td>72</td>\n",
              "      <td>3</td>\n",
              "      <td>1.0</td>\n",
              "      <td>False</td>\n",
              "      <td>650</td>\n",
              "      <td>NaN</td>\n",
              "      <td>False</td>\n",
              "      <td>False</td>\n",
              "      <td>102454.171875</td>\n",
              "    </tr>\n",
              "    <tr>\n",
              "      <th>2</th>\n",
              "      <td>97</td>\n",
              "      <td>2</td>\n",
              "      <td>2.0</td>\n",
              "      <td>False</td>\n",
              "      <td>730</td>\n",
              "      <td>NaN</td>\n",
              "      <td>False</td>\n",
              "      <td>False</td>\n",
              "      <td>223453.390625</td>\n",
              "    </tr>\n",
              "    <tr>\n",
              "      <th>3</th>\n",
              "      <td>63</td>\n",
              "      <td>2</td>\n",
              "      <td>1.0</td>\n",
              "      <td>True</td>\n",
              "      <td>590</td>\n",
              "      <td>NaN</td>\n",
              "      <td>False</td>\n",
              "      <td>False</td>\n",
              "      <td>115247.460938</td>\n",
              "    </tr>\n",
              "    <tr>\n",
              "      <th>4</th>\n",
              "      <td>107</td>\n",
              "      <td>2</td>\n",
              "      <td>2.0</td>\n",
              "      <td>False</td>\n",
              "      <td>1000</td>\n",
              "      <td>NaN</td>\n",
              "      <td>False</td>\n",
              "      <td>True</td>\n",
              "      <td>327030.906250</td>\n",
              "    </tr>\n",
              "    <tr>\n",
              "      <th>5</th>\n",
              "      <td>125</td>\n",
              "      <td>4</td>\n",
              "      <td>2.0</td>\n",
              "      <td>False</td>\n",
              "      <td>890</td>\n",
              "      <td>NaN</td>\n",
              "      <td>False</td>\n",
              "      <td>True</td>\n",
              "      <td>278722.687500</td>\n",
              "    </tr>\n",
              "    <tr>\n",
              "      <th>6</th>\n",
              "      <td>130</td>\n",
              "      <td>5</td>\n",
              "      <td>2.0</td>\n",
              "      <td>False</td>\n",
              "      <td>885</td>\n",
              "      <td>NaN</td>\n",
              "      <td>False</td>\n",
              "      <td>True</td>\n",
              "      <td>267162.562500</td>\n",
              "    </tr>\n",
              "    <tr>\n",
              "      <th>7</th>\n",
              "      <td>135</td>\n",
              "      <td>3</td>\n",
              "      <td>2.0</td>\n",
              "      <td>False</td>\n",
              "      <td>912</td>\n",
              "      <td>NaN</td>\n",
              "      <td>False</td>\n",
              "      <td>False</td>\n",
              "      <td>312277.562500</td>\n",
              "    </tr>\n",
              "    <tr>\n",
              "      <th>8</th>\n",
              "      <td>76</td>\n",
              "      <td>3</td>\n",
              "      <td>2.0</td>\n",
              "      <td>False</td>\n",
              "      <td>970</td>\n",
              "      <td>NaN</td>\n",
              "      <td>False</td>\n",
              "      <td>True</td>\n",
              "      <td>266956.781250</td>\n",
              "    </tr>\n",
              "    <tr>\n",
              "      <th>9</th>\n",
              "      <td>87</td>\n",
              "      <td>2</td>\n",
              "      <td>1.0</td>\n",
              "      <td>False</td>\n",
              "      <td>701</td>\n",
              "      <td>NaN</td>\n",
              "      <td>False</td>\n",
              "      <td>False</td>\n",
              "      <td>151908.656250</td>\n",
              "    </tr>\n",
              "  </tbody>\n",
              "</table>\n",
              "</div>"
            ],
            "text/plain": [
              "   sq_mt_built  n_rooms  n_bathrooms  is_floor_under  rent_price  buy_price  \\\n",
              "0           65        2          1.0           False         420        NaN   \n",
              "1           72        3          1.0           False         650        NaN   \n",
              "2           97        2          2.0           False         730        NaN   \n",
              "3           63        2          1.0            True         590        NaN   \n",
              "4          107        2          2.0           False        1000        NaN   \n",
              "5          125        4          2.0           False         890        NaN   \n",
              "6          130        5          2.0           False         885        NaN   \n",
              "7          135        3          2.0           False         912        NaN   \n",
              "8           76        3          2.0           False         970        NaN   \n",
              "9           87        2          1.0           False         701        NaN   \n",
              "\n",
              "   is_new_development  has_parking     PREDICCIÓN  \n",
              "0               False        False   31713.750000  \n",
              "1               False        False  102454.171875  \n",
              "2               False        False  223453.390625  \n",
              "3               False        False  115247.460938  \n",
              "4               False         True  327030.906250  \n",
              "5               False         True  278722.687500  \n",
              "6               False         True  267162.562500  \n",
              "7               False        False  312277.562500  \n",
              "8               False         True  266956.781250  \n",
              "9               False        False  151908.656250  "
            ]
          },
          "execution_count": 196,
          "metadata": {},
          "output_type": "execute_result"
        }
      ],
      "source": [
        "#Unimos en un dataframe los datos a predecir con su predicción\n",
        "df_pred['PREDICCIÓN']=pd.DataFrame(resultado)\n",
        "df_pred"
      ]
    },
    {
      "cell_type": "code",
      "execution_count": null,
      "metadata": {
        "id": "9OVP7MMob3Ep"
      },
      "outputs": [],
      "source": [
        "#Guardar y cargar el modelo para posterior uso"
      ]
    },
    {
      "cell_type": "code",
      "execution_count": null,
      "metadata": {
        "id": "cE5jYY4Xb3Ep"
      },
      "outputs": [],
      "source": [
        "from tensorflow.keras.models import load_model"
      ]
    },
    {
      "cell_type": "code",
      "execution_count": null,
      "metadata": {
        "id": "cFbui8PSb3Ep"
      },
      "outputs": [],
      "source": [
        "model.save('modelo_pred_vivienda.h5')"
      ]
    },
    {
      "cell_type": "code",
      "execution_count": null,
      "metadata": {
        "id": "lmnLOtVhb3Eq"
      },
      "outputs": [],
      "source": [
        "#Cargar modelo para posterior uso"
      ]
    },
    {
      "cell_type": "code",
      "execution_count": null,
      "metadata": {
        "id": "7jHxoby9b3Eq"
      },
      "outputs": [],
      "source": [
        "modelo_cargado = load_model('modelo_pred_vivienda.h5')"
      ]
    }
  ],
  "metadata": {
    "kernelspec": {
      "display_name": "Python 3",
      "language": "python",
      "name": "python3"
    },
    "language_info": {
      "codemirror_mode": {
        "name": "ipython",
        "version": 3
      },
      "file_extension": ".py",
      "mimetype": "text/x-python",
      "name": "python",
      "nbconvert_exporter": "python",
      "pygments_lexer": "ipython3",
      "version": "3.8.3"
    },
    "colab": {
      "provenance": [],
      "include_colab_link": true
    }
  },
  "nbformat": 4,
  "nbformat_minor": 0
}