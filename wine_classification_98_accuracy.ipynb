{
  "cells": [
    {
      "cell_type": "markdown",
      "metadata": {
        "id": "view-in-github",
        "colab_type": "text"
      },
      "source": [
        "<a href=\"https://colab.research.google.com/github/jcjimenezb123/PFM_PronosticoDemanda/blob/master/wine_classification_98_accuracy.ipynb\" target=\"_parent\"><img src=\"https://colab.research.google.com/assets/colab-badge.svg\" alt=\"Open In Colab\"/></a>"
      ]
    },
    {
      "cell_type": "markdown",
      "id": "79670dc8",
      "metadata": {
        "id": "79670dc8",
        "papermill": {
          "duration": 0.036827,
          "end_time": "2022-11-23T16:59:16.238315",
          "exception": false,
          "start_time": "2022-11-23T16:59:16.201488",
          "status": "completed"
        },
        "tags": []
      },
      "source": [
        "## Importing Libraries"
      ]
    },
    {
      "cell_type": "code",
      "execution_count": 1,
      "id": "3cd6d9d8",
      "metadata": {
        "execution": {
          "iopub.execute_input": "2022-11-23T16:59:16.323481Z",
          "iopub.status.busy": "2022-11-23T16:59:16.322668Z",
          "iopub.status.idle": "2022-11-23T16:59:17.385385Z",
          "shell.execute_reply": "2022-11-23T16:59:17.384441Z",
          "shell.execute_reply.started": "2021-10-12T12:15:24.939611Z"
        },
        "id": "3cd6d9d8",
        "papermill": {
          "duration": 1.108595,
          "end_time": "2022-11-23T16:59:17.385615",
          "exception": false,
          "start_time": "2022-11-23T16:59:16.277020",
          "status": "completed"
        },
        "tags": []
      },
      "outputs": [],
      "source": [
        "import numpy as np\n",
        "import pandas as pd\n",
        "import matplotlib.pyplot as plt\n",
        "import seaborn as sns\n",
        "%matplotlib inline\n"
      ]
    },
    {
      "cell_type": "markdown",
      "id": "62eb1648",
      "metadata": {
        "id": "62eb1648",
        "papermill": {
          "duration": 0.033286,
          "end_time": "2022-11-23T16:59:17.454885",
          "exception": false,
          "start_time": "2022-11-23T16:59:17.421599",
          "status": "completed"
        },
        "tags": []
      },
      "source": [
        "## Loading Dataset"
      ]
    },
    {
      "cell_type": "code",
      "execution_count": 2,
      "id": "b232d303",
      "metadata": {
        "execution": {
          "iopub.execute_input": "2022-11-23T16:59:17.531103Z",
          "iopub.status.busy": "2022-11-23T16:59:17.526952Z",
          "iopub.status.idle": "2022-11-23T16:59:17.551918Z",
          "shell.execute_reply": "2022-11-23T16:59:17.552511Z",
          "shell.execute_reply.started": "2021-10-12T12:15:24.949688Z"
        },
        "id": "b232d303",
        "papermill": {
          "duration": 0.063717,
          "end_time": "2022-11-23T16:59:17.552739",
          "exception": false,
          "start_time": "2022-11-23T16:59:17.489022",
          "status": "completed"
        },
        "tags": []
      },
      "outputs": [],
      "source": [
        "dataset = pd.read_csv(\"train.csv\")"
      ]
    },
    {
      "cell_type": "code",
      "execution_count": 3,
      "id": "d57e8de0",
      "metadata": {
        "execution": {
          "iopub.execute_input": "2022-11-23T16:59:17.630369Z",
          "iopub.status.busy": "2022-11-23T16:59:17.629570Z",
          "iopub.status.idle": "2022-11-23T16:59:17.654512Z",
          "shell.execute_reply": "2022-11-23T16:59:17.655078Z",
          "shell.execute_reply.started": "2021-10-12T12:15:24.977467Z"
        },
        "id": "d57e8de0",
        "outputId": "3033c2bd-5b8d-4a4c-e779-ab19b589f411",
        "papermill": {
          "duration": 0.067836,
          "end_time": "2022-11-23T16:59:17.655291",
          "exception": false,
          "start_time": "2022-11-23T16:59:17.587455",
          "status": "completed"
        },
        "tags": [],
        "colab": {
          "base_uri": "https://localhost:8080/",
          "height": 270
        }
      },
      "outputs": [
        {
          "output_type": "execute_result",
          "data": {
            "text/plain": [
              "   id  alcohol  malic_acid   ash  alcalinity_of_ash  magnesium  total_phenols  \\\n",
              "0   0    13.05        0.40  2.40              21.68      71.79           2.33   \n",
              "1   1    13.01        3.66  2.21              16.53      98.87           2.46   \n",
              "2   2    13.13        1.14  2.32              18.75     108.51           2.63   \n",
              "3   3    12.06        1.41  2.04              16.58      73.52           0.84   \n",
              "4   4    12.35        1.14  1.91              19.52      77.65           2.09   \n",
              "\n",
              "   flavanoids  nonflavanoid_phenols  proanthocyanins  color_intensity   hue  \\\n",
              "0        1.87                  0.09             1.30         1.070000  1.13   \n",
              "1        2.34                  0.28             1.49         3.690000  0.75   \n",
              "2        2.26                  0.13             2.15         5.030000  0.86   \n",
              "3       -0.36                  0.37             0.14         7.869999  0.37   \n",
              "4        1.98                  0.27             1.03         4.620000  1.11   \n",
              "\n",
              "   od280/od315_of_diluted_wines  proline  target  \n",
              "0                          2.45    96.79       1  \n",
              "1                          2.79   588.86       0  \n",
              "2                          2.66   954.80       0  \n",
              "3                          1.01   194.88       2  \n",
              "4                          3.46   502.23       1  "
            ],
            "text/html": [
              "\n",
              "  <div id=\"df-54b0c5bb-5d28-46ad-abbc-ac3b0068a338\">\n",
              "    <div class=\"colab-df-container\">\n",
              "      <div>\n",
              "<style scoped>\n",
              "    .dataframe tbody tr th:only-of-type {\n",
              "        vertical-align: middle;\n",
              "    }\n",
              "\n",
              "    .dataframe tbody tr th {\n",
              "        vertical-align: top;\n",
              "    }\n",
              "\n",
              "    .dataframe thead th {\n",
              "        text-align: right;\n",
              "    }\n",
              "</style>\n",
              "<table border=\"1\" class=\"dataframe\">\n",
              "  <thead>\n",
              "    <tr style=\"text-align: right;\">\n",
              "      <th></th>\n",
              "      <th>id</th>\n",
              "      <th>alcohol</th>\n",
              "      <th>malic_acid</th>\n",
              "      <th>ash</th>\n",
              "      <th>alcalinity_of_ash</th>\n",
              "      <th>magnesium</th>\n",
              "      <th>total_phenols</th>\n",
              "      <th>flavanoids</th>\n",
              "      <th>nonflavanoid_phenols</th>\n",
              "      <th>proanthocyanins</th>\n",
              "      <th>color_intensity</th>\n",
              "      <th>hue</th>\n",
              "      <th>od280/od315_of_diluted_wines</th>\n",
              "      <th>proline</th>\n",
              "      <th>target</th>\n",
              "    </tr>\n",
              "  </thead>\n",
              "  <tbody>\n",
              "    <tr>\n",
              "      <th>0</th>\n",
              "      <td>0</td>\n",
              "      <td>13.05</td>\n",
              "      <td>0.40</td>\n",
              "      <td>2.40</td>\n",
              "      <td>21.68</td>\n",
              "      <td>71.79</td>\n",
              "      <td>2.33</td>\n",
              "      <td>1.87</td>\n",
              "      <td>0.09</td>\n",
              "      <td>1.30</td>\n",
              "      <td>1.070000</td>\n",
              "      <td>1.13</td>\n",
              "      <td>2.45</td>\n",
              "      <td>96.79</td>\n",
              "      <td>1</td>\n",
              "    </tr>\n",
              "    <tr>\n",
              "      <th>1</th>\n",
              "      <td>1</td>\n",
              "      <td>13.01</td>\n",
              "      <td>3.66</td>\n",
              "      <td>2.21</td>\n",
              "      <td>16.53</td>\n",
              "      <td>98.87</td>\n",
              "      <td>2.46</td>\n",
              "      <td>2.34</td>\n",
              "      <td>0.28</td>\n",
              "      <td>1.49</td>\n",
              "      <td>3.690000</td>\n",
              "      <td>0.75</td>\n",
              "      <td>2.79</td>\n",
              "      <td>588.86</td>\n",
              "      <td>0</td>\n",
              "    </tr>\n",
              "    <tr>\n",
              "      <th>2</th>\n",
              "      <td>2</td>\n",
              "      <td>13.13</td>\n",
              "      <td>1.14</td>\n",
              "      <td>2.32</td>\n",
              "      <td>18.75</td>\n",
              "      <td>108.51</td>\n",
              "      <td>2.63</td>\n",
              "      <td>2.26</td>\n",
              "      <td>0.13</td>\n",
              "      <td>2.15</td>\n",
              "      <td>5.030000</td>\n",
              "      <td>0.86</td>\n",
              "      <td>2.66</td>\n",
              "      <td>954.80</td>\n",
              "      <td>0</td>\n",
              "    </tr>\n",
              "    <tr>\n",
              "      <th>3</th>\n",
              "      <td>3</td>\n",
              "      <td>12.06</td>\n",
              "      <td>1.41</td>\n",
              "      <td>2.04</td>\n",
              "      <td>16.58</td>\n",
              "      <td>73.52</td>\n",
              "      <td>0.84</td>\n",
              "      <td>-0.36</td>\n",
              "      <td>0.37</td>\n",
              "      <td>0.14</td>\n",
              "      <td>7.869999</td>\n",
              "      <td>0.37</td>\n",
              "      <td>1.01</td>\n",
              "      <td>194.88</td>\n",
              "      <td>2</td>\n",
              "    </tr>\n",
              "    <tr>\n",
              "      <th>4</th>\n",
              "      <td>4</td>\n",
              "      <td>12.35</td>\n",
              "      <td>1.14</td>\n",
              "      <td>1.91</td>\n",
              "      <td>19.52</td>\n",
              "      <td>77.65</td>\n",
              "      <td>2.09</td>\n",
              "      <td>1.98</td>\n",
              "      <td>0.27</td>\n",
              "      <td>1.03</td>\n",
              "      <td>4.620000</td>\n",
              "      <td>1.11</td>\n",
              "      <td>3.46</td>\n",
              "      <td>502.23</td>\n",
              "      <td>1</td>\n",
              "    </tr>\n",
              "  </tbody>\n",
              "</table>\n",
              "</div>\n",
              "      <button class=\"colab-df-convert\" onclick=\"convertToInteractive('df-54b0c5bb-5d28-46ad-abbc-ac3b0068a338')\"\n",
              "              title=\"Convert this dataframe to an interactive table.\"\n",
              "              style=\"display:none;\">\n",
              "        \n",
              "  <svg xmlns=\"http://www.w3.org/2000/svg\" height=\"24px\"viewBox=\"0 0 24 24\"\n",
              "       width=\"24px\">\n",
              "    <path d=\"M0 0h24v24H0V0z\" fill=\"none\"/>\n",
              "    <path d=\"M18.56 5.44l.94 2.06.94-2.06 2.06-.94-2.06-.94-.94-2.06-.94 2.06-2.06.94zm-11 1L8.5 8.5l.94-2.06 2.06-.94-2.06-.94L8.5 2.5l-.94 2.06-2.06.94zm10 10l.94 2.06.94-2.06 2.06-.94-2.06-.94-.94-2.06-.94 2.06-2.06.94z\"/><path d=\"M17.41 7.96l-1.37-1.37c-.4-.4-.92-.59-1.43-.59-.52 0-1.04.2-1.43.59L10.3 9.45l-7.72 7.72c-.78.78-.78 2.05 0 2.83L4 21.41c.39.39.9.59 1.41.59.51 0 1.02-.2 1.41-.59l7.78-7.78 2.81-2.81c.8-.78.8-2.07 0-2.86zM5.41 20L4 18.59l7.72-7.72 1.47 1.35L5.41 20z\"/>\n",
              "  </svg>\n",
              "      </button>\n",
              "      \n",
              "  <style>\n",
              "    .colab-df-container {\n",
              "      display:flex;\n",
              "      flex-wrap:wrap;\n",
              "      gap: 12px;\n",
              "    }\n",
              "\n",
              "    .colab-df-convert {\n",
              "      background-color: #E8F0FE;\n",
              "      border: none;\n",
              "      border-radius: 50%;\n",
              "      cursor: pointer;\n",
              "      display: none;\n",
              "      fill: #1967D2;\n",
              "      height: 32px;\n",
              "      padding: 0 0 0 0;\n",
              "      width: 32px;\n",
              "    }\n",
              "\n",
              "    .colab-df-convert:hover {\n",
              "      background-color: #E2EBFA;\n",
              "      box-shadow: 0px 1px 2px rgba(60, 64, 67, 0.3), 0px 1px 3px 1px rgba(60, 64, 67, 0.15);\n",
              "      fill: #174EA6;\n",
              "    }\n",
              "\n",
              "    [theme=dark] .colab-df-convert {\n",
              "      background-color: #3B4455;\n",
              "      fill: #D2E3FC;\n",
              "    }\n",
              "\n",
              "    [theme=dark] .colab-df-convert:hover {\n",
              "      background-color: #434B5C;\n",
              "      box-shadow: 0px 1px 3px 1px rgba(0, 0, 0, 0.15);\n",
              "      filter: drop-shadow(0px 1px 2px rgba(0, 0, 0, 0.3));\n",
              "      fill: #FFFFFF;\n",
              "    }\n",
              "  </style>\n",
              "\n",
              "      <script>\n",
              "        const buttonEl =\n",
              "          document.querySelector('#df-54b0c5bb-5d28-46ad-abbc-ac3b0068a338 button.colab-df-convert');\n",
              "        buttonEl.style.display =\n",
              "          google.colab.kernel.accessAllowed ? 'block' : 'none';\n",
              "\n",
              "        async function convertToInteractive(key) {\n",
              "          const element = document.querySelector('#df-54b0c5bb-5d28-46ad-abbc-ac3b0068a338');\n",
              "          const dataTable =\n",
              "            await google.colab.kernel.invokeFunction('convertToInteractive',\n",
              "                                                     [key], {});\n",
              "          if (!dataTable) return;\n",
              "\n",
              "          const docLinkHtml = 'Like what you see? Visit the ' +\n",
              "            '<a target=\"_blank\" href=https://colab.research.google.com/notebooks/data_table.ipynb>data table notebook</a>'\n",
              "            + ' to learn more about interactive tables.';\n",
              "          element.innerHTML = '';\n",
              "          dataTable['output_type'] = 'display_data';\n",
              "          await google.colab.output.renderOutput(dataTable, element);\n",
              "          const docLink = document.createElement('div');\n",
              "          docLink.innerHTML = docLinkHtml;\n",
              "          element.appendChild(docLink);\n",
              "        }\n",
              "      </script>\n",
              "    </div>\n",
              "  </div>\n",
              "  "
            ]
          },
          "metadata": {},
          "execution_count": 3
        }
      ],
      "source": [
        "dataset.head()"
      ]
    },
    {
      "cell_type": "code",
      "execution_count": 4,
      "id": "b5076c58",
      "metadata": {
        "execution": {
          "iopub.execute_input": "2022-11-23T16:59:17.734263Z",
          "iopub.status.busy": "2022-11-23T16:59:17.733532Z",
          "iopub.status.idle": "2022-11-23T16:59:17.758271Z",
          "shell.execute_reply": "2022-11-23T16:59:17.758949Z",
          "shell.execute_reply.started": "2021-10-12T12:15:25.006261Z"
        },
        "id": "b5076c58",
        "outputId": "822af118-d480-49be-b4b6-dbe72cf1b854",
        "papermill": {
          "duration": 0.068833,
          "end_time": "2022-11-23T16:59:17.759162",
          "exception": false,
          "start_time": "2022-11-23T16:59:17.690329",
          "status": "completed"
        },
        "tags": [],
        "colab": {
          "base_uri": "https://localhost:8080/"
        }
      },
      "outputs": [
        {
          "output_type": "stream",
          "name": "stdout",
          "text": [
            "<class 'pandas.core.frame.DataFrame'>\n",
            "RangeIndex: 534 entries, 0 to 533\n",
            "Data columns (total 15 columns):\n",
            " #   Column                        Non-Null Count  Dtype  \n",
            "---  ------                        --------------  -----  \n",
            " 0   id                            534 non-null    int64  \n",
            " 1   alcohol                       534 non-null    float64\n",
            " 2   malic_acid                    534 non-null    float64\n",
            " 3   ash                           534 non-null    float64\n",
            " 4   alcalinity_of_ash             534 non-null    float64\n",
            " 5   magnesium                     534 non-null    float64\n",
            " 6   total_phenols                 534 non-null    float64\n",
            " 7   flavanoids                    534 non-null    float64\n",
            " 8   nonflavanoid_phenols          534 non-null    float64\n",
            " 9   proanthocyanins               534 non-null    float64\n",
            " 10  color_intensity               534 non-null    float64\n",
            " 11  hue                           534 non-null    float64\n",
            " 12  od280/od315_of_diluted_wines  534 non-null    float64\n",
            " 13  proline                       534 non-null    float64\n",
            " 14  target                        534 non-null    int64  \n",
            "dtypes: float64(13), int64(2)\n",
            "memory usage: 62.7 KB\n"
          ]
        }
      ],
      "source": [
        "dataset.info()"
      ]
    },
    {
      "cell_type": "code",
      "execution_count": 5,
      "id": "75e13931",
      "metadata": {
        "execution": {
          "iopub.execute_input": "2022-11-23T16:59:17.839128Z",
          "iopub.status.busy": "2022-11-23T16:59:17.838349Z",
          "iopub.status.idle": "2022-11-23T16:59:17.889320Z",
          "shell.execute_reply": "2022-11-23T16:59:17.888580Z",
          "shell.execute_reply.started": "2021-10-12T12:15:25.030027Z"
        },
        "id": "75e13931",
        "outputId": "62037d93-9d4e-40f1-9035-404a9ff28956",
        "papermill": {
          "duration": 0.094934,
          "end_time": "2022-11-23T16:59:17.889511",
          "exception": false,
          "start_time": "2022-11-23T16:59:17.794577",
          "status": "completed"
        },
        "tags": [],
        "colab": {
          "base_uri": "https://localhost:8080/",
          "height": 364
        }
      },
      "outputs": [
        {
          "output_type": "execute_result",
          "data": {
            "text/plain": [
              "               id     alcohol  malic_acid         ash  alcalinity_of_ash  \\\n",
              "count  534.000000  534.000000  534.000000  534.000000         534.000000   \n",
              "mean   266.500000   12.596404    1.803371    2.233783          17.876180   \n",
              "std    154.296792    0.839504    1.129380    0.285172           3.376112   \n",
              "min      0.000000   10.400000   -0.270000    1.150000           7.990000   \n",
              "25%    133.250000   11.920000    0.952500    2.050000          15.800000   \n",
              "50%    266.500000   12.605000    1.450000    2.230000          17.760000   \n",
              "75%    399.750000   13.240000    2.587500    2.430000          19.877500   \n",
              "max    533.000000   14.690000    5.570000    3.200000          28.740000   \n",
              "\n",
              "        magnesium  total_phenols  flavanoids  nonflavanoid_phenols  \\\n",
              "count  534.000000     534.000000  534.000000            534.000000   \n",
              "mean    92.548633       1.996723    1.534307              0.302210   \n",
              "std     14.859507       0.652526    1.047399              0.127285   \n",
              "min     57.020000       0.630000   -0.490000              0.020000   \n",
              "25%     81.322500       1.470000    0.555000              0.210000   \n",
              "50%     90.840000       1.995000    1.590000              0.280000   \n",
              "75%    100.627500       2.510000    2.387500              0.397500   \n",
              "max    159.460000       3.840000    4.350000              0.620000   \n",
              "\n",
              "       proanthocyanins  color_intensity         hue  \\\n",
              "count       534.000000       534.000000  534.000000   \n",
              "mean          1.305693         3.889401    0.852569   \n",
              "std           0.614343         2.349626    0.243022   \n",
              "min          -0.150000        -0.370000    0.350000   \n",
              "25%           0.892500         2.062500    0.680000   \n",
              "50%           1.260000         3.680000    0.870000   \n",
              "75%           1.640000         5.080000    1.030000   \n",
              "max           3.440000        12.800000    1.690000   \n",
              "\n",
              "       od280/od315_of_diluted_wines      proline      target  \n",
              "count                    534.000000   534.000000  534.000000  \n",
              "mean                       2.266685   592.646629    0.947566  \n",
              "std                        0.740055   333.830211    0.775482  \n",
              "min                        0.640000     9.800000    0.000000  \n",
              "25%                        1.612500   352.725000    0.000000  \n",
              "50%                        2.405000   521.920000    1.000000  \n",
              "75%                        2.830000   807.565000    2.000000  \n",
              "max                        3.900000  1654.830000    2.000000  "
            ],
            "text/html": [
              "\n",
              "  <div id=\"df-2e4f7608-44b9-4d9b-9fda-7998e1144894\">\n",
              "    <div class=\"colab-df-container\">\n",
              "      <div>\n",
              "<style scoped>\n",
              "    .dataframe tbody tr th:only-of-type {\n",
              "        vertical-align: middle;\n",
              "    }\n",
              "\n",
              "    .dataframe tbody tr th {\n",
              "        vertical-align: top;\n",
              "    }\n",
              "\n",
              "    .dataframe thead th {\n",
              "        text-align: right;\n",
              "    }\n",
              "</style>\n",
              "<table border=\"1\" class=\"dataframe\">\n",
              "  <thead>\n",
              "    <tr style=\"text-align: right;\">\n",
              "      <th></th>\n",
              "      <th>id</th>\n",
              "      <th>alcohol</th>\n",
              "      <th>malic_acid</th>\n",
              "      <th>ash</th>\n",
              "      <th>alcalinity_of_ash</th>\n",
              "      <th>magnesium</th>\n",
              "      <th>total_phenols</th>\n",
              "      <th>flavanoids</th>\n",
              "      <th>nonflavanoid_phenols</th>\n",
              "      <th>proanthocyanins</th>\n",
              "      <th>color_intensity</th>\n",
              "      <th>hue</th>\n",
              "      <th>od280/od315_of_diluted_wines</th>\n",
              "      <th>proline</th>\n",
              "      <th>target</th>\n",
              "    </tr>\n",
              "  </thead>\n",
              "  <tbody>\n",
              "    <tr>\n",
              "      <th>count</th>\n",
              "      <td>534.000000</td>\n",
              "      <td>534.000000</td>\n",
              "      <td>534.000000</td>\n",
              "      <td>534.000000</td>\n",
              "      <td>534.000000</td>\n",
              "      <td>534.000000</td>\n",
              "      <td>534.000000</td>\n",
              "      <td>534.000000</td>\n",
              "      <td>534.000000</td>\n",
              "      <td>534.000000</td>\n",
              "      <td>534.000000</td>\n",
              "      <td>534.000000</td>\n",
              "      <td>534.000000</td>\n",
              "      <td>534.000000</td>\n",
              "      <td>534.000000</td>\n",
              "    </tr>\n",
              "    <tr>\n",
              "      <th>mean</th>\n",
              "      <td>266.500000</td>\n",
              "      <td>12.596404</td>\n",
              "      <td>1.803371</td>\n",
              "      <td>2.233783</td>\n",
              "      <td>17.876180</td>\n",
              "      <td>92.548633</td>\n",
              "      <td>1.996723</td>\n",
              "      <td>1.534307</td>\n",
              "      <td>0.302210</td>\n",
              "      <td>1.305693</td>\n",
              "      <td>3.889401</td>\n",
              "      <td>0.852569</td>\n",
              "      <td>2.266685</td>\n",
              "      <td>592.646629</td>\n",
              "      <td>0.947566</td>\n",
              "    </tr>\n",
              "    <tr>\n",
              "      <th>std</th>\n",
              "      <td>154.296792</td>\n",
              "      <td>0.839504</td>\n",
              "      <td>1.129380</td>\n",
              "      <td>0.285172</td>\n",
              "      <td>3.376112</td>\n",
              "      <td>14.859507</td>\n",
              "      <td>0.652526</td>\n",
              "      <td>1.047399</td>\n",
              "      <td>0.127285</td>\n",
              "      <td>0.614343</td>\n",
              "      <td>2.349626</td>\n",
              "      <td>0.243022</td>\n",
              "      <td>0.740055</td>\n",
              "      <td>333.830211</td>\n",
              "      <td>0.775482</td>\n",
              "    </tr>\n",
              "    <tr>\n",
              "      <th>min</th>\n",
              "      <td>0.000000</td>\n",
              "      <td>10.400000</td>\n",
              "      <td>-0.270000</td>\n",
              "      <td>1.150000</td>\n",
              "      <td>7.990000</td>\n",
              "      <td>57.020000</td>\n",
              "      <td>0.630000</td>\n",
              "      <td>-0.490000</td>\n",
              "      <td>0.020000</td>\n",
              "      <td>-0.150000</td>\n",
              "      <td>-0.370000</td>\n",
              "      <td>0.350000</td>\n",
              "      <td>0.640000</td>\n",
              "      <td>9.800000</td>\n",
              "      <td>0.000000</td>\n",
              "    </tr>\n",
              "    <tr>\n",
              "      <th>25%</th>\n",
              "      <td>133.250000</td>\n",
              "      <td>11.920000</td>\n",
              "      <td>0.952500</td>\n",
              "      <td>2.050000</td>\n",
              "      <td>15.800000</td>\n",
              "      <td>81.322500</td>\n",
              "      <td>1.470000</td>\n",
              "      <td>0.555000</td>\n",
              "      <td>0.210000</td>\n",
              "      <td>0.892500</td>\n",
              "      <td>2.062500</td>\n",
              "      <td>0.680000</td>\n",
              "      <td>1.612500</td>\n",
              "      <td>352.725000</td>\n",
              "      <td>0.000000</td>\n",
              "    </tr>\n",
              "    <tr>\n",
              "      <th>50%</th>\n",
              "      <td>266.500000</td>\n",
              "      <td>12.605000</td>\n",
              "      <td>1.450000</td>\n",
              "      <td>2.230000</td>\n",
              "      <td>17.760000</td>\n",
              "      <td>90.840000</td>\n",
              "      <td>1.995000</td>\n",
              "      <td>1.590000</td>\n",
              "      <td>0.280000</td>\n",
              "      <td>1.260000</td>\n",
              "      <td>3.680000</td>\n",
              "      <td>0.870000</td>\n",
              "      <td>2.405000</td>\n",
              "      <td>521.920000</td>\n",
              "      <td>1.000000</td>\n",
              "    </tr>\n",
              "    <tr>\n",
              "      <th>75%</th>\n",
              "      <td>399.750000</td>\n",
              "      <td>13.240000</td>\n",
              "      <td>2.587500</td>\n",
              "      <td>2.430000</td>\n",
              "      <td>19.877500</td>\n",
              "      <td>100.627500</td>\n",
              "      <td>2.510000</td>\n",
              "      <td>2.387500</td>\n",
              "      <td>0.397500</td>\n",
              "      <td>1.640000</td>\n",
              "      <td>5.080000</td>\n",
              "      <td>1.030000</td>\n",
              "      <td>2.830000</td>\n",
              "      <td>807.565000</td>\n",
              "      <td>2.000000</td>\n",
              "    </tr>\n",
              "    <tr>\n",
              "      <th>max</th>\n",
              "      <td>533.000000</td>\n",
              "      <td>14.690000</td>\n",
              "      <td>5.570000</td>\n",
              "      <td>3.200000</td>\n",
              "      <td>28.740000</td>\n",
              "      <td>159.460000</td>\n",
              "      <td>3.840000</td>\n",
              "      <td>4.350000</td>\n",
              "      <td>0.620000</td>\n",
              "      <td>3.440000</td>\n",
              "      <td>12.800000</td>\n",
              "      <td>1.690000</td>\n",
              "      <td>3.900000</td>\n",
              "      <td>1654.830000</td>\n",
              "      <td>2.000000</td>\n",
              "    </tr>\n",
              "  </tbody>\n",
              "</table>\n",
              "</div>\n",
              "      <button class=\"colab-df-convert\" onclick=\"convertToInteractive('df-2e4f7608-44b9-4d9b-9fda-7998e1144894')\"\n",
              "              title=\"Convert this dataframe to an interactive table.\"\n",
              "              style=\"display:none;\">\n",
              "        \n",
              "  <svg xmlns=\"http://www.w3.org/2000/svg\" height=\"24px\"viewBox=\"0 0 24 24\"\n",
              "       width=\"24px\">\n",
              "    <path d=\"M0 0h24v24H0V0z\" fill=\"none\"/>\n",
              "    <path d=\"M18.56 5.44l.94 2.06.94-2.06 2.06-.94-2.06-.94-.94-2.06-.94 2.06-2.06.94zm-11 1L8.5 8.5l.94-2.06 2.06-.94-2.06-.94L8.5 2.5l-.94 2.06-2.06.94zm10 10l.94 2.06.94-2.06 2.06-.94-2.06-.94-.94-2.06-.94 2.06-2.06.94z\"/><path d=\"M17.41 7.96l-1.37-1.37c-.4-.4-.92-.59-1.43-.59-.52 0-1.04.2-1.43.59L10.3 9.45l-7.72 7.72c-.78.78-.78 2.05 0 2.83L4 21.41c.39.39.9.59 1.41.59.51 0 1.02-.2 1.41-.59l7.78-7.78 2.81-2.81c.8-.78.8-2.07 0-2.86zM5.41 20L4 18.59l7.72-7.72 1.47 1.35L5.41 20z\"/>\n",
              "  </svg>\n",
              "      </button>\n",
              "      \n",
              "  <style>\n",
              "    .colab-df-container {\n",
              "      display:flex;\n",
              "      flex-wrap:wrap;\n",
              "      gap: 12px;\n",
              "    }\n",
              "\n",
              "    .colab-df-convert {\n",
              "      background-color: #E8F0FE;\n",
              "      border: none;\n",
              "      border-radius: 50%;\n",
              "      cursor: pointer;\n",
              "      display: none;\n",
              "      fill: #1967D2;\n",
              "      height: 32px;\n",
              "      padding: 0 0 0 0;\n",
              "      width: 32px;\n",
              "    }\n",
              "\n",
              "    .colab-df-convert:hover {\n",
              "      background-color: #E2EBFA;\n",
              "      box-shadow: 0px 1px 2px rgba(60, 64, 67, 0.3), 0px 1px 3px 1px rgba(60, 64, 67, 0.15);\n",
              "      fill: #174EA6;\n",
              "    }\n",
              "\n",
              "    [theme=dark] .colab-df-convert {\n",
              "      background-color: #3B4455;\n",
              "      fill: #D2E3FC;\n",
              "    }\n",
              "\n",
              "    [theme=dark] .colab-df-convert:hover {\n",
              "      background-color: #434B5C;\n",
              "      box-shadow: 0px 1px 3px 1px rgba(0, 0, 0, 0.15);\n",
              "      filter: drop-shadow(0px 1px 2px rgba(0, 0, 0, 0.3));\n",
              "      fill: #FFFFFF;\n",
              "    }\n",
              "  </style>\n",
              "\n",
              "      <script>\n",
              "        const buttonEl =\n",
              "          document.querySelector('#df-2e4f7608-44b9-4d9b-9fda-7998e1144894 button.colab-df-convert');\n",
              "        buttonEl.style.display =\n",
              "          google.colab.kernel.accessAllowed ? 'block' : 'none';\n",
              "\n",
              "        async function convertToInteractive(key) {\n",
              "          const element = document.querySelector('#df-2e4f7608-44b9-4d9b-9fda-7998e1144894');\n",
              "          const dataTable =\n",
              "            await google.colab.kernel.invokeFunction('convertToInteractive',\n",
              "                                                     [key], {});\n",
              "          if (!dataTable) return;\n",
              "\n",
              "          const docLinkHtml = 'Like what you see? Visit the ' +\n",
              "            '<a target=\"_blank\" href=https://colab.research.google.com/notebooks/data_table.ipynb>data table notebook</a>'\n",
              "            + ' to learn more about interactive tables.';\n",
              "          element.innerHTML = '';\n",
              "          dataTable['output_type'] = 'display_data';\n",
              "          await google.colab.output.renderOutput(dataTable, element);\n",
              "          const docLink = document.createElement('div');\n",
              "          docLink.innerHTML = docLinkHtml;\n",
              "          element.appendChild(docLink);\n",
              "        }\n",
              "      </script>\n",
              "    </div>\n",
              "  </div>\n",
              "  "
            ]
          },
          "metadata": {},
          "execution_count": 5
        }
      ],
      "source": [
        "dataset.describe()"
      ]
    },
    {
      "cell_type": "markdown",
      "id": "cc2237cf",
      "metadata": {
        "id": "cc2237cf",
        "papermill": {
          "duration": 0.034489,
          "end_time": "2022-11-23T16:59:17.960544",
          "exception": false,
          "start_time": "2022-11-23T16:59:17.926055",
          "status": "completed"
        },
        "tags": []
      },
      "source": [
        "## Data Visualisation"
      ]
    },
    {
      "cell_type": "code",
      "execution_count": 6,
      "id": "67e23daa",
      "metadata": {
        "execution": {
          "iopub.execute_input": "2022-11-23T16:59:18.038768Z",
          "iopub.status.busy": "2022-11-23T16:59:18.037883Z",
          "iopub.status.idle": "2022-11-23T16:59:18.329563Z",
          "shell.execute_reply": "2022-11-23T16:59:18.328693Z",
          "shell.execute_reply.started": "2021-10-12T12:15:25.096666Z"
        },
        "id": "67e23daa",
        "outputId": "167f0af9-3dfd-4988-f3d0-ba207d231491",
        "papermill": {
          "duration": 0.332405,
          "end_time": "2022-11-23T16:59:18.329753",
          "exception": false,
          "start_time": "2022-11-23T16:59:17.997348",
          "status": "completed"
        },
        "tags": [],
        "colab": {
          "base_uri": "https://localhost:8080/",
          "height": 331
        }
      },
      "outputs": [
        {
          "output_type": "stream",
          "name": "stdout",
          "text": [
            "1    212\n",
            "0    175\n",
            "2    147\n",
            "Name: target, dtype: int64\n"
          ]
        },
        {
          "output_type": "display_data",
          "data": {
            "text/plain": [
              "<Figure size 432x288 with 1 Axes>"
            ],
            "image/png": "[encoded data removed]"
          },
          "metadata": {
            "needs_background": "light"
          }
        }
      ],
      "source": [
        "print(dataset.target.value_counts())\n",
        "dataset.target.value_counts().plot(kind='bar')\n",
        "plt.show()"
      ]
    },
    {
      "cell_type": "code",
      "execution_count": 7,
      "id": "7c9e038b",
      "metadata": {
        "execution": {
          "iopub.execute_input": "2022-11-23T16:59:18.418538Z",
          "iopub.status.busy": "2022-11-23T16:59:18.414667Z",
          "iopub.status.idle": "2022-11-23T16:59:21.735485Z",
          "shell.execute_reply": "2022-11-23T16:59:21.736136Z",
          "shell.execute_reply.started": "2021-10-12T12:15:25.30001Z"
        },
        "id": "7c9e038b",
        "outputId": "4b5e814b-c9d0-4d0d-b5ef-f36f1250f64a",
        "papermill": {
          "duration": 3.367292,
          "end_time": "2022-11-23T16:59:21.736375",
          "exception": false,
          "start_time": "2022-11-23T16:59:18.369083",
          "status": "completed"
        },
        "tags": [],
        "colab": {
          "base_uri": "https://localhost:8080/",
          "height": 1000
        }
      },
      "outputs": [
        {
          "output_type": "display_data",
          "data": {
            "text/plain": [
              "<Figure size 1080x1440 with 15 Axes>"
            ],
            "image/png": "[encoded data removed]"
          },
          "metadata": {
            "needs_background": "light"
          }
        }
      ],
      "source": [
        "fig, ax = plt.subplots(5,3 , figsize = (15,20)) # Making Subplots\n",
        "\n",
        "sns.barplot(data = dataset, y =\"alcohol\", x=\"target\", ax=ax[0,0]);\n",
        "sns.barplot(data = dataset, y =\"malic_acid\", x=\"target\", ax=ax[0,1]);\n",
        "sns.barplot(data = dataset, y =\"ash\", x=\"target\", ax=ax[0,2]);\n",
        "sns.barplot(data = dataset, y =\"alcalinity_of_ash\", x=\"target\", ax=ax[1,0]);\n",
        "sns.barplot(data = dataset, y =\"magnesium\", x=\"target\", ax=ax[1,1]);\n",
        "sns.barplot(data = dataset, y =\"total_phenols\", x=\"target\", ax=ax[1,2]);\n",
        "sns.barplot(data = dataset, y =\"flavanoids\", x=\"target\", ax=ax[2,0]);\n",
        "sns.barplot(data = dataset, y =\"nonflavanoid_phenols\", x=\"target\", ax=ax[2,1]);\n",
        "sns.barplot(data = dataset, y =\"proanthocyanins\", x=\"target\", ax=ax[2,2]);\n",
        "sns.barplot(data = dataset, y =\"color_intensity\", x=\"target\", ax=ax[3,0]);\n",
        "sns.barplot(data = dataset, y =\"hue\", x=\"target\", ax=ax[3,1]);\n",
        "sns.barplot(data = dataset, y =\"od280/od315_of_diluted_wines\", x=\"target\", ax=ax[3,2]);\n",
        "sns.barplot(data = dataset, y =\"proline\", x=\"target\", ax=ax[4,0]);"
      ]
    },
    {
      "cell_type": "markdown",
      "id": "4decc398",
      "metadata": {
        "id": "4decc398",
        "papermill": {
          "duration": 0.036952,
          "end_time": "2022-11-23T16:59:21.812418",
          "exception": false,
          "start_time": "2022-11-23T16:59:21.775466",
          "status": "completed"
        },
        "tags": []
      },
      "source": [
        "## Splitting Data in Train and Test"
      ]
    },
    {
      "cell_type": "code",
      "execution_count": 8,
      "id": "341cc2e9",
      "metadata": {
        "execution": {
          "iopub.execute_input": "2022-11-23T16:59:21.895023Z",
          "iopub.status.busy": "2022-11-23T16:59:21.894256Z",
          "iopub.status.idle": "2022-11-23T16:59:21.898123Z",
          "shell.execute_reply": "2022-11-23T16:59:21.897428Z",
          "shell.execute_reply.started": "2021-10-12T12:15:28.942164Z"
        },
        "id": "341cc2e9",
        "papermill": {
          "duration": 0.047822,
          "end_time": "2022-11-23T16:59:21.898288",
          "exception": false,
          "start_time": "2022-11-23T16:59:21.850466",
          "status": "completed"
        },
        "tags": []
      },
      "outputs": [],
      "source": [
        "# Splitting datset to X and y axis \n",
        "\n",
        "X=dataset.iloc[: , 1:14].values\n",
        "y=dataset.iloc[: ,-1].values"
      ]
    },
    {
      "cell_type": "code",
      "execution_count": 9,
      "id": "1fdd46a6",
      "metadata": {
        "execution": {
          "iopub.execute_input": "2022-11-23T16:59:21.981361Z",
          "iopub.status.busy": "2022-11-23T16:59:21.980369Z",
          "iopub.status.idle": "2022-11-23T16:59:21.985480Z",
          "shell.execute_reply": "2022-11-23T16:59:21.984808Z",
          "shell.execute_reply.started": "2021-10-12T12:15:28.950072Z"
        },
        "id": "1fdd46a6",
        "outputId": "a6a077ed-ff65-4401-e115-cf01681924cc",
        "papermill": {
          "duration": 0.050108,
          "end_time": "2022-11-23T16:59:21.985641",
          "exception": false,
          "start_time": "2022-11-23T16:59:21.935533",
          "status": "completed"
        },
        "tags": [],
        "colab": {
          "base_uri": "https://localhost:8080/"
        }
      },
      "outputs": [
        {
          "output_type": "execute_result",
          "data": {
            "text/plain": [
              "array([[1.3050e+01, 4.0000e-01, 2.4000e+00, ..., 1.1300e+00, 2.4500e+00,\n",
              "        9.6790e+01],\n",
              "       [1.3010e+01, 3.6600e+00, 2.2100e+00, ..., 7.5000e-01, 2.7900e+00,\n",
              "        5.8886e+02],\n",
              "       [1.3130e+01, 1.1400e+00, 2.3200e+00, ..., 8.6000e-01, 2.6600e+00,\n",
              "        9.5480e+02],\n",
              "       ...,\n",
              "       [1.0840e+01, 9.2000e-01, 2.0200e+00, ..., 9.4000e-01, 2.2800e+00,\n",
              "        4.3570e+01],\n",
              "       [1.1220e+01, 2.0800e+00, 2.3400e+00, ..., 7.3000e-01, 3.1900e+00,\n",
              "        5.3487e+02],\n",
              "       [1.2570e+01, 9.7000e-01, 2.4400e+00, ..., 8.7000e-01, 2.2100e+00,\n",
              "        9.8925e+02]])"
            ]
          },
          "metadata": {},
          "execution_count": 9
        }
      ],
      "source": [
        "X"
      ]
    },
    {
      "cell_type": "code",
      "execution_count": 10,
      "id": "6fc6c0c1",
      "metadata": {
        "execution": {
          "iopub.execute_input": "2022-11-23T16:59:22.071523Z",
          "iopub.status.busy": "2022-11-23T16:59:22.070750Z",
          "iopub.status.idle": "2022-11-23T16:59:22.074794Z",
          "shell.execute_reply": "2022-11-23T16:59:22.074244Z",
          "shell.execute_reply.started": "2021-10-12T12:15:28.968193Z"
        },
        "id": "6fc6c0c1",
        "outputId": "a9cc4f49-03f2-4a4b-c2a9-c86525bc0547",
        "papermill": {
          "duration": 0.048867,
          "end_time": "2022-11-23T16:59:22.074939",
          "exception": false,
          "start_time": "2022-11-23T16:59:22.026072",
          "status": "completed"
        },
        "tags": [],
        "colab": {
          "base_uri": "https://localhost:8080/"
        }
      },
      "outputs": [
        {
          "output_type": "execute_result",
          "data": {
            "text/plain": [
              "array([1, 0, 0, 2, 1, 0, 1, 1, 2, 0, 1, 1, 1, 0, 1, 1, 0, 2, 2, 2, 0, 0,\n",
              "       0, 2, 2, 2, 0, 2, 1, 0, 2, 0, 2, 1, 1, 0, 1, 0, 1, 1, 1, 2, 2, 0,\n",
              "       0, 2, 0, 1, 0, 1, 1, 1, 1, 2, 1, 1, 1, 1, 1, 2, 1, 0, 1, 0, 2, 2,\n",
              "       0, 1, 0, 1, 2, 1, 2, 1, 0, 0, 2, 0, 1, 0, 1, 0, 2, 0, 1, 0, 2, 1,\n",
              "       2, 2, 0, 2, 2, 1, 1, 2, 1, 0, 1, 2, 1, 2, 0, 0, 2, 0, 0, 1, 0, 2,\n",
              "       1, 0, 1, 1, 2, 2, 1, 0, 1, 1, 1, 0, 0, 0, 0, 1, 1, 2, 2, 1, 0, 0,\n",
              "       1, 1, 2, 0, 1, 0, 2, 0, 2, 1, 0, 2, 1, 0, 2, 1, 1, 1, 1, 1, 0, 1,\n",
              "       2, 0, 2, 1, 1, 2, 2, 1, 2, 1, 1, 0, 1, 0, 0, 1, 2, 2, 0, 2, 2, 0,\n",
              "       2, 1, 0, 1, 1, 1, 0, 0, 2, 2, 0, 1, 0, 1, 0, 1, 1, 1, 0, 2, 1, 0,\n",
              "       2, 0, 2, 1, 1, 1, 2, 2, 2, 0, 1, 2, 2, 2, 1, 2, 1, 0, 2, 0, 1, 2,\n",
              "       1, 1, 0, 1, 0, 1, 1, 0, 1, 1, 2, 0, 2, 1, 1, 1, 1, 2, 2, 1, 1, 1,\n",
              "       1, 1, 0, 0, 2, 1, 0, 1, 1, 1, 1, 1, 2, 2, 1, 1, 2, 1, 2, 1, 1, 1,\n",
              "       2, 1, 0, 0, 1, 0, 1, 0, 0, 1, 0, 0, 1, 0, 0, 1, 2, 0, 1, 0, 1, 1,\n",
              "       2, 1, 1, 1, 2, 0, 0, 1, 0, 0, 0, 0, 1, 2, 1, 0, 0, 2, 2, 0, 0, 0,\n",
              "       0, 2, 2, 2, 0, 1, 1, 2, 1, 0, 0, 0, 1, 0, 0, 1, 2, 1, 1, 2, 2, 0,\n",
              "       0, 1, 1, 1, 1, 2, 0, 0, 0, 0, 2, 0, 1, 2, 1, 2, 0, 2, 0, 1, 2, 1,\n",
              "       1, 0, 2, 1, 1, 2, 1, 2, 2, 0, 1, 0, 2, 2, 1, 0, 0, 0, 1, 1, 1, 2,\n",
              "       1, 2, 1, 0, 0, 1, 2, 1, 0, 1, 0, 0, 0, 0, 2, 1, 2, 0, 1, 0, 2, 1,\n",
              "       1, 1, 2, 1, 1, 0, 0, 2, 1, 1, 2, 1, 0, 0, 2, 0, 2, 0, 2, 2, 0, 0,\n",
              "       1, 2, 0, 1, 0, 2, 1, 1, 0, 0, 2, 0, 0, 0, 0, 0, 2, 0, 1, 1, 0, 0,\n",
              "       2, 2, 0, 2, 1, 1, 1, 1, 0, 2, 0, 1, 2, 1, 0, 1, 1, 2, 2, 1, 1, 2,\n",
              "       0, 0, 1, 2, 0, 0, 0, 0, 2, 2, 1, 1, 1, 1, 2, 2, 1, 0, 1, 1, 2, 1,\n",
              "       2, 1, 2, 0, 2, 2, 0, 1, 2, 1, 1, 0, 0, 0, 0, 1, 1, 2, 1, 0, 0, 1,\n",
              "       2, 0, 2, 1, 2, 1, 0, 2, 0, 1, 0, 0, 1, 2, 1, 1, 0, 2, 1, 0, 2, 2,\n",
              "       1, 2, 2, 1, 1, 0])"
            ]
          },
          "metadata": {},
          "execution_count": 10
        }
      ],
      "source": [
        "y"
      ]
    },
    {
      "cell_type": "code",
      "execution_count": 11,
      "id": "4e5eb3a5",
      "metadata": {
        "execution": {
          "iopub.execute_input": "2022-11-23T16:59:22.155728Z",
          "iopub.status.busy": "2022-11-23T16:59:22.155056Z",
          "iopub.status.idle": "2022-11-23T16:59:22.387556Z",
          "shell.execute_reply": "2022-11-23T16:59:22.386782Z",
          "shell.execute_reply.started": "2021-10-12T12:15:28.98449Z"
        },
        "id": "4e5eb3a5",
        "papermill": {
          "duration": 0.274462,
          "end_time": "2022-11-23T16:59:22.387715",
          "exception": false,
          "start_time": "2022-11-23T16:59:22.113253",
          "status": "completed"
        },
        "tags": []
      },
      "outputs": [],
      "source": [
        "from sklearn.model_selection import train_test_split\n",
        "X_train,X_test,y_train,y_test = train_test_split(X,y,test_size=0.2, random_state=0)"
      ]
    },
    {
      "cell_type": "code",
      "execution_count": 12,
      "id": "f75fabd1",
      "metadata": {
        "execution": {
          "iopub.execute_input": "2022-11-23T16:59:22.471880Z",
          "iopub.status.busy": "2022-11-23T16:59:22.470955Z",
          "iopub.status.idle": "2022-11-23T16:59:22.477389Z",
          "shell.execute_reply": "2022-11-23T16:59:22.476756Z",
          "shell.execute_reply.started": "2021-10-12T12:15:28.995132Z"
        },
        "id": "f75fabd1",
        "papermill": {
          "duration": 0.052271,
          "end_time": "2022-11-23T16:59:22.477544",
          "exception": false,
          "start_time": "2022-11-23T16:59:22.425273",
          "status": "completed"
        },
        "tags": []
      },
      "outputs": [],
      "source": [
        "#Feature Scaling\n",
        "\n",
        "from sklearn.preprocessing import StandardScaler\n",
        "sc=StandardScaler()\n",
        "X_train = sc.fit_transform(X_train)\n",
        "X_test = sc.fit_transform(X_test)"
      ]
    },
    {
      "cell_type": "markdown",
      "id": "2bcc3a33",
      "metadata": {
        "id": "2bcc3a33",
        "papermill": {
          "duration": 0.038171,
          "end_time": "2022-11-23T16:59:22.556397",
          "exception": false,
          "start_time": "2022-11-23T16:59:22.518226",
          "status": "completed"
        },
        "tags": []
      },
      "source": [
        "# Model Selection"
      ]
    },
    {
      "cell_type": "markdown",
      "id": "ebf26d7b",
      "metadata": {
        "id": "ebf26d7b",
        "papermill": {
          "duration": 0.037038,
          "end_time": "2022-11-23T16:59:22.630827",
          "exception": false,
          "start_time": "2022-11-23T16:59:22.593789",
          "status": "completed"
        },
        "tags": []
      },
      "source": [
        "### Applying ANN"
      ]
    },
    {
      "cell_type": "code",
      "execution_count": 13,
      "id": "be88815d",
      "metadata": {
        "execution": {
          "iopub.execute_input": "2022-11-23T16:59:22.713926Z",
          "iopub.status.busy": "2022-11-23T16:59:22.713226Z",
          "iopub.status.idle": "2022-11-23T16:59:29.926044Z",
          "shell.execute_reply": "2022-11-23T16:59:29.926576Z",
          "shell.execute_reply.started": "2021-10-12T12:15:29.009218Z"
        },
        "id": "be88815d",
        "papermill": {
          "duration": 7.258402,
          "end_time": "2022-11-23T16:59:29.926843",
          "exception": false,
          "start_time": "2022-11-23T16:59:22.668441",
          "status": "completed"
        },
        "tags": []
      },
      "outputs": [],
      "source": [
        "# Adding layers and activation function\n",
        "\n",
        "import tensorflow as tf\n",
        "ann=tf.keras.models.Sequential()\n",
        "\n",
        "ann.add(tf.keras.layers.Dense(units=6,activation='relu'))\n",
        "ann.add(tf.keras.layers.Dense(units=6,activation='relu'))\n",
        "ann.add(tf.keras.layers.Dense(units=1,activation='tanh'))\n",
        "\n",
        "#Compiling\n",
        "ann.compile(optimizer='adam', loss='binary_crossentropy',metrics=['accuracy'])"
      ]
    },
    {
      "cell_type": "code",
      "execution_count": 14,
      "id": "8b20542f",
      "metadata": {
        "execution": {
          "iopub.execute_input": "2022-11-23T16:59:30.019504Z",
          "iopub.status.busy": "2022-11-23T16:59:30.018651Z",
          "iopub.status.idle": "2022-11-23T16:59:36.738791Z",
          "shell.execute_reply": "2022-11-23T16:59:36.739380Z",
          "shell.execute_reply.started": "2021-10-12T12:15:29.034202Z"
        },
        "id": "8b20542f",
        "outputId": "d805254c-d9b2-4d0f-9beb-feed52751b75",
        "papermill": {
          "duration": 6.772034,
          "end_time": "2022-11-23T16:59:36.739581",
          "exception": false,
          "start_time": "2022-11-23T16:59:29.967547",
          "status": "completed"
        },
        "tags": [],
        "colab": {
          "base_uri": "https://localhost:8080/"
        }
      },
      "outputs": [
        {
          "output_type": "stream",
          "name": "stdout",
          "text": [
            "Epoch 1/200\n",
            "14/14 [==============================] - 1s 2ms/step - loss: 2.9728 - accuracy: 0.4379\n",
            "Epoch 2/200\n",
            "14/14 [==============================] - 0s 2ms/step - loss: 2.0235 - accuracy: 0.4848\n",
            "Epoch 3/200\n",
            "14/14 [==============================] - 0s 2ms/step - loss: 1.1007 - accuracy: 0.5433\n",
            "Epoch 4/200\n",
            "14/14 [==============================] - 0s 2ms/step - loss: 0.7702 - accuracy: 0.5948\n",
            "Epoch 5/200\n",
            "14/14 [==============================] - 0s 2ms/step - loss: 0.4482 - accuracy: 0.6136\n",
            "Epoch 6/200\n",
            "14/14 [==============================] - 0s 2ms/step - loss: 0.3110 - accuracy: 0.6323\n",
            "Epoch 7/200\n",
            "14/14 [==============================] - 0s 3ms/step - loss: 0.2085 - accuracy: 0.6581\n",
            "Epoch 8/200\n",
            "14/14 [==============================] - 0s 2ms/step - loss: 0.1140 - accuracy: 0.6581\n",
            "Epoch 9/200\n",
            "14/14 [==============================] - 0s 2ms/step - loss: 0.0235 - accuracy: 0.6604\n",
            "Epoch 10/200\n",
            "14/14 [==============================] - 0s 2ms/step - loss: -0.0668 - accuracy: 0.6674\n",
            "Epoch 11/200\n",
            "14/14 [==============================] - 0s 3ms/step - loss: -0.1564 - accuracy: 0.6674\n",
            "Epoch 12/200\n",
            "14/14 [==============================] - 0s 2ms/step - loss: -0.2442 - accuracy: 0.6721\n",
            "Epoch 13/200\n",
            "14/14 [==============================] - 0s 2ms/step - loss: -0.3372 - accuracy: 0.6721\n",
            "Epoch 14/200\n",
            "14/14 [==============================] - 0s 2ms/step - loss: -0.4286 - accuracy: 0.6698\n",
            "Epoch 15/200\n",
            "14/14 [==============================] - 0s 2ms/step - loss: -0.5276 - accuracy: 0.6698\n",
            "Epoch 16/200\n",
            "14/14 [==============================] - 0s 2ms/step - loss: -0.6273 - accuracy: 0.6721\n",
            "Epoch 17/200\n",
            "14/14 [==============================] - 0s 2ms/step - loss: -0.7363 - accuracy: 0.6721\n",
            "Epoch 18/200\n",
            "14/14 [==============================] - 0s 2ms/step - loss: -0.8499 - accuracy: 0.6721\n",
            "Epoch 19/200\n",
            "14/14 [==============================] - 0s 3ms/step - loss: -0.9760 - accuracy: 0.6698\n",
            "Epoch 20/200\n",
            "14/14 [==============================] - 0s 2ms/step - loss: -1.1175 - accuracy: 0.6674\n",
            "Epoch 21/200\n",
            "14/14 [==============================] - 0s 2ms/step - loss: -1.2793 - accuracy: 0.6674\n",
            "Epoch 22/200\n",
            "14/14 [==============================] - 0s 2ms/step - loss: -1.4517 - accuracy: 0.6674\n",
            "Epoch 23/200\n",
            "14/14 [==============================] - 0s 2ms/step - loss: -1.6443 - accuracy: 0.6674\n",
            "Epoch 24/200\n",
            "14/14 [==============================] - 0s 2ms/step - loss: -1.8534 - accuracy: 0.6651\n",
            "Epoch 25/200\n",
            "14/14 [==============================] - 0s 2ms/step - loss: -2.1015 - accuracy: 0.6628\n",
            "Epoch 26/200\n",
            "14/14 [==============================] - 0s 2ms/step - loss: -2.3815 - accuracy: 0.6604\n",
            "Epoch 27/200\n",
            "14/14 [==============================] - 0s 2ms/step - loss: -2.6979 - accuracy: 0.6604\n",
            "Epoch 28/200\n",
            "14/14 [==============================] - 0s 2ms/step - loss: -3.0406 - accuracy: 0.6604\n",
            "Epoch 29/200\n",
            "14/14 [==============================] - 0s 2ms/step - loss: -3.3755 - accuracy: 0.6557\n",
            "Epoch 30/200\n",
            "14/14 [==============================] - 0s 2ms/step - loss: -3.7116 - accuracy: 0.6534\n",
            "Epoch 31/200\n",
            "14/14 [==============================] - 0s 2ms/step - loss: -3.9020 - accuracy: 0.6511\n",
            "Epoch 32/200\n",
            "14/14 [==============================] - 0s 2ms/step - loss: -4.0102 - accuracy: 0.6557\n",
            "Epoch 33/200\n",
            "14/14 [==============================] - 0s 2ms/step - loss: -4.0765 - accuracy: 0.6628\n",
            "Epoch 34/200\n",
            "14/14 [==============================] - 0s 2ms/step - loss: -4.1126 - accuracy: 0.6674\n",
            "Epoch 35/200\n",
            "14/14 [==============================] - 0s 2ms/step - loss: -4.1320 - accuracy: 0.6698\n",
            "Epoch 36/200\n",
            "14/14 [==============================] - 0s 2ms/step - loss: -4.1487 - accuracy: 0.6721\n",
            "Epoch 37/200\n",
            "14/14 [==============================] - 0s 3ms/step - loss: -4.1567 - accuracy: 0.6745\n",
            "Epoch 38/200\n",
            "14/14 [==============================] - 0s 2ms/step - loss: -4.1647 - accuracy: 0.6745\n",
            "Epoch 39/200\n",
            "14/14 [==============================] - 0s 2ms/step - loss: -4.1720 - accuracy: 0.6815\n",
            "Epoch 40/200\n",
            "14/14 [==============================] - 0s 2ms/step - loss: -4.1766 - accuracy: 0.6838\n",
            "Epoch 41/200\n",
            "14/14 [==============================] - 0s 2ms/step - loss: -4.1826 - accuracy: 0.6838\n",
            "Epoch 42/200\n",
            "14/14 [==============================] - 0s 2ms/step - loss: -4.1881 - accuracy: 0.6862\n",
            "Epoch 43/200\n",
            "14/14 [==============================] - 0s 2ms/step - loss: -4.1927 - accuracy: 0.6862\n",
            "Epoch 44/200\n",
            "14/14 [==============================] - 0s 2ms/step - loss: -4.1974 - accuracy: 0.6862\n",
            "Epoch 45/200\n",
            "14/14 [==============================] - 0s 2ms/step - loss: -4.2007 - accuracy: 0.6862\n",
            "Epoch 46/200\n",
            "14/14 [==============================] - 0s 2ms/step - loss: -4.2029 - accuracy: 0.6885\n",
            "Epoch 47/200\n",
            "14/14 [==============================] - 0s 2ms/step - loss: -4.2055 - accuracy: 0.6885\n",
            "Epoch 48/200\n",
            "14/14 [==============================] - 0s 2ms/step - loss: -4.2100 - accuracy: 0.6885\n",
            "Epoch 49/200\n",
            "14/14 [==============================] - 0s 3ms/step - loss: -4.2132 - accuracy: 0.6909\n",
            "Epoch 50/200\n",
            "14/14 [==============================] - 0s 2ms/step - loss: -4.2155 - accuracy: 0.6909\n",
            "Epoch 51/200\n",
            "14/14 [==============================] - 0s 2ms/step - loss: -4.2171 - accuracy: 0.6932\n",
            "Epoch 52/200\n",
            "14/14 [==============================] - 0s 2ms/step - loss: -4.2194 - accuracy: 0.6932\n",
            "Epoch 53/200\n",
            "14/14 [==============================] - 0s 2ms/step - loss: -4.2217 - accuracy: 0.6932\n",
            "Epoch 54/200\n",
            "14/14 [==============================] - 0s 2ms/step - loss: -4.2226 - accuracy: 0.6932\n",
            "Epoch 55/200\n",
            "14/14 [==============================] - 0s 3ms/step - loss: -4.2258 - accuracy: 0.6956\n",
            "Epoch 56/200\n",
            "14/14 [==============================] - 0s 2ms/step - loss: -4.2276 - accuracy: 0.6956\n",
            "Epoch 57/200\n",
            "14/14 [==============================] - 0s 2ms/step - loss: -4.2292 - accuracy: 0.6956\n",
            "Epoch 58/200\n",
            "14/14 [==============================] - 0s 2ms/step - loss: -4.2312 - accuracy: 0.6956\n",
            "Epoch 59/200\n",
            "14/14 [==============================] - 0s 2ms/step - loss: -4.2331 - accuracy: 0.6956\n",
            "Epoch 60/200\n",
            "14/14 [==============================] - 0s 3ms/step - loss: -4.2349 - accuracy: 0.6956\n",
            "Epoch 61/200\n",
            "14/14 [==============================] - 0s 3ms/step - loss: -4.2367 - accuracy: 0.6956\n",
            "Epoch 62/200\n",
            "14/14 [==============================] - 0s 2ms/step - loss: -4.2381 - accuracy: 0.6979\n",
            "Epoch 63/200\n",
            "14/14 [==============================] - 0s 2ms/step - loss: -4.2404 - accuracy: 0.6979\n",
            "Epoch 64/200\n",
            "14/14 [==============================] - 0s 2ms/step - loss: -4.2423 - accuracy: 0.6979\n",
            "Epoch 65/200\n",
            "14/14 [==============================] - 0s 2ms/step - loss: -4.2442 - accuracy: 0.6979\n",
            "Epoch 66/200\n",
            "14/14 [==============================] - 0s 2ms/step - loss: -4.2460 - accuracy: 0.7002\n",
            "Epoch 67/200\n",
            "14/14 [==============================] - 0s 2ms/step - loss: -4.2481 - accuracy: 0.7026\n",
            "Epoch 68/200\n",
            "14/14 [==============================] - 0s 2ms/step - loss: -4.2494 - accuracy: 0.7026\n",
            "Epoch 69/200\n",
            "14/14 [==============================] - 0s 2ms/step - loss: -4.2512 - accuracy: 0.7026\n",
            "Epoch 70/200\n",
            "14/14 [==============================] - 0s 3ms/step - loss: -4.2528 - accuracy: 0.7026\n",
            "Epoch 71/200\n",
            "14/14 [==============================] - 0s 2ms/step - loss: -4.2542 - accuracy: 0.7026\n",
            "Epoch 72/200\n",
            "14/14 [==============================] - 0s 3ms/step - loss: -4.2559 - accuracy: 0.7026\n",
            "Epoch 73/200\n",
            "14/14 [==============================] - 0s 3ms/step - loss: -4.2572 - accuracy: 0.7026\n",
            "Epoch 74/200\n",
            "14/14 [==============================] - 0s 3ms/step - loss: -4.2588 - accuracy: 0.7026\n",
            "Epoch 75/200\n",
            "14/14 [==============================] - 0s 3ms/step - loss: -4.2610 - accuracy: 0.7026\n",
            "Epoch 76/200\n",
            "14/14 [==============================] - 0s 3ms/step - loss: -4.2621 - accuracy: 0.7026\n",
            "Epoch 77/200\n",
            "14/14 [==============================] - 0s 3ms/step - loss: -4.2629 - accuracy: 0.7026\n",
            "Epoch 78/200\n",
            "14/14 [==============================] - 0s 5ms/step - loss: -4.2640 - accuracy: 0.7026\n",
            "Epoch 79/200\n",
            "14/14 [==============================] - 0s 3ms/step - loss: -4.2666 - accuracy: 0.7026\n",
            "Epoch 80/200\n",
            "14/14 [==============================] - 0s 3ms/step - loss: -4.2670 - accuracy: 0.7026\n",
            "Epoch 81/200\n",
            "14/14 [==============================] - 0s 3ms/step - loss: -4.2682 - accuracy: 0.7026\n",
            "Epoch 82/200\n",
            "14/14 [==============================] - 0s 4ms/step - loss: -4.2698 - accuracy: 0.7026\n",
            "Epoch 83/200\n",
            "14/14 [==============================] - 0s 4ms/step - loss: -4.2707 - accuracy: 0.7026\n",
            "Epoch 84/200\n",
            "14/14 [==============================] - 0s 3ms/step - loss: -4.2713 - accuracy: 0.7026\n",
            "Epoch 85/200\n",
            "14/14 [==============================] - 0s 3ms/step - loss: -4.2724 - accuracy: 0.7026\n",
            "Epoch 86/200\n",
            "14/14 [==============================] - 0s 3ms/step - loss: -4.2728 - accuracy: 0.7026\n",
            "Epoch 87/200\n",
            "14/14 [==============================] - 0s 3ms/step - loss: -4.2743 - accuracy: 0.7026\n",
            "Epoch 88/200\n",
            "14/14 [==============================] - 0s 3ms/step - loss: -4.2756 - accuracy: 0.7026\n",
            "Epoch 89/200\n",
            "14/14 [==============================] - 0s 3ms/step - loss: -4.2766 - accuracy: 0.7026\n",
            "Epoch 90/200\n",
            "14/14 [==============================] - 0s 3ms/step - loss: -4.2767 - accuracy: 0.7026\n",
            "Epoch 91/200\n",
            "14/14 [==============================] - 0s 3ms/step - loss: -4.2783 - accuracy: 0.7026\n",
            "Epoch 92/200\n",
            "14/14 [==============================] - 0s 3ms/step - loss: -4.2784 - accuracy: 0.7026\n",
            "Epoch 93/200\n",
            "14/14 [==============================] - 0s 3ms/step - loss: -4.2794 - accuracy: 0.7026\n",
            "Epoch 94/200\n",
            "14/14 [==============================] - 0s 3ms/step - loss: -4.2818 - accuracy: 0.7026\n",
            "Epoch 95/200\n",
            "14/14 [==============================] - 0s 3ms/step - loss: -4.2828 - accuracy: 0.7026\n",
            "Epoch 96/200\n",
            "14/14 [==============================] - 0s 4ms/step - loss: -4.2819 - accuracy: 0.7026\n",
            "Epoch 97/200\n",
            "14/14 [==============================] - 0s 3ms/step - loss: -4.2844 - accuracy: 0.7049\n",
            "Epoch 98/200\n",
            "14/14 [==============================] - 0s 3ms/step - loss: -4.2850 - accuracy: 0.7049\n",
            "Epoch 99/200\n",
            "14/14 [==============================] - 0s 3ms/step - loss: -4.2860 - accuracy: 0.7049\n",
            "Epoch 100/200\n",
            "14/14 [==============================] - 0s 3ms/step - loss: -4.2861 - accuracy: 0.7049\n",
            "Epoch 101/200\n",
            "14/14 [==============================] - 0s 4ms/step - loss: -4.2874 - accuracy: 0.7049\n",
            "Epoch 102/200\n",
            "14/14 [==============================] - 0s 3ms/step - loss: -4.2885 - accuracy: 0.7049\n",
            "Epoch 103/200\n",
            "14/14 [==============================] - 0s 3ms/step - loss: -4.2891 - accuracy: 0.7073\n",
            "Epoch 104/200\n",
            "14/14 [==============================] - 0s 3ms/step - loss: -4.2899 - accuracy: 0.7073\n",
            "Epoch 105/200\n",
            "14/14 [==============================] - 0s 3ms/step - loss: -4.2888 - accuracy: 0.7096\n",
            "Epoch 106/200\n",
            "14/14 [==============================] - 0s 3ms/step - loss: -4.2910 - accuracy: 0.7096\n",
            "Epoch 107/200\n",
            "14/14 [==============================] - 0s 3ms/step - loss: -4.2919 - accuracy: 0.7096\n",
            "Epoch 108/200\n",
            "14/14 [==============================] - 0s 3ms/step - loss: -4.2927 - accuracy: 0.7096\n",
            "Epoch 109/200\n",
            "14/14 [==============================] - 0s 3ms/step - loss: -4.2931 - accuracy: 0.7096\n",
            "Epoch 110/200\n",
            "14/14 [==============================] - 0s 5ms/step - loss: -4.2942 - accuracy: 0.7096\n",
            "Epoch 111/200\n",
            "14/14 [==============================] - 0s 3ms/step - loss: -4.2953 - accuracy: 0.7096\n",
            "Epoch 112/200\n",
            "14/14 [==============================] - 0s 3ms/step - loss: -4.2947 - accuracy: 0.7096\n",
            "Epoch 113/200\n",
            "14/14 [==============================] - 0s 3ms/step - loss: -4.2972 - accuracy: 0.7096\n",
            "Epoch 114/200\n",
            "14/14 [==============================] - 0s 3ms/step - loss: -4.2982 - accuracy: 0.7096\n",
            "Epoch 115/200\n",
            "14/14 [==============================] - 0s 3ms/step - loss: -4.2992 - accuracy: 0.7096\n",
            "Epoch 116/200\n",
            "14/14 [==============================] - 0s 3ms/step - loss: -4.2994 - accuracy: 0.7096\n",
            "Epoch 117/200\n",
            "14/14 [==============================] - 0s 3ms/step - loss: -4.3008 - accuracy: 0.7096\n",
            "Epoch 118/200\n",
            "14/14 [==============================] - 0s 3ms/step - loss: -4.3006 - accuracy: 0.7096\n",
            "Epoch 119/200\n",
            "14/14 [==============================] - 0s 3ms/step - loss: -4.3008 - accuracy: 0.7096\n",
            "Epoch 120/200\n",
            "14/14 [==============================] - 0s 3ms/step - loss: -4.3011 - accuracy: 0.7096\n",
            "Epoch 121/200\n",
            "14/14 [==============================] - 0s 3ms/step - loss: -4.3032 - accuracy: 0.7096\n",
            "Epoch 122/200\n",
            "14/14 [==============================] - 0s 3ms/step - loss: -4.3037 - accuracy: 0.7096\n",
            "Epoch 123/200\n",
            "14/14 [==============================] - 0s 3ms/step - loss: -4.3033 - accuracy: 0.7119\n",
            "Epoch 124/200\n",
            "14/14 [==============================] - 0s 3ms/step - loss: -4.3046 - accuracy: 0.7119\n",
            "Epoch 125/200\n",
            "14/14 [==============================] - 0s 3ms/step - loss: -4.3040 - accuracy: 0.7119\n",
            "Epoch 126/200\n",
            "14/14 [==============================] - 0s 3ms/step - loss: -4.3053 - accuracy: 0.7119\n",
            "Epoch 127/200\n",
            "14/14 [==============================] - 0s 3ms/step - loss: -4.3057 - accuracy: 0.7119\n",
            "Epoch 128/200\n",
            "14/14 [==============================] - 0s 4ms/step - loss: -4.3033 - accuracy: 0.7119\n",
            "Epoch 129/200\n",
            "14/14 [==============================] - 0s 3ms/step - loss: -4.3061 - accuracy: 0.7119\n",
            "Epoch 130/200\n",
            "14/14 [==============================] - 0s 3ms/step - loss: -4.3063 - accuracy: 0.7143\n",
            "Epoch 131/200\n",
            "14/14 [==============================] - 0s 4ms/step - loss: -4.3066 - accuracy: 0.7143\n",
            "Epoch 132/200\n",
            "14/14 [==============================] - 0s 3ms/step - loss: -4.3069 - accuracy: 0.7143\n",
            "Epoch 133/200\n",
            "14/14 [==============================] - 0s 3ms/step - loss: -4.3073 - accuracy: 0.7143\n",
            "Epoch 134/200\n",
            "14/14 [==============================] - 0s 4ms/step - loss: -4.3076 - accuracy: 0.7143\n",
            "Epoch 135/200\n",
            "14/14 [==============================] - 0s 3ms/step - loss: -4.3080 - accuracy: 0.7143\n",
            "Epoch 136/200\n",
            "14/14 [==============================] - 0s 3ms/step - loss: -4.3083 - accuracy: 0.7143\n",
            "Epoch 137/200\n",
            "14/14 [==============================] - 0s 3ms/step - loss: -4.3079 - accuracy: 0.7143\n",
            "Epoch 138/200\n",
            "14/14 [==============================] - 0s 3ms/step - loss: -4.3085 - accuracy: 0.7143\n",
            "Epoch 139/200\n",
            "14/14 [==============================] - 0s 3ms/step - loss: -4.3087 - accuracy: 0.7143\n",
            "Epoch 140/200\n",
            "14/14 [==============================] - 0s 3ms/step - loss: -4.3089 - accuracy: 0.7143\n",
            "Epoch 141/200\n",
            "14/14 [==============================] - 0s 3ms/step - loss: -4.3075 - accuracy: 0.7143\n",
            "Epoch 142/200\n",
            "14/14 [==============================] - 0s 3ms/step - loss: -4.3094 - accuracy: 0.7143\n",
            "Epoch 143/200\n",
            "14/14 [==============================] - 0s 3ms/step - loss: -4.3096 - accuracy: 0.7143\n",
            "Epoch 144/200\n",
            "14/14 [==============================] - 0s 3ms/step - loss: -4.3099 - accuracy: 0.7143\n",
            "Epoch 145/200\n",
            "14/14 [==============================] - 0s 3ms/step - loss: -4.3091 - accuracy: 0.7143\n",
            "Epoch 146/200\n",
            "14/14 [==============================] - 0s 2ms/step - loss: -4.3102 - accuracy: 0.7143\n",
            "Epoch 147/200\n",
            "14/14 [==============================] - 0s 2ms/step - loss: -4.3110 - accuracy: 0.7143\n",
            "Epoch 148/200\n",
            "14/14 [==============================] - 0s 2ms/step - loss: -4.3113 - accuracy: 0.7143\n",
            "Epoch 149/200\n",
            "14/14 [==============================] - 0s 2ms/step - loss: -4.3116 - accuracy: 0.7143\n",
            "Epoch 150/200\n",
            "14/14 [==============================] - 0s 2ms/step - loss: -4.3109 - accuracy: 0.7143\n",
            "Epoch 151/200\n",
            "14/14 [==============================] - 0s 2ms/step - loss: -4.3120 - accuracy: 0.7143\n",
            "Epoch 152/200\n",
            "14/14 [==============================] - 0s 2ms/step - loss: -4.3123 - accuracy: 0.7143\n",
            "Epoch 153/200\n",
            "14/14 [==============================] - 0s 2ms/step - loss: -4.3125 - accuracy: 0.7143\n",
            "Epoch 154/200\n",
            "14/14 [==============================] - 0s 2ms/step - loss: -4.3127 - accuracy: 0.7143\n",
            "Epoch 155/200\n",
            "14/14 [==============================] - 0s 2ms/step - loss: -4.3114 - accuracy: 0.7143\n",
            "Epoch 156/200\n",
            "14/14 [==============================] - 0s 2ms/step - loss: -4.3131 - accuracy: 0.7143\n",
            "Epoch 157/200\n",
            "14/14 [==============================] - 0s 2ms/step - loss: -4.3133 - accuracy: 0.7166\n",
            "Epoch 158/200\n",
            "14/14 [==============================] - 0s 3ms/step - loss: -4.3135 - accuracy: 0.7166\n",
            "Epoch 159/200\n",
            "14/14 [==============================] - 0s 2ms/step - loss: -4.3137 - accuracy: 0.7166\n",
            "Epoch 160/200\n",
            "14/14 [==============================] - 0s 2ms/step - loss: -4.3129 - accuracy: 0.7166\n",
            "Epoch 161/200\n",
            "14/14 [==============================] - 0s 2ms/step - loss: -4.3139 - accuracy: 0.7166\n",
            "Epoch 162/200\n",
            "14/14 [==============================] - 0s 2ms/step - loss: -4.3140 - accuracy: 0.7166\n",
            "Epoch 163/200\n",
            "14/14 [==============================] - 0s 2ms/step - loss: -4.3142 - accuracy: 0.7166\n",
            "Epoch 164/200\n",
            "14/14 [==============================] - 0s 2ms/step - loss: -4.3144 - accuracy: 0.7166\n",
            "Epoch 165/200\n",
            "14/14 [==============================] - 0s 2ms/step - loss: -4.3146 - accuracy: 0.7166\n",
            "Epoch 166/200\n",
            "14/14 [==============================] - 0s 2ms/step - loss: -4.3147 - accuracy: 0.7166\n",
            "Epoch 167/200\n",
            "14/14 [==============================] - 0s 2ms/step - loss: -4.3149 - accuracy: 0.7166\n",
            "Epoch 168/200\n",
            "14/14 [==============================] - 0s 2ms/step - loss: -4.3150 - accuracy: 0.7166\n",
            "Epoch 169/200\n",
            "14/14 [==============================] - 0s 2ms/step - loss: -4.3151 - accuracy: 0.7166\n",
            "Epoch 170/200\n",
            "14/14 [==============================] - 0s 3ms/step - loss: -4.3153 - accuracy: 0.7166\n",
            "Epoch 171/200\n",
            "14/14 [==============================] - 0s 2ms/step - loss: -4.3154 - accuracy: 0.7166\n",
            "Epoch 172/200\n",
            "14/14 [==============================] - 0s 3ms/step - loss: -4.3156 - accuracy: 0.7166\n",
            "Epoch 173/200\n",
            "14/14 [==============================] - 0s 3ms/step - loss: -4.3157 - accuracy: 0.7166\n",
            "Epoch 174/200\n",
            "14/14 [==============================] - 0s 2ms/step - loss: -4.3158 - accuracy: 0.7166\n",
            "Epoch 175/200\n",
            "14/14 [==============================] - 0s 2ms/step - loss: -4.3159 - accuracy: 0.7166\n",
            "Epoch 176/200\n",
            "14/14 [==============================] - 0s 2ms/step - loss: -4.3161 - accuracy: 0.7166\n",
            "Epoch 177/200\n",
            "14/14 [==============================] - 0s 2ms/step - loss: -4.3162 - accuracy: 0.7166\n",
            "Epoch 178/200\n",
            "14/14 [==============================] - 0s 2ms/step - loss: -4.3163 - accuracy: 0.7166\n",
            "Epoch 179/200\n",
            "14/14 [==============================] - 0s 2ms/step - loss: -4.3164 - accuracy: 0.7166\n",
            "Epoch 180/200\n",
            "14/14 [==============================] - 0s 2ms/step - loss: -4.3165 - accuracy: 0.7166\n",
            "Epoch 181/200\n",
            "14/14 [==============================] - 0s 2ms/step - loss: -4.3166 - accuracy: 0.7166\n",
            "Epoch 182/200\n",
            "14/14 [==============================] - 0s 3ms/step - loss: -4.3167 - accuracy: 0.7166\n",
            "Epoch 183/200\n",
            "14/14 [==============================] - 0s 2ms/step - loss: -4.3168 - accuracy: 0.7166\n",
            "Epoch 184/200\n",
            "14/14 [==============================] - 0s 2ms/step - loss: -4.3152 - accuracy: 0.7166\n",
            "Epoch 185/200\n",
            "14/14 [==============================] - 0s 2ms/step - loss: -4.3169 - accuracy: 0.7166\n",
            "Epoch 186/200\n",
            "14/14 [==============================] - 0s 2ms/step - loss: -4.3170 - accuracy: 0.7166\n",
            "Epoch 187/200\n",
            "14/14 [==============================] - 0s 2ms/step - loss: -4.3171 - accuracy: 0.7166\n",
            "Epoch 188/200\n",
            "14/14 [==============================] - 0s 2ms/step - loss: -4.3172 - accuracy: 0.7166\n",
            "Epoch 189/200\n",
            "14/14 [==============================] - 0s 2ms/step - loss: -4.3172 - accuracy: 0.7166\n",
            "Epoch 190/200\n",
            "14/14 [==============================] - 0s 2ms/step - loss: -4.3173 - accuracy: 0.7166\n",
            "Epoch 191/200\n",
            "14/14 [==============================] - 0s 2ms/step - loss: -4.3174 - accuracy: 0.7166\n",
            "Epoch 192/200\n",
            "14/14 [==============================] - 0s 2ms/step - loss: -4.3174 - accuracy: 0.7166\n",
            "Epoch 193/200\n",
            "14/14 [==============================] - 0s 2ms/step - loss: -4.3175 - accuracy: 0.7166\n",
            "Epoch 194/200\n",
            "14/14 [==============================] - 0s 3ms/step - loss: -4.3175 - accuracy: 0.7166\n",
            "Epoch 195/200\n",
            "14/14 [==============================] - 0s 2ms/step - loss: -4.3176 - accuracy: 0.7166\n",
            "Epoch 196/200\n",
            "14/14 [==============================] - 0s 2ms/step - loss: -4.3176 - accuracy: 0.7166\n",
            "Epoch 197/200\n",
            "14/14 [==============================] - 0s 3ms/step - loss: -4.3176 - accuracy: 0.7166\n",
            "Epoch 198/200\n",
            "14/14 [==============================] - 0s 2ms/step - loss: -4.3167 - accuracy: 0.7166\n",
            "Epoch 199/200\n",
            "14/14 [==============================] - 0s 2ms/step - loss: -4.3177 - accuracy: 0.7166\n",
            "Epoch 200/200\n",
            "14/14 [==============================] - 0s 2ms/step - loss: -4.3178 - accuracy: 0.7166\n"
          ]
        },
        {
          "output_type": "execute_result",
          "data": {
            "text/plain": [
              "<keras.callbacks.History at 0x7f0f1448cfa0>"
            ]
          },
          "metadata": {},
          "execution_count": 14
        }
      ],
      "source": [
        "# Training the model\n",
        "\n",
        "ann.fit(X_train,y_train,batch_size=32,epochs=200)"
      ]
    },
    {
      "cell_type": "code",
      "execution_count": 15,
      "id": "aa9a1cf3",
      "metadata": {
        "execution": {
          "iopub.execute_input": "2022-11-23T16:59:37.094900Z",
          "iopub.status.busy": "2022-11-23T16:59:37.084728Z",
          "iopub.status.idle": "2022-11-23T16:59:37.241239Z",
          "shell.execute_reply": "2022-11-23T16:59:37.240465Z",
          "shell.execute_reply.started": "2021-10-12T12:15:34.149504Z"
        },
        "id": "aa9a1cf3",
        "outputId": "1e9aad49-1d78-40df-a17c-e31bb8e2b15d",
        "papermill": {
          "duration": 0.333735,
          "end_time": "2022-11-23T16:59:37.241417",
          "exception": false,
          "start_time": "2022-11-23T16:59:36.907682",
          "status": "completed"
        },
        "tags": [],
        "colab": {
          "base_uri": "https://localhost:8080/"
        }
      },
      "outputs": [
        {
          "output_type": "stream",
          "name": "stdout",
          "text": [
            "4/4 [==============================] - 0s 3ms/step\n",
            "[[1 0]\n",
            " [1 1]\n",
            " [1 1]\n",
            " [1 2]\n",
            " [1 2]\n",
            " [1 2]\n",
            " [1 1]\n",
            " [1 1]\n",
            " [1 2]\n",
            " [1 2]\n",
            " [0 0]\n",
            " [1 1]\n",
            " [1 2]\n",
            " [1 1]\n",
            " [0 0]\n",
            " [1 2]\n",
            " [1 1]\n",
            " [1 1]\n",
            " [0 0]\n",
            " [1 1]\n",
            " [1 2]\n",
            " [0 0]\n",
            " [1 2]\n",
            " [1 1]\n",
            " [1 2]\n",
            " [1 1]\n",
            " [1 1]\n",
            " [1 2]\n",
            " [1 2]\n",
            " [1 1]\n",
            " [0 0]\n",
            " [1 1]\n",
            " [1 1]\n",
            " [0 0]\n",
            " [1 2]\n",
            " [0 0]\n",
            " [0 0]\n",
            " [1 0]\n",
            " [0 0]\n",
            " [1 2]\n",
            " [1 2]\n",
            " [1 1]\n",
            " [1 2]\n",
            " [0 0]\n",
            " [1 2]\n",
            " [0 0]\n",
            " [1 1]\n",
            " [1 1]\n",
            " [0 0]\n",
            " [0 0]\n",
            " [1 2]\n",
            " [1 1]\n",
            " [0 0]\n",
            " [0 0]\n",
            " [0 0]\n",
            " [1 1]\n",
            " [0 0]\n",
            " [0 0]\n",
            " [0 0]\n",
            " [1 1]\n",
            " [1 1]\n",
            " [1 2]\n",
            " [0 0]\n",
            " [1 1]\n",
            " [0 0]\n",
            " [0 0]\n",
            " [0 0]\n",
            " [1 1]\n",
            " [0 0]\n",
            " [0 0]\n",
            " [0 0]\n",
            " [0 0]\n",
            " [1 2]\n",
            " [1 1]\n",
            " [1 1]\n",
            " [0 0]\n",
            " [1 1]\n",
            " [0 0]\n",
            " [1 1]\n",
            " [1 1]\n",
            " [1 1]\n",
            " [1 1]\n",
            " [0 0]\n",
            " [1 2]\n",
            " [1 1]\n",
            " [1 1]\n",
            " [0 0]\n",
            " [1 1]\n",
            " [1 1]\n",
            " [1 1]\n",
            " [0 0]\n",
            " [1 2]\n",
            " [1 1]\n",
            " [1 2]\n",
            " [1 1]\n",
            " [0 0]\n",
            " [1 1]\n",
            " [1 1]\n",
            " [0 0]\n",
            " [1 2]\n",
            " [1 2]\n",
            " [0 0]\n",
            " [1 2]\n",
            " [0 0]\n",
            " [1 1]\n",
            " [0 0]\n",
            " [1 1]]\n"
          ]
        }
      ],
      "source": [
        "# Prediction on Test data\n",
        "\n",
        "y_pred = ann.predict(X_test)\n",
        "y_pred = (y_pred > 0.5)\n",
        "print(np.concatenate((y_pred.reshape(len(y_pred),1), y_test.reshape(len(y_test),1)),1))"
      ]
    },
    {
      "cell_type": "code",
      "execution_count": 16,
      "id": "d5ec7858",
      "metadata": {
        "execution": {
          "iopub.execute_input": "2022-11-23T16:59:37.602973Z",
          "iopub.status.busy": "2022-11-23T16:59:37.602250Z",
          "iopub.status.idle": "2022-11-23T16:59:37.614510Z",
          "shell.execute_reply": "2022-11-23T16:59:37.615086Z",
          "shell.execute_reply.started": "2021-10-12T12:15:34.238956Z"
        },
        "id": "d5ec7858",
        "outputId": "f1b1eddf-4dc8-4ab9-d5c3-86059145a5eb",
        "papermill": {
          "duration": 0.201664,
          "end_time": "2022-11-23T16:59:37.615337",
          "exception": false,
          "start_time": "2022-11-23T16:59:37.413673",
          "status": "completed"
        },
        "tags": [],
        "colab": {
          "base_uri": "https://localhost:8080/"
        }
      },
      "outputs": [
        {
          "output_type": "stream",
          "name": "stdout",
          "text": [
            "[[37  2  0]\n",
            " [ 0 42  0]\n",
            " [ 0 26  0]]\n"
          ]
        },
        {
          "output_type": "execute_result",
          "data": {
            "text/plain": [
              "0.7383177570093458"
            ]
          },
          "metadata": {},
          "execution_count": 16
        }
      ],
      "source": [
        "# Calculating quality for model\n",
        "\n",
        "from sklearn.metrics import confusion_matrix, accuracy_score\n",
        "cm = confusion_matrix(y_test, y_pred)\n",
        "print(cm)\n",
        "accuracy_score(y_test, y_pred)"
      ]
    },
    {
      "cell_type": "markdown",
      "id": "814374b2",
      "metadata": {
        "id": "814374b2",
        "papermill": {
          "duration": 0.169769,
          "end_time": "2022-11-23T16:59:37.959907",
          "exception": false,
          "start_time": "2022-11-23T16:59:37.790138",
          "status": "completed"
        },
        "tags": []
      },
      "source": [
        "## Machine Learning Models"
      ]
    },
    {
      "cell_type": "markdown",
      "id": "3c221f9b",
      "metadata": {
        "id": "3c221f9b",
        "papermill": {
          "duration": 0.169415,
          "end_time": "2022-11-23T16:59:38.311367",
          "exception": false,
          "start_time": "2022-11-23T16:59:38.141952",
          "status": "completed"
        },
        "tags": []
      },
      "source": [
        "### Applying KNN"
      ]
    },
    {
      "cell_type": "code",
      "execution_count": 17,
      "id": "d7f2a5fd",
      "metadata": {
        "execution": {
          "iopub.execute_input": "2022-11-23T16:59:38.658554Z",
          "iopub.status.busy": "2022-11-23T16:59:38.657657Z",
          "iopub.status.idle": "2022-11-23T16:59:38.832448Z",
          "shell.execute_reply": "2022-11-23T16:59:38.832918Z",
          "shell.execute_reply.started": "2021-10-12T12:15:34.250902Z"
        },
        "id": "d7f2a5fd",
        "outputId": "5e02b7c8-0a8f-4def-a139-4b560f5165f2",
        "papermill": {
          "duration": 0.352217,
          "end_time": "2022-11-23T16:59:38.833159",
          "exception": false,
          "start_time": "2022-11-23T16:59:38.480942",
          "status": "completed"
        },
        "tags": [],
        "colab": {
          "base_uri": "https://localhost:8080/"
        }
      },
      "outputs": [
        {
          "output_type": "execute_result",
          "data": {
            "text/plain": [
              "KNeighborsClassifier()"
            ]
          },
          "metadata": {},
          "execution_count": 17
        }
      ],
      "source": [
        "# KNN:K Nearest Neighbour\n",
        "from sklearn.neighbors import KNeighborsClassifier\n",
        "classifier=KNeighborsClassifier(n_neighbors=5)\n",
        "classifier.fit(X_train,y_train)"
      ]
    },
    {
      "cell_type": "code",
      "execution_count": 18,
      "id": "7b8b16bb",
      "metadata": {
        "execution": {
          "iopub.execute_input": "2022-11-23T16:59:39.179856Z",
          "iopub.status.busy": "2022-11-23T16:59:39.179146Z",
          "iopub.status.idle": "2022-11-23T16:59:39.193407Z",
          "shell.execute_reply": "2022-11-23T16:59:39.192643Z",
          "shell.execute_reply.started": "2021-10-12T12:15:34.270142Z"
        },
        "id": "7b8b16bb",
        "outputId": "3830937e-d76c-4363-f1a0-d6d5aab381ce",
        "papermill": {
          "duration": 0.188544,
          "end_time": "2022-11-23T16:59:39.193588",
          "exception": false,
          "start_time": "2022-11-23T16:59:39.005044",
          "status": "completed"
        },
        "tags": [],
        "colab": {
          "base_uri": "https://localhost:8080/"
        }
      },
      "outputs": [
        {
          "output_type": "stream",
          "name": "stdout",
          "text": [
            "[[0 0]\n",
            " [1 1]\n",
            " [1 1]\n",
            " [2 2]\n",
            " [2 2]\n",
            " [2 2]\n",
            " [1 1]\n",
            " [1 1]\n",
            " [2 2]\n",
            " [2 2]\n",
            " [0 0]\n",
            " [1 1]\n",
            " [2 2]\n",
            " [1 1]\n",
            " [0 0]\n",
            " [2 2]\n",
            " [1 1]\n",
            " [1 1]\n",
            " [0 0]\n",
            " [1 1]\n",
            " [2 2]\n",
            " [0 0]\n",
            " [2 2]\n",
            " [2 1]\n",
            " [2 2]\n",
            " [1 1]\n",
            " [1 1]\n",
            " [2 2]\n",
            " [2 2]\n",
            " [1 1]\n",
            " [0 0]\n",
            " [1 1]\n",
            " [1 1]\n",
            " [0 0]\n",
            " [2 2]\n",
            " [0 0]\n",
            " [0 0]\n",
            " [1 0]\n",
            " [0 0]\n",
            " [2 2]\n",
            " [2 2]\n",
            " [1 1]\n",
            " [2 2]\n",
            " [0 0]\n",
            " [2 2]\n",
            " [0 0]\n",
            " [1 1]\n",
            " [1 1]\n",
            " [0 0]\n",
            " [0 0]\n",
            " [2 2]\n",
            " [1 1]\n",
            " [0 0]\n",
            " [0 0]\n",
            " [0 0]\n",
            " [1 1]\n",
            " [0 0]\n",
            " [0 0]\n",
            " [0 0]\n",
            " [1 1]\n",
            " [1 1]\n",
            " [2 2]\n",
            " [0 0]\n",
            " [1 1]\n",
            " [0 0]\n",
            " [0 0]\n",
            " [0 0]\n",
            " [1 1]\n",
            " [0 0]\n",
            " [0 0]\n",
            " [0 0]\n",
            " [0 0]\n",
            " [2 2]\n",
            " [1 1]\n",
            " [1 1]\n",
            " [0 0]\n",
            " [1 1]\n",
            " [0 0]\n",
            " [1 1]\n",
            " [1 1]\n",
            " [1 1]\n",
            " [1 1]\n",
            " [0 0]\n",
            " [2 2]\n",
            " [1 1]\n",
            " [1 1]\n",
            " [0 0]\n",
            " [1 1]\n",
            " [1 1]\n",
            " [1 1]\n",
            " [0 0]\n",
            " [2 2]\n",
            " [1 1]\n",
            " [2 2]\n",
            " [1 1]\n",
            " [0 0]\n",
            " [1 1]\n",
            " [1 1]\n",
            " [0 0]\n",
            " [2 2]\n",
            " [2 2]\n",
            " [0 0]\n",
            " [2 2]\n",
            " [0 0]\n",
            " [1 1]\n",
            " [0 0]\n",
            " [1 1]]\n"
          ]
        }
      ],
      "source": [
        "# Training the model\n",
        "y_pred=classifier.predict(X_test)\n",
        "print(np.concatenate((y_pred.reshape(len(y_pred),1), y_test.reshape(len(y_test),1)),1))"
      ]
    },
    {
      "cell_type": "code",
      "execution_count": 19,
      "id": "1bb2c3f0",
      "metadata": {
        "execution": {
          "iopub.execute_input": "2022-11-23T16:59:39.531382Z",
          "iopub.status.busy": "2022-11-23T16:59:39.530652Z",
          "iopub.status.idle": "2022-11-23T16:59:39.543328Z",
          "shell.execute_reply": "2022-11-23T16:59:39.542604Z",
          "shell.execute_reply.started": "2021-10-12T12:15:34.294245Z"
        },
        "id": "1bb2c3f0",
        "outputId": "73a9ba4c-69b1-4c8c-d5b3-4b133fffbf4b",
        "papermill": {
          "duration": 0.182651,
          "end_time": "2022-11-23T16:59:39.543483",
          "exception": false,
          "start_time": "2022-11-23T16:59:39.360832",
          "status": "completed"
        },
        "tags": [],
        "colab": {
          "base_uri": "https://localhost:8080/"
        }
      },
      "outputs": [
        {
          "output_type": "stream",
          "name": "stdout",
          "text": [
            "[[38  1  0]\n",
            " [ 0 41  1]\n",
            " [ 0  0 26]]\n"
          ]
        },
        {
          "output_type": "execute_result",
          "data": {
            "text/plain": [
              "0.9813084112149533"
            ]
          },
          "metadata": {},
          "execution_count": 19
        }
      ],
      "source": [
        "# Calculating quality for model\n",
        "\n",
        "from sklearn.metrics import confusion_matrix, accuracy_score\n",
        "cm = confusion_matrix(y_test, y_pred)\n",
        "print(cm)\n",
        "accuracy_score(y_test, y_pred)"
      ]
    },
    {
      "cell_type": "markdown",
      "id": "723f8594",
      "metadata": {
        "id": "723f8594",
        "papermill": {
          "duration": 0.167282,
          "end_time": "2022-11-23T16:59:39.877805",
          "exception": false,
          "start_time": "2022-11-23T16:59:39.710523",
          "status": "completed"
        },
        "tags": []
      },
      "source": [
        "### Applying Decision Tree"
      ]
    },
    {
      "cell_type": "code",
      "execution_count": 20,
      "id": "09b49c4a",
      "metadata": {
        "execution": {
          "iopub.execute_input": "2022-11-23T16:59:40.222405Z",
          "iopub.status.busy": "2022-11-23T16:59:40.221590Z",
          "iopub.status.idle": "2022-11-23T16:59:40.258437Z",
          "shell.execute_reply": "2022-11-23T16:59:40.258907Z",
          "shell.execute_reply.started": "2021-10-12T12:15:34.30557Z"
        },
        "id": "09b49c4a",
        "outputId": "703cc99e-90dd-4dd3-f35b-c9725317d028",
        "papermill": {
          "duration": 0.211723,
          "end_time": "2022-11-23T16:59:40.259108",
          "exception": false,
          "start_time": "2022-11-23T16:59:40.047385",
          "status": "completed"
        },
        "tags": [],
        "colab": {
          "base_uri": "https://localhost:8080/"
        }
      },
      "outputs": [
        {
          "output_type": "execute_result",
          "data": {
            "text/plain": [
              "DecisionTreeClassifier(criterion='entropy', random_state=0)"
            ]
          },
          "metadata": {},
          "execution_count": 20
        }
      ],
      "source": [
        "# Training the model\n",
        "from sklearn.tree import DecisionTreeClassifier  \n",
        "classifier= DecisionTreeClassifier(criterion='entropy', random_state=0)  \n",
        "classifier.fit(X_train, y_train)  "
      ]
    },
    {
      "cell_type": "code",
      "execution_count": 21,
      "id": "fae5a909",
      "metadata": {
        "execution": {
          "iopub.execute_input": "2022-11-23T16:59:40.601733Z",
          "iopub.status.busy": "2022-11-23T16:59:40.600641Z",
          "iopub.status.idle": "2022-11-23T16:59:40.608057Z",
          "shell.execute_reply": "2022-11-23T16:59:40.608517Z",
          "shell.execute_reply.started": "2021-10-12T12:15:34.325965Z"
        },
        "id": "fae5a909",
        "outputId": "b2ee2936-c722-446a-aeb6-06325b0c917c",
        "papermill": {
          "duration": 0.18256,
          "end_time": "2022-11-23T16:59:40.608706",
          "exception": false,
          "start_time": "2022-11-23T16:59:40.426146",
          "status": "completed"
        },
        "tags": [],
        "colab": {
          "base_uri": "https://localhost:8080/"
        }
      },
      "outputs": [
        {
          "output_type": "stream",
          "name": "stdout",
          "text": [
            "[[1 0]\n",
            " [1 1]\n",
            " [1 1]\n",
            " [2 2]\n",
            " [1 2]\n",
            " [2 2]\n",
            " [1 1]\n",
            " [1 1]\n",
            " [2 2]\n",
            " [2 2]\n",
            " [0 0]\n",
            " [1 1]\n",
            " [2 2]\n",
            " [1 1]\n",
            " [0 0]\n",
            " [2 2]\n",
            " [1 1]\n",
            " [1 1]\n",
            " [0 0]\n",
            " [1 1]\n",
            " [2 2]\n",
            " [0 0]\n",
            " [2 2]\n",
            " [1 1]\n",
            " [2 2]\n",
            " [1 1]\n",
            " [1 1]\n",
            " [2 2]\n",
            " [2 2]\n",
            " [1 1]\n",
            " [1 0]\n",
            " [1 1]\n",
            " [1 1]\n",
            " [0 0]\n",
            " [2 2]\n",
            " [0 0]\n",
            " [0 0]\n",
            " [1 0]\n",
            " [0 0]\n",
            " [2 2]\n",
            " [1 2]\n",
            " [1 1]\n",
            " [2 2]\n",
            " [0 0]\n",
            " [2 2]\n",
            " [0 0]\n",
            " [1 1]\n",
            " [1 1]\n",
            " [0 0]\n",
            " [0 0]\n",
            " [2 2]\n",
            " [1 1]\n",
            " [0 0]\n",
            " [0 0]\n",
            " [0 0]\n",
            " [1 1]\n",
            " [0 0]\n",
            " [0 0]\n",
            " [0 0]\n",
            " [1 1]\n",
            " [1 1]\n",
            " [2 2]\n",
            " [0 0]\n",
            " [1 1]\n",
            " [0 0]\n",
            " [0 0]\n",
            " [0 0]\n",
            " [1 1]\n",
            " [0 0]\n",
            " [0 0]\n",
            " [0 0]\n",
            " [0 0]\n",
            " [2 2]\n",
            " [1 1]\n",
            " [1 1]\n",
            " [0 0]\n",
            " [1 1]\n",
            " [0 0]\n",
            " [1 1]\n",
            " [1 1]\n",
            " [1 1]\n",
            " [1 1]\n",
            " [0 0]\n",
            " [2 2]\n",
            " [1 1]\n",
            " [1 1]\n",
            " [0 0]\n",
            " [1 1]\n",
            " [1 1]\n",
            " [1 1]\n",
            " [0 0]\n",
            " [2 2]\n",
            " [1 1]\n",
            " [2 2]\n",
            " [1 1]\n",
            " [0 0]\n",
            " [1 1]\n",
            " [1 1]\n",
            " [1 0]\n",
            " [2 2]\n",
            " [2 2]\n",
            " [0 0]\n",
            " [2 2]\n",
            " [0 0]\n",
            " [1 1]\n",
            " [0 0]\n",
            " [1 1]]\n"
          ]
        }
      ],
      "source": [
        "# Predicting the values\n",
        "y_pred=classifier.predict(X_test)\n",
        "print(np.concatenate((y_pred.reshape(len(y_pred),1), y_test.reshape(len(y_test),1)),1))"
      ]
    },
    {
      "cell_type": "code",
      "execution_count": 22,
      "id": "908c139d",
      "metadata": {
        "execution": {
          "iopub.execute_input": "2022-11-23T16:59:40.950283Z",
          "iopub.status.busy": "2022-11-23T16:59:40.949193Z",
          "iopub.status.idle": "2022-11-23T16:59:40.959507Z",
          "shell.execute_reply": "2022-11-23T16:59:40.958783Z",
          "shell.execute_reply.started": "2021-10-12T12:15:34.335643Z"
        },
        "id": "908c139d",
        "outputId": "a5435cb9-bce1-405c-d56e-89fd5bd7d8da",
        "papermill": {
          "duration": 0.185475,
          "end_time": "2022-11-23T16:59:40.959736",
          "exception": false,
          "start_time": "2022-11-23T16:59:40.774261",
          "status": "completed"
        },
        "tags": [],
        "colab": {
          "base_uri": "https://localhost:8080/"
        }
      },
      "outputs": [
        {
          "output_type": "stream",
          "name": "stdout",
          "text": [
            "[[35  4  0]\n",
            " [ 0 42  0]\n",
            " [ 0  2 24]]\n"
          ]
        },
        {
          "output_type": "execute_result",
          "data": {
            "text/plain": [
              "0.9439252336448598"
            ]
          },
          "metadata": {},
          "execution_count": 22
        }
      ],
      "source": [
        "# Calculating quality for model\n",
        "\n",
        "from sklearn.metrics import confusion_matrix, accuracy_score\n",
        "cm = confusion_matrix(y_test, y_pred)\n",
        "print(cm)\n",
        "accuracy_score(y_test, y_pred)"
      ]
    },
    {
      "cell_type": "markdown",
      "id": "d3a2226f",
      "metadata": {
        "id": "d3a2226f",
        "papermill": {
          "duration": 0.168555,
          "end_time": "2022-11-23T16:59:41.300783",
          "exception": false,
          "start_time": "2022-11-23T16:59:41.132228",
          "status": "completed"
        },
        "tags": []
      },
      "source": [
        "### Applying Naive Bayes"
      ]
    },
    {
      "cell_type": "code",
      "execution_count": 23,
      "id": "f3575ddc",
      "metadata": {
        "execution": {
          "iopub.execute_input": "2022-11-23T16:59:41.646461Z",
          "iopub.status.busy": "2022-11-23T16:59:41.643868Z",
          "iopub.status.idle": "2022-11-23T16:59:41.657912Z",
          "shell.execute_reply": "2022-11-23T16:59:41.657194Z",
          "shell.execute_reply.started": "2021-10-12T12:15:34.353345Z"
        },
        "id": "f3575ddc",
        "outputId": "2778fb0d-afab-4c13-af20-3bd47fc0f3d9",
        "papermill": {
          "duration": 0.189931,
          "end_time": "2022-11-23T16:59:41.658083",
          "exception": false,
          "start_time": "2022-11-23T16:59:41.468152",
          "status": "completed"
        },
        "tags": [],
        "colab": {
          "base_uri": "https://localhost:8080/"
        }
      },
      "outputs": [
        {
          "output_type": "execute_result",
          "data": {
            "text/plain": [
              "GaussianNB()"
            ]
          },
          "metadata": {},
          "execution_count": 23
        }
      ],
      "source": [
        "# Training the model  \n",
        "from sklearn.naive_bayes import GaussianNB  \n",
        "classifier = GaussianNB()  \n",
        "classifier.fit(X_train, y_train)  "
      ]
    },
    {
      "cell_type": "code",
      "execution_count": 24,
      "id": "979d1215",
      "metadata": {
        "execution": {
          "iopub.execute_input": "2022-11-23T16:59:41.999519Z",
          "iopub.status.busy": "2022-11-23T16:59:41.998728Z",
          "iopub.status.idle": "2022-11-23T16:59:42.010864Z",
          "shell.execute_reply": "2022-11-23T16:59:42.010085Z",
          "shell.execute_reply.started": "2021-10-12T12:15:34.365909Z"
        },
        "id": "979d1215",
        "outputId": "48c51414-6286-4959-f4d5-026eb5178f68",
        "papermill": {
          "duration": 0.182778,
          "end_time": "2022-11-23T16:59:42.011093",
          "exception": false,
          "start_time": "2022-11-23T16:59:41.828315",
          "status": "completed"
        },
        "tags": [],
        "colab": {
          "base_uri": "https://localhost:8080/"
        }
      },
      "outputs": [
        {
          "output_type": "stream",
          "name": "stdout",
          "text": [
            "[[1 0]\n",
            " [1 1]\n",
            " [1 1]\n",
            " [2 2]\n",
            " [2 2]\n",
            " [2 2]\n",
            " [1 1]\n",
            " [1 1]\n",
            " [2 2]\n",
            " [2 2]\n",
            " [0 0]\n",
            " [1 1]\n",
            " [2 2]\n",
            " [1 1]\n",
            " [0 0]\n",
            " [2 2]\n",
            " [1 1]\n",
            " [1 1]\n",
            " [0 0]\n",
            " [1 1]\n",
            " [2 2]\n",
            " [0 0]\n",
            " [2 2]\n",
            " [2 1]\n",
            " [2 2]\n",
            " [1 1]\n",
            " [1 1]\n",
            " [2 2]\n",
            " [2 2]\n",
            " [1 1]\n",
            " [0 0]\n",
            " [1 1]\n",
            " [1 1]\n",
            " [0 0]\n",
            " [2 2]\n",
            " [0 0]\n",
            " [1 0]\n",
            " [1 0]\n",
            " [0 0]\n",
            " [2 2]\n",
            " [2 2]\n",
            " [1 1]\n",
            " [2 2]\n",
            " [0 0]\n",
            " [2 2]\n",
            " [1 0]\n",
            " [1 1]\n",
            " [1 1]\n",
            " [0 0]\n",
            " [0 0]\n",
            " [2 2]\n",
            " [1 1]\n",
            " [0 0]\n",
            " [0 0]\n",
            " [0 0]\n",
            " [1 1]\n",
            " [0 0]\n",
            " [0 0]\n",
            " [0 0]\n",
            " [1 1]\n",
            " [1 1]\n",
            " [2 2]\n",
            " [0 0]\n",
            " [1 1]\n",
            " [0 0]\n",
            " [0 0]\n",
            " [0 0]\n",
            " [1 1]\n",
            " [0 0]\n",
            " [0 0]\n",
            " [0 0]\n",
            " [0 0]\n",
            " [2 2]\n",
            " [1 1]\n",
            " [1 1]\n",
            " [0 0]\n",
            " [1 1]\n",
            " [0 0]\n",
            " [1 1]\n",
            " [1 1]\n",
            " [1 1]\n",
            " [1 1]\n",
            " [0 0]\n",
            " [2 2]\n",
            " [1 1]\n",
            " [1 1]\n",
            " [0 0]\n",
            " [1 1]\n",
            " [1 1]\n",
            " [1 1]\n",
            " [0 0]\n",
            " [2 2]\n",
            " [1 1]\n",
            " [2 2]\n",
            " [1 1]\n",
            " [0 0]\n",
            " [1 1]\n",
            " [1 1]\n",
            " [0 0]\n",
            " [2 2]\n",
            " [2 2]\n",
            " [0 0]\n",
            " [2 2]\n",
            " [0 0]\n",
            " [1 1]\n",
            " [0 0]\n",
            " [1 1]]\n"
          ]
        }
      ],
      "source": [
        "# Predicting the values\n",
        "y_pred=classifier.predict(X_test)\n",
        "print(np.concatenate((y_pred.reshape(len(y_pred),1), y_test.reshape(len(y_test),1)),1))"
      ]
    },
    {
      "cell_type": "code",
      "execution_count": 25,
      "id": "ab8ba406",
      "metadata": {
        "execution": {
          "iopub.execute_input": "2022-11-23T16:59:42.385448Z",
          "iopub.status.busy": "2022-11-23T16:59:42.382305Z",
          "iopub.status.idle": "2022-11-23T16:59:42.395465Z",
          "shell.execute_reply": "2022-11-23T16:59:42.396107Z",
          "shell.execute_reply.started": "2021-10-12T12:15:34.379393Z"
        },
        "id": "ab8ba406",
        "outputId": "cee02369-05e4-497a-ae81-a94caba7c803",
        "papermill": {
          "duration": 0.197872,
          "end_time": "2022-11-23T16:59:42.396358",
          "exception": false,
          "start_time": "2022-11-23T16:59:42.198486",
          "status": "completed"
        },
        "tags": [],
        "colab": {
          "base_uri": "https://localhost:8080/"
        }
      },
      "outputs": [
        {
          "output_type": "stream",
          "name": "stdout",
          "text": [
            "[[35  4  0]\n",
            " [ 0 41  1]\n",
            " [ 0  0 26]]\n"
          ]
        },
        {
          "output_type": "execute_result",
          "data": {
            "text/plain": [
              "0.9532710280373832"
            ]
          },
          "metadata": {},
          "execution_count": 25
        }
      ],
      "source": [
        "# Calculating quality for model\n",
        "\n",
        "from sklearn.metrics import confusion_matrix, accuracy_score\n",
        "cm = confusion_matrix(y_test, y_pred)\n",
        "print(cm)\n",
        "accuracy_score(y_test, y_pred)"
      ]
    },
    {
      "cell_type": "markdown",
      "id": "7da89e10",
      "metadata": {
        "id": "7da89e10",
        "papermill": {
          "duration": 0.172547,
          "end_time": "2022-11-23T16:59:42.740719",
          "exception": false,
          "start_time": "2022-11-23T16:59:42.568172",
          "status": "completed"
        },
        "tags": []
      },
      "source": [
        "### Logistic Regression"
      ]
    },
    {
      "cell_type": "code",
      "execution_count": 26,
      "id": "5ab5a367",
      "metadata": {
        "execution": {
          "iopub.execute_input": "2022-11-23T16:59:43.100360Z",
          "iopub.status.busy": "2022-11-23T16:59:43.099636Z",
          "iopub.status.idle": "2022-11-23T16:59:43.124759Z",
          "shell.execute_reply": "2022-11-23T16:59:43.125282Z",
          "shell.execute_reply.started": "2021-10-12T12:15:34.395996Z"
        },
        "id": "5ab5a367",
        "papermill": {
          "duration": 0.213424,
          "end_time": "2022-11-23T16:59:43.125497",
          "exception": false,
          "start_time": "2022-11-23T16:59:42.912073",
          "status": "completed"
        },
        "tags": []
      },
      "outputs": [],
      "source": [
        "# Training the model\n",
        "from sklearn.linear_model import LogisticRegression\n",
        "logreg = LogisticRegression()\n",
        "logreg = logreg.fit(X_train,y_train)\n"
      ]
    },
    {
      "cell_type": "code",
      "execution_count": 27,
      "id": "e1e557c0",
      "metadata": {
        "execution": {
          "iopub.execute_input": "2022-11-23T16:59:43.462705Z",
          "iopub.status.busy": "2022-11-23T16:59:43.462022Z",
          "iopub.status.idle": "2022-11-23T16:59:43.470145Z",
          "shell.execute_reply": "2022-11-23T16:59:43.470922Z",
          "shell.execute_reply.started": "2021-10-12T12:15:34.423135Z"
        },
        "id": "e1e557c0",
        "outputId": "f491c162-9773-4d60-ea47-da1566979ae2",
        "papermill": {
          "duration": 0.179351,
          "end_time": "2022-11-23T16:59:43.471190",
          "exception": false,
          "start_time": "2022-11-23T16:59:43.291839",
          "status": "completed"
        },
        "tags": [],
        "colab": {
          "base_uri": "https://localhost:8080/"
        }
      },
      "outputs": [
        {
          "output_type": "stream",
          "name": "stdout",
          "text": [
            "[[1 0]\n",
            " [1 1]\n",
            " [1 1]\n",
            " [2 2]\n",
            " [2 2]\n",
            " [2 2]\n",
            " [1 1]\n",
            " [1 1]\n",
            " [2 2]\n",
            " [2 2]\n",
            " [0 0]\n",
            " [1 1]\n",
            " [2 2]\n",
            " [1 1]\n",
            " [0 0]\n",
            " [2 2]\n",
            " [1 1]\n",
            " [1 1]\n",
            " [0 0]\n",
            " [1 1]\n",
            " [2 2]\n",
            " [0 0]\n",
            " [2 2]\n",
            " [2 1]\n",
            " [2 2]\n",
            " [1 1]\n",
            " [1 1]\n",
            " [2 2]\n",
            " [2 2]\n",
            " [1 1]\n",
            " [0 0]\n",
            " [1 1]\n",
            " [1 1]\n",
            " [0 0]\n",
            " [2 2]\n",
            " [0 0]\n",
            " [1 0]\n",
            " [1 0]\n",
            " [0 0]\n",
            " [2 2]\n",
            " [2 2]\n",
            " [1 1]\n",
            " [2 2]\n",
            " [0 0]\n",
            " [2 2]\n",
            " [1 0]\n",
            " [1 1]\n",
            " [1 1]\n",
            " [0 0]\n",
            " [0 0]\n",
            " [2 2]\n",
            " [1 1]\n",
            " [0 0]\n",
            " [0 0]\n",
            " [0 0]\n",
            " [1 1]\n",
            " [0 0]\n",
            " [0 0]\n",
            " [0 0]\n",
            " [1 1]\n",
            " [1 1]\n",
            " [2 2]\n",
            " [0 0]\n",
            " [1 1]\n",
            " [0 0]\n",
            " [0 0]\n",
            " [0 0]\n",
            " [1 1]\n",
            " [0 0]\n",
            " [0 0]\n",
            " [0 0]\n",
            " [0 0]\n",
            " [2 2]\n",
            " [1 1]\n",
            " [1 1]\n",
            " [0 0]\n",
            " [1 1]\n",
            " [0 0]\n",
            " [1 1]\n",
            " [1 1]\n",
            " [1 1]\n",
            " [1 1]\n",
            " [0 0]\n",
            " [2 2]\n",
            " [1 1]\n",
            " [1 1]\n",
            " [0 0]\n",
            " [1 1]\n",
            " [1 1]\n",
            " [1 1]\n",
            " [0 0]\n",
            " [2 2]\n",
            " [1 1]\n",
            " [2 2]\n",
            " [1 1]\n",
            " [0 0]\n",
            " [1 1]\n",
            " [1 1]\n",
            " [0 0]\n",
            " [2 2]\n",
            " [2 2]\n",
            " [0 0]\n",
            " [2 2]\n",
            " [0 0]\n",
            " [1 1]\n",
            " [0 0]\n",
            " [1 1]]\n"
          ]
        }
      ],
      "source": [
        "# Predicting the values\n",
        "y_pred=classifier.predict(X_test)\n",
        "print(np.concatenate((y_pred.reshape(len(y_pred),1), y_test.reshape(len(y_test),1)),1))"
      ]
    },
    {
      "cell_type": "code",
      "execution_count": 28,
      "id": "ccfac2d3",
      "metadata": {
        "execution": {
          "iopub.execute_input": "2022-11-23T16:59:43.819297Z",
          "iopub.status.busy": "2022-11-23T16:59:43.813301Z",
          "iopub.status.idle": "2022-11-23T16:59:43.825769Z",
          "shell.execute_reply": "2022-11-23T16:59:43.826515Z",
          "shell.execute_reply.started": "2021-10-12T12:15:34.433182Z"
        },
        "id": "ccfac2d3",
        "outputId": "f578eae1-03a0-4596-e71d-95a68fc20b7d",
        "papermill": {
          "duration": 0.184029,
          "end_time": "2022-11-23T16:59:43.826742",
          "exception": false,
          "start_time": "2022-11-23T16:59:43.642713",
          "status": "completed"
        },
        "tags": [],
        "colab": {
          "base_uri": "https://localhost:8080/"
        }
      },
      "outputs": [
        {
          "output_type": "stream",
          "name": "stdout",
          "text": [
            "[[35  4  0]\n",
            " [ 0 41  1]\n",
            " [ 0  0 26]]\n"
          ]
        },
        {
          "output_type": "execute_result",
          "data": {
            "text/plain": [
              "0.9532710280373832"
            ]
          },
          "metadata": {},
          "execution_count": 28
        }
      ],
      "source": [
        "# Calculating quality for model\n",
        "\n",
        "from sklearn.metrics import confusion_matrix, accuracy_score\n",
        "cm = confusion_matrix(y_test, y_pred)\n",
        "print(cm)\n",
        "accuracy_score(y_test, y_pred)"
      ]
    },
    {
      "cell_type": "markdown",
      "id": "8e25650b",
      "metadata": {
        "id": "8e25650b",
        "papermill": {
          "duration": 0.183074,
          "end_time": "2022-11-23T16:59:44.184734",
          "exception": false,
          "start_time": "2022-11-23T16:59:44.001660",
          "status": "completed"
        },
        "tags": []
      },
      "source": [
        "### Support Vector Machine"
      ]
    },
    {
      "cell_type": "code",
      "execution_count": 29,
      "id": "7834ba0a",
      "metadata": {
        "execution": {
          "iopub.execute_input": "2022-11-23T16:59:44.540178Z",
          "iopub.status.busy": "2022-11-23T16:59:44.539289Z",
          "iopub.status.idle": "2022-11-23T16:59:44.550100Z",
          "shell.execute_reply": "2022-11-23T16:59:44.549436Z",
          "shell.execute_reply.started": "2021-10-12T12:15:34.45395Z"
        },
        "id": "7834ba0a",
        "outputId": "572d21a0-ce63-4f02-d959-f4fb8963a197",
        "papermill": {
          "duration": 0.188058,
          "end_time": "2022-11-23T16:59:44.550259",
          "exception": false,
          "start_time": "2022-11-23T16:59:44.362201",
          "status": "completed"
        },
        "tags": [],
        "colab": {
          "base_uri": "https://localhost:8080/"
        }
      },
      "outputs": [
        {
          "output_type": "execute_result",
          "data": {
            "text/plain": [
              "SVC(random_state=1)"
            ]
          },
          "metadata": {},
          "execution_count": 29
        }
      ],
      "source": [
        "# Training the model\n",
        "from sklearn.svm import SVC\n",
        "classifier = SVC(kernel='rbf', random_state = 1)\n",
        "classifier.fit(X_train,y_train)"
      ]
    },
    {
      "cell_type": "code",
      "execution_count": 30,
      "id": "1a439995",
      "metadata": {
        "execution": {
          "iopub.execute_input": "2022-11-23T16:59:44.907389Z",
          "iopub.status.busy": "2022-11-23T16:59:44.906564Z",
          "iopub.status.idle": "2022-11-23T16:59:44.909767Z",
          "shell.execute_reply": "2022-11-23T16:59:44.910637Z",
          "shell.execute_reply.started": "2021-10-12T12:15:34.468736Z"
        },
        "id": "1a439995",
        "outputId": "cf9252e7-782a-47d7-9540-769cfec4234a",
        "papermill": {
          "duration": 0.186758,
          "end_time": "2022-11-23T16:59:44.910915",
          "exception": false,
          "start_time": "2022-11-23T16:59:44.724157",
          "status": "completed"
        },
        "tags": [],
        "colab": {
          "base_uri": "https://localhost:8080/"
        }
      },
      "outputs": [
        {
          "output_type": "stream",
          "name": "stdout",
          "text": [
            "[[0 0]\n",
            " [1 1]\n",
            " [1 1]\n",
            " [2 2]\n",
            " [2 2]\n",
            " [2 2]\n",
            " [1 1]\n",
            " [1 1]\n",
            " [2 2]\n",
            " [2 2]\n",
            " [0 0]\n",
            " [1 1]\n",
            " [2 2]\n",
            " [1 1]\n",
            " [0 0]\n",
            " [2 2]\n",
            " [1 1]\n",
            " [1 1]\n",
            " [0 0]\n",
            " [1 1]\n",
            " [2 2]\n",
            " [0 0]\n",
            " [2 2]\n",
            " [2 1]\n",
            " [2 2]\n",
            " [1 1]\n",
            " [1 1]\n",
            " [2 2]\n",
            " [2 2]\n",
            " [1 1]\n",
            " [0 0]\n",
            " [1 1]\n",
            " [1 1]\n",
            " [0 0]\n",
            " [2 2]\n",
            " [0 0]\n",
            " [0 0]\n",
            " [1 0]\n",
            " [0 0]\n",
            " [2 2]\n",
            " [2 2]\n",
            " [1 1]\n",
            " [2 2]\n",
            " [0 0]\n",
            " [2 2]\n",
            " [0 0]\n",
            " [1 1]\n",
            " [1 1]\n",
            " [0 0]\n",
            " [0 0]\n",
            " [2 2]\n",
            " [1 1]\n",
            " [0 0]\n",
            " [0 0]\n",
            " [0 0]\n",
            " [1 1]\n",
            " [0 0]\n",
            " [0 0]\n",
            " [0 0]\n",
            " [1 1]\n",
            " [1 1]\n",
            " [2 2]\n",
            " [0 0]\n",
            " [1 1]\n",
            " [0 0]\n",
            " [0 0]\n",
            " [0 0]\n",
            " [1 1]\n",
            " [0 0]\n",
            " [0 0]\n",
            " [0 0]\n",
            " [0 0]\n",
            " [2 2]\n",
            " [1 1]\n",
            " [1 1]\n",
            " [0 0]\n",
            " [1 1]\n",
            " [0 0]\n",
            " [1 1]\n",
            " [1 1]\n",
            " [1 1]\n",
            " [1 1]\n",
            " [0 0]\n",
            " [2 2]\n",
            " [1 1]\n",
            " [1 1]\n",
            " [0 0]\n",
            " [1 1]\n",
            " [1 1]\n",
            " [1 1]\n",
            " [0 0]\n",
            " [2 2]\n",
            " [1 1]\n",
            " [2 2]\n",
            " [1 1]\n",
            " [0 0]\n",
            " [1 1]\n",
            " [1 1]\n",
            " [0 0]\n",
            " [2 2]\n",
            " [2 2]\n",
            " [0 0]\n",
            " [2 2]\n",
            " [0 0]\n",
            " [1 1]\n",
            " [0 0]\n",
            " [1 1]]\n"
          ]
        }
      ],
      "source": [
        "# Predicting the values\n",
        "y_pred=classifier.predict(X_test)\n",
        "print(np.concatenate((y_pred.reshape(len(y_pred),1), y_test.reshape(len(y_test),1)),1))\n",
        "final_classifier = classifier    # since max quality is for SVM so we have stored this in a final variable"
      ]
    },
    {
      "cell_type": "code",
      "execution_count": 31,
      "id": "668fb2d9",
      "metadata": {
        "execution": {
          "iopub.execute_input": "2022-11-23T16:59:45.261727Z",
          "iopub.status.busy": "2022-11-23T16:59:45.261017Z",
          "iopub.status.idle": "2022-11-23T16:59:45.270396Z",
          "shell.execute_reply": "2022-11-23T16:59:45.269720Z",
          "shell.execute_reply.started": "2021-10-12T12:15:34.478734Z"
        },
        "id": "668fb2d9",
        "outputId": "0ba22457-e2b7-4f3e-d583-15f622009ac5",
        "papermill": {
          "duration": 0.184576,
          "end_time": "2022-11-23T16:59:45.270545",
          "exception": false,
          "start_time": "2022-11-23T16:59:45.085969",
          "status": "completed"
        },
        "tags": [],
        "colab": {
          "base_uri": "https://localhost:8080/"
        }
      },
      "outputs": [
        {
          "output_type": "stream",
          "name": "stdout",
          "text": [
            "[[38  1  0]\n",
            " [ 0 41  1]\n",
            " [ 0  0 26]]\n"
          ]
        },
        {
          "output_type": "execute_result",
          "data": {
            "text/plain": [
              "0.9813084112149533"
            ]
          },
          "metadata": {},
          "execution_count": 31
        }
      ],
      "source": [
        "# Calculating quality for model\n",
        "\n",
        "from sklearn.metrics import confusion_matrix, accuracy_score\n",
        "cm = confusion_matrix(y_test, y_pred)\n",
        "print(cm)\n",
        "accuracy_score(y_test, y_pred)"
      ]
    },
    {
      "cell_type": "markdown",
      "id": "d6971361",
      "metadata": {
        "id": "d6971361",
        "papermill": {
          "duration": 0.173887,
          "end_time": "2022-11-23T16:59:45.616464",
          "exception": false,
          "start_time": "2022-11-23T16:59:45.442577",
          "status": "completed"
        },
        "tags": []
      },
      "source": [
        "## Final Prediction Using most Efficient algorithm\n"
      ]
    },
    {
      "cell_type": "code",
      "execution_count": 32,
      "id": "982bd3c2",
      "metadata": {
        "execution": {
          "iopub.execute_input": "2022-11-23T16:59:45.964601Z",
          "iopub.status.busy": "2022-11-23T16:59:45.963788Z",
          "iopub.status.idle": "2022-11-23T16:59:45.978522Z",
          "shell.execute_reply": "2022-11-23T16:59:45.979101Z",
          "shell.execute_reply.started": "2021-10-12T12:15:34.49228Z"
        },
        "id": "982bd3c2",
        "papermill": {
          "duration": 0.191635,
          "end_time": "2022-11-23T16:59:45.979298",
          "exception": false,
          "start_time": "2022-11-23T16:59:45.787663",
          "status": "completed"
        },
        "tags": []
      },
      "outputs": [],
      "source": [
        "# In this case maximum quality is for SVM so we will use this algorithm\n",
        "\n",
        "fin_test_data = pd.read_csv('test.csv')\n",
        "test_data = fin_test_data.drop('id',axis=1)\n",
        "test_data = sc.fit_transform(test_data)"
      ]
    },
    {
      "cell_type": "code",
      "execution_count": 33,
      "id": "1c9ee226",
      "metadata": {
        "execution": {
          "iopub.execute_input": "2022-11-23T16:59:46.327897Z",
          "iopub.status.busy": "2022-11-23T16:59:46.327125Z",
          "iopub.status.idle": "2022-11-23T16:59:46.335453Z",
          "shell.execute_reply": "2022-11-23T16:59:46.336116Z",
          "shell.execute_reply.started": "2021-10-12T12:15:34.510045Z"
        },
        "id": "1c9ee226",
        "outputId": "a8adb33e-aa55-4419-ecf3-305a0f80ebc3",
        "papermill": {
          "duration": 0.183816,
          "end_time": "2022-11-23T16:59:46.336322",
          "exception": false,
          "start_time": "2022-11-23T16:59:46.152506",
          "status": "completed"
        },
        "tags": [],
        "colab": {
          "base_uri": "https://localhost:8080/"
        }
      },
      "outputs": [
        {
          "output_type": "execute_result",
          "data": {
            "text/plain": [
              "array([2, 1, 2, 0, 2, 1, 1, 1, 1, 0, 1, 1, 0, 1, 2, 1, 0, 2, 0, 1, 1, 1,\n",
              "       1, 0, 2, 2, 0, 1, 2, 0, 0, 2, 0, 0, 1, 0, 1, 1, 0, 2, 2, 0, 2, 2,\n",
              "       0, 1, 0, 2, 1, 2, 1, 0, 1, 0, 0, 2, 1, 2, 0, 0, 1, 0, 1, 0, 2, 2,\n",
              "       2, 0, 1, 1, 1, 1, 0, 2, 1, 1, 0, 0, 2, 0, 0, 1, 2, 1, 2, 1, 0, 1,\n",
              "       0, 1, 0, 1, 1, 1, 2, 1, 2, 2, 0, 1, 1, 1, 0, 0, 1, 1, 1, 2, 2, 0,\n",
              "       0, 0, 0, 0, 1, 2, 2, 1, 1, 2, 0, 0, 1, 2, 0, 2, 1, 1, 1, 0, 1, 1,\n",
              "       0, 2, 0, 1, 0, 1, 0, 0, 2, 1, 1, 1, 1, 2, 0, 2, 2, 1, 0, 0, 1, 1,\n",
              "       0, 0, 1, 0, 2, 1, 2, 0, 1, 2, 2, 1, 0, 1, 2, 2, 1, 0, 1, 1, 0, 1,\n",
              "       0, 0])"
            ]
          },
          "metadata": {},
          "execution_count": 33
        }
      ],
      "source": [
        "final_pred = final_classifier.predict(test_data)\n",
        "final_pred"
      ]
    },
    {
      "cell_type": "code",
      "execution_count": 35,
      "id": "062f541e",
      "metadata": {
        "execution": {
          "iopub.execute_input": "2022-11-23T16:59:46.777107Z",
          "iopub.status.busy": "2022-11-23T16:59:46.776286Z",
          "iopub.status.idle": "2022-11-23T16:59:46.793429Z",
          "shell.execute_reply": "2022-11-23T16:59:46.794097Z",
          "shell.execute_reply.started": "2021-10-12T12:15:34.519661Z"
        },
        "id": "062f541e",
        "outputId": "2e812441-afd4-4ffa-c50a-c2840ece61aa",
        "papermill": {
          "duration": 0.205039,
          "end_time": "2022-11-23T16:59:46.794313",
          "exception": false,
          "start_time": "2022-11-23T16:59:46.589274",
          "status": "completed"
        },
        "tags": [],
        "colab": {
          "base_uri": "https://localhost:8080/",
          "height": 424
        }
      },
      "outputs": [
        {
          "output_type": "execute_result",
          "data": {
            "text/plain": [
              "      id  target\n",
              "0      0       0\n",
              "1      1       0\n",
              "2      2       0\n",
              "3      3       0\n",
              "4      4       0\n",
              "..   ...     ...\n",
              "173  173       0\n",
              "174  174       0\n",
              "175  175       0\n",
              "176  176       0\n",
              "177  177       0\n",
              "\n",
              "[178 rows x 2 columns]"
            ],
            "text/html": [
              "\n",
              "  <div id=\"df-57ae27c4-6de8-4d34-9914-14caa403bdec\">\n",
              "    <div class=\"colab-df-container\">\n",
              "      <div>\n",
              "<style scoped>\n",
              "    .dataframe tbody tr th:only-of-type {\n",
              "        vertical-align: middle;\n",
              "    }\n",
              "\n",
              "    .dataframe tbody tr th {\n",
              "        vertical-align: top;\n",
              "    }\n",
              "\n",
              "    .dataframe thead th {\n",
              "        text-align: right;\n",
              "    }\n",
              "</style>\n",
              "<table border=\"1\" class=\"dataframe\">\n",
              "  <thead>\n",
              "    <tr style=\"text-align: right;\">\n",
              "      <th></th>\n",
              "      <th>id</th>\n",
              "      <th>target</th>\n",
              "    </tr>\n",
              "  </thead>\n",
              "  <tbody>\n",
              "    <tr>\n",
              "      <th>0</th>\n",
              "      <td>0</td>\n",
              "      <td>0</td>\n",
              "    </tr>\n",
              "    <tr>\n",
              "      <th>1</th>\n",
              "      <td>1</td>\n",
              "      <td>0</td>\n",
              "    </tr>\n",
              "    <tr>\n",
              "      <th>2</th>\n",
              "      <td>2</td>\n",
              "      <td>0</td>\n",
              "    </tr>\n",
              "    <tr>\n",
              "      <th>3</th>\n",
              "      <td>3</td>\n",
              "      <td>0</td>\n",
              "    </tr>\n",
              "    <tr>\n",
              "      <th>4</th>\n",
              "      <td>4</td>\n",
              "      <td>0</td>\n",
              "    </tr>\n",
              "    <tr>\n",
              "      <th>...</th>\n",
              "      <td>...</td>\n",
              "      <td>...</td>\n",
              "    </tr>\n",
              "    <tr>\n",
              "      <th>173</th>\n",
              "      <td>173</td>\n",
              "      <td>0</td>\n",
              "    </tr>\n",
              "    <tr>\n",
              "      <th>174</th>\n",
              "      <td>174</td>\n",
              "      <td>0</td>\n",
              "    </tr>\n",
              "    <tr>\n",
              "      <th>175</th>\n",
              "      <td>175</td>\n",
              "      <td>0</td>\n",
              "    </tr>\n",
              "    <tr>\n",
              "      <th>176</th>\n",
              "      <td>176</td>\n",
              "      <td>0</td>\n",
              "    </tr>\n",
              "    <tr>\n",
              "      <th>177</th>\n",
              "      <td>177</td>\n",
              "      <td>0</td>\n",
              "    </tr>\n",
              "  </tbody>\n",
              "</table>\n",
              "<p>178 rows × 2 columns</p>\n",
              "</div>\n",
              "      <button class=\"colab-df-convert\" onclick=\"convertToInteractive('df-57ae27c4-6de8-4d34-9914-14caa403bdec')\"\n",
              "              title=\"Convert this dataframe to an interactive table.\"\n",
              "              style=\"display:none;\">\n",
              "        \n",
              "  <svg xmlns=\"http://www.w3.org/2000/svg\" height=\"24px\"viewBox=\"0 0 24 24\"\n",
              "       width=\"24px\">\n",
              "    <path d=\"M0 0h24v24H0V0z\" fill=\"none\"/>\n",
              "    <path d=\"M18.56 5.44l.94 2.06.94-2.06 2.06-.94-2.06-.94-.94-2.06-.94 2.06-2.06.94zm-11 1L8.5 8.5l.94-2.06 2.06-.94-2.06-.94L8.5 2.5l-.94 2.06-2.06.94zm10 10l.94 2.06.94-2.06 2.06-.94-2.06-.94-.94-2.06-.94 2.06-2.06.94z\"/><path d=\"M17.41 7.96l-1.37-1.37c-.4-.4-.92-.59-1.43-.59-.52 0-1.04.2-1.43.59L10.3 9.45l-7.72 7.72c-.78.78-.78 2.05 0 2.83L4 21.41c.39.39.9.59 1.41.59.51 0 1.02-.2 1.41-.59l7.78-7.78 2.81-2.81c.8-.78.8-2.07 0-2.86zM5.41 20L4 18.59l7.72-7.72 1.47 1.35L5.41 20z\"/>\n",
              "  </svg>\n",
              "      </button>\n",
              "      \n",
              "  <style>\n",
              "    .colab-df-container {\n",
              "      display:flex;\n",
              "      flex-wrap:wrap;\n",
              "      gap: 12px;\n",
              "    }\n",
              "\n",
              "    .colab-df-convert {\n",
              "      background-color: #E8F0FE;\n",
              "      border: none;\n",
              "      border-radius: 50%;\n",
              "      cursor: pointer;\n",
              "      display: none;\n",
              "      fill: #1967D2;\n",
              "      height: 32px;\n",
              "      padding: 0 0 0 0;\n",
              "      width: 32px;\n",
              "    }\n",
              "\n",
              "    .colab-df-convert:hover {\n",
              "      background-color: #E2EBFA;\n",
              "      box-shadow: 0px 1px 2px rgba(60, 64, 67, 0.3), 0px 1px 3px 1px rgba(60, 64, 67, 0.15);\n",
              "      fill: #174EA6;\n",
              "    }\n",
              "\n",
              "    [theme=dark] .colab-df-convert {\n",
              "      background-color: #3B4455;\n",
              "      fill: #D2E3FC;\n",
              "    }\n",
              "\n",
              "    [theme=dark] .colab-df-convert:hover {\n",
              "      background-color: #434B5C;\n",
              "      box-shadow: 0px 1px 3px 1px rgba(0, 0, 0, 0.15);\n",
              "      filter: drop-shadow(0px 1px 2px rgba(0, 0, 0, 0.3));\n",
              "      fill: #FFFFFF;\n",
              "    }\n",
              "  </style>\n",
              "\n",
              "      <script>\n",
              "        const buttonEl =\n",
              "          document.querySelector('#df-57ae27c4-6de8-4d34-9914-14caa403bdec button.colab-df-convert');\n",
              "        buttonEl.style.display =\n",
              "          google.colab.kernel.accessAllowed ? 'block' : 'none';\n",
              "\n",
              "        async function convertToInteractive(key) {\n",
              "          const element = document.querySelector('#df-57ae27c4-6de8-4d34-9914-14caa403bdec');\n",
              "          const dataTable =\n",
              "            await google.colab.kernel.invokeFunction('convertToInteractive',\n",
              "                                                     [key], {});\n",
              "          if (!dataTable) return;\n",
              "\n",
              "          const docLinkHtml = 'Like what you see? Visit the ' +\n",
              "            '<a target=\"_blank\" href=https://colab.research.google.com/notebooks/data_table.ipynb>data table notebook</a>'\n",
              "            + ' to learn more about interactive tables.';\n",
              "          element.innerHTML = '';\n",
              "          dataTable['output_type'] = 'display_data';\n",
              "          await google.colab.output.renderOutput(dataTable, element);\n",
              "          const docLink = document.createElement('div');\n",
              "          docLink.innerHTML = docLinkHtml;\n",
              "          element.appendChild(docLink);\n",
              "        }\n",
              "      </script>\n",
              "    </div>\n",
              "  </div>\n",
              "  "
            ]
          },
          "metadata": {},
          "execution_count": 35
        }
      ],
      "source": [
        "sample_submit = pd.read_csv('sample_submit.csv')\n",
        "sample_submit"
      ]
    },
    {
      "cell_type": "code",
      "execution_count": 36,
      "id": "6c988139",
      "metadata": {
        "execution": {
          "iopub.execute_input": "2022-11-23T16:59:47.168707Z",
          "iopub.status.busy": "2022-11-23T16:59:47.167835Z",
          "iopub.status.idle": "2022-11-23T16:59:47.178762Z",
          "shell.execute_reply": "2022-11-23T16:59:47.179576Z",
          "shell.execute_reply.started": "2021-10-12T12:15:34.540261Z"
        },
        "id": "6c988139",
        "outputId": "a0afc6fa-e769-4d1c-e1cb-219acea22964",
        "papermill": {
          "duration": 0.203681,
          "end_time": "2022-11-23T16:59:47.179908",
          "exception": false,
          "start_time": "2022-11-23T16:59:46.976227",
          "status": "completed"
        },
        "tags": [],
        "colab": {
          "base_uri": "https://localhost:8080/"
        }
      },
      "outputs": [
        {
          "output_type": "stream",
          "name": "stdout",
          "text": [
            "Your submission was successfully saved!\n"
          ]
        }
      ],
      "source": [
        "output = pd.DataFrame({'id':fin_test_data.id,'target':final_pred})\n",
        "output.to_csv('my_submission.csv', index=False)\n",
        "filename = \"my_submission.csv\"\n",
        "print(\"Your submission was successfully saved!\")"
      ]
    },
    {
      "cell_type": "code",
      "execution_count": 38,
      "id": "2e3ebe6d",
      "metadata": {
        "execution": {
          "iopub.execute_input": "2022-11-23T16:59:47.542489Z",
          "iopub.status.busy": "2022-11-23T16:59:47.541649Z",
          "iopub.status.idle": "2022-11-23T16:59:47.551607Z",
          "shell.execute_reply": "2022-11-23T16:59:47.551018Z",
          "shell.execute_reply.started": "2021-10-12T12:15:34.548937Z"
        },
        "id": "2e3ebe6d",
        "papermill": {
          "duration": 0.191311,
          "end_time": "2022-11-23T16:59:47.551780",
          "exception": false,
          "start_time": "2022-11-23T16:59:47.360469",
          "status": "completed"
        },
        "tags": [],
        "colab": {
          "base_uri": "https://localhost:8080/",
          "height": 34
        },
        "outputId": "ec154a1a-6f25-4003-b8a7-196a367ea5cf"
      },
      "outputs": [
        {
          "output_type": "execute_result",
          "data": {
            "text/plain": [
              "<IPython.core.display.HTML object>"
            ],
            "text/html": [
              "<a href=my_submission.csv>Download CSV file</a>"
            ]
          },
          "metadata": {},
          "execution_count": 38
        }
      ],
      "source": [
        "# Download the CSV file created above\n",
        "\n",
        "from IPython.display import HTML\n",
        "import pandas as pd\n",
        "import numpy as np\n",
        "\n",
        "def create_download_link(title = \"Download CSV file\", filename = filename):  \n",
        "    html = '<a href={filename}>{title}</a>'\n",
        "    html = html.format(title=title,filename=filename)\n",
        "    return HTML(html)\n",
        "\n",
        "# create a link to download the dataframe which was saved with .to_csv method\n",
        "create_download_link(filename=filename)"
      ]
    }
  ],
  "metadata": {
    "kernelspec": {
      "display_name": "Python 3",
      "language": "python",
      "name": "python3"
    },
    "language_info": {
      "codemirror_mode": {
        "name": "ipython",
        "version": 3
      },
      "file_extension": ".py",
      "mimetype": "text/x-python",
      "name": "python",
      "nbconvert_exporter": "python",
      "pygments_lexer": "ipython3",
      "version": "3.7.10"
    },
    "papermill": {
      "default_parameters": {},
      "duration": 44.059973,
      "end_time": "2022-11-23T16:59:50.596421",
      "environment_variables": {},
      "exception": null,
      "input_path": "__notebook__.ipynb",
      "output_path": "__notebook__.ipynb",
      "parameters": {},
      "start_time": "2022-11-23T16:59:06.536448",
      "version": "2.3.3"
    },
    "colab": {
      "provenance": [],
      "include_colab_link": true
    }
  },
  "nbformat": 4,
  "nbformat_minor": 5
}