{
  "nbformat": 4,
  "nbformat_minor": 0,
  "metadata": {
    "colab": {
      "name": "Sipco_bot.ipynb",
      "provenance": [],
      "authorship_tag": "ABX9TyO/cAU5ZZLmvJpSMnRO0AiC",
      "include_colab_link": true
    },
    "kernelspec": {
      "name": "python3",
      "display_name": "Python 3"
    }
  },
  "cells": [
    {
      "cell_type": "markdown",
      "metadata": {
        "id": "view-in-github",
        "colab_type": "text"
      },
      "source": [
        "<a href=\"https://colab.research.google.com/github/jcjimenezb123/PFM_PronosticoDemanda/blob/master/Sipco_bot.ipynb\" target=\"_parent\"><img src=\"https://colab.research.google.com/assets/colab-badge.svg\" alt=\"Open In Colab\"/></a>"
      ]
    },
    {
      "cell_type": "code",
      "metadata": {
        "colab": {
          "base_uri": "https://localhost:8080/"
        },
        "id": "89Gwk9ld7rti",
        "outputId": "8b9aaf7a-3707-48a9-bb9d-663156646113"
      },
      "source": [
        "!pip install python-telegram-bot"
      ],
      "execution_count": 2,
      "outputs": [
        {
          "output_type": "stream",
          "text": [
            "Collecting python-telegram-bot\n",
            "\u001b[?25l  Downloading https://files.pythonhosted.org/packages/16/48/1673b175b878e1ddf6608814cfdc3a9b899cd1e13d4d00b37f2d6b5a0c45/python_telegram_bot-13.2-py3-none-any.whl (434kB)\n",
            "\u001b[K     |████████████████████████████████| 440kB 8.8MB/s \n",
            "\u001b[?25hCollecting APScheduler==3.6.3\n",
            "\u001b[?25l  Downloading https://files.pythonhosted.org/packages/f3/34/9ef20ed473c4fd2c3df54ef77a27ae3fc7500b16b192add4720cab8b2c09/APScheduler-3.6.3-py2.py3-none-any.whl (58kB)\n",
            "\u001b[K     |████████████████████████████████| 61kB 5.9MB/s \n",
            "\u001b[?25hRequirement already satisfied: certifi in /usr/local/lib/python3.6/dist-packages (from python-telegram-bot) (2020.12.5)\n",
            "Requirement already satisfied: pytz>=2018.6 in /usr/local/lib/python3.6/dist-packages (from python-telegram-bot) (2018.9)\n",
            "Requirement already satisfied: tornado>=5.1 in /usr/local/lib/python3.6/dist-packages (from python-telegram-bot) (5.1.1)\n",
            "Collecting cryptography\n",
            "\u001b[?25l  Downloading https://files.pythonhosted.org/packages/c9/de/7054df0620b5411ba45480f0261e1fb66a53f3db31b28e3aa52c026e72d9/cryptography-3.3.1-cp36-abi3-manylinux2010_x86_64.whl (2.6MB)\n",
            "\u001b[K     |████████████████████████████████| 2.6MB 11.5MB/s \n",
            "\u001b[?25hRequirement already satisfied: setuptools>=0.7 in /usr/local/lib/python3.6/dist-packages (from APScheduler==3.6.3->python-telegram-bot) (53.0.0)\n",
            "Requirement already satisfied: tzlocal>=1.2 in /usr/local/lib/python3.6/dist-packages (from APScheduler==3.6.3->python-telegram-bot) (1.5.1)\n",
            "Requirement already satisfied: six>=1.4.0 in /usr/local/lib/python3.6/dist-packages (from APScheduler==3.6.3->python-telegram-bot) (1.15.0)\n",
            "Requirement already satisfied: cffi>=1.12 in /usr/local/lib/python3.6/dist-packages (from cryptography->python-telegram-bot) (1.14.4)\n",
            "Requirement already satisfied: pycparser in /usr/local/lib/python3.6/dist-packages (from cffi>=1.12->cryptography->python-telegram-bot) (2.20)\n",
            "Installing collected packages: APScheduler, cryptography, python-telegram-bot\n",
            "Successfully installed APScheduler-3.6.3 cryptography-3.3.1 python-telegram-bot-13.2\n"
          ],
          "name": "stdout"
        }
      ]
    },
    {
      "cell_type": "code",
      "metadata": {
        "colab": {
          "base_uri": "https://localhost:8080/"
        },
        "id": "NJc5LzD-7Fd-",
        "outputId": "a7e7a94f-946e-4b5a-8b59-47403660526b"
      },
      "source": [
        "#!/usr/bin/env python\r\n",
        "# -*- coding: utf-8 -*-\r\n",
        "# This program is dedicated to the public domain under the CC0 license.\r\n",
        "#\r\n",
        "# THIS EXAMPLE HAS BEEN UPDATED TO WORK WITH THE BETA VERSION 12 OF PYTHON-TELEGRAM-BOT.\r\n",
        "# If you're still using version 11.1.0, please see the examples at\r\n",
        "# https://github.com/python-telegram-bot/python-telegram-bot/tree/v11.1.0/examples\r\n",
        "\r\n",
        "\"\"\"\r\n",
        "Simple Bot to reply to Telegram messages.\r\n",
        "\r\n",
        "First, a few handler functions are defined. Then, those functions are passed to\r\n",
        "the Dispatcher and registered at their respective places.\r\n",
        "Then, the bot is started and runs until we press Ctrl-C on the command line.\r\n",
        "\r\n",
        "Usage:\r\n",
        "Basic Echobot example, repeats messages.\r\n",
        "Press Ctrl-C on the command line or send a signal to the process to stop the\r\n",
        "bot.\r\n",
        "\"\"\"\r\n",
        "\r\n",
        "import logging\r\n",
        "\r\n",
        "from telegram.ext import Updater, CommandHandler, MessageHandler, Filters\r\n",
        "\r\n",
        "# Enable logging\r\n",
        "logging.basicConfig(format='%(asctime)s - %(name)s - %(levelname)s - %(message)s',\r\n",
        "                    level=logging.INFO)\r\n",
        "\r\n",
        "logger = logging.getLogger(__name__)\r\n",
        "\r\n",
        "\r\n",
        "# Define a few command handlers. These usually take the two arguments bot and\r\n",
        "# update. Error handlers also receive the raised TelegramError object in error.\r\n",
        "def start(update, context):\r\n",
        "    \"\"\"Send a message when the command /start is issued.\"\"\"\r\n",
        "    update.message.reply_text('Hi!')\r\n",
        "\r\n",
        "\r\n",
        "def help(update, context):\r\n",
        "    \"\"\"Send a message when the command /help is issued.\"\"\"\r\n",
        "    update.message.reply_text('Help!')\r\n",
        "\r\n",
        "\r\n",
        "def echo(update, context):\r\n",
        "    \"\"\"Echo the user message.\"\"\"\r\n",
        "    update.message.reply_text(update.message.text)\r\n",
        "\r\n",
        "\r\n",
        "def error(update, context):\r\n",
        "    \"\"\"Log Errors caused by Updates.\"\"\"\r\n",
        "    logger.warning('Update \"%s\" caused error \"%s\"', update, context.error)\r\n",
        "\r\n",
        "def pizza(update, context):\r\n",
        "    if(update.message.text.upper().find(\"MANZANAS VERDES\") > 0):\r\n",
        "        update.message.reply_text(\"Prefiero comer pizza\")\r\n",
        "def pendientes(update, context):\r\n",
        "    if(update.message.text.upper().find(\"ROPA\") > 0):\r\n",
        "        update.message.reply_text(\"tus pendientes de ropa son 1234,5678\")\r\n",
        "    elif(update.message.text.upper().find(\"CALZADO\") > 0):\r\n",
        "        update.message.reply_text(\"tus pendientes de calzado son 98765,4321\")\r\n",
        "    elif(update.message.text.upper().find(\"OL\") > 0):\r\n",
        "        update.message.reply_text(\"tus pendientes de otras lineas son 98765,4321\")\r\n",
        "    else:\r\n",
        "      update.message.reply_text(\"las opciones correctas son ROPA CALZADO OL\")\r\n",
        "def sumar(update,context):\r\n",
        "    try:\r\n",
        "        numero1 = int(context.args[0])\r\n",
        "        numero2 = int(context.args[1])\r\n",
        "\r\n",
        "        suma = numero1 + numero2\r\n",
        "\r\n",
        "        update.message.reply_text(\"La suma es \"+str(suma))\r\n",
        "\r\n",
        "    except (ValueError):\r\n",
        "        update.message.reply_text(\"por favor utilice dos numeros\")\r\n",
        "\r\n",
        "def main():\r\n",
        "    \"\"\"Start the bot.\"\"\"\r\n",
        "    # Create the Updater and pass it your bot's token.\r\n",
        "    # Make sure to set use_context=True to use the new context based callbacks\r\n",
        "    # Post version 12 this will no longer be necessary\r\n",
        "    updater = Updater(\"1603670932:AAElv74jFK7YP1_xhoqjfmlgDlBGf4XqCpo\", use_context=True)\r\n",
        "\r\n",
        "    # Get the dispatcher to register handlers\r\n",
        "    dp = updater.dispatcher\r\n",
        "\r\n",
        "    # on different commands - answer in Telegram\r\n",
        "    dp.add_handler(CommandHandler(\"start\", start))\r\n",
        "    dp.add_handler(CommandHandler(\"help\", help))\r\n",
        "    dp.add_handler(CommandHandler(\"sumar\", sumar))\r\n",
        "    dp.add_handler(CommandHandler(\"pendientes\", pendientes))\r\n",
        "\r\n",
        "    # on noncommand i.e message - echo the message on Telegram\r\n",
        "    dp.add_handler(MessageHandler(Filters.text, pizza))\r\n",
        "\r\n",
        "    # log all errors\r\n",
        "    dp.add_error_handler(error)\r\n",
        "\r\n",
        "    # Start the Bot\r\n",
        "    updater.start_polling()\r\n",
        "\r\n",
        "    # Run the bot until you press Ctrl-C or the process receives SIGINT,\r\n",
        "    # SIGTERM or SIGABRT. This should be used most of the time, since\r\n",
        "    # start_polling() is non-blocking and will stop the bot gracefully.\r\n",
        "    updater.idle()\r\n",
        "\r\n",
        "\r\n",
        "if __name__ == '__main__':\r\n",
        "    main()"
      ],
      "execution_count": null,
      "outputs": [
        {
          "output_type": "stream",
          "text": [
            "2021-02-05 02:25:45,355 - apscheduler.scheduler - INFO - Scheduler started\n",
            "2021-02-05 02:27:12,711 - telegram.ext.updater - INFO - Received signal 2 (SIGINT), stopping...\n",
            "2021-02-05 02:27:12,714 - apscheduler.scheduler - INFO - Scheduler has been shut down\n"
          ],
          "name": "stderr"
        }
      ]
    }
  ]
}