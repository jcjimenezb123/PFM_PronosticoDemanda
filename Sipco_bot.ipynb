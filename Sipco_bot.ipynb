{
  "nbformat": 4,
  "nbformat_minor": 0,
  "metadata": {
    "colab": {
      "name": "Sipco_bot.ipynb",
      "provenance": [],
      "authorship_tag": "ABX9TyPjSieObAsdQxd4WX+lroch",
      "include_colab_link": true
    },
    "kernelspec": {
      "name": "python3",
      "display_name": "Python 3"
    }
  },
  "cells": [
    {
      "cell_type": "markdown",
      "metadata": {
        "id": "view-in-github",
        "colab_type": "text"
      },
      "source": [
        "<a href=\"https://colab.research.google.com/github/jcjimenezb123/PFM_PronosticoDemanda/blob/master/Sipco_bot.ipynb\" target=\"_parent\"><img src=\"https://colab.research.google.com/assets/colab-badge.svg\" alt=\"Open In Colab\"/></a>"
      ]
    },
    {
      "cell_type": "code",
      "metadata": {
        "colab": {
          "base_uri": "https://localhost:8080/"
        },
        "id": "89Gwk9ld7rti",
        "outputId": "665cf825-f1c1-43b7-9069-88ac9a8e52fc"
      },
      "source": [
        "!pip install python-telegram-bot"
      ],
      "execution_count": 1,
      "outputs": [
        {
          "output_type": "stream",
          "text": [
            "Requirement already satisfied: python-telegram-bot in /usr/local/lib/python3.6/dist-packages (13.2)\n",
            "Requirement already satisfied: pytz>=2018.6 in /usr/local/lib/python3.6/dist-packages (from python-telegram-bot) (2018.9)\n",
            "Requirement already satisfied: cryptography in /usr/local/lib/python3.6/dist-packages (from python-telegram-bot) (3.4.3)\n",
            "Requirement already satisfied: APScheduler==3.6.3 in /usr/local/lib/python3.6/dist-packages (from python-telegram-bot) (3.6.3)\n",
            "Requirement already satisfied: tornado>=5.1 in /usr/local/lib/python3.6/dist-packages (from python-telegram-bot) (5.1.1)\n",
            "Requirement already satisfied: certifi in /usr/local/lib/python3.6/dist-packages (from python-telegram-bot) (2020.12.5)\n",
            "Requirement already satisfied: cffi>=1.12 in /usr/local/lib/python3.6/dist-packages (from cryptography->python-telegram-bot) (1.14.4)\n",
            "Requirement already satisfied: setuptools>=0.7 in /usr/local/lib/python3.6/dist-packages (from APScheduler==3.6.3->python-telegram-bot) (53.0.0)\n",
            "Requirement already satisfied: six>=1.4.0 in /usr/local/lib/python3.6/dist-packages (from APScheduler==3.6.3->python-telegram-bot) (1.15.0)\n",
            "Requirement already satisfied: tzlocal>=1.2 in /usr/local/lib/python3.6/dist-packages (from APScheduler==3.6.3->python-telegram-bot) (1.5.1)\n",
            "Requirement already satisfied: pycparser in /usr/local/lib/python3.6/dist-packages (from cffi>=1.12->cryptography->python-telegram-bot) (2.20)\n"
          ],
          "name": "stdout"
        }
      ]
    },
    {
      "cell_type": "code",
      "metadata": {
        "colab": {
          "base_uri": "https://localhost:8080/"
        },
        "id": "NJc5LzD-7Fd-",
        "outputId": "049edec2-f507-4a83-fcd3-c4b14b9974ad"
      },
      "source": [
        "#!/usr/bin/env python\r\n",
        "# -*- coding: utf-8 -*-\r\n",
        "# This program is dedicated to the public domain under the CC0 license.\r\n",
        "#\r\n",
        "# THIS EXAMPLE HAS BEEN UPDATED TO WORK WITH THE BETA VERSION 12 OF PYTHON-TELEGRAM-BOT.\r\n",
        "# If you're still using version 11.1.0, please see the examples at\r\n",
        "# https://github.com/python-telegram-bot/python-telegram-bot/tree/v11.1.0/examples\r\n",
        "\r\n",
        "\"\"\"\r\n",
        "Simple Bot to reply to Telegram messages.\r\n",
        "\r\n",
        "First, a few handler functions are defined. Then, those functions are passed to\r\n",
        "the Dispatcher and registered at their respective places.\r\n",
        "Then, the bot is started and runs until we press Ctrl-C on the command line.\r\n",
        "\r\n",
        "Usage:\r\n",
        "Basic Echobot example, repeats messages.\r\n",
        "Press Ctrl-C on the command line or send a signal to the process to stop the\r\n",
        "bot.\r\n",
        "\"\"\"\r\n",
        "\r\n",
        "import logging\r\n",
        "from telegram.ext import Updater, CommandHandler, MessageHandler, Filters\r\n",
        "\r\n",
        "# Enable logging\r\n",
        "logging.basicConfig(format='%(asctime)s - %(name)s - %(levelname)s - %(message)s',\r\n",
        "                    level=logging.INFO)\r\n",
        "\r\n",
        "logger = logging.getLogger(__name__)\r\n",
        "\r\n",
        "\r\n",
        "# Define a few command handlers. These usually take the two arguments bot and\r\n",
        "# update. Error handlers also receive the raised TelegramError object in error.\r\n",
        "def start(update, context):\r\n",
        "    \"\"\"Send a message when the command /start is issued.\"\"\"\r\n",
        "    global chat_id \r\n",
        "    global first_name \r\n",
        "    global last_name\r\n",
        "    global name\r\n",
        "    global username\r\n",
        "    global area\r\n",
        "\r\n",
        "    chat_id = update.message.chat_id\r\n",
        "    first_name = update.message.chat.first_name\r\n",
        "    last_name = update.message.chat.last_name\r\n",
        "    username = update.message.chat.username\r\n",
        "    name = first_name+' '+last_name\r\n",
        "    area = 'ROPA'\r\n",
        "\r\n",
        "    if username=='jjimenezPS':\r\n",
        "      area='CALZADO'\r\n",
        "\r\n",
        "    update.message.reply_text('Hola! '+name+' ['+username+']')\r\n",
        "    update.message.reply_text('Area '+area)\r\n",
        "                              \r\n",
        "def ayuda(update, context):\r\n",
        "    \"\"\"Send a message when the command /help is issued.\"\"\"\r\n",
        "    update.message.reply_text('mis comandos son:\\n\\n/pendientes\\n/autorizar #\\n/rechazar #\\n/sumar # #\\n/temporada XXXX')\r\n",
        "\r\n",
        "\r\n",
        "def echo(update, context):\r\n",
        "    \"\"\"Echo the user message.\"\"\"\r\n",
        "    update.message.reply_text(update.message.text)\r\n",
        "\r\n",
        "\r\n",
        "def error(update, context):\r\n",
        "    \"\"\"Log Errors caused by Updates.\"\"\"\r\n",
        "    logger.warning('Update \"%s\" caused error \"%s\"', update, context.error)\r\n",
        "\r\n",
        "def conversa(update, context):\r\n",
        "    print(update.message.text.upper())\r\n",
        "    if(update.message.text.upper().find(\"MANZANAS VERDES\") >= 0):\r\n",
        "        update.message.reply_text(\"Prefiero comer pizza\")\r\n",
        "    if(update.message.text.upper().find(\"SIPCO\") >= 0):\r\n",
        "        update.message.reply_text(\"He escuchado que SIPCO es uno de los mejores sistemas en Price Shoes\")\r\n",
        "    if(update.message.text.upper().find(\"PRICE SHOES\") >= 0):\r\n",
        "        update.message.reply_text(\"Price Shoes es la bodega de ropa y calzado mas grande de Latino America\")\r\n",
        "    if(update.message.text.upper().find(\"QUIEN ERES\") >= 0 or \r\n",
        "       update.message.text.upper().find(\"HOLA\") >= 0 or\r\n",
        "       update.message.text.upper().find(\"QUIÉN ERES\") >= 0):\r\n",
        "        update.message.reply_text(\"Hola, yo soy SIPCO BOT 🤓, fui creado para ayudate en tu operacion\")\r\n",
        "        update.message.reply_text(\"Escribe /ayuda para conocer mis habilidades\")\r\n",
        "    if(update.message.text.upper().find(\"PUEDES HACER\") >= 0):\r\n",
        "        update.message.reply_text(\"Para conocer lo que puedo hacer solo escribe /ayuda y te muestro mis habilidades\")\r\n",
        "    if(update.message.text.upper().find(\"TACOS\") >= 0):\r\n",
        "        update.message.reply_text(\"Prefiero comer pizza\")\r\n",
        "    update.message.reply_text('👍')\r\n",
        "\r\n",
        "def pendientes(update, context):\r\n",
        "    if(area==\"ROPA\"):\r\n",
        "        update.message.reply_text(\"tus pendientes de \"+area+\" son 1234,5678\")\r\n",
        "    elif(area==\"CALZADO\"):\r\n",
        "        update.message.reply_text(\"tus pendientes de \"+area+\" son 98765,4321\")\r\n",
        "    elif(area.upper().find(\"OL\") > 0):\r\n",
        "        update.message.reply_text(\"tus pendientes de \"+area+\" son 98765,4321\")\r\n",
        "    else:\r\n",
        "      update.message.reply_text(\"El area \"+area+\" no esta considerada en el proceso\")\r\n",
        "\r\n",
        "def autorizar(update, context):\r\n",
        "    update.message.reply_text(\"la solicitud \"+context.args[0]+\" fue autorizada por \"+name)\r\n",
        "\r\n",
        "def rechazar(update, context):\r\n",
        "    update.message.reply_text(\"la solicitud \"+context.args[0]+\" fue rechazada por \"+name)\r\n",
        "\r\n",
        "def temporada(update, context):\r\n",
        "    update.message.reply_text(\"Resumen de la temporada \"+context.args[0]+\"\\n\\nPresupuesto\\nCompara\\nPagos\\nBalance\")\r\n",
        "\r\n",
        "def sumar(update,context):\r\n",
        "    try:\r\n",
        "        numero1 = float(context.args[0])\r\n",
        "        numero2 = float(context.args[1])\r\n",
        "\r\n",
        "        suma = numero1 + numero2\r\n",
        "\r\n",
        "        update.message.reply_text(\"La suma es \"+str(suma))\r\n",
        "\r\n",
        "    except (ValueError):\r\n",
        "        update.message.reply_text(\"por favor utilice dos numeros\")\r\n",
        "\r\n",
        "def main():\r\n",
        "    \"\"\"Start the bot.\"\"\"\r\n",
        "    # Create the Updater and pass it your bot's token.\r\n",
        "    # Make sure to set use_context=True to use the new context based callbacks\r\n",
        "    # Post version 12 this will no longer be necessary\r\n",
        "    updater = Updater(\"1603670932:AAElv74jFK7YP1_xhoqjfmlgDlBGf4XqCpo\", use_context=True)\r\n",
        "\r\n",
        "    # Get the dispatcher to register handlers\r\n",
        "    dp = updater.dispatcher\r\n",
        "\r\n",
        "    # on different commands - answer in Telegram\r\n",
        "    dp.add_handler(CommandHandler(\"start\", start))\r\n",
        "    dp.add_handler(CommandHandler(\"ayuda\", ayuda))\r\n",
        "    dp.add_handler(CommandHandler(\"sumar\", sumar))\r\n",
        "    dp.add_handler(CommandHandler(\"pendientes\", pendientes))\r\n",
        "    dp.add_handler(CommandHandler(\"autorizar\", autorizar))\r\n",
        "    dp.add_handler(CommandHandler(\"rechazar\", rechazar))\r\n",
        "    dp.add_handler(CommandHandler(\"temporada\", temporada))\r\n",
        "\r\n",
        "    # on noncommand i.e message - echo the message on Telegram\r\n",
        "    dp.add_handler(MessageHandler(Filters.text, conversa))\r\n",
        "\r\n",
        "    # log all errors\r\n",
        "    dp.add_error_handler(error)\r\n",
        "\r\n",
        "    # Start the Bot\r\n",
        "    updater.start_polling()\r\n",
        "\r\n",
        "    # Run the bot until you press Ctrl-C or the process receives SIGINT,\r\n",
        "    # SIGTERM or SIGABRT. This should be used most of the time, since\r\n",
        "    # start_polling() is non-blocking and will stop the bot gracefully.\r\n",
        "    updater.idle()\r\n",
        "\r\n",
        "\r\n",
        "if __name__ == '__main__':\r\n",
        "    main()"
      ],
      "execution_count": null,
      "outputs": [
        {
          "output_type": "stream",
          "text": [
            "2021-02-09 22:44:40,617 - apscheduler.scheduler - INFO - Scheduler started\n"
          ],
          "name": "stderr"
        },
        {
          "output_type": "stream",
          "text": [
            "QUIÉN ERES\n",
            "CHALES\n"
          ],
          "name": "stdout"
        }
      ]
    }
  ]
}